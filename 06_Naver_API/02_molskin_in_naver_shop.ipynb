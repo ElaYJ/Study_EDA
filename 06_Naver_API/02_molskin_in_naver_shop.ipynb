{
 "cells": [
  {
   "cell_type": "markdown",
   "metadata": {},
   "source": [
    "# 상품 \"몰스킨\" 검색\n",
    "\n",
    "> 상품 “몰스킨” 검색하고 쇼핑 정보를 취득하는 과정을 차례대로 함수화한다."
   ]
  },
  {
   "cell_type": "code",
   "execution_count": 1,
   "metadata": {},
   "outputs": [
    {
     "name": "stdout",
     "output_type": "stream",
     "text": [
      "{\n",
      "\t\"lastBuildDate\":\"Tue, 16 Jan 2024 07:16:30 +0900\",\n",
      "\t\"total\":52009,\n",
      "\t\"start\":1,\n",
      "\t\"display\":10,\n",
      "\t\"items\":[\n",
      "\t\t{\n",
      "\t\t\t\"title\":\"<b>몰스킨<\\/b> 2024 다이어리 클래식 하드커버 위클리 라지 2024년 24년\",\n",
      "\t\t\t\"link\":\"https:\\/\\/search.shopping.naver.com\\/gate.nhn?id=86678091959\",\n",
      "\t\t\t\"image\":\"https:\\/\\/shopping-phinf.pstatic.net\\/main_8667809\\/86678091959.3.jpg\",\n",
      "\t\t\t\"lprice\":\"31080\",\n",
      "\t\t\t\"hprice\":\"\",\n",
      "\t\t\t\"mallName\":\"베스트펜\",\n",
      "\t\t\t\"productId\":\"86678091959\",\n",
      "\t\t\t\"productType\":\"2\",\n",
      "\t\t\t\"brand\":\"몰스킨\",\n",
      "\t\t\t\"maker\":\"몰스킨\",\n",
      "\t\t\t\"category1\":\"생활\\/건강\",\n",
      "\t\t\t\"category2\":\"문구\\/사무용품\",\n",
      "\t\t\t\"category3\":\"다이어리\\/플래너\",\n",
      "\t\t\t\"category4\":\"다이어리\"\n",
      "\t\t},\n",
      "\t\t{\n",
      "\t\t\t\"title\":\"[<b>몰스킨<\\/b>] 2024년 클래식 다이어리 (12개월) (데일리, 위클리, 먼슬리)\",\n",
      "\t\t\t\"link\":\"https:\\/\\/search.shopping.naver.com\\/gate.nhn?id=42344941884\",\n",
      "\t\t\t\"image\":\"https:\\/\\/shopping-phinf.pstatic.net\\/main_4234494\\/42344941884.jpg\",\n",
      "\t\t\t\"lprice\":\"22680\",\n",
      "\t\t\t\"hprice\":\"\",\n",
      "\t\t\t\"mallName\":\"몰스킨공식온라인스토어\",\n",
      "\t\t\t\"productId\":\"42344941884\",\n",
      "\t\t\t\"productType\":\"2\",\n",
      "\t\t\t\"brand\":\"몰스킨\",\n",
      "\t\t\t\"maker\":\"\",\n",
      "\t\t\t\"category1\":\"생활\\/건강\",\n",
      "\t\t\t\"category2\":\"문구\\/사무용품\",\n",
      "\t\t\t\"category3\":\"다이어리\\/플래너\",\n",
      "\t\t\t\"category4\":\"다이어리\"\n",
      "\t\t},\n",
      "\t\t{\n",
      "\t\t\t\"title\":\"<b>몰스킨<\\/b> 2024 다이어리 클래식 소프트커버 데일리 라지 2024년 24년\",\n",
      "\t\t\t\"link\":\"https:\\/\\/search.shopping.naver.com\\/gate.nhn?id=86678199160\",\n",
      "\t\t\t\"image\":\"https:\\/\\/shopping-phinf.pstatic.net\\/main_8667819\\/86678199160.4.jpg\",\n",
      "\t\t\t\"lprice\":\"32760\",\n",
      "\t\t\t\"hprice\":\"\",\n",
      "\t\t\t\"mallName\":\"베스트펜\",\n",
      "\t\t\t\"productId\":\"86678199160\",\n",
      "\t\t\t\"productType\":\"2\",\n",
      "\t\t\t\"brand\":\"몰스킨\",\n",
      "\t\t\t\"maker\":\"몰스킨\",\n",
      "\t\t\t\"category1\":\"생활\\/건강\",\n",
      "\t\t\t\"category2\":\"문구\\/사무용품\",\n",
      "\t\t\t\"category3\":\"다이어리\\/플래너\",\n",
      "\t\t\t\"category4\":\"다이어리\"\n",
      "\t\t},\n",
      "\t\t{\n",
      "\t\t\t\"title\":\"<b>몰스킨<\\/b> 2024 위클리 다이어리 포켓 상품선택\",\n",
      "\t\t\t\"link\":\"https:\\/\\/search.shopping.naver.com\\/gate.nhn?id=44547674101\",\n",
      "\t\t\t\"image\":\"https:\\/\\/shopping-phinf.pstatic.net\\/main_4454767\\/44547674101.20231210142944.jpg\",\n",
      "\t\t\t\"lprice\":\"25680\",\n",
      "\t\t\t\"hprice\":\"\",\n",
      "\t\t\t\"mallName\":\"네이버\",\n",
      "\t\t\t\"productId\":\"44547674101\",\n",
      "\t\t\t\"productType\":\"1\",\n",
      "\t\t\t\"brand\":\"몰스킨\",\n",
      "\t\t\t\"maker\":\"몰스킨\",\n",
      "\t\t\t\"category1\":\"생활\\/건강\",\n",
      "\t\t\t\"category2\":\"문구\\/사무용품\",\n",
      "\t\t\t\"category3\":\"다이어리\\/플래너\",\n",
      "\t\t\t\"category4\":\"다이어리\"\n",
      "\t\t},\n",
      "\t\t{\n",
      "\t\t\t\"title\":\"스타벅스 2024년 <b>몰스킨<\\/b> 다이어리 데일리 플래너 일기장 노트 스벅 카페 윈터 e프리퀀시\",\n",
      "\t\t\t\"link\":\"https:\\/\\/search.shopping.naver.com\\/gate.nhn?id=86963344737\",\n",
      "\t\t\t\"image\":\"https:\\/\\/shopping-phinf.pstatic.net\\/main_8696334\\/86963344737.41.jpg\",\n",
      "\t\t\t\"lprice\":\"29400\",\n",
      "\t\t\t\"hprice\":\"\",\n",
      "\t\t\t\"mallName\":\"유니스스토어\",\n",
      "\t\t\t\"productId\":\"86963344737\",\n",
      "\t\t\t\"productType\":\"2\",\n",
      "\t\t\t\"brand\":\"스타벅스\",\n",
      "\t\t\t\"maker\":\"몰스킨\",\n",
      "\t\t\t\"category1\":\"생활\\/건강\",\n",
      "\t\t\t\"category2\":\"문구\\/사무용품\",\n",
      "\t\t\t\"category3\":\"다이어리\\/플래너\",\n",
      "\t\t\t\"category4\":\"다이어리\"\n",
      "\t\t},\n",
      "\t\t{\n",
      "\t\t\t\"title\":\"<b>몰스킨<\\/b> 노트 하드커버 가죽 포켓 P 블랙 격자\",\n",
      "\t\t\t\"link\":\"https:\\/\\/search.shopping.naver.com\\/gate.nhn?id=82526953942\",\n",
      "\t\t\t\"image\":\"https:\\/\\/shopping-phinf.pstatic.net\\/main_8252695\\/82526953942.9.jpg\",\n",
      "\t\t\t\"lprice\":\"28800\",\n",
      "\t\t\t\"hprice\":\"\",\n",
      "\t\t\t\"mallName\":\"베스트펜\",\n",
      "\t\t\t\"productId\":\"82526953942\",\n",
      "\t\t\t\"productType\":\"2\",\n",
      "\t\t\t\"brand\":\"몰스킨\",\n",
      "\t\t\t\"maker\":\"\",\n",
      "\t\t\t\"category1\":\"생활\\/건강\",\n",
      "\t\t\t\"category2\":\"문구\\/사무용품\",\n",
      "\t\t\t\"category3\":\"노트\\/수첩\",\n",
      "\t\t\t\"category4\":\"노트\"\n",
      "\t\t},\n",
      "\t\t{\n",
      "\t\t\t\"title\":\"[무료배송] 로이텀 노트 하드커버 A5 내추럴 (상품선택)\",\n",
      "\t\t\t\"link\":\"https:\\/\\/search.shopping.naver.com\\/gate.nhn?id=85095220596\",\n",
      "\t\t\t\"image\":\"https:\\/\\/shopping-phinf.pstatic.net\\/main_8509522\\/85095220596.jpg\",\n",
      "\t\t\t\"lprice\":\"28800\",\n",
      "\t\t\t\"hprice\":\"\",\n",
      "\t\t\t\"mallName\":\"몰스킨스토어\",\n",
      "\t\t\t\"productId\":\"85095220596\",\n",
      "\t\t\t\"productType\":\"2\",\n",
      "\t\t\t\"brand\":\"로이텀\",\n",
      "\t\t\t\"maker\":\"로이텀\",\n",
      "\t\t\t\"category1\":\"생활\\/건강\",\n",
      "\t\t\t\"category2\":\"문구\\/사무용품\",\n",
      "\t\t\t\"category3\":\"노트\\/수첩\",\n",
      "\t\t\t\"category4\":\"노트\"\n",
      "\t\t},\n",
      "\t\t{\n",
      "\t\t\t\"title\":\"<b>몰스킨<\\/b> 2024 데일리 다이어리-하드 머틀그린 라지 각인 케이스포장 병행수입 아님\",\n",
      "\t\t\t\"link\":\"https:\\/\\/search.shopping.naver.com\\/gate.nhn?id=43052849828\",\n",
      "\t\t\t\"image\":\"https:\\/\\/shopping-phinf.pstatic.net\\/main_4305284\\/43052849828.20231006183518.jpg\",\n",
      "\t\t\t\"lprice\":\"32760\",\n",
      "\t\t\t\"hprice\":\"\",\n",
      "\t\t\t\"mallName\":\"네이버\",\n",
      "\t\t\t\"productId\":\"43052849828\",\n",
      "\t\t\t\"productType\":\"1\",\n",
      "\t\t\t\"brand\":\"몰스킨\",\n",
      "\t\t\t\"maker\":\"몰스킨\",\n",
      "\t\t\t\"category1\":\"생활\\/건강\",\n",
      "\t\t\t\"category2\":\"문구\\/사무용품\",\n",
      "\t\t\t\"category3\":\"다이어리\\/플래너\",\n",
      "\t\t\t\"category4\":\"다이어리\"\n",
      "\t\t},\n",
      "\t\t{\n",
      "\t\t\t\"title\":\"<b>몰스킨<\\/b> 다이어리 2024 소프트커버 모음 70g 데일리 포켓 각인x\",\n",
      "\t\t\t\"link\":\"https:\\/\\/search.shopping.naver.com\\/gate.nhn?id=43074395692\",\n",
      "\t\t\t\"image\":\"https:\\/\\/shopping-phinf.pstatic.net\\/main_4307439\\/43074395692.20231007115338.jpg\",\n",
      "\t\t\t\"lprice\":\"22680\",\n",
      "\t\t\t\"hprice\":\"\",\n",
      "\t\t\t\"mallName\":\"네이버\",\n",
      "\t\t\t\"productId\":\"43074395692\",\n",
      "\t\t\t\"productType\":\"1\",\n",
      "\t\t\t\"brand\":\"몰스킨\",\n",
      "\t\t\t\"maker\":\"몰스킨\",\n",
      "\t\t\t\"category1\":\"생활\\/건강\",\n",
      "\t\t\t\"category2\":\"문구\\/사무용품\",\n",
      "\t\t\t\"category3\":\"다이어리\\/플래너\",\n",
      "\t\t\t\"category4\":\"다이어리\"\n",
      "\t\t},\n",
      "\t\t{\n",
      "\t\t\t\"title\":\"<b>몰스킨<\\/b> 2024 위클리 다이어리 라지 상품선택\",\n",
      "\t\t\t\"link\":\"https:\\/\\/search.shopping.naver.com\\/gate.nhn?id=42444253256\",\n",
      "\t\t\t\"image\":\"https:\\/\\/shopping-phinf.pstatic.net\\/main_4244425\\/42444253256.20230906161929.jpg\",\n",
      "\t\t\t\"lprice\":\"28905\",\n",
      "\t\t\t\"hprice\":\"\",\n",
      "\t\t\t\"mallName\":\"네이버\",\n",
      "\t\t\t\"productId\":\"42444253256\",\n",
      "\t\t\t\"productType\":\"1\",\n",
      "\t\t\t\"brand\":\"몰스킨\",\n",
      "\t\t\t\"maker\":\"몰스킨\",\n",
      "\t\t\t\"category1\":\"생활\\/건강\",\n",
      "\t\t\t\"category2\":\"문구\\/사무용품\",\n",
      "\t\t\t\"category3\":\"다이어리\\/플래너\",\n",
      "\t\t\t\"category4\":\"다이어리\"\n",
      "\t\t}\n",
      "\t]\n",
      "}\n"
     ]
    }
   ],
   "source": [
    "import os\n",
    "import sys\n",
    "import urllib.request\n",
    "\n",
    "client_id = \"LGEjycuWmA1fDTIGyyam\"\n",
    "client_secret = \"3ie0bSi2z_\"\n",
    "\n",
    "encText = urllib.parse.quote(\"몰스킨\")\n",
    "url = \"https://openapi.naver.com/v1/search/shop?query=\" + encText # JSON 결과\n",
    "# url = \"https://openapi.naver.com/v1/search/blog.xml?query=\" + encText # XML 결과\n",
    "\n",
    "request = urllib.request.Request(url)\n",
    "request.add_header(\"X-Naver-Client-Id\",client_id)\n",
    "request.add_header(\"X-Naver-Client-Secret\",client_secret)\n",
    "\n",
    "response = urllib.request.urlopen(request)\n",
    "rescode = response.getcode()\n",
    "\n",
    "if(rescode==200):\n",
    "    response_body = response.read()\n",
    "    print(response_body.decode('utf-8'))\n",
    "else:\n",
    "    print(\"Error Code:\" + rescode)"
   ]
  },
  {
   "cell_type": "markdown",
   "metadata": {},
   "source": [
    "- 함수화 과정 플랜\n",
    "\n",
    "![06_molskin_plan](https://github.com/ElaYJ/Study_EDA/assets/153154981/f51f10fb-65dd-418c-9b3a-3d9a00dbdfc2)"
   ]
  },
  {
   "cell_type": "markdown",
   "metadata": {},
   "source": [
    "### 🔰 get_search_url()\n",
    "\n",
    "> 검색 요청 url을 만드는 함수\n",
    "\n",
    "- 참고: https://developers.naver.com/docs/serviceapi/search/shopping/shopping.md#%EC%87%BC%ED%95%91\n",
    "\n",
    "- 파라미터(요청 변수)들을 url에 포함해야 한다.\n",
    "\t![06_molskin_plan-1-1](https://github.com/ElaYJ/Study_EDA/assets/153154981/3ad43e11-eece-4fc4-9ff1-dc22adc2861f)\n",
    "\n",
    "- 한 번에 표시될 수 있는 검색 결과(display)의 최대값은 100개이다.\n",
    "- 만약 우리가 1000개의 데이터를 얻고 싶다면, start 파라미터를 이용한다.\n",
    "\n",
    "\t첫 번째 턴에서는 display = 100, start = 1, 두 번째 턴에서는 display = 100, start = 101 이런 형식으로...\n",
    "\n",
    "- 기본 예제에서 사용했던 url을 만드는 함수를 정의 한다.\n",
    "\n",
    "\tencText = urllib.parse.quote(\"몰스킨\")</br>\t\n",
    "\turl = \"https://openapi.naver.com/v1/search/shop?query=\" + encText # json 결과"
   ]
  },
  {
   "cell_type": "code",
   "execution_count": 13,
   "metadata": {},
   "outputs": [],
   "source": [
    "import urllib\n",
    "\n",
    "def gen_search_url(api_node, search_text, start_num, disp_num):\n",
    "    \"\"\"\n",
    "    - api_node : 쇼핑, 블로그, 카페 등 어디에서 검색할 것인지\n",
    "    - search_text : 검색어\n",
    "    - start_num : 검색 시작 위치\n",
    "    - disp_num : 한 번에 표시할 검색 결과 개수\n",
    "    \"\"\"\n",
    "    base = \"https://openapi.naver.com/v1/search\"\n",
    "    node = \"/\" + api_node + \".json\"\n",
    "    param_query = \"?query=\" + urllib.parse.quote(search_text)\n",
    "    param_start = \"&start=\" + str(start_num)\n",
    "    param_disp = \"&display=\" + str(disp_num)\n",
    "    \n",
    "    return base + node + param_query + param_start + param_disp"
   ]
  },
  {
   "cell_type": "code",
   "execution_count": 3,
   "metadata": {},
   "outputs": [
    {
     "data": {
      "text/plain": [
       "'https://openapi.naver.com/v1/search/shop.json?query=Test&start=10&display=3'"
      ]
     },
     "execution_count": 3,
     "metadata": {},
     "output_type": "execute_result"
    }
   ],
   "source": [
    "gen_search_url(\"shop\", \"Test\", 10, 3)"
   ]
  },
  {
   "cell_type": "markdown",
   "metadata": {},
   "source": [
    "### 🔰 get_result_onepage()\n",
    "\n",
    "> url로 웹에 접근해 내용을 json으로 가져와 Decode 해주는 함수\n",
    "\n",
    "- 기본 예제 코드에서 다음 부분을 함수화 한 것~!\n",
    "\n",
    "\trequest = urllib.request.Request(url)\n",
    "\n",
    "\trequest.add_header(\"X-Naver-Client-Id\",client_id)\n",
    "\n",
    "\trequest.add_header(\"X-Naver-Client-Secret\",client_secret)\n",
    "\t\n",
    "\tresponse = urllib.request.urlopen(request)"
   ]
  },
  {
   "cell_type": "code",
   "execution_count": 4,
   "metadata": {},
   "outputs": [],
   "source": [
    "import json\n",
    "import datetime\n",
    "from urllib.request import Request, urlopen\n",
    "\n",
    "def get_result_onepage(url):\n",
    "    client_id = \"LGEjycuWmA1fDTIGyyam\"\n",
    "    client_secret = \"3ie0bSi2z_\"\n",
    "\n",
    "    request = Request(url)\n",
    "    request.add_header(\"X-Naver-Client-Id\", client_id)\n",
    "    request.add_header(\"X-Naver-Client-Secret\", client_secret)\n",
    "    \n",
    "    response = urlopen(request)\n",
    "    print(\"[%s] URL Request Success\" % datetime.datetime.now())\n",
    "    return json.loads(response.read().decode(\"utf-8\"))"
   ]
  },
  {
   "cell_type": "code",
   "execution_count": 5,
   "metadata": {},
   "outputs": [
    {
     "data": {
      "text/plain": [
       "datetime.datetime(2024, 1, 16, 7, 38, 49, 925403)"
      ]
     },
     "execution_count": 5,
     "metadata": {},
     "output_type": "execute_result"
    }
   ],
   "source": [
    "datetime.datetime.now()"
   ]
  },
  {
   "cell_type": "code",
   "execution_count": 6,
   "metadata": {},
   "outputs": [
    {
     "name": "stdout",
     "output_type": "stream",
     "text": [
      "[2024-01-16 07:40:02.174472] URL Request Success\n"
     ]
    }
   ],
   "source": [
    "url = gen_search_url(\"shop\", \"몰스킨\", 1, 5)\n",
    "one_result = get_result_onepage(url)"
   ]
  },
  {
   "cell_type": "code",
   "execution_count": 7,
   "metadata": {},
   "outputs": [
    {
     "data": {
      "text/plain": [
       "{'lastBuildDate': 'Tue, 16 Jan 2024 07:40:02 +0900',\n",
       " 'total': 52011,\n",
       " 'start': 1,\n",
       " 'display': 5,\n",
       " 'items': [{'title': '<b>몰스킨</b> 2024 다이어리 클래식 하드커버 위클리 라지 2024년 24년',\n",
       "   'link': 'https://search.shopping.naver.com/gate.nhn?id=86678091959',\n",
       "   'image': 'https://shopping-phinf.pstatic.net/main_8667809/86678091959.3.jpg',\n",
       "   'lprice': '31080',\n",
       "   'hprice': '',\n",
       "   'mallName': '베스트펜',\n",
       "   'productId': '86678091959',\n",
       "   'productType': '2',\n",
       "   'brand': '몰스킨',\n",
       "   'maker': '몰스킨',\n",
       "   'category1': '생활/건강',\n",
       "   'category2': '문구/사무용품',\n",
       "   'category3': '다이어리/플래너',\n",
       "   'category4': '다이어리'},\n",
       "  {'title': '[<b>몰스킨</b>] 2024년 클래식 다이어리 (12개월) (데일리, 위클리, 먼슬리)',\n",
       "   'link': 'https://search.shopping.naver.com/gate.nhn?id=42344941884',\n",
       "   'image': 'https://shopping-phinf.pstatic.net/main_4234494/42344941884.jpg',\n",
       "   'lprice': '22680',\n",
       "   'hprice': '',\n",
       "   'mallName': '몰스킨공식온라인스토어',\n",
       "   'productId': '42344941884',\n",
       "   'productType': '2',\n",
       "   'brand': '몰스킨',\n",
       "   'maker': '',\n",
       "   'category1': '생활/건강',\n",
       "   'category2': '문구/사무용품',\n",
       "   'category3': '다이어리/플래너',\n",
       "   'category4': '다이어리'},\n",
       "  {'title': '<b>몰스킨</b> 2024 다이어리 클래식 소프트커버 데일리 라지 2024년 24년',\n",
       "   'link': 'https://search.shopping.naver.com/gate.nhn?id=86678199160',\n",
       "   'image': 'https://shopping-phinf.pstatic.net/main_8667819/86678199160.4.jpg',\n",
       "   'lprice': '32760',\n",
       "   'hprice': '',\n",
       "   'mallName': '베스트펜',\n",
       "   'productId': '86678199160',\n",
       "   'productType': '2',\n",
       "   'brand': '몰스킨',\n",
       "   'maker': '몰스킨',\n",
       "   'category1': '생활/건강',\n",
       "   'category2': '문구/사무용품',\n",
       "   'category3': '다이어리/플래너',\n",
       "   'category4': '다이어리'},\n",
       "  {'title': '<b>몰스킨</b> 2024 위클리 다이어리 포켓 상품선택',\n",
       "   'link': 'https://search.shopping.naver.com/gate.nhn?id=44547674101',\n",
       "   'image': 'https://shopping-phinf.pstatic.net/main_4454767/44547674101.20231210142944.jpg',\n",
       "   'lprice': '25680',\n",
       "   'hprice': '',\n",
       "   'mallName': '네이버',\n",
       "   'productId': '44547674101',\n",
       "   'productType': '1',\n",
       "   'brand': '몰스킨',\n",
       "   'maker': '몰스킨',\n",
       "   'category1': '생활/건강',\n",
       "   'category2': '문구/사무용품',\n",
       "   'category3': '다이어리/플래너',\n",
       "   'category4': '다이어리'},\n",
       "  {'title': '스타벅스 2024년 <b>몰스킨</b> 다이어리 데일리 플래너 일기장 노트 스벅 카페 윈터 e프리퀀시',\n",
       "   'link': 'https://search.shopping.naver.com/gate.nhn?id=86963344737',\n",
       "   'image': 'https://shopping-phinf.pstatic.net/main_8696334/86963344737.41.jpg',\n",
       "   'lprice': '29400',\n",
       "   'hprice': '',\n",
       "   'mallName': '유니스스토어',\n",
       "   'productId': '86963344737',\n",
       "   'productType': '2',\n",
       "   'brand': '스타벅스',\n",
       "   'maker': '몰스킨',\n",
       "   'category1': '생활/건강',\n",
       "   'category2': '문구/사무용품',\n",
       "   'category3': '다이어리/플래너',\n",
       "   'category4': '다이어리'}]}"
      ]
     },
     "execution_count": 7,
     "metadata": {},
     "output_type": "execute_result"
    }
   ],
   "source": [
    "one_result #--> 리스트 형태"
   ]
  },
  {
   "cell_type": "code",
   "execution_count": 48,
   "metadata": {},
   "outputs": [
    {
     "data": {
      "text/plain": [
       "{'title': '<b>몰스킨</b> 2024 다이어리 클래식 하드커버 위클리 라지 2024년 24년',\n",
       " 'link': 'https://search.shopping.naver.com/gate.nhn?id=86678091959',\n",
       " 'image': 'https://shopping-phinf.pstatic.net/main_8667809/86678091959.3.jpg',\n",
       " 'lprice': '31080',\n",
       " 'hprice': '',\n",
       " 'mallName': '베스트펜',\n",
       " 'productId': '86678091959',\n",
       " 'productType': '2',\n",
       " 'brand': '몰스킨',\n",
       " 'maker': '몰스킨',\n",
       " 'category1': '생활/건강',\n",
       " 'category2': '문구/사무용품',\n",
       " 'category3': '다이어리/플래너',\n",
       " 'category4': '다이어리'}"
      ]
     },
     "execution_count": 48,
     "metadata": {},
     "output_type": "execute_result"
    }
   ],
   "source": [
    "one_result[\"items\"][0]"
   ]
  },
  {
   "cell_type": "code",
   "execution_count": 8,
   "metadata": {},
   "outputs": [
    {
     "data": {
      "text/plain": [
       "'<b>몰스킨</b> 2024 다이어리 클래식 하드커버 위클리 라지 2024년 24년'"
      ]
     },
     "execution_count": 8,
     "metadata": {},
     "output_type": "execute_result"
    }
   ],
   "source": [
    "one_result[\"items\"][0][\"title\"]"
   ]
  },
  {
   "cell_type": "code",
   "execution_count": 9,
   "metadata": {},
   "outputs": [
    {
     "data": {
      "text/plain": [
       "'https://search.shopping.naver.com/gate.nhn?id=86678091959'"
      ]
     },
     "execution_count": 9,
     "metadata": {},
     "output_type": "execute_result"
    }
   ],
   "source": [
    "one_result[\"items\"][0][\"link\"]"
   ]
  },
  {
   "cell_type": "code",
   "execution_count": 10,
   "metadata": {},
   "outputs": [
    {
     "data": {
      "text/plain": [
       "'31080'"
      ]
     },
     "execution_count": 10,
     "metadata": {},
     "output_type": "execute_result"
    }
   ],
   "source": [
    "one_result[\"items\"][0][\"lprice\"]"
   ]
  },
  {
   "cell_type": "code",
   "execution_count": 11,
   "metadata": {},
   "outputs": [
    {
     "data": {
      "text/plain": [
       "'베스트펜'"
      ]
     },
     "execution_count": 11,
     "metadata": {},
     "output_type": "execute_result"
    }
   ],
   "source": [
    "one_result[\"items\"][0][\"mallName\"]"
   ]
  },
  {
   "cell_type": "markdown",
   "metadata": {},
   "source": [
    "### 🔰 get_fields()\n",
    "\n",
    "> 검색 정보를 DataFrame으로 만드는 함수"
   ]
  },
  {
   "cell_type": "code",
   "execution_count": 12,
   "metadata": {},
   "outputs": [
    {
     "data": {
      "text/plain": [
       "{'title': '<b>몰스킨</b> 2024 다이어리 클래식 하드커버 위클리 라지 2024년 24년',\n",
       " 'link': 'https://search.shopping.naver.com/gate.nhn?id=86678091959',\n",
       " 'image': 'https://shopping-phinf.pstatic.net/main_8667809/86678091959.3.jpg',\n",
       " 'lprice': '31080',\n",
       " 'hprice': '',\n",
       " 'mallName': '베스트펜',\n",
       " 'productId': '86678091959',\n",
       " 'productType': '2',\n",
       " 'brand': '몰스킨',\n",
       " 'maker': '몰스킨',\n",
       " 'category1': '생활/건강',\n",
       " 'category2': '문구/사무용품',\n",
       " 'category3': '다이어리/플래너',\n",
       " 'category4': '다이어리'}"
      ]
     },
     "execution_count": 12,
     "metadata": {},
     "output_type": "execute_result"
    }
   ],
   "source": [
    "one_result[\"items\"][0]"
   ]
  },
  {
   "cell_type": "code",
   "execution_count": 14,
   "metadata": {},
   "outputs": [],
   "source": [
    "import pandas as pd\n",
    "\n",
    "def get_fields(json_data):\n",
    "    title = [each[\"title\"] for each in json_data[\"items\"]]\n",
    "    link = [each[\"link\"] for each in json_data[\"items\"]]\n",
    "    lprice = [each[\"lprice\"] for each in json_data[\"items\"]]\n",
    "    mall_name = [each[\"mallName\"] for each in json_data[\"items\"]]\n",
    "\n",
    "    result_df = pd.DataFrame({\n",
    "        \"title\": title,\n",
    "        \"lprice\": lprice,\n",
    "        \"link\": link,\n",
    "        \"mall\": mall_name,\n",
    "    }) #, columns=[\"title\", \"lprice\", \"link\", \"mall\"]\n",
    "    return result_df"
   ]
  },
  {
   "cell_type": "code",
   "execution_count": 15,
   "metadata": {},
   "outputs": [
    {
     "data": {
      "text/html": [
       "<div>\n",
       "<style scoped>\n",
       "    .dataframe tbody tr th:only-of-type {\n",
       "        vertical-align: middle;\n",
       "    }\n",
       "\n",
       "    .dataframe tbody tr th {\n",
       "        vertical-align: top;\n",
       "    }\n",
       "\n",
       "    .dataframe thead th {\n",
       "        text-align: right;\n",
       "    }\n",
       "</style>\n",
       "<table border=\"1\" class=\"dataframe\">\n",
       "  <thead>\n",
       "    <tr style=\"text-align: right;\">\n",
       "      <th></th>\n",
       "      <th>title</th>\n",
       "      <th>lprice</th>\n",
       "      <th>link</th>\n",
       "      <th>mall</th>\n",
       "    </tr>\n",
       "  </thead>\n",
       "  <tbody>\n",
       "    <tr>\n",
       "      <th>0</th>\n",
       "      <td>&lt;b&gt;몰스킨&lt;/b&gt; 2024 다이어리 클래식 하드커버 위클리 라지 2024년 24년</td>\n",
       "      <td>31080</td>\n",
       "      <td>https://search.shopping.naver.com/gate.nhn?id=...</td>\n",
       "      <td>베스트펜</td>\n",
       "    </tr>\n",
       "    <tr>\n",
       "      <th>1</th>\n",
       "      <td>[&lt;b&gt;몰스킨&lt;/b&gt;] 2024년 클래식 다이어리 (12개월) (데일리, 위클리, ...</td>\n",
       "      <td>22680</td>\n",
       "      <td>https://search.shopping.naver.com/gate.nhn?id=...</td>\n",
       "      <td>몰스킨공식온라인스토어</td>\n",
       "    </tr>\n",
       "    <tr>\n",
       "      <th>2</th>\n",
       "      <td>&lt;b&gt;몰스킨&lt;/b&gt; 2024 다이어리 클래식 소프트커버 데일리 라지 2024년 24년</td>\n",
       "      <td>32760</td>\n",
       "      <td>https://search.shopping.naver.com/gate.nhn?id=...</td>\n",
       "      <td>베스트펜</td>\n",
       "    </tr>\n",
       "    <tr>\n",
       "      <th>3</th>\n",
       "      <td>&lt;b&gt;몰스킨&lt;/b&gt; 2024 위클리 다이어리 포켓 상품선택</td>\n",
       "      <td>25680</td>\n",
       "      <td>https://search.shopping.naver.com/gate.nhn?id=...</td>\n",
       "      <td>네이버</td>\n",
       "    </tr>\n",
       "    <tr>\n",
       "      <th>4</th>\n",
       "      <td>스타벅스 2024년 &lt;b&gt;몰스킨&lt;/b&gt; 다이어리 데일리 플래너 일기장 노트 스벅 카...</td>\n",
       "      <td>29400</td>\n",
       "      <td>https://search.shopping.naver.com/gate.nhn?id=...</td>\n",
       "      <td>유니스스토어</td>\n",
       "    </tr>\n",
       "  </tbody>\n",
       "</table>\n",
       "</div>"
      ],
      "text/plain": [
       "                                               title lprice  \\\n",
       "0     <b>몰스킨</b> 2024 다이어리 클래식 하드커버 위클리 라지 2024년 24년  31080   \n",
       "1  [<b>몰스킨</b>] 2024년 클래식 다이어리 (12개월) (데일리, 위클리, ...  22680   \n",
       "2    <b>몰스킨</b> 2024 다이어리 클래식 소프트커버 데일리 라지 2024년 24년  32760   \n",
       "3                   <b>몰스킨</b> 2024 위클리 다이어리 포켓 상품선택  25680   \n",
       "4  스타벅스 2024년 <b>몰스킨</b> 다이어리 데일리 플래너 일기장 노트 스벅 카...  29400   \n",
       "\n",
       "                                                link         mall  \n",
       "0  https://search.shopping.naver.com/gate.nhn?id=...         베스트펜  \n",
       "1  https://search.shopping.naver.com/gate.nhn?id=...  몰스킨공식온라인스토어  \n",
       "2  https://search.shopping.naver.com/gate.nhn?id=...         베스트펜  \n",
       "3  https://search.shopping.naver.com/gate.nhn?id=...          네이버  \n",
       "4  https://search.shopping.naver.com/gate.nhn?id=...       유니스스토어  "
      ]
     },
     "execution_count": 15,
     "metadata": {},
     "output_type": "execute_result"
    }
   ],
   "source": [
    "get_fields(one_result)"
   ]
  },
  {
   "cell_type": "markdown",
   "metadata": {},
   "source": [
    "### 🔰 delete_tag()\n",
    "\n",
    "> 제목에 강조를 위해 붙은 \\<b>태그를 제거하는 함수"
   ]
  },
  {
   "cell_type": "code",
   "execution_count": 16,
   "metadata": {},
   "outputs": [],
   "source": [
    "def delete_tag(input_str):\n",
    "    input_str = input_str.replace(\"<b>\", \"\")\n",
    "    input_str = input_str.replace(\"</b>\", \"\")\n",
    "    return input_str"
   ]
  },
  {
   "cell_type": "code",
   "execution_count": 17,
   "metadata": {},
   "outputs": [],
   "source": [
    "import pandas as pd\n",
    "\n",
    "def get_fields(json_data):\n",
    "    title = [delete_tag(each[\"title\"]) for each in json_data[\"items\"]]\n",
    "    link = [each[\"link\"] for each in json_data[\"items\"]]\n",
    "    lprice = [each[\"lprice\"] for each in json_data[\"items\"]]\n",
    "    mall_name = [each[\"mallName\"] for each in json_data[\"items\"]]\n",
    "\n",
    "    result_df = pd.DataFrame({\n",
    "        \"title\": title,\n",
    "        \"lprice\": lprice,\n",
    "        \"link\": link,\n",
    "        \"mall\": mall_name,\n",
    "    }) #, columns=[\"title\", \"lprice\", \"link\", \"mall\"]\n",
    "    return result_df"
   ]
  },
  {
   "cell_type": "code",
   "execution_count": 18,
   "metadata": {},
   "outputs": [
    {
     "data": {
      "text/html": [
       "<div>\n",
       "<style scoped>\n",
       "    .dataframe tbody tr th:only-of-type {\n",
       "        vertical-align: middle;\n",
       "    }\n",
       "\n",
       "    .dataframe tbody tr th {\n",
       "        vertical-align: top;\n",
       "    }\n",
       "\n",
       "    .dataframe thead th {\n",
       "        text-align: right;\n",
       "    }\n",
       "</style>\n",
       "<table border=\"1\" class=\"dataframe\">\n",
       "  <thead>\n",
       "    <tr style=\"text-align: right;\">\n",
       "      <th></th>\n",
       "      <th>title</th>\n",
       "      <th>lprice</th>\n",
       "      <th>link</th>\n",
       "      <th>mall</th>\n",
       "    </tr>\n",
       "  </thead>\n",
       "  <tbody>\n",
       "    <tr>\n",
       "      <th>0</th>\n",
       "      <td>몰스킨 2024 다이어리 클래식 하드커버 위클리 라지 2024년 24년</td>\n",
       "      <td>31080</td>\n",
       "      <td>https://search.shopping.naver.com/gate.nhn?id=...</td>\n",
       "      <td>베스트펜</td>\n",
       "    </tr>\n",
       "    <tr>\n",
       "      <th>1</th>\n",
       "      <td>[몰스킨] 2024년 클래식 다이어리 (12개월) (데일리, 위클리, 먼슬리)</td>\n",
       "      <td>22680</td>\n",
       "      <td>https://search.shopping.naver.com/gate.nhn?id=...</td>\n",
       "      <td>몰스킨공식온라인스토어</td>\n",
       "    </tr>\n",
       "    <tr>\n",
       "      <th>2</th>\n",
       "      <td>몰스킨 2024 다이어리 클래식 소프트커버 데일리 라지 2024년 24년</td>\n",
       "      <td>32760</td>\n",
       "      <td>https://search.shopping.naver.com/gate.nhn?id=...</td>\n",
       "      <td>베스트펜</td>\n",
       "    </tr>\n",
       "    <tr>\n",
       "      <th>3</th>\n",
       "      <td>몰스킨 2024 위클리 다이어리 포켓 상품선택</td>\n",
       "      <td>25680</td>\n",
       "      <td>https://search.shopping.naver.com/gate.nhn?id=...</td>\n",
       "      <td>네이버</td>\n",
       "    </tr>\n",
       "    <tr>\n",
       "      <th>4</th>\n",
       "      <td>스타벅스 2024년 몰스킨 다이어리 데일리 플래너 일기장 노트 스벅 카페 윈터 e프리퀀시</td>\n",
       "      <td>29400</td>\n",
       "      <td>https://search.shopping.naver.com/gate.nhn?id=...</td>\n",
       "      <td>유니스스토어</td>\n",
       "    </tr>\n",
       "  </tbody>\n",
       "</table>\n",
       "</div>"
      ],
      "text/plain": [
       "                                               title lprice  \\\n",
       "0            몰스킨 2024 다이어리 클래식 하드커버 위클리 라지 2024년 24년  31080   \n",
       "1        [몰스킨] 2024년 클래식 다이어리 (12개월) (데일리, 위클리, 먼슬리)  22680   \n",
       "2           몰스킨 2024 다이어리 클래식 소프트커버 데일리 라지 2024년 24년  32760   \n",
       "3                          몰스킨 2024 위클리 다이어리 포켓 상품선택  25680   \n",
       "4  스타벅스 2024년 몰스킨 다이어리 데일리 플래너 일기장 노트 스벅 카페 윈터 e프리퀀시  29400   \n",
       "\n",
       "                                                link         mall  \n",
       "0  https://search.shopping.naver.com/gate.nhn?id=...         베스트펜  \n",
       "1  https://search.shopping.naver.com/gate.nhn?id=...  몰스킨공식온라인스토어  \n",
       "2  https://search.shopping.naver.com/gate.nhn?id=...         베스트펜  \n",
       "3  https://search.shopping.naver.com/gate.nhn?id=...          네이버  \n",
       "4  https://search.shopping.naver.com/gate.nhn?id=...       유니스스토어  "
      ]
     },
     "execution_count": 18,
     "metadata": {},
     "output_type": "execute_result"
    }
   ],
   "source": [
    "get_fields(one_result)"
   ]
  },
  {
   "cell_type": "code",
   "execution_count": 19,
   "metadata": {},
   "outputs": [
    {
     "name": "stdout",
     "output_type": "stream",
     "text": [
      "[2024-01-16 08:02:48.423992] URL Request Success\n"
     ]
    }
   ],
   "source": [
    "url = gen_search_url(\"shop\", \"몰스킨\", 1, 5)\n",
    "json_result = get_result_onepage(url)\n",
    "df_result = get_fields(json_result)"
   ]
  },
  {
   "cell_type": "code",
   "execution_count": 49,
   "metadata": {},
   "outputs": [
    {
     "data": {
      "text/html": [
       "<div>\n",
       "<style scoped>\n",
       "    .dataframe tbody tr th:only-of-type {\n",
       "        vertical-align: middle;\n",
       "    }\n",
       "\n",
       "    .dataframe tbody tr th {\n",
       "        vertical-align: top;\n",
       "    }\n",
       "\n",
       "    .dataframe thead th {\n",
       "        text-align: right;\n",
       "    }\n",
       "</style>\n",
       "<table border=\"1\" class=\"dataframe\">\n",
       "  <thead>\n",
       "    <tr style=\"text-align: right;\">\n",
       "      <th></th>\n",
       "      <th>title</th>\n",
       "      <th>lprice</th>\n",
       "      <th>link</th>\n",
       "      <th>mall</th>\n",
       "    </tr>\n",
       "  </thead>\n",
       "  <tbody>\n",
       "    <tr>\n",
       "      <th>0</th>\n",
       "      <td>몰스킨 2024 다이어리 클래식 하드커버 위클리 라지 2024년 24년</td>\n",
       "      <td>31080</td>\n",
       "      <td>https://search.shopping.naver.com/gate.nhn?id=...</td>\n",
       "      <td>베스트펜</td>\n",
       "    </tr>\n",
       "    <tr>\n",
       "      <th>1</th>\n",
       "      <td>[몰스킨] 2024년 클래식 다이어리 (12개월) (데일리, 위클리, 먼슬리)</td>\n",
       "      <td>22680</td>\n",
       "      <td>https://search.shopping.naver.com/gate.nhn?id=...</td>\n",
       "      <td>몰스킨공식온라인스토어</td>\n",
       "    </tr>\n",
       "    <tr>\n",
       "      <th>2</th>\n",
       "      <td>몰스킨 2024 다이어리 클래식 소프트커버 데일리 라지 2024년 24년</td>\n",
       "      <td>32760</td>\n",
       "      <td>https://search.shopping.naver.com/gate.nhn?id=...</td>\n",
       "      <td>베스트펜</td>\n",
       "    </tr>\n",
       "    <tr>\n",
       "      <th>3</th>\n",
       "      <td>몰스킨 2024 위클리 다이어리 포켓 상품선택</td>\n",
       "      <td>25680</td>\n",
       "      <td>https://search.shopping.naver.com/gate.nhn?id=...</td>\n",
       "      <td>네이버</td>\n",
       "    </tr>\n",
       "    <tr>\n",
       "      <th>4</th>\n",
       "      <td>스타벅스 2024년 몰스킨 다이어리 데일리 플래너 일기장 노트 스벅 카페 윈터 e프리퀀시</td>\n",
       "      <td>29400</td>\n",
       "      <td>https://search.shopping.naver.com/gate.nhn?id=...</td>\n",
       "      <td>유니스스토어</td>\n",
       "    </tr>\n",
       "  </tbody>\n",
       "</table>\n",
       "</div>"
      ],
      "text/plain": [
       "                                               title lprice  \\\n",
       "0            몰스킨 2024 다이어리 클래식 하드커버 위클리 라지 2024년 24년  31080   \n",
       "1        [몰스킨] 2024년 클래식 다이어리 (12개월) (데일리, 위클리, 먼슬리)  22680   \n",
       "2           몰스킨 2024 다이어리 클래식 소프트커버 데일리 라지 2024년 24년  32760   \n",
       "3                          몰스킨 2024 위클리 다이어리 포켓 상품선택  25680   \n",
       "4  스타벅스 2024년 몰스킨 다이어리 데일리 플래너 일기장 노트 스벅 카페 윈터 e프리퀀시  29400   \n",
       "\n",
       "                                                link         mall  \n",
       "0  https://search.shopping.naver.com/gate.nhn?id=...         베스트펜  \n",
       "1  https://search.shopping.naver.com/gate.nhn?id=...  몰스킨공식온라인스토어  \n",
       "2  https://search.shopping.naver.com/gate.nhn?id=...         베스트펜  \n",
       "3  https://search.shopping.naver.com/gate.nhn?id=...          네이버  \n",
       "4  https://search.shopping.naver.com/gate.nhn?id=...       유니스스토어  "
      ]
     },
     "execution_count": 49,
     "metadata": {},
     "output_type": "execute_result"
    }
   ],
   "source": [
    "df_result"
   ]
  },
  {
   "cell_type": "markdown",
   "metadata": {},
   "source": [
    "### 🔰 actMain()\n",
    "\n",
    "> 1000개의 데이터를 모두 모으는 함수"
   ]
  },
  {
   "cell_type": "code",
   "execution_count": 21,
   "metadata": {},
   "outputs": [
    {
     "name": "stdout",
     "output_type": "stream",
     "text": [
      "1\n",
      "101\n",
      "201\n",
      "301\n",
      "401\n",
      "501\n",
      "601\n",
      "701\n",
      "801\n",
      "901\n"
     ]
    }
   ],
   "source": [
    "for n in range(1, 1000, 100):\n",
    "    print(n)"
   ]
  },
  {
   "cell_type": "code",
   "execution_count": 22,
   "metadata": {},
   "outputs": [],
   "source": [
    "def actMain(api_node, search_text):\n",
    "    total_result = []\n",
    "    for n in range(1, 1000, 100):\n",
    "        url = gen_search_url(api_node, search_text, n, 100)\n",
    "        json_result = get_result_onepage(url)\n",
    "        df_result = get_fields(json_result)\n",
    "        \n",
    "        total_result.append(df_result)\n",
    "    \n",
    "    total_result = pd.concat(total_result)\n",
    "    return total_result"
   ]
  },
  {
   "cell_type": "code",
   "execution_count": 23,
   "metadata": {},
   "outputs": [
    {
     "name": "stdout",
     "output_type": "stream",
     "text": [
      "[2024-01-16 15:45:08.584349] URL Request Success\n",
      "[2024-01-16 15:45:08.902149] URL Request Success\n",
      "[2024-01-16 15:45:09.211957] URL Request Success\n",
      "[2024-01-16 15:45:09.494204] URL Request Success\n",
      "[2024-01-16 15:45:09.778892] URL Request Success\n",
      "[2024-01-16 15:45:10.077416] URL Request Success\n",
      "[2024-01-16 15:45:10.372764] URL Request Success\n",
      "[2024-01-16 15:45:10.706020] URL Request Success\n",
      "[2024-01-16 15:45:11.014197] URL Request Success\n",
      "[2024-01-16 15:45:11.331348] URL Request Success\n"
     ]
    }
   ],
   "source": [
    "result_molskin = actMain(\"shop\", \"몰스킨\")"
   ]
  },
  {
   "cell_type": "code",
   "execution_count": 24,
   "metadata": {},
   "outputs": [
    {
     "data": {
      "text/html": [
       "<div>\n",
       "<style scoped>\n",
       "    .dataframe tbody tr th:only-of-type {\n",
       "        vertical-align: middle;\n",
       "    }\n",
       "\n",
       "    .dataframe tbody tr th {\n",
       "        vertical-align: top;\n",
       "    }\n",
       "\n",
       "    .dataframe thead th {\n",
       "        text-align: right;\n",
       "    }\n",
       "</style>\n",
       "<table border=\"1\" class=\"dataframe\">\n",
       "  <thead>\n",
       "    <tr style=\"text-align: right;\">\n",
       "      <th></th>\n",
       "      <th>title</th>\n",
       "      <th>lprice</th>\n",
       "      <th>link</th>\n",
       "      <th>mall</th>\n",
       "    </tr>\n",
       "  </thead>\n",
       "  <tbody>\n",
       "    <tr>\n",
       "      <th>0</th>\n",
       "      <td>[몰스킨] 2024년 클래식 다이어리 (12개월) (데일리, 위클리, 먼슬리)</td>\n",
       "      <td>22680</td>\n",
       "      <td>https://search.shopping.naver.com/gate.nhn?id=...</td>\n",
       "      <td>몰스킨공식온라인스토어</td>\n",
       "    </tr>\n",
       "    <tr>\n",
       "      <th>1</th>\n",
       "      <td>몰스킨 2024 다이어리 클래식 하드커버 위클리 라지 2024년 24년</td>\n",
       "      <td>31080</td>\n",
       "      <td>https://search.shopping.naver.com/gate.nhn?id=...</td>\n",
       "      <td>베스트펜</td>\n",
       "    </tr>\n",
       "    <tr>\n",
       "      <th>2</th>\n",
       "      <td>몰스킨 2024 다이어리 클래식 소프트커버 데일리 라지 2024년 24년</td>\n",
       "      <td>32760</td>\n",
       "      <td>https://search.shopping.naver.com/gate.nhn?id=...</td>\n",
       "      <td>베스트펜</td>\n",
       "    </tr>\n",
       "    <tr>\n",
       "      <th>3</th>\n",
       "      <td>몰스킨 2024 위클리 다이어리 포켓 상품선택</td>\n",
       "      <td>25680</td>\n",
       "      <td>https://search.shopping.naver.com/gate.nhn?id=...</td>\n",
       "      <td>네이버</td>\n",
       "    </tr>\n",
       "    <tr>\n",
       "      <th>4</th>\n",
       "      <td>스타벅스 2024년 몰스킨 다이어리 데일리 플래너 일기장 노트 스벅 카페 윈터 e프리퀀시</td>\n",
       "      <td>29400</td>\n",
       "      <td>https://search.shopping.naver.com/gate.nhn?id=...</td>\n",
       "      <td>유니스스토어</td>\n",
       "    </tr>\n",
       "    <tr>\n",
       "      <th>...</th>\n",
       "      <td>...</td>\n",
       "      <td>...</td>\n",
       "      <td>...</td>\n",
       "      <td>...</td>\n",
       "    </tr>\n",
       "    <tr>\n",
       "      <th>95</th>\n",
       "      <td>트레몰로 가을 몰스킨 바지 TRN DL3Z 058421</td>\n",
       "      <td>70610</td>\n",
       "      <td>https://search.shopping.naver.com/gate.nhn?id=...</td>\n",
       "      <td>네이버</td>\n",
       "    </tr>\n",
       "    <tr>\n",
       "      <th>96</th>\n",
       "      <td>2024 스타벅스 다이어리 샌드 프리퀀시 몰스킨 플래너</td>\n",
       "      <td>36600</td>\n",
       "      <td>https://search.shopping.naver.com/gate.nhn?id=...</td>\n",
       "      <td>네이버</td>\n",
       "    </tr>\n",
       "    <tr>\n",
       "      <th>97</th>\n",
       "      <td>PARKLAND BY파크랜드 스트레치 몰스킨 점퍼 자켓</td>\n",
       "      <td>128870</td>\n",
       "      <td>https://search.shopping.naver.com/gate.nhn?id=...</td>\n",
       "      <td>네이버</td>\n",
       "    </tr>\n",
       "    <tr>\n",
       "      <th>98</th>\n",
       "      <td>몰스킨 아트컬렉션 스케치북 하드커버 라지 블랙</td>\n",
       "      <td>45600</td>\n",
       "      <td>https://search.shopping.naver.com/gate.nhn?id=...</td>\n",
       "      <td>펜샵코리아</td>\n",
       "    </tr>\n",
       "    <tr>\n",
       "      <th>99</th>\n",
       "      <td>몰스킨 레터 심볼 - B</td>\n",
       "      <td>9700</td>\n",
       "      <td>https://search.shopping.naver.com/gate.nhn?id=...</td>\n",
       "      <td>네이버</td>\n",
       "    </tr>\n",
       "  </tbody>\n",
       "</table>\n",
       "<p>1000 rows × 4 columns</p>\n",
       "</div>"
      ],
      "text/plain": [
       "                                                title  lprice  \\\n",
       "0         [몰스킨] 2024년 클래식 다이어리 (12개월) (데일리, 위클리, 먼슬리)   22680   \n",
       "1             몰스킨 2024 다이어리 클래식 하드커버 위클리 라지 2024년 24년   31080   \n",
       "2            몰스킨 2024 다이어리 클래식 소프트커버 데일리 라지 2024년 24년   32760   \n",
       "3                           몰스킨 2024 위클리 다이어리 포켓 상품선택   25680   \n",
       "4   스타벅스 2024년 몰스킨 다이어리 데일리 플래너 일기장 노트 스벅 카페 윈터 e프리퀀시   29400   \n",
       "..                                                ...     ...   \n",
       "95                     트레몰로 가을 몰스킨 바지 TRN DL3Z 058421   70610   \n",
       "96                     2024 스타벅스 다이어리 샌드 프리퀀시 몰스킨 플래너   36600   \n",
       "97                     PARKLAND BY파크랜드 스트레치 몰스킨 점퍼 자켓  128870   \n",
       "98                          몰스킨 아트컬렉션 스케치북 하드커버 라지 블랙   45600   \n",
       "99                                      몰스킨 레터 심볼 - B    9700   \n",
       "\n",
       "                                                 link         mall  \n",
       "0   https://search.shopping.naver.com/gate.nhn?id=...  몰스킨공식온라인스토어  \n",
       "1   https://search.shopping.naver.com/gate.nhn?id=...         베스트펜  \n",
       "2   https://search.shopping.naver.com/gate.nhn?id=...         베스트펜  \n",
       "3   https://search.shopping.naver.com/gate.nhn?id=...          네이버  \n",
       "4   https://search.shopping.naver.com/gate.nhn?id=...       유니스스토어  \n",
       "..                                                ...          ...  \n",
       "95  https://search.shopping.naver.com/gate.nhn?id=...          네이버  \n",
       "96  https://search.shopping.naver.com/gate.nhn?id=...          네이버  \n",
       "97  https://search.shopping.naver.com/gate.nhn?id=...          네이버  \n",
       "98  https://search.shopping.naver.com/gate.nhn?id=...        펜샵코리아  \n",
       "99  https://search.shopping.naver.com/gate.nhn?id=...          네이버  \n",
       "\n",
       "[1000 rows x 4 columns]"
      ]
     },
     "execution_count": 24,
     "metadata": {},
     "output_type": "execute_result"
    }
   ],
   "source": [
    "result_molskin"
   ]
  },
  {
   "cell_type": "code",
   "execution_count": 25,
   "metadata": {},
   "outputs": [
    {
     "name": "stdout",
     "output_type": "stream",
     "text": [
      "<class 'pandas.core.frame.DataFrame'>\n",
      "Index: 1000 entries, 0 to 99\n",
      "Data columns (total 4 columns):\n",
      " #   Column  Non-Null Count  Dtype \n",
      "---  ------  --------------  ----- \n",
      " 0   title   1000 non-null   object\n",
      " 1   lprice  1000 non-null   object\n",
      " 2   link    1000 non-null   object\n",
      " 3   mall    1000 non-null   object\n",
      "dtypes: object(4)\n",
      "memory usage: 39.1+ KB\n"
     ]
    }
   ],
   "source": [
    "result_molskin.info()"
   ]
  },
  {
   "cell_type": "code",
   "execution_count": 28,
   "metadata": {},
   "outputs": [
    {
     "data": {
      "text/html": [
       "<div>\n",
       "<style scoped>\n",
       "    .dataframe tbody tr th:only-of-type {\n",
       "        vertical-align: middle;\n",
       "    }\n",
       "\n",
       "    .dataframe tbody tr th {\n",
       "        vertical-align: top;\n",
       "    }\n",
       "\n",
       "    .dataframe thead th {\n",
       "        text-align: right;\n",
       "    }\n",
       "</style>\n",
       "<table border=\"1\" class=\"dataframe\">\n",
       "  <thead>\n",
       "    <tr style=\"text-align: right;\">\n",
       "      <th></th>\n",
       "      <th>title</th>\n",
       "      <th>lprice</th>\n",
       "      <th>link</th>\n",
       "      <th>mall</th>\n",
       "    </tr>\n",
       "  </thead>\n",
       "  <tbody>\n",
       "    <tr>\n",
       "      <th>0</th>\n",
       "      <td>[몰스킨] 2024년 클래식 다이어리 (12개월) (데일리, 위클리, 먼슬리)</td>\n",
       "      <td>22680</td>\n",
       "      <td>https://search.shopping.naver.com/gate.nhn?id=...</td>\n",
       "      <td>몰스킨공식온라인스토어</td>\n",
       "    </tr>\n",
       "    <tr>\n",
       "      <th>1</th>\n",
       "      <td>몰스킨 2024 다이어리 클래식 하드커버 위클리 라지 2024년 24년</td>\n",
       "      <td>31080</td>\n",
       "      <td>https://search.shopping.naver.com/gate.nhn?id=...</td>\n",
       "      <td>베스트펜</td>\n",
       "    </tr>\n",
       "    <tr>\n",
       "      <th>2</th>\n",
       "      <td>몰스킨 2024 다이어리 클래식 소프트커버 데일리 라지 2024년 24년</td>\n",
       "      <td>32760</td>\n",
       "      <td>https://search.shopping.naver.com/gate.nhn?id=...</td>\n",
       "      <td>베스트펜</td>\n",
       "    </tr>\n",
       "    <tr>\n",
       "      <th>3</th>\n",
       "      <td>몰스킨 2024 위클리 다이어리 포켓 상품선택</td>\n",
       "      <td>25680</td>\n",
       "      <td>https://search.shopping.naver.com/gate.nhn?id=...</td>\n",
       "      <td>네이버</td>\n",
       "    </tr>\n",
       "    <tr>\n",
       "      <th>4</th>\n",
       "      <td>스타벅스 2024년 몰스킨 다이어리 데일리 플래너 일기장 노트 스벅 카페 윈터 e프리퀀시</td>\n",
       "      <td>29400</td>\n",
       "      <td>https://search.shopping.naver.com/gate.nhn?id=...</td>\n",
       "      <td>유니스스토어</td>\n",
       "    </tr>\n",
       "    <tr>\n",
       "      <th>...</th>\n",
       "      <td>...</td>\n",
       "      <td>...</td>\n",
       "      <td>...</td>\n",
       "      <td>...</td>\n",
       "    </tr>\n",
       "    <tr>\n",
       "      <th>995</th>\n",
       "      <td>트레몰로 가을 몰스킨 바지 TRN DL3Z 058421</td>\n",
       "      <td>70610</td>\n",
       "      <td>https://search.shopping.naver.com/gate.nhn?id=...</td>\n",
       "      <td>네이버</td>\n",
       "    </tr>\n",
       "    <tr>\n",
       "      <th>996</th>\n",
       "      <td>2024 스타벅스 다이어리 샌드 프리퀀시 몰스킨 플래너</td>\n",
       "      <td>36600</td>\n",
       "      <td>https://search.shopping.naver.com/gate.nhn?id=...</td>\n",
       "      <td>네이버</td>\n",
       "    </tr>\n",
       "    <tr>\n",
       "      <th>997</th>\n",
       "      <td>PARKLAND BY파크랜드 스트레치 몰스킨 점퍼 자켓</td>\n",
       "      <td>128870</td>\n",
       "      <td>https://search.shopping.naver.com/gate.nhn?id=...</td>\n",
       "      <td>네이버</td>\n",
       "    </tr>\n",
       "    <tr>\n",
       "      <th>998</th>\n",
       "      <td>몰스킨 아트컬렉션 스케치북 하드커버 라지 블랙</td>\n",
       "      <td>45600</td>\n",
       "      <td>https://search.shopping.naver.com/gate.nhn?id=...</td>\n",
       "      <td>펜샵코리아</td>\n",
       "    </tr>\n",
       "    <tr>\n",
       "      <th>999</th>\n",
       "      <td>몰스킨 레터 심볼 - B</td>\n",
       "      <td>9700</td>\n",
       "      <td>https://search.shopping.naver.com/gate.nhn?id=...</td>\n",
       "      <td>네이버</td>\n",
       "    </tr>\n",
       "  </tbody>\n",
       "</table>\n",
       "<p>1000 rows × 4 columns</p>\n",
       "</div>"
      ],
      "text/plain": [
       "                                                 title  lprice  \\\n",
       "0          [몰스킨] 2024년 클래식 다이어리 (12개월) (데일리, 위클리, 먼슬리)   22680   \n",
       "1              몰스킨 2024 다이어리 클래식 하드커버 위클리 라지 2024년 24년   31080   \n",
       "2             몰스킨 2024 다이어리 클래식 소프트커버 데일리 라지 2024년 24년   32760   \n",
       "3                            몰스킨 2024 위클리 다이어리 포켓 상품선택   25680   \n",
       "4    스타벅스 2024년 몰스킨 다이어리 데일리 플래너 일기장 노트 스벅 카페 윈터 e프리퀀시   29400   \n",
       "..                                                 ...     ...   \n",
       "995                     트레몰로 가을 몰스킨 바지 TRN DL3Z 058421   70610   \n",
       "996                     2024 스타벅스 다이어리 샌드 프리퀀시 몰스킨 플래너   36600   \n",
       "997                     PARKLAND BY파크랜드 스트레치 몰스킨 점퍼 자켓  128870   \n",
       "998                          몰스킨 아트컬렉션 스케치북 하드커버 라지 블랙   45600   \n",
       "999                                      몰스킨 레터 심볼 - B    9700   \n",
       "\n",
       "                                                  link         mall  \n",
       "0    https://search.shopping.naver.com/gate.nhn?id=...  몰스킨공식온라인스토어  \n",
       "1    https://search.shopping.naver.com/gate.nhn?id=...         베스트펜  \n",
       "2    https://search.shopping.naver.com/gate.nhn?id=...         베스트펜  \n",
       "3    https://search.shopping.naver.com/gate.nhn?id=...          네이버  \n",
       "4    https://search.shopping.naver.com/gate.nhn?id=...       유니스스토어  \n",
       "..                                                 ...          ...  \n",
       "995  https://search.shopping.naver.com/gate.nhn?id=...          네이버  \n",
       "996  https://search.shopping.naver.com/gate.nhn?id=...          네이버  \n",
       "997  https://search.shopping.naver.com/gate.nhn?id=...          네이버  \n",
       "998  https://search.shopping.naver.com/gate.nhn?id=...        펜샵코리아  \n",
       "999  https://search.shopping.naver.com/gate.nhn?id=...          네이버  \n",
       "\n",
       "[1000 rows x 4 columns]"
      ]
     },
     "execution_count": 28,
     "metadata": {},
     "output_type": "execute_result"
    }
   ],
   "source": [
    "result_molskin.reset_index(drop=True, inplace=True)\n",
    "result_molskin"
   ]
  },
  {
   "cell_type": "code",
   "execution_count": 29,
   "metadata": {},
   "outputs": [
    {
     "name": "stdout",
     "output_type": "stream",
     "text": [
      "<class 'pandas.core.frame.DataFrame'>\n",
      "RangeIndex: 1000 entries, 0 to 999\n",
      "Data columns (total 4 columns):\n",
      " #   Column  Non-Null Count  Dtype \n",
      "---  ------  --------------  ----- \n",
      " 0   title   1000 non-null   object\n",
      " 1   lprice  1000 non-null   object\n",
      " 2   link    1000 non-null   object\n",
      " 3   mall    1000 non-null   object\n",
      "dtypes: object(4)\n",
      "memory usage: 31.4+ KB\n"
     ]
    }
   ],
   "source": [
    "result_molskin.info()"
   ]
  },
  {
   "cell_type": "code",
   "execution_count": 30,
   "metadata": {},
   "outputs": [
    {
     "name": "stdout",
     "output_type": "stream",
     "text": [
      "<class 'pandas.core.frame.DataFrame'>\n",
      "RangeIndex: 1000 entries, 0 to 999\n",
      "Data columns (total 4 columns):\n",
      " #   Column  Non-Null Count  Dtype  \n",
      "---  ------  --------------  -----  \n",
      " 0   title   1000 non-null   object \n",
      " 1   lprice  1000 non-null   float64\n",
      " 2   link    1000 non-null   object \n",
      " 3   mall    1000 non-null   object \n",
      "dtypes: float64(1), object(3)\n",
      "memory usage: 31.4+ KB\n"
     ]
    }
   ],
   "source": [
    "result_molskin[\"lprice\"] = result_molskin[\"lprice\"].astype(\"float\")\n",
    "result_molskin.info()"
   ]
  },
  {
   "cell_type": "markdown",
   "metadata": {},
   "source": [
    "### 🔰 to_excel()\n",
    "\n",
    "- xlsxwriter 모듈 설치\n",
    "\n",
    "\t파이썬으로 엑셀을 다루는 모듈이다."
   ]
  },
  {
   "cell_type": "code",
   "execution_count": 31,
   "metadata": {},
   "outputs": [
    {
     "name": "stdout",
     "output_type": "stream",
     "text": [
      "Requirement already satisfied: xlsxwriter in c:\\users\\happy\\miniconda3\\envs\\ds_study\\lib\\site-packages (3.1.9)\n"
     ]
    }
   ],
   "source": [
    "!pip install xlsxwriter"
   ]
  },
  {
   "cell_type": "code",
   "execution_count": 32,
   "metadata": {},
   "outputs": [],
   "source": [
    "writer = pd.ExcelWriter(\n",
    "\t\"./result_data/06_molskin_diary_in_naver_shop.xlsx\",\n",
    " \tengine=\"xlsxwriter\"\n",
    ")\n",
    "result_molskin.to_excel(writer, sheet_name=\"Sheet1\")\n",
    "\n",
    "workbook = writer.book \n",
    "worksheet = writer.sheets[\"Sheet1\"]\n",
    "worksheet.set_column(\"A:A\", 4)\n",
    "worksheet.set_column(\"B:B\", 70)\n",
    "worksheet.set_column(\"C:C\", 10)\n",
    "worksheet.set_column(\"D:D\", 50)\n",
    "worksheet.set_column(\"E:E\", 30)\n",
    "worksheet.set_column(\"F:F\", 10)\n",
    "\n",
    "worksheet.conditional_format(\"C2:C1001\", {\"type\": \"3_color_scale\"})\n",
    "writer.close()"
   ]
  },
  {
   "cell_type": "code",
   "execution_count": 35,
   "metadata": {},
   "outputs": [
    {
     "name": "stdout",
     "output_type": "stream",
     "text": [
      "./result_data/06_molskin_diary_in_naver_shop.xlsx\n"
     ]
    }
   ],
   "source": [
    "!ls \"./result_data/06_molskin_diary_in_naver_shop.xlsx\""
   ]
  },
  {
   "cell_type": "markdown",
   "metadata": {},
   "source": [
    "### 🔰 시각화"
   ]
  },
  {
   "cell_type": "code",
   "execution_count": 36,
   "metadata": {},
   "outputs": [
    {
     "name": "stdout",
     "output_type": "stream",
     "text": [
      "Hangul OK in your Windows!!!\n"
     ]
    }
   ],
   "source": [
    "import platform\n",
    "import matplotlib.pyplot as plt\n",
    "import seaborn as sns\n",
    "from matplotlib import font_manager, rc\n",
    "\n",
    "path = \"c:/Windows/Fonts/malgun.ttf\"\n",
    "\n",
    "if platform.system() == \"Darwin\":\n",
    "    rc(\"font\", family=\"Arial Unicode MS\")\n",
    "    print(\"Hangul OK in your MAC!!!\")\n",
    "elif platform.system() == \"Windows\":\n",
    "    font_name = font_manager.FontProperties(fname=path).get_name()\n",
    "    rc(\"font\", family=font_name)\n",
    "    print(\"Hangul OK in your Windows!!!\")\n",
    "else:\n",
    "    print(\"Unknown system.. sorry~~~\")\n",
    "    \n",
    "plt.rcParams[\"axes.unicode_minus\"] = False\n",
    "get_ipython().run_line_magic(\"matplotlib\", \"inline\")"
   ]
  },
  {
   "cell_type": "code",
   "execution_count": 37,
   "metadata": {},
   "outputs": [
    {
     "data": {
      "text/plain": [
       "mall\n",
       "네이버             887\n",
       "몰스킨스토어           30\n",
       "몰스킨공식온라인스토어      28\n",
       "펜카페스토어            7\n",
       "펜샵코리아             5\n",
       "베스트펜              3\n",
       "쿠팡                2\n",
       "비발디샵              2\n",
       "Peni              2\n",
       "제인네               2\n",
       "텐바이텐              2\n",
       "EDGENA            2\n",
       "유니스스토어            2\n",
       "파렌하이트 부산대점        2\n",
       "한정판매니아            1\n",
       "파우리치              1\n",
       "매일가게              1\n",
       "핫트랙스              1\n",
       "realpearls        1\n",
       "안네프랑크             1\n",
       "라코스테 남성           1\n",
       "무신사               1\n",
       "Owl Hunter        1\n",
       "개미통상              1\n",
       "루비샵               1\n",
       "롯데ON              1\n",
       "MZ아울렛             1\n",
       "백방마켓              1\n",
       "스프링스트릿 마켓         1\n",
       "라코스테맨             1\n",
       "독집사               1\n",
       "11번가              1\n",
       "파이영               1\n",
       "리엠팩토리             1\n",
       "지이크파렌하이트 인덕원      1\n",
       "더주니마켓             1\n",
       "펫템즈               1\n",
       "제이슈퍼              1\n",
       "Name: count, dtype: int64"
      ]
     },
     "execution_count": 37,
     "metadata": {},
     "output_type": "execute_result"
    }
   ],
   "source": [
    "result_molskin[\"mall\"].value_counts()"
   ]
  },
  {
   "cell_type": "code",
   "execution_count": 40,
   "metadata": {},
   "outputs": [
    {
     "data": {
      "text/plain": [
       "(Index(['네이버', '몰스킨스토어', '몰스킨공식온라인스토어', '펜카페스토어', '펜샵코리아', '베스트펜', '쿠팡', '비발디샵',\n",
       "        'Peni', '제인네', '텐바이텐', 'EDGENA', '유니스스토어', '파렌하이트 부산대점', '한정판매니아',\n",
       "        '파우리치', '매일가게', '핫트랙스', 'realpearls', '안네프랑크', '라코스테 남성', '무신사',\n",
       "        'Owl Hunter', '개미통상', '루비샵', '롯데ON', 'MZ아울렛', '백방마켓', '스프링스트릿 마켓',\n",
       "        '라코스테맨', '독집사', '11번가', '파이영', '리엠팩토리', '지이크파렌하이트 인덕원', '더주니마켓', '펫템즈',\n",
       "        '제이슈퍼'],\n",
       "       dtype='object', name='mall'),\n",
       " 38)"
      ]
     },
     "execution_count": 40,
     "metadata": {},
     "output_type": "execute_result"
    }
   ],
   "source": [
    "result_molskin[\"mall\"].value_counts().index, len(result_molskin[\"mall\"].value_counts().index)"
   ]
  },
  {
   "cell_type": "code",
   "execution_count": 41,
   "metadata": {},
   "outputs": [
    {
     "name": "stderr",
     "output_type": "stream",
     "text": [
      "C:\\Users\\happy\\AppData\\Local\\Temp\\ipykernel_25508\\613151743.py:2: FutureWarning: \n",
      "\n",
      "Passing `palette` without assigning `hue` is deprecated and will be removed in v0.14.0. Assign the `x` variable to `hue` and set `legend=False` for the same effect.\n",
      "\n",
      "  sns.countplot(\n"
     ]
    },
    {
     "data": {
      "image/png": "[encoded data removed]",
      "text/plain": [
       "<Figure size 1500x700 with 1 Axes>"
      ]
     },
     "metadata": {},
     "output_type": "display_data"
    }
   ],
   "source": [
    "plt.figure(figsize=(15, 7))\n",
    "sns.countplot(\n",
    "\tdata=result_molskin,\n",
    "\tx=result_molskin[\"mall\"],\n",
    "\tpalette=\"RdYlGn\",\n",
    "\torder=result_molskin[\"mall\"].value_counts().index\n",
    ")\n",
    "plt.xticks(rotation=90)\n",
    "plt.show()"
   ]
  },
  {
   "cell_type": "code",
   "execution_count": 47,
   "metadata": {},
   "outputs": [
    {
     "name": "stderr",
     "output_type": "stream",
     "text": [
      "C:\\Users\\happy\\AppData\\Local\\Temp\\ipykernel_25508\\2802202080.py:2: FutureWarning: \n",
      "\n",
      "Passing `palette` without assigning `hue` is deprecated and will be removed in v0.14.0. Assign the `y` variable to `hue` and set `legend=False` for the same effect.\n",
      "\n",
      "  sns.countplot(\n"
     ]
    },
    {
     "data": {
      "image/png": "[encoded data removed]",
      "text/plain": [
       "<Figure size 1500x1000 with 1 Axes>"
      ]
     },
     "metadata": {},
     "output_type": "display_data"
    }
   ],
   "source": [
    "plt.figure(figsize=(15,10))\n",
    "sns.countplot(\n",
    "\tdata=result_molskin,\n",
    "\ty=result_molskin[\"mall\"],\n",
    "\tpalette=\"RdYlGn\",\n",
    "\torder=result_molskin[\"mall\"].value_counts().index\n",
    ")\n",
    "plt.show()"
   ]
  }
 ],
 "metadata": {
  "kernelspec": {
   "display_name": "ds_study",
   "language": "python",
   "name": "python3"
  },
  "language_info": {
   "codemirror_mode": {
    "name": "ipython",
    "version": 3
   },
   "file_extension": ".py",
   "mimetype": "text/x-python",
   "name": "python",
   "nbconvert_exporter": "python",
   "pygments_lexer": "ipython3",
   "version": "3.8.18"
  }
 },
 "nbformat": 4,
 "nbformat_minor": 2
}
