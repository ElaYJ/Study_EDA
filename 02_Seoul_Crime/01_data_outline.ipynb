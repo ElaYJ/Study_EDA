{
 "cells": [
  {
   "cell_type": "markdown",
   "metadata": {},
   "source": [
    "# 서울시 범죄 현황 데이터 개요 확인"
   ]
  },
  {
   "cell_type": "code",
   "execution_count": 1,
   "metadata": {},
   "outputs": [],
   "source": [
    "import pandas as pd\n",
    "import numpy as np"
   ]
  },
  {
   "cell_type": "markdown",
   "metadata": {},
   "source": [
    "#### 🔰 데이터 읽기\n",
    "\n",
    "- `thousands` param은 단위 구분 문자(콤마)가 찍힌 숫자를 문자로 인식할 수 있기 때문에 설정으로 넣어준다.\n",
    "\n",
    "\t- 숫자값들이 콤마(,)를 사용하고 있어서 문자로 인식될 수 있다.\n",
    "\t- 천단위 구분(thousands=',')이라고 알려주면 컴마를 제거하고 숫자형으로 읽어온다."
   ]
  },
  {
   "cell_type": "code",
   "execution_count": 2,
   "metadata": {},
   "outputs": [
    {
     "data": {
      "text/html": [
       "<div>\n",
       "<style scoped>\n",
       "    .dataframe tbody tr th:only-of-type {\n",
       "        vertical-align: middle;\n",
       "    }\n",
       "\n",
       "    .dataframe tbody tr th {\n",
       "        vertical-align: top;\n",
       "    }\n",
       "\n",
       "    .dataframe thead th {\n",
       "        text-align: right;\n",
       "    }\n",
       "</style>\n",
       "<table border=\"1\" class=\"dataframe\">\n",
       "  <thead>\n",
       "    <tr style=\"text-align: right;\">\n",
       "      <th></th>\n",
       "      <th>구분</th>\n",
       "      <th>죄종</th>\n",
       "      <th>발생검거</th>\n",
       "      <th>건수</th>\n",
       "    </tr>\n",
       "  </thead>\n",
       "  <tbody>\n",
       "    <tr>\n",
       "      <th>0</th>\n",
       "      <td>중부</td>\n",
       "      <td>살인</td>\n",
       "      <td>발생</td>\n",
       "      <td>2.0</td>\n",
       "    </tr>\n",
       "    <tr>\n",
       "      <th>1</th>\n",
       "      <td>중부</td>\n",
       "      <td>살인</td>\n",
       "      <td>검거</td>\n",
       "      <td>2.0</td>\n",
       "    </tr>\n",
       "    <tr>\n",
       "      <th>2</th>\n",
       "      <td>중부</td>\n",
       "      <td>강도</td>\n",
       "      <td>발생</td>\n",
       "      <td>3.0</td>\n",
       "    </tr>\n",
       "    <tr>\n",
       "      <th>3</th>\n",
       "      <td>중부</td>\n",
       "      <td>강도</td>\n",
       "      <td>검거</td>\n",
       "      <td>3.0</td>\n",
       "    </tr>\n",
       "    <tr>\n",
       "      <th>4</th>\n",
       "      <td>중부</td>\n",
       "      <td>강간</td>\n",
       "      <td>발생</td>\n",
       "      <td>141.0</td>\n",
       "    </tr>\n",
       "  </tbody>\n",
       "</table>\n",
       "</div>"
      ],
      "text/plain": [
       "   구분  죄종 발생검거     건수\n",
       "0  중부  살인   발생    2.0\n",
       "1  중부  살인   검거    2.0\n",
       "2  중부  강도   발생    3.0\n",
       "3  중부  강도   검거    3.0\n",
       "4  중부  강간   발생  141.0"
      ]
     },
     "execution_count": 2,
     "metadata": {},
     "output_type": "execute_result"
    }
   ],
   "source": [
    "crime_raw_data = pd.read_csv(\"../data/02. crime_in_Seoul.csv\", thousands=',', encoding='euc-kr')\n",
    "crime_raw_data.head()"
   ]
  },
  {
   "cell_type": "markdown",
   "metadata": {},
   "source": [
    "#### 🔰 기본 정보 확인\n",
    "\n",
    "- `info()` 메서드로 데이터의 개요를 확인한다."
   ]
  },
  {
   "cell_type": "code",
   "execution_count": 3,
   "metadata": {},
   "outputs": [
    {
     "name": "stdout",
     "output_type": "stream",
     "text": [
      "<class 'pandas.core.frame.DataFrame'>\n",
      "RangeIndex: 65534 entries, 0 to 65533\n",
      "Data columns (total 4 columns):\n",
      " #   Column  Non-Null Count  Dtype  \n",
      "---  ------  --------------  -----  \n",
      " 0   구분      310 non-null    object \n",
      " 1   죄종      310 non-null    object \n",
      " 2   발생검거    310 non-null    object \n",
      " 3   건수      310 non-null    float64\n",
      "dtypes: float64(1), object(3)\n",
      "memory usage: 2.0+ MB\n"
     ]
    }
   ],
   "source": [
    "crime_raw_data.info()"
   ]
  },
  {
   "cell_type": "markdown",
   "metadata": {},
   "source": [
    "👆 RangeIndex: 65534 entries, 0 to 65533 </br>\n",
    "\n",
    "- 자료는 310개인데 인덱스가 6만개가 넘는다.\n",
    "\n",
    "- 특정 컬럼에서 unique 조사"
   ]
  },
  {
   "cell_type": "code",
   "execution_count": 4,
   "metadata": {},
   "outputs": [
    {
     "data": {
      "text/plain": [
       "array(['살인', '강도', '강간', '절도', '폭력', nan], dtype=object)"
      ]
     },
     "execution_count": 4,
     "metadata": {},
     "output_type": "execute_result"
    }
   ],
   "source": [
    "crime_raw_data[\"죄종\"].unique()"
   ]
  },
  {
   "cell_type": "markdown",
   "metadata": {},
   "source": [
    "👆 \"죄종\" 컬럼에 nan 값이 들어가 있음을 확인할 수 있다.\n",
    "\n",
    "- `isnull()` 메서드를 이용해 Value가 Null인지 아닌지 True, False로 결과를 출력해 본다."
   ]
  },
  {
   "cell_type": "code",
   "execution_count": 5,
   "metadata": {},
   "outputs": [
    {
     "data": {
      "text/plain": [
       "0        False\n",
       "1        False\n",
       "2        False\n",
       "3        False\n",
       "4        False\n",
       "         ...  \n",
       "65529     True\n",
       "65530     True\n",
       "65531     True\n",
       "65532     True\n",
       "65533     True\n",
       "Name: 죄종, Length: 65534, dtype: bool"
      ]
     },
     "execution_count": 5,
     "metadata": {},
     "output_type": "execute_result"
    }
   ],
   "source": [
    "crime_raw_data[\"죄종\"].isnull()"
   ]
  },
  {
   "cell_type": "markdown",
   "metadata": {},
   "source": [
    "- crime_raw_data로 마스킹을 씌워 True인 값들만 DataFrame형태로 출력한다."
   ]
  },
  {
   "cell_type": "code",
   "execution_count": 6,
   "metadata": {},
   "outputs": [
    {
     "data": {
      "text/html": [
       "<div>\n",
       "<style scoped>\n",
       "    .dataframe tbody tr th:only-of-type {\n",
       "        vertical-align: middle;\n",
       "    }\n",
       "\n",
       "    .dataframe tbody tr th {\n",
       "        vertical-align: top;\n",
       "    }\n",
       "\n",
       "    .dataframe thead th {\n",
       "        text-align: right;\n",
       "    }\n",
       "</style>\n",
       "<table border=\"1\" class=\"dataframe\">\n",
       "  <thead>\n",
       "    <tr style=\"text-align: right;\">\n",
       "      <th></th>\n",
       "      <th>구분</th>\n",
       "      <th>죄종</th>\n",
       "      <th>발생검거</th>\n",
       "      <th>건수</th>\n",
       "    </tr>\n",
       "  </thead>\n",
       "  <tbody>\n",
       "    <tr>\n",
       "      <th>310</th>\n",
       "      <td>NaN</td>\n",
       "      <td>NaN</td>\n",
       "      <td>NaN</td>\n",
       "      <td>NaN</td>\n",
       "    </tr>\n",
       "    <tr>\n",
       "      <th>311</th>\n",
       "      <td>NaN</td>\n",
       "      <td>NaN</td>\n",
       "      <td>NaN</td>\n",
       "      <td>NaN</td>\n",
       "    </tr>\n",
       "    <tr>\n",
       "      <th>312</th>\n",
       "      <td>NaN</td>\n",
       "      <td>NaN</td>\n",
       "      <td>NaN</td>\n",
       "      <td>NaN</td>\n",
       "    </tr>\n",
       "    <tr>\n",
       "      <th>313</th>\n",
       "      <td>NaN</td>\n",
       "      <td>NaN</td>\n",
       "      <td>NaN</td>\n",
       "      <td>NaN</td>\n",
       "    </tr>\n",
       "    <tr>\n",
       "      <th>314</th>\n",
       "      <td>NaN</td>\n",
       "      <td>NaN</td>\n",
       "      <td>NaN</td>\n",
       "      <td>NaN</td>\n",
       "    </tr>\n",
       "  </tbody>\n",
       "</table>\n",
       "</div>"
      ],
      "text/plain": [
       "      구분   죄종 발생검거  건수\n",
       "310  NaN  NaN  NaN NaN\n",
       "311  NaN  NaN  NaN NaN\n",
       "312  NaN  NaN  NaN NaN\n",
       "313  NaN  NaN  NaN NaN\n",
       "314  NaN  NaN  NaN NaN"
      ]
     },
     "execution_count": 6,
     "metadata": {},
     "output_type": "execute_result"
    }
   ],
   "source": [
    "crime_raw_data[crime_raw_data[\"죄종\"].isnull()].head()"
   ]
  },
  {
   "cell_type": "markdown",
   "metadata": {},
   "source": [
    "👆 Index [310]부터 NaN값으로 채워진 것을 확인할 수 있다.\n",
    "\n",
    "- 이럴 때는 NaN을 제거하는 것이 아니라 NaN값을 제외하고 필요한 데이터만 가져온다."
   ]
  },
  {
   "cell_type": "code",
   "execution_count": 7,
   "metadata": {},
   "outputs": [
    {
     "data": {
      "text/html": [
       "<div>\n",
       "<style scoped>\n",
       "    .dataframe tbody tr th:only-of-type {\n",
       "        vertical-align: middle;\n",
       "    }\n",
       "\n",
       "    .dataframe tbody tr th {\n",
       "        vertical-align: top;\n",
       "    }\n",
       "\n",
       "    .dataframe thead th {\n",
       "        text-align: right;\n",
       "    }\n",
       "</style>\n",
       "<table border=\"1\" class=\"dataframe\">\n",
       "  <thead>\n",
       "    <tr style=\"text-align: right;\">\n",
       "      <th></th>\n",
       "      <th>구분</th>\n",
       "      <th>죄종</th>\n",
       "      <th>발생검거</th>\n",
       "      <th>건수</th>\n",
       "    </tr>\n",
       "  </thead>\n",
       "  <tbody>\n",
       "    <tr>\n",
       "      <th>0</th>\n",
       "      <td>중부</td>\n",
       "      <td>살인</td>\n",
       "      <td>발생</td>\n",
       "      <td>2.0</td>\n",
       "    </tr>\n",
       "    <tr>\n",
       "      <th>1</th>\n",
       "      <td>중부</td>\n",
       "      <td>살인</td>\n",
       "      <td>검거</td>\n",
       "      <td>2.0</td>\n",
       "    </tr>\n",
       "    <tr>\n",
       "      <th>2</th>\n",
       "      <td>중부</td>\n",
       "      <td>강도</td>\n",
       "      <td>발생</td>\n",
       "      <td>3.0</td>\n",
       "    </tr>\n",
       "    <tr>\n",
       "      <th>3</th>\n",
       "      <td>중부</td>\n",
       "      <td>강도</td>\n",
       "      <td>검거</td>\n",
       "      <td>3.0</td>\n",
       "    </tr>\n",
       "    <tr>\n",
       "      <th>4</th>\n",
       "      <td>중부</td>\n",
       "      <td>강간</td>\n",
       "      <td>발생</td>\n",
       "      <td>141.0</td>\n",
       "    </tr>\n",
       "    <tr>\n",
       "      <th>...</th>\n",
       "      <td>...</td>\n",
       "      <td>...</td>\n",
       "      <td>...</td>\n",
       "      <td>...</td>\n",
       "    </tr>\n",
       "    <tr>\n",
       "      <th>305</th>\n",
       "      <td>수서</td>\n",
       "      <td>강간</td>\n",
       "      <td>검거</td>\n",
       "      <td>144.0</td>\n",
       "    </tr>\n",
       "    <tr>\n",
       "      <th>306</th>\n",
       "      <td>수서</td>\n",
       "      <td>절도</td>\n",
       "      <td>발생</td>\n",
       "      <td>1149.0</td>\n",
       "    </tr>\n",
       "    <tr>\n",
       "      <th>307</th>\n",
       "      <td>수서</td>\n",
       "      <td>절도</td>\n",
       "      <td>검거</td>\n",
       "      <td>789.0</td>\n",
       "    </tr>\n",
       "    <tr>\n",
       "      <th>308</th>\n",
       "      <td>수서</td>\n",
       "      <td>폭력</td>\n",
       "      <td>발생</td>\n",
       "      <td>1666.0</td>\n",
       "    </tr>\n",
       "    <tr>\n",
       "      <th>309</th>\n",
       "      <td>수서</td>\n",
       "      <td>폭력</td>\n",
       "      <td>검거</td>\n",
       "      <td>1431.0</td>\n",
       "    </tr>\n",
       "  </tbody>\n",
       "</table>\n",
       "<p>310 rows × 4 columns</p>\n",
       "</div>"
      ],
      "text/plain": [
       "     구분  죄종 발생검거      건수\n",
       "0    중부  살인   발생     2.0\n",
       "1    중부  살인   검거     2.0\n",
       "2    중부  강도   발생     3.0\n",
       "3    중부  강도   검거     3.0\n",
       "4    중부  강간   발생   141.0\n",
       "..   ..  ..  ...     ...\n",
       "305  수서  강간   검거   144.0\n",
       "306  수서  절도   발생  1149.0\n",
       "307  수서  절도   검거   789.0\n",
       "308  수서  폭력   발생  1666.0\n",
       "309  수서  폭력   검거  1431.0\n",
       "\n",
       "[310 rows x 4 columns]"
      ]
     },
     "execution_count": 7,
     "metadata": {},
     "output_type": "execute_result"
    }
   ],
   "source": [
    "crime_raw_data[crime_raw_data[\"죄종\"].notnull()]"
   ]
  },
  {
   "cell_type": "code",
   "execution_count": 11,
   "metadata": {},
   "outputs": [
    {
     "name": "stdout",
     "output_type": "stream",
     "text": [
      "<class 'pandas.core.frame.DataFrame'>\n",
      "Index: 310 entries, 0 to 309\n",
      "Data columns (total 4 columns):\n",
      " #   Column  Non-Null Count  Dtype  \n",
      "---  ------  --------------  -----  \n",
      " 0   구분      310 non-null    object \n",
      " 1   죄종      310 non-null    object \n",
      " 2   발생검거    310 non-null    object \n",
      " 3   건수      310 non-null    float64\n",
      "dtypes: float64(1), object(3)\n",
      "memory usage: 12.1+ KB\n"
     ]
    }
   ],
   "source": [
    "crime_raw_data = crime_raw_data[crime_raw_data[\"죄종\"].notnull()]\n",
    "crime_raw_data.info()"
   ]
  },
  {
   "cell_type": "markdown",
   "metadata": {},
   "source": [
    "👆 NaN을 정리하고 나니 데이터의 크기가 2MB에서 12.1KB가 되었다.\n",
    "\n",
    "- head()와 tail()로 값을 찍어 문제가 없는지 확인한다."
   ]
  },
  {
   "cell_type": "code",
   "execution_count": 12,
   "metadata": {},
   "outputs": [
    {
     "data": {
      "text/html": [
       "<div>\n",
       "<style scoped>\n",
       "    .dataframe tbody tr th:only-of-type {\n",
       "        vertical-align: middle;\n",
       "    }\n",
       "\n",
       "    .dataframe tbody tr th {\n",
       "        vertical-align: top;\n",
       "    }\n",
       "\n",
       "    .dataframe thead th {\n",
       "        text-align: right;\n",
       "    }\n",
       "</style>\n",
       "<table border=\"1\" class=\"dataframe\">\n",
       "  <thead>\n",
       "    <tr style=\"text-align: right;\">\n",
       "      <th></th>\n",
       "      <th>구분</th>\n",
       "      <th>죄종</th>\n",
       "      <th>발생검거</th>\n",
       "      <th>건수</th>\n",
       "    </tr>\n",
       "  </thead>\n",
       "  <tbody>\n",
       "    <tr>\n",
       "      <th>0</th>\n",
       "      <td>중부</td>\n",
       "      <td>살인</td>\n",
       "      <td>발생</td>\n",
       "      <td>2.0</td>\n",
       "    </tr>\n",
       "    <tr>\n",
       "      <th>1</th>\n",
       "      <td>중부</td>\n",
       "      <td>살인</td>\n",
       "      <td>검거</td>\n",
       "      <td>2.0</td>\n",
       "    </tr>\n",
       "    <tr>\n",
       "      <th>2</th>\n",
       "      <td>중부</td>\n",
       "      <td>강도</td>\n",
       "      <td>발생</td>\n",
       "      <td>3.0</td>\n",
       "    </tr>\n",
       "    <tr>\n",
       "      <th>3</th>\n",
       "      <td>중부</td>\n",
       "      <td>강도</td>\n",
       "      <td>검거</td>\n",
       "      <td>3.0</td>\n",
       "    </tr>\n",
       "    <tr>\n",
       "      <th>4</th>\n",
       "      <td>중부</td>\n",
       "      <td>강간</td>\n",
       "      <td>발생</td>\n",
       "      <td>141.0</td>\n",
       "    </tr>\n",
       "  </tbody>\n",
       "</table>\n",
       "</div>"
      ],
      "text/plain": [
       "   구분  죄종 발생검거     건수\n",
       "0  중부  살인   발생    2.0\n",
       "1  중부  살인   검거    2.0\n",
       "2  중부  강도   발생    3.0\n",
       "3  중부  강도   검거    3.0\n",
       "4  중부  강간   발생  141.0"
      ]
     },
     "execution_count": 12,
     "metadata": {},
     "output_type": "execute_result"
    }
   ],
   "source": [
    "crime_raw_data.head()"
   ]
  },
  {
   "cell_type": "code",
   "execution_count": 13,
   "metadata": {},
   "outputs": [
    {
     "data": {
      "text/html": [
       "<div>\n",
       "<style scoped>\n",
       "    .dataframe tbody tr th:only-of-type {\n",
       "        vertical-align: middle;\n",
       "    }\n",
       "\n",
       "    .dataframe tbody tr th {\n",
       "        vertical-align: top;\n",
       "    }\n",
       "\n",
       "    .dataframe thead th {\n",
       "        text-align: right;\n",
       "    }\n",
       "</style>\n",
       "<table border=\"1\" class=\"dataframe\">\n",
       "  <thead>\n",
       "    <tr style=\"text-align: right;\">\n",
       "      <th></th>\n",
       "      <th>구분</th>\n",
       "      <th>죄종</th>\n",
       "      <th>발생검거</th>\n",
       "      <th>건수</th>\n",
       "    </tr>\n",
       "  </thead>\n",
       "  <tbody>\n",
       "    <tr>\n",
       "      <th>305</th>\n",
       "      <td>수서</td>\n",
       "      <td>강간</td>\n",
       "      <td>검거</td>\n",
       "      <td>144.0</td>\n",
       "    </tr>\n",
       "    <tr>\n",
       "      <th>306</th>\n",
       "      <td>수서</td>\n",
       "      <td>절도</td>\n",
       "      <td>발생</td>\n",
       "      <td>1149.0</td>\n",
       "    </tr>\n",
       "    <tr>\n",
       "      <th>307</th>\n",
       "      <td>수서</td>\n",
       "      <td>절도</td>\n",
       "      <td>검거</td>\n",
       "      <td>789.0</td>\n",
       "    </tr>\n",
       "    <tr>\n",
       "      <th>308</th>\n",
       "      <td>수서</td>\n",
       "      <td>폭력</td>\n",
       "      <td>발생</td>\n",
       "      <td>1666.0</td>\n",
       "    </tr>\n",
       "    <tr>\n",
       "      <th>309</th>\n",
       "      <td>수서</td>\n",
       "      <td>폭력</td>\n",
       "      <td>검거</td>\n",
       "      <td>1431.0</td>\n",
       "    </tr>\n",
       "  </tbody>\n",
       "</table>\n",
       "</div>"
      ],
      "text/plain": [
       "     구분  죄종 발생검거      건수\n",
       "305  수서  강간   검거   144.0\n",
       "306  수서  절도   발생  1149.0\n",
       "307  수서  절도   검거   789.0\n",
       "308  수서  폭력   발생  1666.0\n",
       "309  수서  폭력   검거  1431.0"
      ]
     },
     "execution_count": 13,
     "metadata": {},
     "output_type": "execute_result"
    }
   ],
   "source": [
    "crime_raw_data.tail()"
   ]
  },
  {
   "cell_type": "markdown",
   "metadata": {},
   "source": [
    "- 이 데이터의 형태로는 의미있는 insight를 도출하기 어렵다.\n",
    "- 형태가 세로축에 서울기 구이름이 있고, 가로축에 5대 범죄 수치가 있으면 좋을 것같다.\n",
    "- 즉, 단순 나열된 데이터를 원하는 데이터 열로 재배치할 필요가 있다.\n",
    "\n",
    "- 이것을 쉽게 해주는 것이 Pandas의 `pivot_table`이다."
   ]
  },
  {
   "cell_type": "code",
   "execution_count": 16,
   "metadata": {},
   "outputs": [],
   "source": [
    "crime_raw_data.to_csv(\"./result_data/01_crime_raw_data.csv\", encoding='utf-8', index=False)"
   ]
  }
 ],
 "metadata": {
  "kernelspec": {
   "display_name": "ds_study",
   "language": "python",
   "name": "python3"
  },
  "language_info": {
   "codemirror_mode": {
    "name": "ipython",
    "version": 3
   },
   "file_extension": ".py",
   "mimetype": "text/x-python",
   "name": "python",
   "nbconvert_exporter": "python",
   "pygments_lexer": "ipython3",
   "version": "3.8.18"
  }
 },
 "nbformat": 4,
 "nbformat_minor": 2
}
