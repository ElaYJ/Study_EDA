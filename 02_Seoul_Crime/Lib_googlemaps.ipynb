{
 "cells": [
  {
   "cell_type": "markdown",
   "metadata": {},
   "source": [
    "# Google Maps API 설치\n",
    "\n",
    "- conda 명령어로 googlemaps 모듈 설치\n",
    "\t- conda install -c conda-forge googlemaps"
   ]
  },
  {
   "cell_type": "code",
   "execution_count": 4,
   "metadata": {},
   "outputs": [],
   "source": [
    "import googlemaps\n",
    "\n",
    "gmaps_key = \"\"\n",
    "gmaps = googlemaps.Client(key=gmaps_key)"
   ]
  },
  {
   "cell_type": "markdown",
   "metadata": {},
   "source": [
    "- 단순 테스트 코드\n",
    "\n",
    "\t-> 정상 설치되었다면 리스트로 위치 결과가 반환된다."
   ]
  },
  {
   "cell_type": "code",
   "execution_count": 33,
   "metadata": {},
   "outputs": [
    {
     "data": {
      "text/plain": [
       "[{'address_components': [{'long_name': '영등포구',\n",
       "    'short_name': '영등포구',\n",
       "    'types': ['political', 'sublocality', 'sublocality_level_1']},\n",
       "   {'long_name': '서울특별시',\n",
       "    'short_name': '서울특별시',\n",
       "    'types': ['administrative_area_level_1', 'political']},\n",
       "   {'long_name': '대한민국',\n",
       "    'short_name': 'KR',\n",
       "    'types': ['country', 'political']}],\n",
       "  'formatted_address': '대한민국 서울특별시 영등포구',\n",
       "  'geometry': {'bounds': {'northeast': {'lat': 37.556286, 'lng': 126.9498867},\n",
       "    'southwest': {'lat': 37.4850011, 'lng': 126.8779285}},\n",
       "   'location': {'lat': 37.5223245, 'lng': 126.9101692},\n",
       "   'location_type': 'APPROXIMATE',\n",
       "   'viewport': {'northeast': {'lat': 37.556286, 'lng': 126.9498867},\n",
       "    'southwest': {'lat': 37.4850011, 'lng': 126.8779285}}},\n",
       "  'partial_match': True,\n",
       "  'place_id': 'ChIJk_FAvx2ffDURQAuECsjy0Cw',\n",
       "  'types': ['political', 'sublocality', 'sublocality_level_1']}]"
      ]
     },
     "execution_count": 33,
     "metadata": {},
     "output_type": "execute_result"
    }
   ],
   "source": [
    "gmaps.geocode(\"영등포경찰서\", language=\"ko\")"
   ]
  },
  {
   "cell_type": "markdown",
   "metadata": {},
   "source": [
    "#### 🔰 구글맵 API에서 데이터 얻기\n",
    "\n",
    "- `geocode()` 함수는 전체 결과 크기가 1인 리스트 자료형을 반환한다.\n",
    "\n",
    "- 리스트 안에 하나의 큰 dict형으로 정보가 담겨있다.\n",
    "- index [0]으로 한 개밖에 없는 dict형 요소에 접근할 수 있다.\n",
    "- dict형에서 데이터를 얻는 get(__key) 메서드를 사용해 정보에 접근하다."
   ]
  },
  {
   "cell_type": "code",
   "execution_count": 34,
   "metadata": {},
   "outputs": [
    {
     "data": {
      "text/plain": [
       "[{'address_components': [{'long_name': '608',\n",
       "    'short_name': '608',\n",
       "    'types': ['premise']},\n",
       "   {'long_name': '국회대로',\n",
       "    'short_name': '국회대로',\n",
       "    'types': ['political', 'sublocality', 'sublocality_level_4']},\n",
       "   {'long_name': '영등포구',\n",
       "    'short_name': '영등포구',\n",
       "    'types': ['political', 'sublocality', 'sublocality_level_1']},\n",
       "   {'long_name': '서울특별시',\n",
       "    'short_name': '서울특별시',\n",
       "    'types': ['administrative_area_level_1', 'political']},\n",
       "   {'long_name': '대한민국',\n",
       "    'short_name': 'KR',\n",
       "    'types': ['country', 'political']},\n",
       "   {'long_name': '150-043',\n",
       "    'short_name': '150-043',\n",
       "    'types': ['postal_code']}],\n",
       "  'formatted_address': '대한민국 서울특별시 영등포구 국회대로 608',\n",
       "  'geometry': {'location': {'lat': 37.5260441, 'lng': 126.9008091},\n",
       "   'location_type': 'ROOFTOP',\n",
       "   'viewport': {'northeast': {'lat': 37.5273930802915,\n",
       "     'lng': 126.9021580802915},\n",
       "    'southwest': {'lat': 37.5246951197085, 'lng': 126.8994601197085}}},\n",
       "  'partial_match': True,\n",
       "  'place_id': 'ChIJ1TimJLaffDURptXOs0Tj6sY',\n",
       "  'plus_code': {'compound_code': 'GWG2+C8 대한민국 서울특별시',\n",
       "   'global_code': '8Q98GWG2+C8'},\n",
       "  'types': ['establishment', 'point_of_interest', 'police']}]"
      ]
     },
     "execution_count": 34,
     "metadata": {},
     "output_type": "execute_result"
    }
   ],
   "source": [
    "temp = gmaps.geocode(\"서울영등포경찰서\", language=\"ko\")\n",
    "temp"
   ]
  },
  {
   "cell_type": "code",
   "execution_count": 35,
   "metadata": {},
   "outputs": [
    {
     "data": {
      "text/plain": [
       "1"
      ]
     },
     "execution_count": 35,
     "metadata": {},
     "output_type": "execute_result"
    }
   ],
   "source": [
    "len(temp)"
   ]
  },
  {
   "cell_type": "code",
   "execution_count": 36,
   "metadata": {},
   "outputs": [
    {
     "data": {
      "text/plain": [
       "7"
      ]
     },
     "execution_count": 36,
     "metadata": {},
     "output_type": "execute_result"
    }
   ],
   "source": [
    "len(temp[0])"
   ]
  },
  {
   "cell_type": "code",
   "execution_count": 37,
   "metadata": {},
   "outputs": [
    {
     "data": {
      "text/plain": [
       "dict_keys(['address_components', 'formatted_address', 'geometry', 'partial_match', 'place_id', 'plus_code', 'types'])"
      ]
     },
     "execution_count": 37,
     "metadata": {},
     "output_type": "execute_result"
    }
   ],
   "source": [
    "temp[0].keys()"
   ]
  },
  {
   "cell_type": "markdown",
   "metadata": {},
   "source": [
    "- 필요한 정보를 가져온다.\n",
    "- 경찰서가 위치한 구 이름과 경찰서의 지도 상 위치 정보가 필요하다.\n",
    "\n",
    "\t- 'formatted_address': '대한민국 서울특별시 영등포구 국회대로 608',</br>\n",
    "\t'geometry': {'location': {'lat': 37.5260441, 'lng': 126.9008091}, ... }"
   ]
  },
  {
   "cell_type": "code",
   "execution_count": 38,
   "metadata": {},
   "outputs": [
    {
     "data": {
      "text/plain": [
       "{'location': {'lat': 37.5260441, 'lng': 126.9008091},\n",
       " 'location_type': 'ROOFTOP',\n",
       " 'viewport': {'northeast': {'lat': 37.5273930802915, 'lng': 126.9021580802915},\n",
       "  'southwest': {'lat': 37.5246951197085, 'lng': 126.8994601197085}}}"
      ]
     },
     "execution_count": 38,
     "metadata": {},
     "output_type": "execute_result"
    }
   ],
   "source": [
    "temp[0].get(\"geometry\")"
   ]
  },
  {
   "cell_type": "code",
   "execution_count": 39,
   "metadata": {},
   "outputs": [
    {
     "data": {
      "text/plain": [
       "{'lat': 37.5260441, 'lng': 126.9008091}"
      ]
     },
     "execution_count": 39,
     "metadata": {},
     "output_type": "execute_result"
    }
   ],
   "source": [
    "temp[0].get(\"geometry\")[\"location\"]"
   ]
  },
  {
   "cell_type": "code",
   "execution_count": 40,
   "metadata": {},
   "outputs": [
    {
     "data": {
      "text/plain": [
       "dict"
      ]
     },
     "execution_count": 40,
     "metadata": {},
     "output_type": "execute_result"
    }
   ],
   "source": [
    "type(temp[0].get(\"geometry\")[\"location\"])"
   ]
  },
  {
   "cell_type": "code",
   "execution_count": 41,
   "metadata": {},
   "outputs": [
    {
     "name": "stdout",
     "output_type": "stream",
     "text": [
      "37.5260441 126.9008091\n"
     ]
    }
   ],
   "source": [
    "print(\n",
    "\ttemp[0].get(\"geometry\")[\"location\"][\"lat\"], # latitude, 위도\n",
    "\ttemp[0].get(\"geometry\")[\"location\"][\"lng\"] # longitude, 경도\n",
    ")"
   ]
  },
  {
   "cell_type": "code",
   "execution_count": 42,
   "metadata": {},
   "outputs": [
    {
     "data": {
      "text/plain": [
       "'대한민국 서울특별시 영등포구 국회대로 608'"
      ]
     },
     "execution_count": 42,
     "metadata": {},
     "output_type": "execute_result"
    }
   ],
   "source": [
    "temp[0].get(\"formatted_address\")"
   ]
  },
  {
   "cell_type": "code",
   "execution_count": 43,
   "metadata": {},
   "outputs": [
    {
     "data": {
      "text/plain": [
       "['대한민국', '서울특별시', '영등포구', '국회대로', '608']"
      ]
     },
     "execution_count": 43,
     "metadata": {},
     "output_type": "execute_result"
    }
   ],
   "source": [
    "temp[0].get(\"formatted_address\").split()"
   ]
  },
  {
   "cell_type": "code",
   "execution_count": 44,
   "metadata": {},
   "outputs": [
    {
     "data": {
      "text/plain": [
       "'영등포구'"
      ]
     },
     "execution_count": 44,
     "metadata": {},
     "output_type": "execute_result"
    }
   ],
   "source": [
    "# 전체 주소에서 필요한 구 이름만 가져온다.\n",
    "\n",
    "temp[0].get(\"formatted_address\").split()[2]"
   ]
  }
 ],
 "metadata": {
  "kernelspec": {
   "display_name": "ds_study",
   "language": "python",
   "name": "python3"
  },
  "language_info": {
   "codemirror_mode": {
    "name": "ipython",
    "version": 3
   },
   "file_extension": ".py",
   "mimetype": "text/x-python",
   "name": "python",
   "nbconvert_exporter": "python",
   "pygments_lexer": "ipython3",
   "version": "3.8.18"
  }
 },
 "nbformat": 4,
 "nbformat_minor": 2
}
