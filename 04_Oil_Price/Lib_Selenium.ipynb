{
 "cells": [
  {
   "cell_type": "markdown",
   "metadata": {},
   "source": [
    "# Selenium\n",
    "\n",
    "- Beautiful Soup만으로 해결할 수 없는 것들이 있다.\n",
    "\n",
    "\t- 접근할 웹 주소를 알 수 없을 때 (로그인을 해야 한다거나...)\n",
    "\n",
    "\t- 웹페이지에서 자바스크립트를 사용하는 경우 (클릭을 해야하는 경우)\n",
    "\n",
    "\t- facebook, instagram, youtube 처럼 스크롤바를 내리면 계속 컨텐츠가 추가되는 동적 페이지\n",
    "\n",
    "\t- 티켓 예매처럼 날짜를 지정하고 자리를 지정하는 것처럼 웹 브라우저에서 조작이 필요한 경우\n",
    "\n",
    "</br>\n",
    "\n",
    "- Selenium은\n",
    "\n",
    "  - 웹 브라우저를 원격 조작하는 도구이다.\n",
    "\n",
    "  - 자동으로 URL을 열고 클릭 등을 가능하게 한다.\n",
    "\n",
    "  - 스크롤, 문자 입력, 화면 캡처 등등 다양한 기능을 가지고 있다.\n",
    "  "
   ]
  },
  {
   "cell_type": "markdown",
   "metadata": {},
   "source": [
    "### 🔰 셀레니움 설치\n",
    "\n",
    "- conda install selenium"
   ]
  },
  {
   "cell_type": "code",
   "execution_count": 40,
   "metadata": {},
   "outputs": [],
   "source": [
    "# !pip install selenium"
   ]
  },
  {
   "cell_type": "code",
   "execution_count": 1,
   "metadata": {},
   "outputs": [
    {
     "name": "stdout",
     "output_type": "stream",
     "text": [
      "selenium                  4.16.0\n"
     ]
    }
   ],
   "source": [
    "!pip list | findstr selenium"
   ]
  },
  {
   "cell_type": "code",
   "execution_count": 2,
   "metadata": {},
   "outputs": [
    {
     "name": "stdout",
     "output_type": "stream",
     "text": [
      "4.15.2\n"
     ]
    }
   ],
   "source": [
    "import selenium\n",
    "\n",
    "print(selenium.__version__)"
   ]
  },
  {
   "cell_type": "markdown",
   "metadata": {},
   "source": [
    "### 🔰 selenium webdriver 사용하기"
   ]
  },
  {
   "cell_type": "markdown",
   "metadata": {},
   "source": [
    "- `chromedriver`\n",
    "\n",
    "    - 크롬 버전 확인\n",
    "    - https://chromedriver.chromium.org/downloads\n",
    "\t\n",
    "    - 위에서 내 크롬 버전에 맞는 드라이버가 없다면 아래의 깃허브 주소로 들어가 download json파일에서 원하는 버전의 드라이버 다운로드 링크를 확인할 수 있다.\n",
    "    - https://github.com/GoogleChromeLabs/chrome-for-testing/blob/main/data/latest-versions-per-milestone-with-downloads.json"
   ]
  },
  {
   "cell_type": "code",
   "execution_count": 43,
   "metadata": {},
   "outputs": [],
   "source": [
    "# from selenium import webdriver\n",
    "\n",
    "# driver = webdriver.Chrome(\"../driver/chromedriver.exe\") # 크롬 드라이버 경로 지정 \n",
    "# --> AttributeError: 'str' object has no attribute 'capabilities'\n",
    "\n",
    "# driver.get(\"https://www.naver.com\") # get 명령으로 접근하고 싶은 주소 지정  "
   ]
  },
  {
   "cell_type": "markdown",
   "metadata": {},
   "source": [
    "- 수업 코드에서는 오류 발생(수업 코드는 더이상 실행되지 않음)\n",
    "\n",
    "- 참고 사이트 : https://dschloe.github.io/settings/2023/8/chrome_driver_settings_windows/"
   ]
  },
  {
   "cell_type": "code",
   "execution_count": 3,
   "metadata": {},
   "outputs": [],
   "source": [
    "from selenium import webdriver\n",
    "from selenium.webdriver.chrome.service import Service\n",
    "\n",
    "# Chrome WebDriver의 실행 파일 경로 지정\n",
    "chrome_driver_path = \"../chromedriver-win64/chromedriver.exe\"\n",
    "service = Service(executable_path=chrome_driver_path)\n",
    "options = webdriver.ChromeOptions()\n",
    "\n",
    "# Chrome WebDriver 인스턴스 생성 및 실행 파일 경로 지정\n",
    "driver = webdriver.Chrome(service=service, options=options)\n",
    "\n",
    "# get() 함수로 접근하려는 웹 주소 지정\n",
    "# driver.get() --> 빈 창이 열림\n",
    "driver.get(\"https://www.naver.com\")"
   ]
  },
  {
   "cell_type": "code",
   "execution_count": 4,
   "metadata": {},
   "outputs": [],
   "source": [
    "driver.quit()"
   ]
  },
  {
   "cell_type": "markdown",
   "metadata": {},
   "source": [
    "- `webdriver-manager`\n",
    "\n",
    "\t<p>\n",
    "\t위 방식은 하나의 치명적인 단점이 존재한다.</br>\n",
    "\t위의 코드는 매우 잘 작동하지만 Chrome이 새 버전으로 업그레이드될 때마다 ChromeDriver를 다시 다운로드해야 한다. 이 부분을 해결하고자 webdriver-manager 라이브러리가 나왔다.\n",
    "\t</p>\n",
    "\n",
    "  - pip install webdriver-manager"
   ]
  },
  {
   "cell_type": "code",
   "execution_count": 5,
   "metadata": {},
   "outputs": [],
   "source": [
    "from selenium import webdriver\n",
    "from selenium.webdriver.chrome.service import Service as ChromeService\n",
    "from webdriver_manager.chrome import ChromeDriverManager\n",
    "\n",
    "driver = webdriver.Chrome(service=ChromeService(ChromeDriverManager().install()))\n",
    "driver.get('https://www.naver.com/')"
   ]
  },
  {
   "cell_type": "code",
   "execution_count": 6,
   "metadata": {},
   "outputs": [],
   "source": [
    "driver.quit()"
   ]
  },
  {
   "cell_type": "markdown",
   "metadata": {},
   "source": [
    "</br>\n",
    "\n",
    "-----"
   ]
  },
  {
   "cell_type": "markdown",
   "metadata": {},
   "source": [
    "# Selenium Basic\n",
    "\n",
    "- 원래는 웹 브라우저 테스트용으로 만들어진 모듈이다.\n",
    "- 응용하여 웹 크롤링에 사용하는 것이다.\n",
    "\n",
    "- 공식문서 참고: https://www.selenium.dev/documentation/\n",
    "- https://selenium-python.readthedocs.io/locating-elements.html"
   ]
  },
  {
   "cell_type": "code",
   "execution_count": 82,
   "metadata": {},
   "outputs": [],
   "source": [
    "from selenium import webdriver\n",
    "from selenium.webdriver.chrome.service import Service\n",
    "\n",
    "chrome_driver_path = \"../chromedriver-win64/chromedriver.exe\"\n",
    "service = Service(executable_path=chrome_driver_path)\n",
    "options = webdriver.ChromeOptions()\n",
    "\n",
    "driver = webdriver.Chrome(service=service, options=options)\n",
    "driver.get(\"https://pinkwink.kr\")"
   ]
  },
  {
   "cell_type": "markdown",
   "metadata": {},
   "source": [
    "### 🔰 화면 크기 설정\n",
    "\n",
    "- 웹 크롤링하려는 데이터가 스크롤보다 위에 있어 창 화면에 보이지 않으면 에러가 날 수 있다.\n",
    "\n",
    "- 최대한 한 화면에 많은 데이터가 표시되는 것이 유리하다."
   ]
  },
  {
   "cell_type": "markdown",
   "metadata": {},
   "source": [
    "- 화면 최대화 설정"
   ]
  },
  {
   "cell_type": "code",
   "execution_count": 83,
   "metadata": {},
   "outputs": [],
   "source": [
    "driver.maximize_window()"
   ]
  },
  {
   "cell_type": "markdown",
   "metadata": {},
   "source": [
    "- 화면 최소화 설정"
   ]
  },
  {
   "cell_type": "code",
   "execution_count": 84,
   "metadata": {},
   "outputs": [],
   "source": [
    "driver.minimize_window()"
   ]
  },
  {
   "cell_type": "markdown",
   "metadata": {},
   "source": [
    "- 화면(브라우저 창) 크기 조절\n",
    "\n",
    "- 현재 driver로 열린 창(화면)에서만 액션을 취할 수 있다."
   ]
  },
  {
   "cell_type": "code",
   "execution_count": 85,
   "metadata": {},
   "outputs": [],
   "source": [
    "# driver.set_window_size(1920, 1080)\n",
    "driver.set_window_size(900, 1080)"
   ]
  },
  {
   "cell_type": "markdown",
   "metadata": {},
   "source": [
    "- 현재 화면(브라우저 창) 크기"
   ]
  },
  {
   "cell_type": "code",
   "execution_count": 86,
   "metadata": {},
   "outputs": [
    {
     "data": {
      "text/plain": [
       "{'width': 902, 'height': 976}"
      ]
     },
     "execution_count": 86,
     "metadata": {},
     "output_type": "execute_result"
    }
   ],
   "source": [
    "driver.get_window_size()"
   ]
  },
  {
   "cell_type": "code",
   "execution_count": 87,
   "metadata": {},
   "outputs": [
    {
     "data": {
      "text/plain": [
       "{'height': 976, 'width': 902, 'x': 8, 'y': 8}"
      ]
     },
     "execution_count": 87,
     "metadata": {},
     "output_type": "execute_result"
    }
   ],
   "source": [
    "driver.get_window_rect()"
   ]
  },
  {
   "cell_type": "markdown",
   "metadata": {},
   "source": [
    "- 새로 고침"
   ]
  },
  {
   "cell_type": "code",
   "execution_count": 88,
   "metadata": {},
   "outputs": [],
   "source": [
    "driver.refresh()"
   ]
  },
  {
   "cell_type": "markdown",
   "metadata": {},
   "source": [
    "- 뒤로 가기"
   ]
  },
  {
   "cell_type": "code",
   "execution_count": 89,
   "metadata": {},
   "outputs": [],
   "source": [
    "# 첫번째 게시글 클릭\n",
    "from selenium.webdriver.common.by import By\n",
    "\n",
    "driver.find_element(\n",
    "\tBy.CSS_SELECTOR, \"#content > div.cover-masonry > div > ul > li:nth-child(1)\"\n",
    ").click()"
   ]
  },
  {
   "cell_type": "code",
   "execution_count": 90,
   "metadata": {},
   "outputs": [],
   "source": [
    "driver.back()"
   ]
  },
  {
   "cell_type": "markdown",
   "metadata": {},
   "source": [
    "- 앞으로 가기"
   ]
  },
  {
   "cell_type": "code",
   "execution_count": 91,
   "metadata": {},
   "outputs": [],
   "source": [
    "driver.forward()"
   ]
  },
  {
   "cell_type": "code",
   "execution_count": 92,
   "metadata": {},
   "outputs": [],
   "source": [
    "# 홈화면으로 돌아가기\n",
    "driver.find_element(By.CSS_SELECTOR, \"#header > h1 > a\").click()"
   ]
  },
  {
   "cell_type": "markdown",
   "metadata": {},
   "source": [
    "### 🔰 Selenium Tag 명령어"
   ]
  },
  {
   "cell_type": "markdown",
   "metadata": {},
   "source": [
    "- `find_element`\n",
    "\n",
    "\t- find_element(By.CSS_SELECTOR, \"\") --> find, select_one \n",
    "\t- find_elements(By.CSS_SELECTOR, \"\") --> find_all, select"
   ]
  },
  {
   "cell_type": "markdown",
   "metadata": {},
   "source": [
    "- `CSS_SELECTOR`\n",
    "\n",
    "\t- `#` : id 속성을 의미\n",
    "\t- `.` : class 속성을 의미\n",
    "\t- `>` : 자식 태그, 바로 하위 태그를 의미"
   ]
  },
  {
   "cell_type": "markdown",
   "metadata": {},
   "source": [
    "- 클릭\n",
    "\n",
    "![selenium_click](https://github.com/ElaYJ/Study_EDA/assets/153154981/4be2b585-0c4e-406b-a014-8bf53924ae65)"
   ]
  },
  {
   "cell_type": "code",
   "execution_count": 93,
   "metadata": {},
   "outputs": [],
   "source": [
    "from selenium.webdriver.common.by import By\n",
    "\n",
    "first_content = driver.find_element(\n",
    "\tBy.CSS_SELECTOR, \"#content > div.cover-masonry > div > ul > li:nth-child(1)\"\n",
    ")\n",
    "first_content.click()"
   ]
  },
  {
   "cell_type": "markdown",
   "metadata": {},
   "source": [
    "### 🔰 탭 제어"
   ]
  },
  {
   "cell_type": "markdown",
   "metadata": {},
   "source": [
    "- 새로운 탭 생성\n",
    "\n",
    "\t- 자바스크립트 코드를 사용한다."
   ]
  },
  {
   "cell_type": "code",
   "execution_count": 18,
   "metadata": {},
   "outputs": [],
   "source": [
    "# 빈 페이시 생성\n",
    "driver.execute_script(\"window.open('');\")"
   ]
  },
  {
   "cell_type": "code",
   "execution_count": 19,
   "metadata": {},
   "outputs": [],
   "source": [
    "driver.execute_script('window.open(\"https://www.naver.com\");')"
   ]
  },
  {
   "cell_type": "markdown",
   "metadata": {},
   "source": [
    "- 탭 이동"
   ]
  },
  {
   "cell_type": "code",
   "execution_count": 20,
   "metadata": {},
   "outputs": [
    {
     "data": {
      "text/plain": [
       "3"
      ]
     },
     "execution_count": 20,
     "metadata": {},
     "output_type": "execute_result"
    }
   ],
   "source": [
    "len(driver.window_handles)"
   ]
  },
  {
   "cell_type": "code",
   "execution_count": 23,
   "metadata": {},
   "outputs": [],
   "source": [
    "driver.switch_to.window(driver.window_handles[1])"
   ]
  },
  {
   "cell_type": "markdown",
   "metadata": {},
   "source": [
    "- 탭 닫기\n",
    "\n",
    "\t- 현재 활성화 되어 있는 탭이 닫힌다."
   ]
  },
  {
   "cell_type": "code",
   "execution_count": 24,
   "metadata": {},
   "outputs": [],
   "source": [
    "driver.close()"
   ]
  },
  {
   "cell_type": "markdown",
   "metadata": {},
   "source": [
    "- 전체 창 닫기\n",
    "\n",
    "\t- close()나 quit() 함수로 닫지 않으면 크롬 창이 계속 열린 상태로 존재하게 된다."
   ]
  },
  {
   "cell_type": "code",
   "execution_count": 94,
   "metadata": {},
   "outputs": [],
   "source": [
    "driver.quit()"
   ]
  },
  {
   "cell_type": "markdown",
   "metadata": {},
   "source": [
    "### 🔰 화면 스크롤\n",
    "\n",
    "- 자바스크립트 코드를 활용한다.\n",
    "\n",
    "- 참고 : https://hello-bryan.tistory.com/194"
   ]
  },
  {
   "cell_type": "markdown",
   "metadata": {},
   "source": [
    "- 스크롤 가능한 높이\n",
    "\n",
    "\t- 자바스크립트 코드를 실행해서 스크롤 가능한 높이를 가져온다.\n",
    "\n",
    "\t- `\"return document.body.scrollHeight\"`\n",
    "\t\n",
    "\t\t- html document내 \\<body>에서 스크롤 가능한 높이(길이)를 반환해줘"
   ]
  },
  {
   "cell_type": "code",
   "execution_count": 27,
   "metadata": {},
   "outputs": [
    {
     "data": {
      "text/plain": [
       "5662"
      ]
     },
     "execution_count": 27,
     "metadata": {},
     "output_type": "execute_result"
    }
   ],
   "source": [
    "last_height = driver.execute_script(\"return document.body.scrollHeight\")\n",
    "last_height"
   ]
  },
  {
   "cell_type": "markdown",
   "metadata": {},
   "source": [
    "- 스크롤 화면 하단으로 이동"
   ]
  },
  {
   "cell_type": "code",
   "execution_count": 28,
   "metadata": {},
   "outputs": [],
   "source": [
    "driver.execute_script(\"window.scrollTo(0, document.body.scrollHeight);\")"
   ]
  },
  {
   "cell_type": "markdown",
   "metadata": {},
   "source": [
    "- 스크롤 화면 상단으로 이동"
   ]
  },
  {
   "cell_type": "code",
   "execution_count": 29,
   "metadata": {},
   "outputs": [],
   "source": [
    "driver.execute_script(\"window.scrollTo(0, 0);\")"
   ]
  },
  {
   "cell_type": "markdown",
   "metadata": {},
   "source": [
    "- 스크린샷"
   ]
  },
  {
   "cell_type": "code",
   "execution_count": 30,
   "metadata": {},
   "outputs": [
    {
     "data": {
      "text/plain": [
       "True"
      ]
     },
     "execution_count": 30,
     "metadata": {},
     "output_type": "execute_result"
    }
   ],
   "source": [
    "driver.save_screenshot(\"./result_data/lib_selenium_screenshot.png\")"
   ]
  },
  {
   "cell_type": "markdown",
   "metadata": {},
   "source": [
    "- `ActionChanins`\n",
    "  \n",
    "    - 참고 문서 : https://selenium-python.readthedocs.io/api.html#module-selenium.webdriver.common.action_chains"
   ]
  },
  {
   "cell_type": "markdown",
   "metadata": {},
   "source": [
    "- 특정 태그 지점까지 스크롤 이동\n",
    "\n",
    "![selenium_actionchains_scroll](https://github.com/ElaYJ/Study_EDA/assets/153154981/fa699fa0-cac8-474f-a702-eaf66adb519e)"
   ]
  },
  {
   "cell_type": "code",
   "execution_count": 33,
   "metadata": {},
   "outputs": [
    {
     "data": {
      "text/plain": [
       "<selenium.webdriver.remote.webelement.WebElement (session=\"c7c17e3fdad6657f2a77a2e5657361a0\", element=\"0D69837544E44CF20A6FB29BE46F5238_element_751\")>"
      ]
     },
     "execution_count": 33,
     "metadata": {},
     "output_type": "execute_result"
    }
   ],
   "source": [
    "driver.find_element(By.CSS_SELECTOR, \"#content > div.cover-list > div > ul > li:nth-child(1)\")"
   ]
  },
  {
   "cell_type": "code",
   "execution_count": 32,
   "metadata": {},
   "outputs": [],
   "source": [
    "from selenium.webdriver import ActionChains\n",
    "\n",
    "action = ActionChains(driver)\n",
    "\n",
    "some_tag = driver.find_element(By.CSS_SELECTOR, \"#content > div.cover-list > div > ul > li:nth-child(1)\")\n",
    "action.move_to_element(some_tag).perform()"
   ]
  },
  {
   "cell_type": "code",
   "execution_count": 34,
   "metadata": {},
   "outputs": [],
   "source": [
    "driver.quit()"
   ]
  },
  {
   "cell_type": "markdown",
   "metadata": {},
   "source": [
    "### 🔰 검색어 입력"
   ]
  },
  {
   "cell_type": "code",
   "execution_count": 35,
   "metadata": {},
   "outputs": [],
   "source": [
    "from selenium.webdriver.chrome.service import Service\n",
    "from selenium import webdriver\n",
    "\n",
    "chrome_driver_path = \"../chromedriver-win64/chromedriver.exe\"\n",
    "service = Service(executable_path=chrome_driver_path)\n",
    "options = webdriver.ChromeOptions()\n",
    "\n",
    "driver = webdriver.Chrome(options=options, service=service)\n",
    "\n",
    "driver.get(\"https://www.naver.com\")"
   ]
  },
  {
   "cell_type": "code",
   "execution_count": 40,
   "metadata": {},
   "outputs": [
    {
     "data": {
      "text/plain": [
       "{'height': 1080, 'width': 1200, 'x': 3068, 'y': 235}"
      ]
     },
     "execution_count": 40,
     "metadata": {},
     "output_type": "execute_result"
    }
   ],
   "source": [
    "# {'height': 1080, 'width': 900, 'x': 3368, 'y': 236}\n",
    "driver.set_window_rect(x=3068, y=235, width=1200, height=1080)"
   ]
  },
  {
   "cell_type": "markdown",
   "metadata": {},
   "source": [
    "- 입력 창에 글자 넣기 \n",
    "\n",
    "    - 화면에 입력 창이 보이지 않으면 입력할 수 없다.\n",
    "\t\n",
    "![selenium_search_input_text](https://github.com/ElaYJ/Study_EDA/assets/153154981/3a6cb3b3-65bf-49f9-b13f-e2036a6f9547)"
   ]
  },
  {
   "cell_type": "markdown",
   "metadata": {},
   "source": [
    "- 네이버 검색창에 검색어 입력"
   ]
  },
  {
   "cell_type": "code",
   "execution_count": 41,
   "metadata": {},
   "outputs": [],
   "source": [
    "keyword = driver.find_element(By.CSS_SELECTOR, \"#query\")\n",
    "keyword.send_keys(\"파이썬\")"
   ]
  },
  {
   "cell_type": "markdown",
   "metadata": {},
   "source": [
    "- 찾기(돋보기) 버튼 클릭"
   ]
  },
  {
   "cell_type": "code",
   "execution_count": 42,
   "metadata": {},
   "outputs": [],
   "source": [
    "search_btn = driver.find_element(By.CSS_SELECTOR, \"#sform > fieldset > button\")\n",
    "search_btn.click()"
   ]
  },
  {
   "cell_type": "markdown",
   "metadata": {},
   "source": [
    "- 새로 입력하면 뒤에 추가로 붙음"
   ]
  },
  {
   "cell_type": "code",
   "execution_count": 44,
   "metadata": {},
   "outputs": [],
   "source": [
    "driver.back()"
   ]
  },
  {
   "cell_type": "code",
   "execution_count": 46,
   "metadata": {},
   "outputs": [],
   "source": [
    "keyword = driver.find_element(By.CSS_SELECTOR, \"#query\")\n",
    "keyword.send_keys(\"파이썬\")"
   ]
  },
  {
   "cell_type": "code",
   "execution_count": 47,
   "metadata": {},
   "outputs": [],
   "source": [
    "keyword.send_keys(\"딥러닝\")"
   ]
  },
  {
   "cell_type": "markdown",
   "metadata": {},
   "source": [
    "- 초기화 후 검색어 입력"
   ]
  },
  {
   "cell_type": "code",
   "execution_count": 48,
   "metadata": {},
   "outputs": [],
   "source": [
    "keyword.clear()\n",
    "keyword.send_keys(\"python\")"
   ]
  },
  {
   "cell_type": "code",
   "execution_count": 49,
   "metadata": {},
   "outputs": [],
   "source": [
    "keyword.clear()"
   ]
  },
  {
   "cell_type": "markdown",
   "metadata": {},
   "source": [
    "- `XPATH`\n",
    "\n",
    "    - XML Path Language\n",
    "    \n",
    "    - CSS_SELECTOR와 완전 동일한 기능\n",
    "\n",
    "    - xpath는 beautifulsoup4에서 사용할 수 없다.\n",
    "    - 오직 selenium에서만 활용가능한다.\n",
    "\n",
    "    - xpath를 이용할 때는 작은 따옴표를 사용할 것!\n",
    "\n",
    "    </br>\n",
    "    \n",
    "    - `//`: 찾고자 하는 태그(id=\"query\")의 최상위\n",
    "\n",
    "    - `*`: 자손 태그(하위 태그들) 검색 => div, form\n",
    "\n",
    "    - `/`: 자식 태그(한칸 바로 아래 태그) 검색 => div > form\n",
    "\n",
    "    - `div[2]`: div 중에서 2번째 태그"
   ]
  },
  {
   "cell_type": "code",
   "execution_count": 50,
   "metadata": {},
   "outputs": [],
   "source": [
    "driver.find_element(By.XPATH, '//*[@id=\"query\"]').send_keys(\"xpath\")"
   ]
  },
  {
   "cell_type": "code",
   "execution_count": 51,
   "metadata": {},
   "outputs": [],
   "source": [
    "driver.find_element(By.XPATH, '//*[@id=\"sform\"]/fieldset/button').click()"
   ]
  },
  {
   "cell_type": "code",
   "execution_count": 57,
   "metadata": {},
   "outputs": [],
   "source": [
    "driver.quit()"
   ]
  },
  {
   "cell_type": "code",
   "execution_count": 58,
   "metadata": {},
   "outputs": [],
   "source": [
    "chrome_driver_path = \"../chromedriver-win64/chromedriver.exe\"\n",
    "service = Service(executable_path=chrome_driver_path)\n",
    "options = webdriver.ChromeOptions()\n",
    "\n",
    "driver = webdriver.Chrome(options=options, service=service)\n",
    "driver.get(\"https://pinkwink.kr\")"
   ]
  },
  {
   "cell_type": "code",
   "execution_count": 65,
   "metadata": {},
   "outputs": [],
   "source": [
    "driver.set_window_position(x=3268, y=235)\n",
    "driver.set_window_size(width=1000, height=1080)"
   ]
  },
  {
   "cell_type": "markdown",
   "metadata": {},
   "source": [
    "- 동적 페이지\n",
    "\n",
    "\t- \\<div class=\"search\"> --> \\<div class=\"search on\">\n",
    "\n",
    "![selenium_search_dynamic_page](https://github.com/ElaYJ/Study_EDA/assets/153154981/ba243327-630b-40ce-860f-a17c1d093ce6)"
   ]
  },
  {
   "cell_type": "code",
   "execution_count": 72,
   "metadata": {},
   "outputs": [],
   "source": [
    "# 1. 돋보기 버튼 선택 : 동적 페이지\n",
    "\n",
    "from selenium.webdriver import ActionChains\n",
    "\n",
    "action = ActionChains(driver=driver)\n",
    "\n",
    "search_tag = driver.find_element(By.CSS_SELECTOR, \"#header > div.search\")\n",
    "action.click(search_tag)\n",
    "action.perform()"
   ]
  },
  {
   "cell_type": "code",
   "execution_count": 73,
   "metadata": {},
   "outputs": [],
   "source": [
    "# 2. 검색어 입력\n",
    "driver.find_element(By.CSS_SELECTOR, \"#header > div.search.on > input[type=text]\").send_keys(\"딥러닝\")"
   ]
  },
  {
   "cell_type": "code",
   "execution_count": 74,
   "metadata": {},
   "outputs": [],
   "source": [
    "# 3. 검색 버튼 클릭\n",
    "driver.find_element(By.CSS_SELECTOR, \"#header > div.search.on > button\").click()"
   ]
  },
  {
   "cell_type": "markdown",
   "metadata": {},
   "source": [
    "</br>\n",
    "\n",
    "-----"
   ]
  },
  {
   "cell_type": "markdown",
   "metadata": {},
   "source": [
    "# Selenium + BeautifulSoup"
   ]
  },
  {
   "cell_type": "code",
   "execution_count": 75,
   "metadata": {},
   "outputs": [],
   "source": [
    "from bs4 import BeautifulSoup\n",
    "\n",
    "req = driver.page_source\n",
    "soup = BeautifulSoup(req, \"html.parser\")"
   ]
  },
  {
   "cell_type": "markdown",
   "metadata": {},
   "source": [
    "- 현재 화면의 html 코드 가져오기"
   ]
  },
  {
   "cell_type": "code",
   "execution_count": null,
   "metadata": {},
   "outputs": [],
   "source": [
    "driver.page_source"
   ]
  },
  {
   "cell_type": "markdown",
   "metadata": {},
   "source": [
    "- 위에서 실행한 \"딥러닝\" 검색 결과 창에서 포스트 가져오기\n",
    "\n",
    "![selenium_beautifulsoup](https://github.com/ElaYJ/Study_EDA/assets/153154981/63e98919-6552-4186-a3a2-1832f983ff08)"
   ]
  },
  {
   "cell_type": "code",
   "execution_count": 78,
   "metadata": {},
   "outputs": [
    {
     "data": {
      "text/plain": [
       "[<div class=\"post-item\">\n",
       " <a href=\"/1447\">\n",
       " <span class=\"thum\">\n",
       " <img alt=\"\" src=\"//i1.daumcdn.net/thumb/C264x200/?fname=https://blog.kakaocdn.net/dn/vYGHl/btsz9AzkVLv/XEDuxw2WIn0DdpF0IcPrz0/img.png\"/>\n",
       " </span>\n",
       " <span class=\"title\">핑크랩이 데이원컴퍼니의 제로베이스에 데이터분석 과정 수업 개발에 참여했습니다.</span>\n",
       " <span class=\"date\">2023. 11. 12. 19:52</span>\n",
       " <span class=\"excerpt\">일단, 워낙 데이원컴퍼니의 고유명사처럼 인식되는 패스트캠퍼스부터 시작해야겠네요. 저는 회사이름도 패스트캠퍼스이던 시절, 그 분들이 흔히들 신사역 반지하 시절이라고 이야기하는 시절에 처음 인연을 맺엇습니다. 그 후 패스트캠퍼스는 2021년 사내 회사의 개념으로 CIC(Company In Compayny) 제도로 본사 이름을 데이원컴퍼니, 그리고, 각 CIC 중에 기존의 패스트캠퍼스와 스노우볼, 레모네이드, 콜로서를 두었습니다. 데이원컴퍼니는 이상한 변호사 우영우의 촬영지로 유명한 센터필드에 입주해있으며, 처음 2014년 혹은 2015년부터 2019년까지 누적매출 천억을 성인 교육으로 돌파한 대단한 이력의 회사입니다. 아무튼 우리가 자주 패스트캠퍼스라고 이야기하는 회사는 데이원컴퍼니가 되었고, 그 중 한 C..</span>\n",
       " </a>\n",
       " </div>,\n",
       " <div class=\"post-item\">\n",
       " <a href=\"/1446\">\n",
       " <span class=\"thum\">\n",
       " <img alt=\"\" src=\"//i1.daumcdn.net/thumb/C264x200/?fname=https://blog.kakaocdn.net/dn/nWJOK/btsAc2O4tOi/3CKxe7CnJXCgUNpyBgCyb1/img.png\"/>\n",
       " </span>\n",
       " <span class=\"title\">핑크랩이 아트센터 나비와 서울대 UX랩에 기술적 지원 프로젝트를 진행했습니다. ESP32, UWB 등을 활용한 공간 위치인식 및 음성 전송</span>\n",
       " <span class=\"date\">2023. 11. 12. 13:43</span>\n",
       " <span class=\"excerpt\">작년에 저는 아트센터 나비와 서울대 UX랩 분들을 대상으로 인력 양성 사업의 일종으로 아두이노 등 HW관련 수업을 진행했습니다. 그 인연으로 이번에 핑크랩이 ESP32, UWB 등을 활용한 공간 위치인식 및 음성 전송 관련된 프로젝트를 살짝 진행했습니다. 배경 https://pinkwink.kr/1418 아트센터 나비에서 예술쪽 분들에게 아두이노 교육을 진행했습니다. 시작은 작년인 2022년 10월부터입니다. 어떤때는 일주에 한번, 또 어떤때는 2~3주 걸러 한 번씩 금요일마다 오후에 진행되었습니다. 처음 이 건을 의뢰해 주신 분은 한국로봇융합연구원이었습니다 pinkwink.kr 이때 여러 대화중에 무언가 큰~~~~ 계획을 하시는 두 기관의 연구원들께서 프로젝트 진행의 부스트업, 진행속도의 가속력(^^)..</span>\n",
       " </a>\n",
       " </div>,\n",
       " <div class=\"post-item\">\n",
       " <a href=\"/1442\">\n",
       " <span class=\"thum\">\n",
       " <img alt=\"\" src=\"//i1.daumcdn.net/thumb/C264x200/?fname=https://blog.kakaocdn.net/dn/mqswu/btszojRvW84/iUyoT3foutdwx8x0vWDN7k/img.png\"/>\n",
       " </span>\n",
       " <span class=\"title\">핑크랩이 2023년 여름. 서울로봇아카데미의 교육을 진행했습니다.</span>\n",
       " <span class=\"date\">2023. 10. 29. 09:30</span>\n",
       " <span class=\"excerpt\">올해 2023년도 이제 2개월이 남았네요. 이런 느낌으로 한 해의 끝을 바라보는 것이 벌써 수십년째(헉.ㅠㅠ. 세월...)인데 여전히 한 해에 대한 아쉬움이 남습니다. 그러나 저와 저희 핑크랩(PinkLAB)은 23년을 정말 열심히 살았습니다. 그 중 여름에 진행한 서울로봇아카데미의 한 과정이 기억에 남습니다. 그 과정을 소개하려고 합니다. 핑크랩이 진행한 서울로봇아카데미 과정 서울로봇 아카데미는 서울시가 운영하는 로봇 교육 기관입니다. 서울로봇아카데미는 서울시의 위탁을 받아, 한국로봇산업협회와 한국로봇융합연구원이 서울로봇아카데미를 위탁 운영합니다. 그러니까 서울시가 주최기관이고, 한국로봇산업협회와 한국로봇융합연구원이 주관기관인거죠. 23년 여름에는 위 그림처럼 4개의 과정이 개설되었습니다. 그 중에서 ..</span>\n",
       " </a>\n",
       " </div>,\n",
       " <div class=\"post-item\">\n",
       " <a href=\"/1431\">\n",
       " <span class=\"thum\">\n",
       " <img alt=\"\" src=\"//i1.daumcdn.net/thumb/C264x200/?fname=https://blog.kakaocdn.net/dn/J0V5K/btsoRx1SeGy/C4GQywG2o9ZqX3KgfpfjV1/img.png\"/>\n",
       " </span>\n",
       " <span class=\"title\">[수강생 프로젝트 소개] 행동 인지 예측 모델을 이용한 불량 제품 검수 모델 개발</span>\n",
       " <span class=\"date\">2023. 7. 26. 08:10</span>\n",
       " <span class=\"excerpt\">안녕하세요. 이번에도 제가 제로베이스 데이터사이언스 스쿨에서 수업을 진행한 팀의 업적(?)을 도 하나 소개하려고 합니다. 이번 팀은 작업의 절차를 인식하려고 노력한 팀입니다. 물건을 놓아라, 돌려라 등의 행동을 인식해서 모델이 작업자가 가이드에 맞춰 잘 작업을 진행하고 있는지 그리고 대상 물건은 정상인지 등을 확인하는 모델을 만들려는 것입니다. 먼저 인지해야하는 행동 등을 정의를 내렸습니다. 그리고 불량 제품도 선정하구요. 이번 팀은 YOLO로 물체 인식, 미디어파이프로 Pose 인식, 그리고 인식된 pose를 이용해서 행동을 인식하는 것은 LSTM을 사용했습니다. 여러 상황을 조금 가정하고 진행을 했습니다. 단순한 행동이긴 하지만, \"돌려라\"의 행동을 인식하는 것은 단순히 한 장의 사진으로 되는 것이 ..</span>\n",
       " </a>\n",
       " </div>,\n",
       " <div class=\"post-item\">\n",
       " <a href=\"/1427\">\n",
       " <span class=\"thum\">\n",
       " <img alt=\"\" src=\"//i1.daumcdn.net/thumb/C264x200/?fname=https://blog.kakaocdn.net/dn/mZyxa/btskllcT9gn/RncR5K8s9eJ03JkKaexNaK/img.png\"/>\n",
       " </span>\n",
       " <span class=\"title\">영상 인식에 필요한 기초 기법 간편 정리 - ArUCo Marker, YOLO 등</span>\n",
       " <span class=\"date\">2023. 6. 19. 09:11</span>\n",
       " <span class=\"excerpt\">이번에는 로봇에서 영상인식, 혹은 간단한 프로젝트에서 영상을 인식하는 부분에 대해 간단히 정리해서 유투브에 올렸습니다. 여러가지를 모두 다루면 좋겠지만, 윈도우 환경에서 설명을 했고, OpenCV 기초, ArUCo Marker 이야기, YOLO, YOLO를 위한 라벨링 작업등을 초~간단하게 설명했습니다. 먼저 아래 링크는 영상 전체의 재생목록입니다. https://www.youtube.com/playlist?list=PL83j7f4UkozEKBsOgKNEy79w5ClNMtxSF 영상 인식에 필요한 기법 간편 정리 이번에는 로봇에서 영상인식, 혹은 간단한 프로젝트에서 영상을 인식하는 부분에 대해 간단히 정리해서 유투브에 올렸습니다. 여러가지를 모두 다루면 좋겠지만, 윈도우 환경에서 설명을 했고, www.y..</span>\n",
       " </a>\n",
       " </div>,\n",
       " <div class=\"post-item\">\n",
       " <a href=\"/1426\">\n",
       " <span class=\"thum\">\n",
       " <img alt=\"\" src=\"//i1.daumcdn.net/thumb/C264x200/?fname=https://blog.kakaocdn.net/dn/bpcaLp/btsjlEE1g6j/ytddI9gaz4lkPBsz6A5RVK/img.png\"/>\n",
       " </span>\n",
       " <span class=\"title\">[수강생 프로젝트 소개] 리뷰 분석 및 리뷰 가치 평가</span>\n",
       " <span class=\"date\">2023. 6. 12. 08:00</span>\n",
       " <span class=\"excerpt\">이번에 소개해 드릴 프로젝트는 제가 전임강사로 있는 제로베이스의 한 수강생들의 프로젝트입니다. 제로베이스의 수업은 저와 본격적으로 만나게 되는 프로젝트 단계까지 도착하시는 분들이 여러 사정으로 비율로는 낮게 오시는데요. 그 일련의 과정을 버티고 버텨서 도착하신 분들이라 꽤 수준 높은 프로젝트를 진행할 때가 많습니다. 이번에 소개해드릴 팀도 재미있는 프로젝트를 멋지게 수행한 팀 중 한 팀입니다. 개요 제목을 귀여운 공격적 스타일(^?^)로 잘 뽑은 것 같습니다. 그러나 제목에서 하고자 하는 일이 바로 들어나죠. 쇼핑몰의 상품에 달린 리뷰의 사진이 올바르게 찍혔냐는 부분을 검증하는 것으로 보시면 됩니다. 네 위 그림에서 보여주듯이, 좋은 리뷰에게 좋은 보상을 하도록 해서 리뷰 시스템을 건전하게 만들겠다는 것..</span>\n",
       " </a>\n",
       " </div>,\n",
       " <div class=\"post-item\">\n",
       " <a href=\"/1423\">\n",
       " <span class=\"thum\">\n",
       " <img alt=\"\" src=\"//i1.daumcdn.net/thumb/C264x200/?fname=https://blog.kakaocdn.net/dn/b2u9XJ/btsgpYNip1p/4ArmaU8DKLL6EkhVlXMn2K/img.png\"/>\n",
       " </span>\n",
       " <span class=\"title\">핑크랩이 진행한 H Mobility 해커톤 대회 이야기</span>\n",
       " <span class=\"date\">2023. 5. 18. 17:44</span>\n",
       " <span class=\"excerpt\">작년 11월에 저희 핑크랩이 현대자동차의 H-Mobility 해커톤 대회를 진행하게 되었다고 하고, 첫 행사를 진행한 후 글을 올렸었습니다. 그리고 애초 계약했던 두 번째 행사를 지난 주 주말, 5월 13일 14일에 진행해서 이제 전체 진행을 마쳤습니다. 대회의 주제 자체는 지난번 글에서 다루어서 아래 글을 보시고, 오늘은 저와 저희 팀 - 핑크랩의 이야기를 해보려고 합니다. 해커톤을 어떻게 준비해 갔는지를 이야기를 해볼까 합니다. https://pinkwink.kr/1400 22년 11월 H-Mobility Robotics 해커톤 대회를 마쳤습니다 얼마전에 저희 핑크랩이 현대 H 모빌리티 로보틱스 해커톤 대회를 연다고 했었는데요. https://pinkwink.kr/1397 핑크랩이 H-Mobility..</span>\n",
       " </a>\n",
       " </div>,\n",
       " <div class=\"post-item\">\n",
       " <a href=\"/1421\">\n",
       " <span class=\"thum\">\n",
       " <img alt=\"\" src=\"//i1.daumcdn.net/thumb/C264x200/?fname=https://blog.kakaocdn.net/dn/mRax9/btsc1u1UlQl/dgpqyFQtJ2f27FKr0SXu31/img.png\"/>\n",
       " </span>\n",
       " <span class=\"title\">[수강생 프로젝트 소개] 자율주행 로봇 SW 개발 - 차선인식, 장애물 회피, SLAM, ROS2</span>\n",
       " <span class=\"date\">2023. 4. 28. 08:00</span>\n",
       " <span class=\"excerpt\">최근 저는 정말 바쁜 날을 보내고 있습니다. 그 와중에 그래도 소개할 팀은 또 소개해야죠?^^ 이번에 소개할 팀의 결과물은 저에게 딥러닝과 ROS2 등의 수업을 시작한지 대략 5개월이 되던 시점에 시작한 프로젝트의 결과입니다. 처음에는 어미로봇이 아가로봇(^^)들을 데리고 실외를 주행한 다음 실내에서는 아가로봇들이 동작하는 컨셉이었습니다. 그러나 배우는 단계의 학생들이라 자금의 여력이 충분치 않아서 안타깝게도 많이 생략해야 했던 ... 슬픔이 있습니다. 그래도 저는 이 팀이 잘했다 싶은 것은 스스로 수행한 일들이 아래와 같기 때문입니다. 차선 인식을 하기 위한 segmentation 모델 학습 인식된 차선으로 로봇 기동하기 차선 위의 장애물을 감지하고 회피 기동하기 ROS2 slam을 이용해서 맵빌딩하고..</span>\n",
       " </a>\n",
       " </div>]"
      ]
     },
     "execution_count": 78,
     "metadata": {},
     "output_type": "execute_result"
    }
   ],
   "source": [
    "contents = soup.select(\".post-item\")\n",
    "contents"
   ]
  },
  {
   "cell_type": "code",
   "execution_count": 79,
   "metadata": {},
   "outputs": [
    {
     "data": {
      "text/plain": [
       "8"
      ]
     },
     "execution_count": 79,
     "metadata": {},
     "output_type": "execute_result"
    }
   ],
   "source": [
    "len(contents)"
   ]
  },
  {
   "cell_type": "code",
   "execution_count": 80,
   "metadata": {},
   "outputs": [
    {
     "data": {
      "text/plain": [
       "<div class=\"post-item\">\n",
       "<a href=\"/1442\">\n",
       "<span class=\"thum\">\n",
       "<img alt=\"\" src=\"//i1.daumcdn.net/thumb/C264x200/?fname=https://blog.kakaocdn.net/dn/mqswu/btszojRvW84/iUyoT3foutdwx8x0vWDN7k/img.png\"/>\n",
       "</span>\n",
       "<span class=\"title\">핑크랩이 2023년 여름. 서울로봇아카데미의 교육을 진행했습니다.</span>\n",
       "<span class=\"date\">2023. 10. 29. 09:30</span>\n",
       "<span class=\"excerpt\">올해 2023년도 이제 2개월이 남았네요. 이런 느낌으로 한 해의 끝을 바라보는 것이 벌써 수십년째(헉.ㅠㅠ. 세월...)인데 여전히 한 해에 대한 아쉬움이 남습니다. 그러나 저와 저희 핑크랩(PinkLAB)은 23년을 정말 열심히 살았습니다. 그 중 여름에 진행한 서울로봇아카데미의 한 과정이 기억에 남습니다. 그 과정을 소개하려고 합니다. 핑크랩이 진행한 서울로봇아카데미 과정 서울로봇 아카데미는 서울시가 운영하는 로봇 교육 기관입니다. 서울로봇아카데미는 서울시의 위탁을 받아, 한국로봇산업협회와 한국로봇융합연구원이 서울로봇아카데미를 위탁 운영합니다. 그러니까 서울시가 주최기관이고, 한국로봇산업협회와 한국로봇융합연구원이 주관기관인거죠. 23년 여름에는 위 그림처럼 4개의 과정이 개설되었습니다. 그 중에서 ..</span>\n",
       "</a>\n",
       "</div>"
      ]
     },
     "execution_count": 80,
     "metadata": {},
     "output_type": "execute_result"
    }
   ],
   "source": [
    "contents[2]"
   ]
  },
  {
   "cell_type": "code",
   "execution_count": 81,
   "metadata": {},
   "outputs": [],
   "source": [
    "driver.quit()"
   ]
  }
 ],
 "metadata": {
  "kernelspec": {
   "display_name": "ds_study",
   "language": "python",
   "name": "python3"
  },
  "language_info": {
   "codemirror_mode": {
    "name": "ipython",
    "version": 3
   },
   "file_extension": ".py",
   "mimetype": "text/x-python",
   "name": "python",
   "nbconvert_exporter": "python",
   "pygments_lexer": "ipython3",
   "version": "3.8.18"
  }
 },
 "nbformat": 4,
 "nbformat_minor": 2
}
