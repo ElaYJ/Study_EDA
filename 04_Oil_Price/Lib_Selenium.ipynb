{
 "cells": [
  {
   "cell_type": "markdown",
   "metadata": {},
   "source": [
    "# Selenium\n",
    "\n",
    "- Beautiful Soup만으로 해결할 수 없는 것들이 있다.\n",
    "\n",
    "\t- 접근할 웹 주소를 알 수 없을 때 (로그인을 해야 한다거나...)\n",
    "\n",
    "\t- 웹페이지에서 자바스크립트를 사용하는 경우 (클릭을 해야하는 경우)\n",
    "\n",
    "\t- facebook, instagram, youtube 처럼 스크롤바를 내리면 계속 컨텐츠가 추가되는 동적 페이지\n",
    "\n",
    "\t- 티켓 예매처럼 날짜를 지정하고 자리를 지정하는 것처럼 웹 브라우저에서 조작이 필요한 경우\n",
    "\n",
    "</br>\n",
    "\n",
    "- Selenium은\n",
    "\n",
    "  - 웹 브라우저를 원격 조작하는 도구이다.\n",
    "\n",
    "  - 자동으로 URL을 열고 클릭 등을 가능하게 한다.\n",
    "\n",
    "  - 스크롤, 문자 입력, 화면 캡처 등등 다양한 기능을 가지고 있다.\n",
    "  "
   ]
  },
  {
   "cell_type": "markdown",
   "metadata": {},
   "source": [
    "### 🔰 셀레니움 설치\n",
    "\n",
    "- conda install selenium"
   ]
  },
  {
   "cell_type": "code",
   "execution_count": 40,
   "metadata": {},
   "outputs": [],
   "source": [
    "# !pip install selenium"
   ]
  },
  {
   "cell_type": "code",
   "execution_count": 1,
   "metadata": {},
   "outputs": [
    {
     "name": "stdout",
     "output_type": "stream",
     "text": [
      "selenium                  4.16.0\n"
     ]
    }
   ],
   "source": [
    "!pip list | findstr selenium"
   ]
  },
  {
   "cell_type": "code",
   "execution_count": 2,
   "metadata": {},
   "outputs": [
    {
     "name": "stdout",
     "output_type": "stream",
     "text": [
      "4.15.2\n"
     ]
    }
   ],
   "source": [
    "import selenium\n",
    "\n",
    "print(selenium.__version__)"
   ]
  },
  {
   "cell_type": "markdown",
   "metadata": {},
   "source": [
    "### 🔰 selenium webdriver 사용하기"
   ]
  },
  {
   "cell_type": "markdown",
   "metadata": {},
   "source": [
    "- `chromedriver`\n",
    "\n",
    "    - 크롬 버전 확인\n",
    "    - https://chromedriver.chromium.org/downloads\n",
    "\t\n",
    "    - 위에서 내 크롬 버전에 맞는 드라이버가 없다면 아래의 깃허브 주소로 들어가 download json파일에서 원하는 버전의 드라이버 다운로드 링크를 확인할 수 있다.\n",
    "    - https://github.com/GoogleChromeLabs/chrome-for-testing/blob/main/data/latest-versions-per-milestone-with-downloads.json"
   ]
  },
  {
   "cell_type": "code",
   "execution_count": 43,
   "metadata": {},
   "outputs": [],
   "source": [
    "# from selenium import webdriver\n",
    "\n",
    "# driver = webdriver.Chrome(\"../driver/chromedriver.exe\") # 크롬 드라이버 경로 지정 \n",
    "# --> AttributeError: 'str' object has no attribute 'capabilities'\n",
    "\n",
    "# driver.get(\"https://www.naver.com\") # get 명령으로 접근하고 싶은 주소 지정  "
   ]
  },
  {
   "cell_type": "markdown",
   "metadata": {},
   "source": [
    "- 수업 코드에서는 오류 발생(수업 코드는 더이상 실행되지 않음)\n",
    "\n",
    "- 참고 사이트 : https://dschloe.github.io/settings/2023/8/chrome_driver_settings_windows/"
   ]
  },
  {
   "cell_type": "code",
   "execution_count": 3,
   "metadata": {},
   "outputs": [],
   "source": [
    "from selenium import webdriver\n",
    "from selenium.webdriver.chrome.service import Service\n",
    "\n",
    "# Chrome WebDriver의 실행 파일 경로 지정\n",
    "chrome_driver_path = \"../chromedriver-win64/chromedriver.exe\"\n",
    "service = Service(executable_path=chrome_driver_path)\n",
    "options = webdriver.ChromeOptions()\n",
    "\n",
    "# Chrome WebDriver 인스턴스 생성 및 실행 파일 경로 지정\n",
    "driver = webdriver.Chrome(service=service, options=options)\n",
    "\n",
    "# get() 함수로 접근하려는 웹 주소 지정\n",
    "# driver.get() --> 빈 창이 열림\n",
    "driver.get(\"https://www.naver.com\")"
   ]
  },
  {
   "cell_type": "code",
   "execution_count": 4,
   "metadata": {},
   "outputs": [],
   "source": [
    "driver.quit()"
   ]
  },
  {
   "cell_type": "markdown",
   "metadata": {},
   "source": [
    "- `webdriver-manager`\n",
    "\n",
    "\t<p>\n",
    "\t위 방식은 하나의 치명적인 단점이 존재한다.</br>\n",
    "\t위의 코드는 매우 잘 작동하지만 Chrome이 새 버전으로 업그레이드될 때마다 ChromeDriver를 다시 다운로드해야 한다. 이 부분을 해결하고자 webdriver-manager 라이브러리가 나왔다.\n",
    "\t</p>\n",
    "\n",
    "  - pip install webdriver-manager"
   ]
  },
  {
   "cell_type": "code",
   "execution_count": 5,
   "metadata": {},
   "outputs": [],
   "source": [
    "from selenium import webdriver\n",
    "from selenium.webdriver.chrome.service import Service as ChromeService\n",
    "from webdriver_manager.chrome import ChromeDriverManager\n",
    "\n",
    "driver = webdriver.Chrome(service=ChromeService(ChromeDriverManager().install()))\n",
    "driver.get('https://www.naver.com/')"
   ]
  },
  {
   "cell_type": "code",
   "execution_count": 6,
   "metadata": {},
   "outputs": [],
   "source": [
    "driver.quit()"
   ]
  },
  {
   "cell_type": "markdown",
   "metadata": {},
   "source": [
    "</br>\n",
    "\n",
    "-----"
   ]
  },
  {
   "cell_type": "markdown",
   "metadata": {},
   "source": [
    "# Selenium Basic\n",
    "\n",
    "- 원래는 웹 브라우저 테스트용으로 만들어진 모듈이다.\n",
    "- 응용하여 웹 크롤링에 사용하는 것이다.\n",
    "\n",
    "- 공식문서 참고: https://www.selenium.dev/documentation/\n",
    "- https://selenium-python.readthedocs.io/locating-elements.html"
   ]
  },
  {
   "cell_type": "code",
   "execution_count": 26,
   "metadata": {},
   "outputs": [],
   "source": [
    "from selenium import webdriver\n",
    "from selenium.webdriver.chrome.service import Service\n",
    "\n",
    "chrome_driver_path = \"../chromedriver-win64/chromedriver.exe\"\n",
    "service = Service(executable_path=chrome_driver_path)\n",
    "options = webdriver.ChromeOptions()\n",
    "\n",
    "driver = webdriver.Chrome(service=service, options=options)\n",
    "driver.get(\"https://pinkwink.kr\")"
   ]
  },
  {
   "cell_type": "markdown",
   "metadata": {},
   "source": [
    "### 🔰 화면 크기 설정\n",
    "\n",
    "- 웹 크롤링하려는 데이터가 스크롤보다 위에 있어 창 화면에 보이지 않으면 에러가 날 수 있다.\n",
    "\n",
    "- 최대한 한 화면에 많은 데이터가 표시되는 것이 유리하다."
   ]
  },
  {
   "cell_type": "markdown",
   "metadata": {},
   "source": [
    "- 화면 최대화 설정"
   ]
  },
  {
   "cell_type": "code",
   "execution_count": 8,
   "metadata": {},
   "outputs": [],
   "source": [
    "driver.maximize_window()"
   ]
  },
  {
   "cell_type": "markdown",
   "metadata": {},
   "source": [
    "- 화면 최소화 설정"
   ]
  },
  {
   "cell_type": "code",
   "execution_count": 10,
   "metadata": {},
   "outputs": [],
   "source": [
    "driver.minimize_window()"
   ]
  },
  {
   "cell_type": "markdown",
   "metadata": {},
   "source": [
    "- 화면(브라우저 창) 크기 조절\n",
    "\n",
    "- 현재 driver로 열린 창(화면)에서만 액션을 취할 수 있다."
   ]
  },
  {
   "cell_type": "code",
   "execution_count": 11,
   "metadata": {},
   "outputs": [],
   "source": [
    "# driver.set_window_size(1920, 1080)\n",
    "driver.set_window_size(900, 1080)"
   ]
  },
  {
   "cell_type": "markdown",
   "metadata": {},
   "source": [
    "- 현재 화면(브라우저 창) 크기"
   ]
  },
  {
   "cell_type": "code",
   "execution_count": 12,
   "metadata": {},
   "outputs": [
    {
     "data": {
      "text/plain": [
       "{'width': 900, 'height': 1080}"
      ]
     },
     "execution_count": 12,
     "metadata": {},
     "output_type": "execute_result"
    }
   ],
   "source": [
    "driver.get_window_size()"
   ]
  },
  {
   "cell_type": "code",
   "execution_count": 13,
   "metadata": {},
   "outputs": [
    {
     "data": {
      "text/plain": [
       "{'height': 1080, 'width': 900, 'x': 3368, 'y': 236}"
      ]
     },
     "execution_count": 13,
     "metadata": {},
     "output_type": "execute_result"
    }
   ],
   "source": [
    "driver.get_window_rect()"
   ]
  },
  {
   "cell_type": "markdown",
   "metadata": {},
   "source": [
    "- 새로 고침"
   ]
  },
  {
   "cell_type": "code",
   "execution_count": 14,
   "metadata": {},
   "outputs": [],
   "source": [
    "driver.refresh()"
   ]
  },
  {
   "cell_type": "markdown",
   "metadata": {},
   "source": [
    "- 뒤로 가기"
   ]
  },
  {
   "cell_type": "code",
   "execution_count": null,
   "metadata": {},
   "outputs": [],
   "source": [
    "# 첫번째 게시글 클릭\n",
    "from selenium.webdriver.common.by import By\n",
    "\n",
    "driver.find_element(\n",
    "\tBy.CSS_SELECTOR, \"#content > div.cover-masonry > div > ul > li:nth-child(1)\"\n",
    ").click()"
   ]
  },
  {
   "cell_type": "code",
   "execution_count": 15,
   "metadata": {},
   "outputs": [],
   "source": [
    "driver.back()"
   ]
  },
  {
   "cell_type": "markdown",
   "metadata": {},
   "source": [
    "- 앞으로 가기"
   ]
  },
  {
   "cell_type": "code",
   "execution_count": 16,
   "metadata": {},
   "outputs": [],
   "source": [
    "driver.forward()"
   ]
  },
  {
   "cell_type": "code",
   "execution_count": null,
   "metadata": {},
   "outputs": [],
   "source": [
    "# 홈화면으로 돌아가기\n",
    "driver.find_element(By.CSS_SELECTOR, \"#header > h1 > a\").click()"
   ]
  },
  {
   "cell_type": "markdown",
   "metadata": {},
   "source": [
    "### 🔰 Selenium Tag 명령어"
   ]
  },
  {
   "cell_type": "markdown",
   "metadata": {},
   "source": [
    "- `find_element`\n",
    "\n",
    "\t- find_element(By.CSS_SELECTOR, \"\") --> find, select_one \n",
    "\t- find_elements(By.CSS_SELECTOR, \"\") --> find_all, select"
   ]
  },
  {
   "cell_type": "markdown",
   "metadata": {},
   "source": [
    "- 클릭\n",
    "\n",
    "![selenium_click](https://github.com/ElaYJ/Study_EDA/assets/153154981/4be2b585-0c4e-406b-a014-8bf53924ae65)\n",
    "\n",
    "- `#` : id 속성을 의미\n",
    "- `.` : class 속성을 의미\n",
    "- `>` : 자식 태그, 바로 하위 태그를 의미"
   ]
  },
  {
   "cell_type": "code",
   "execution_count": 17,
   "metadata": {},
   "outputs": [],
   "source": [
    "from selenium.webdriver.common.by import By\n",
    "\n",
    "first_content = driver.find_element(\n",
    "\tBy.CSS_SELECTOR, \"#content > div.cover-masonry > div > ul > li:nth-child(1)\"\n",
    ")\n",
    "first_content.click()"
   ]
  },
  {
   "cell_type": "markdown",
   "metadata": {},
   "source": [
    "### 🔰 탭 제어"
   ]
  },
  {
   "cell_type": "markdown",
   "metadata": {},
   "source": [
    "- 새로운 탭 생성\n",
    "\n",
    "\t- 자바스크립트 코드를 사용한다."
   ]
  },
  {
   "cell_type": "code",
   "execution_count": 18,
   "metadata": {},
   "outputs": [],
   "source": [
    "# 빈 페이시 생성\n",
    "driver.execute_script(\"window.open('');\")"
   ]
  },
  {
   "cell_type": "code",
   "execution_count": 19,
   "metadata": {},
   "outputs": [],
   "source": [
    "driver.execute_script('window.open(\"https://www.naver.com\");')"
   ]
  },
  {
   "cell_type": "markdown",
   "metadata": {},
   "source": [
    "- 탭 이동"
   ]
  },
  {
   "cell_type": "code",
   "execution_count": 20,
   "metadata": {},
   "outputs": [
    {
     "data": {
      "text/plain": [
       "3"
      ]
     },
     "execution_count": 20,
     "metadata": {},
     "output_type": "execute_result"
    }
   ],
   "source": [
    "len(driver.window_handles)"
   ]
  },
  {
   "cell_type": "code",
   "execution_count": 23,
   "metadata": {},
   "outputs": [],
   "source": [
    "driver.switch_to.window(driver.window_handles[1])"
   ]
  },
  {
   "cell_type": "markdown",
   "metadata": {},
   "source": [
    "- 탭 닫기\n",
    "\n",
    "\t- 현재 활성화 되어 있는 탭이 닫힌다."
   ]
  },
  {
   "cell_type": "code",
   "execution_count": 24,
   "metadata": {},
   "outputs": [],
   "source": [
    "driver.close()"
   ]
  },
  {
   "cell_type": "markdown",
   "metadata": {},
   "source": [
    "- 전체 창 닫기\n",
    "\n",
    "\t- close()나 quit() 함수로 닫지 않으면 크롬 창이 계속 열린 상태로 존재하게 된다."
   ]
  },
  {
   "cell_type": "code",
   "execution_count": 25,
   "metadata": {},
   "outputs": [],
   "source": [
    "driver.quit()"
   ]
  },
  {
   "cell_type": "markdown",
   "metadata": {},
   "source": [
    "### 🔰 화면 스크롤\n",
    "\n",
    "- 자바스크립트 코드를 활용한다.\n",
    "\n",
    "- 참고 : https://hello-bryan.tistory.com/194"
   ]
  },
  {
   "cell_type": "markdown",
   "metadata": {},
   "source": [
    "- 스크롤 가능한 높이\n",
    "\n",
    "\t- 자바스크립트 코드를 실행해서 스크롤 가능한 높이를 가져온다.\n",
    "\n",
    "\t- `\"return document.body.scrollHeight\"`\n",
    "\t\n",
    "\t\t- html document내 \\<body>에서 스크롤 가능한 높이(길이)를 반환해줘"
   ]
  },
  {
   "cell_type": "code",
   "execution_count": 27,
   "metadata": {},
   "outputs": [
    {
     "data": {
      "text/plain": [
       "5662"
      ]
     },
     "execution_count": 27,
     "metadata": {},
     "output_type": "execute_result"
    }
   ],
   "source": [
    "last_height = driver.execute_script(\"return document.body.scrollHeight\")\n",
    "last_height"
   ]
  },
  {
   "cell_type": "markdown",
   "metadata": {},
   "source": [
    "- 스크롤 화면 하단으로 이동"
   ]
  },
  {
   "cell_type": "code",
   "execution_count": 28,
   "metadata": {},
   "outputs": [],
   "source": [
    "driver.execute_script(\"window.scrollTo(0, document.body.scrollHeight);\")"
   ]
  },
  {
   "cell_type": "markdown",
   "metadata": {},
   "source": [
    "- 스크롤 화면 상단으로 이동"
   ]
  },
  {
   "cell_type": "code",
   "execution_count": 29,
   "metadata": {},
   "outputs": [],
   "source": [
    "driver.execute_script(\"window.scrollTo(0, 0)\")"
   ]
  },
  {
   "cell_type": "markdown",
   "metadata": {},
   "source": [
    "- 스크린샷"
   ]
  },
  {
   "cell_type": "code",
   "execution_count": 30,
   "metadata": {},
   "outputs": [
    {
     "data": {
      "text/plain": [
       "True"
      ]
     },
     "execution_count": 30,
     "metadata": {},
     "output_type": "execute_result"
    }
   ],
   "source": [
    "driver.save_screenshot(\"./result_data/lib_selenium_screenshot.png\")"
   ]
  },
  {
   "cell_type": "markdown",
   "metadata": {},
   "source": [
    "- `ActionChanins`\n",
    "  \n",
    "    - 참고 문서 : https://selenium-python.readthedocs.io/api.html#module-selenium.webdriver.common.action_chains"
   ]
  },
  {
   "cell_type": "markdown",
   "metadata": {},
   "source": [
    "- 특정 태그 지점까지 스크롤 이동\n",
    "\n",
    "![selenium_actionchains_scroll](https://github.com/ElaYJ/Study_EDA/assets/153154981/fa699fa0-cac8-474f-a702-eaf66adb519e)"
   ]
  },
  {
   "cell_type": "code",
   "execution_count": 33,
   "metadata": {},
   "outputs": [
    {
     "data": {
      "text/plain": [
       "<selenium.webdriver.remote.webelement.WebElement (session=\"c7c17e3fdad6657f2a77a2e5657361a0\", element=\"0D69837544E44CF20A6FB29BE46F5238_element_751\")>"
      ]
     },
     "execution_count": 33,
     "metadata": {},
     "output_type": "execute_result"
    }
   ],
   "source": [
    "driver.find_element(By.CSS_SELECTOR, \"#content > div.cover-list > div > ul > li:nth-child(1)\")"
   ]
  },
  {
   "cell_type": "code",
   "execution_count": 32,
   "metadata": {},
   "outputs": [],
   "source": [
    "from selenium.webdriver import ActionChains\n",
    "\n",
    "action = ActionChains(driver)\n",
    "\n",
    "some_tag = driver.find_element(By.CSS_SELECTOR, \"#content > div.cover-list > div > ul > li:nth-child(1)\")\n",
    "action.move_to_element(some_tag).perform()"
   ]
  },
  {
   "cell_type": "code",
   "execution_count": 34,
   "metadata": {},
   "outputs": [],
   "source": [
    "driver.quit()"
   ]
  },
  {
   "cell_type": "markdown",
   "metadata": {},
   "source": [
    "### 🔰 검색어 입력"
   ]
  },
  {
   "cell_type": "code",
   "execution_count": 35,
   "metadata": {},
   "outputs": [],
   "source": [
    "from selenium.webdriver.chrome.service import Service\n",
    "from selenium import webdriver\n",
    "\n",
    "chrome_driver_path = \"../chromedriver-win64/chromedriver.exe\"\n",
    "service = Service(executable_path=chrome_driver_path)\n",
    "options = webdriver.ChromeOptions()\n",
    "\n",
    "driver = webdriver.Chrome(options=options, service=service)\n",
    "\n",
    "driver.get(\"https://www.naver.com\")"
   ]
  },
  {
   "cell_type": "code",
   "execution_count": 40,
   "metadata": {},
   "outputs": [
    {
     "data": {
      "text/plain": [
       "{'height': 1080, 'width': 1200, 'x': 3068, 'y': 235}"
      ]
     },
     "execution_count": 40,
     "metadata": {},
     "output_type": "execute_result"
    }
   ],
   "source": [
    "# {'height': 1080, 'width': 900, 'x': 3368, 'y': 236}\n",
    "driver.set_window_rect(x=3068, y=235, width=1200, height=1080)"
   ]
  },
  {
   "cell_type": "markdown",
   "metadata": {},
   "source": [
    "- `CSS_SELECTOR`\n",
    "\n",
    "    - 입력 창에 글자 넣기 \n",
    "\n",
    "    - 화면에 입력 창이 보이지 않으면 입력할 수 없다.\n",
    "\t\n",
    "![selenium_search_input_text](https://github.com/ElaYJ/Study_EDA/assets/153154981/3a6cb3b3-65bf-49f9-b13f-e2036a6f9547)"
   ]
  },
  {
   "cell_type": "markdown",
   "metadata": {},
   "source": [
    "- 네이버 검색창에 검색어 입력"
   ]
  },
  {
   "cell_type": "code",
   "execution_count": 41,
   "metadata": {},
   "outputs": [],
   "source": [
    "keyword = driver.find_element(By.CSS_SELECTOR, \"#query\")\n",
    "keyword.send_keys(\"파이썬\")"
   ]
  },
  {
   "cell_type": "markdown",
   "metadata": {},
   "source": [
    "- 찾기(돋보기) 버튼 클릭"
   ]
  },
  {
   "cell_type": "code",
   "execution_count": 42,
   "metadata": {},
   "outputs": [],
   "source": [
    "search_btn = driver.find_element(By.CSS_SELECTOR, \"#sform > fieldset > button\")\n",
    "search_btn.click()"
   ]
  },
  {
   "cell_type": "markdown",
   "metadata": {},
   "source": [
    "- 새로 입력하면 뒤에 추가로 붙음"
   ]
  },
  {
   "cell_type": "code",
   "execution_count": 44,
   "metadata": {},
   "outputs": [],
   "source": [
    "driver.back()"
   ]
  },
  {
   "cell_type": "code",
   "execution_count": 46,
   "metadata": {},
   "outputs": [],
   "source": [
    "keyword = driver.find_element(By.CSS_SELECTOR, \"#query\")\n",
    "keyword.send_keys(\"파이썬\")"
   ]
  },
  {
   "cell_type": "code",
   "execution_count": 47,
   "metadata": {},
   "outputs": [],
   "source": [
    "keyword.send_keys(\"딥러닝\")"
   ]
  },
  {
   "cell_type": "markdown",
   "metadata": {},
   "source": [
    "- 초기화 후 검색어 입력"
   ]
  },
  {
   "cell_type": "code",
   "execution_count": 48,
   "metadata": {},
   "outputs": [],
   "source": [
    "keyword.clear()\n",
    "keyword.send_keys(\"python\")"
   ]
  },
  {
   "cell_type": "code",
   "execution_count": 49,
   "metadata": {},
   "outputs": [],
   "source": [
    "keyword.clear()"
   ]
  },
  {
   "cell_type": "markdown",
   "metadata": {},
   "source": [
    "- `XPATH`\n",
    "\n",
    "    - XML Path Language\n",
    "    \n",
    "    - CSS_SELECTOR와 완전 동일한 기능\n",
    "\n",
    "    - xpath는 beautifulsoup4에서 사용할 수 없다.\n",
    "    - 오직 selenium에서만 활용가능한다.\n",
    "\n",
    "    - xpath를 이용할 때는 작은 따옴표를 사용할 것!\n",
    "\n",
    "    </br>\n",
    "    \n",
    "    - `//`: 찾고자 하는 태그(id=\"query\")의 최상위\n",
    "\n",
    "    - `*`: 자손 태그(하위 태그들) 검색 => div, form\n",
    "\n",
    "    - `/`: 자식 태그(한칸 바로 아래 태그) 검색 => div > form\n",
    "\n",
    "    - `div[2]`: div 중에서 2번째 태그"
   ]
  },
  {
   "cell_type": "code",
   "execution_count": 50,
   "metadata": {},
   "outputs": [],
   "source": [
    "driver.find_element(By.XPATH, '//*[@id=\"query\"]').send_keys(\"xpath\")"
   ]
  },
  {
   "cell_type": "code",
   "execution_count": 51,
   "metadata": {},
   "outputs": [],
   "source": [
    "driver.find_element(By.XPATH, '//*[@id=\"sform\"]/fieldset/button').click()"
   ]
  },
  {
   "cell_type": "code",
   "execution_count": 57,
   "metadata": {},
   "outputs": [],
   "source": [
    "driver.quit()"
   ]
  },
  {
   "cell_type": "code",
   "execution_count": 58,
   "metadata": {},
   "outputs": [],
   "source": [
    "chrome_driver_path = \"../chromedriver-win64/chromedriver.exe\"\n",
    "service = Service(executable_path=chrome_driver_path)\n",
    "options = webdriver.ChromeOptions()\n",
    "\n",
    "driver = webdriver.Chrome(options=options, service=service)\n",
    "driver.get(\"https://pinkwink.kr\")"
   ]
  },
  {
   "cell_type": "code",
   "execution_count": 65,
   "metadata": {},
   "outputs": [],
   "source": [
    "driver.set_window_position(x=3268, y=235)\n",
    "driver.set_window_size(width=1000, height=1080)"
   ]
  },
  {
   "cell_type": "markdown",
   "metadata": {},
   "source": [
    "- 동적 페이지\n",
    "\n",
    "\t- \\<div class=\"search\"> --> \\<div class=\"search on\">\n",
    "\n",
    "![selenium_search_dynamic_page](https://github.com/ElaYJ/Study_EDA/assets/153154981/ba243327-630b-40ce-860f-a17c1d093ce6)"
   ]
  },
  {
   "cell_type": "code",
   "execution_count": 72,
   "metadata": {},
   "outputs": [],
   "source": [
    "# 1. 돋보기 버튼 선택 : 동적 페이지\n",
    "\n",
    "from selenium.webdriver import ActionChains\n",
    "\n",
    "action = ActionChains(driver=driver)\n",
    "\n",
    "search_tag = driver.find_element(By.CSS_SELECTOR, \"#header > div.search\")\n",
    "action.click(search_tag)\n",
    "action.perform()"
   ]
  },
  {
   "cell_type": "code",
   "execution_count": 73,
   "metadata": {},
   "outputs": [],
   "source": [
    "# 2. 검색어 입력\n",
    "driver.find_element(By.CSS_SELECTOR, \"#header > div.search.on > input[type=text]\").send_keys(\"딥러닝\")"
   ]
  },
  {
   "cell_type": "code",
   "execution_count": 74,
   "metadata": {},
   "outputs": [],
   "source": [
    "# 3. 검색 버튼 클릭\n",
    "driver.find_element(By.CSS_SELECTOR, \"#header > div.search.on > button\").click()"
   ]
  },
  {
   "cell_type": "markdown",
   "metadata": {},
   "source": [
    "</br>\n",
    "\n",
    "-----"
   ]
  },
  {
   "cell_type": "markdown",
   "metadata": {},
   "source": [
    "# Selenium + BeautifulSoup"
   ]
  },
  {
   "cell_type": "code",
   "execution_count": 75,
   "metadata": {},
   "outputs": [],
   "source": [
    "from bs4 import BeautifulSoup\n",
    "\n",
    "req = driver.page_source\n",
    "soup = BeautifulSoup(req, \"html.parser\")"
   ]
  },
  {
   "cell_type": "markdown",
   "metadata": {},
   "source": [
    "- 현재 화면의 html 코드 가져오기"
   ]
  },
  {
   "cell_type": "code",
   "execution_count": 77,
   "metadata": {},
   "outputs": [
    {
     "data": {
      "text/plain": [
       "'<html lang=\"ko\"><head>\\n                <script src=\"https://pagead2.googlesyndication.com/pagead/managed/js/adsense/m202401040101/reactive_library_fy2021.js?bust=31080323\"></script><script src=\"https://t1.kakaocdn.net/malibu_prod/normal_wpm.js\" async=\"\"></script><script src=\"https://pagead2.googlesyndication.com/pagead/managed/js/adsense/m202401040101/show_ads_impl_fy2021.js?bust=31080323\" id=\"google_shimpl\"></script><script type=\"text/javascript\">if (!window.T) { window.T = {} }\\nwindow.T.config = {\"TOP_SSL_URL\":\"https://www.tistory.com\",\"PREVIEW\":false,\"ROLE\":\"guest\",\"PREV_PAGE\":\"\",\"NEXT_PAGE\":\"\",\"BLOG\":{\"id\":371175,\"name\":\"pinkwink\",\"title\":\"PinkWink\",\"isDormancy\":false,\"nickName\":\"PinkWink\",\"status\":\"open\"},\"NEED_COMMENT_LOGIN\":false,\"COMMENT_LOGIN_CONFIRM_MESSAGE\":\"\",\"LOGIN_URL\":\"https://www.tistory.com/auth/login/?redirectUrl=https://pinkwink.kr/search/%25EB%2594%25A5%25EB%259F%25AC%25EB%258B%259D\",\"DEFAULT_URL\":\"https://pinkwink.kr\",\"USER\":{\"name\":null,\"homepage\":null,\"id\":0,\"profileImage\":null},\"SUBSCRIPTION\":{\"status\":\"none\",\"isConnected\":false,\"isPending\":false,\"isWait\":false,\"isProcessing\":false,\"isNone\":true},\"IS_LOGIN\":false,\"HAS_BLOG\":false,\"IS_SUPPORT\":false,\"TOP_URL\":\"http://www.tistory.com\",\"JOIN_URL\":\"https://www.tistory.com/member/join\",\"ROLE_GROUP\":\"visitor\"};\\nwindow.appInfo = {\"domain\":\"tistory.com\",\"topUrl\":\"https://www.tistory.com\",\"loginUrl\":\"https://www.tistory.com/auth/login\",\"logoutUrl\":\"https://www.tistory.com/auth/logout\"};\\nwindow.initData = {};\\n\\nwindow.TistoryBlog = {\\n    basePath: \"\",\\n    url: \"https://pinkwink.kr\",\\n    tistoryUrl: \"https://pinkwink.tistory.com\",\\n    manageUrl: \"https://pinkwink.tistory.com/manage\",\\n    token: \"PjIvSlGF0RAUowv6KhCPQmR7TDPCp78JSvLm8ZjB7tXXvrs9aJIispVZgJGh20cV\"\\n};\\nvar servicePath = \"\";\\nvar blogURL = \"\";</script>\\n\\n                \\n                \\n                \\n                        <!-- BusinessLicenseInfo - START -->\\n        \\n            <link href=\"https://tistory1.daumcdn.net/tistory_admin/userblog/tistory-e6506e2a046e51fea310cb12269adb958a199e44/static/plugin/BusinessLicenseInfo/style.css\" rel=\"stylesheet\" type=\"text/css\">\\n\\n            <script>function switchFold(entryId) {\\n    var businessLayer = document.getElementById(\"businessInfoLayer_\" + entryId);\\n\\n    if (businessLayer) {\\n        if (businessLayer.className.indexOf(\"unfold_license\") > 0) {\\n            businessLayer.className = \"business_license_layer\";\\n        } else {\\n            businessLayer.className = \"business_license_layer unfold_license\";\\n        }\\n    }\\n}\\n</script>\\n\\n        \\n        <!-- BusinessLicenseInfo - END -->\\n<!-- System - START -->\\n\\n<!-- System - END -->\\n\\n        <!-- GoogleSearchConsole - START -->\\n        \\n<!-- BEGIN GOOGLE_SITE_VERIFICATION -->\\n<meta name=\"google-site-verification\" content=\"k3AvKvWkwX7aD3-ykT5zNH4ba1F3MJShutQ5laJ8S78\">\\n<!-- END GOOGLE_SITE_VERIFICATION -->\\n\\n        <!-- GoogleSearchConsole - END -->\\n\\n        <!-- TistoryProfileLayer - START -->\\n        <link href=\"https://tistory1.daumcdn.net/tistory_admin/userblog/tistory-e6506e2a046e51fea310cb12269adb958a199e44/static/plugin/TistoryProfileLayer/style.css\" rel=\"stylesheet\" type=\"text/css\">\\n<script type=\"text/javascript\" src=\"https://tistory1.daumcdn.net/tistory_admin/userblog/tistory-e6506e2a046e51fea310cb12269adb958a199e44/static/plugin/TistoryProfileLayer/script.js\"></script>\\n\\n        <!-- TistoryProfileLayer - END -->\\n\\n                \\n                <meta http-equiv=\"X-UA-Compatible\" content=\"IE=Edge\">\\n<meta name=\"format-detection\" content=\"telephone=no\">\\n<script src=\"//t1.daumcdn.net/tistory_admin/lib/jquery/jquery-3.5.1.min.js\" integrity=\"sha256-9/aliU8dGd2tb6OSsuzixeV4y/faTqgFtohetphbbj0=\" crossorigin=\"anonymous\"></script>\\n<script src=\"//t1.daumcdn.net/tistory_admin/lib/lightbox/js/lightbox-v2.10.0.min.js\" defer=\"\"></script>\\n<script type=\"text/javascript\" src=\"//t1.daumcdn.net/tiara/js/v1/tiara.min.js\"></script><meta name=\"referrer\" content=\"always\">\\n<meta name=\"google-adsense-platform-account\" content=\"ca-host-pub-9691043933427338\">\\n<meta name=\"google-adsense-platform-domain\" content=\"tistory.com\">\\n<meta name=\"google-adsense-account\" content=\"ca-pub-2982459700139266\">\\n<meta name=\"description\" content=\"한 변두리 공학도의 블로그입니다. 재미있어 보이는 것들을 모두 기초스럽게 접근하는 블로그이며... 그보다 더욱 소중한 우리 아가 미바뤼의 발자취를 남겨두는 블로그이기도 합니다.\">\\n\\n    <!-- BEGIN OPENGRAPH -->\\n    <meta property=\"og:type\" content=\"website\">\\n<meta property=\"og:url\" content=\"https://pinkwink.kr\">\\n<meta property=\"og:site_name\" content=\"PinkWink\">\\n<meta property=\"og:title\" content=\"\\'딥러닝\\'의 검색결과\">\\n<meta property=\"og:description\" content=\"한 변두리 공학도의 블로그입니다. 재미있어 보이는 것들을 모두 기초스럽게 접근하는 블로그이며... 그보다 더욱 소중한 우리 아가 미바뤼의 발자취를 남겨두는 블로그이기도 합니다.\">\\n<meta property=\"og:image\" content=\"https://img1.daumcdn.net/thumb/R800x0/?scode=mtistory2&amp;fname=https%3A%2F%2Ft1.daumcdn.net%2Fcfile%2Ftistory%2F207EB9594D92CCFF05\">\\n<meta property=\"og:article:author\" content=\"\\'PinkWink\\'\">\\n    <!-- END OPENGRAPH -->\\n\\n    <!-- BEGIN TWITTERCARD -->\\n    <meta name=\"twitter:card\" content=\"summary_large_image\">\\n<meta name=\"twitter:site\" content=\"@TISTORY\">\\n<meta name=\"twitter:title\" content=\"\\'딥러닝\\'의 검색결과\">\\n<meta name=\"twitter:description\" content=\"한 변두리 공학도의 블로그입니다. 재미있어 보이는 것들을 모두 기초스럽게 접근하는 블로그이며... 그보다 더욱 소중한 우리 아가 미바뤼의 발자취를 남겨두는 블로그이기도 합니다.\">\\n<meta property=\"twitter:image\" content=\"https://img1.daumcdn.net/thumb/R800x0/?scode=mtistory2&amp;fname=https%3A%2F%2Ft1.daumcdn.net%2Fcfile%2Ftistory%2F207EB9594D92CCFF05\">\\n    <!-- END TWITTERCARD -->\\n<link rel=\"icon\" sizes=\"any\" href=\"https://t1.daumcdn.net/tistory_admin/favicon/tistory_favicon_32x32.ico\">\\n<link rel=\"icon\" type=\"image/svg+xml\" href=\"https://t1.daumcdn.net/tistory_admin/top_v2/bi-tistory-favicon.svg\">\\n<link rel=\"apple-touch-icon\" href=\"https://t1.daumcdn.net/tistory_admin/top_v2/tistory-apple-touch-favicon.png\">\\n<link rel=\"stylesheet\" type=\"text/css\" href=\"https://t1.daumcdn.net/tistory_admin/lib/lightbox/css/lightbox.min.css\">\\n<link rel=\"stylesheet\" type=\"text/css\" href=\"https://tistory1.daumcdn.net/tistory_admin/userblog/tistory-e6506e2a046e51fea310cb12269adb958a199e44/static/style/font.css\">\\n<link rel=\"stylesheet\" type=\"text/css\" href=\"https://tistory1.daumcdn.net/tistory_admin/userblog/tistory-e6506e2a046e51fea310cb12269adb958a199e44/static/style/content.css\">\\n<script type=\"text/javascript\">(function() {\\n    var tjQuery = jQuery.noConflict(true);\\n    window.tjQuery = tjQuery;\\n    window.orgjQuery = window.jQuery; window.jQuery = tjQuery;\\n    window.jQuery = window.orgjQuery; delete window.orgjQuery;\\n})()</script>\\n<script type=\"text/javascript\" src=\"https://tistory1.daumcdn.net/tistory_admin/userblog/tistory-e6506e2a046e51fea310cb12269adb958a199e44/static/script/base.js\"></script>\\n<script type=\"text/javascript\" src=\"//developers.kakao.com/sdk/js/kakao.min.js\"></script>\\n\\n                \\n<meta charset=\"UTF-8\">\\n<meta name=\"google-site-verification\" content=\"k3AvKvWkwX7aD3-ykT5zNH4ba1F3MJShutQ5laJ8S78\">\\n<meta name=\"viewport\" content=\"user-scalable=no, initial-scale=1.0, maximum-scale=1.0, minimum-scale=1.0, width=device-width\">\\n<title>\\'딥러닝\\'의 검색결과</title>\\n<link rel=\"stylesheet\" href=\"https://tistory1.daumcdn.net/tistory/371175/skin/style.css?_version_=1687613150\">\\n<script src=\"//t1.daumcdn.net/tistory_admin/lib/jquery/jquery-1.12.4.min.js\"></script>\\n  \\n  <script async=\"\" src=\"https://pagead2.googlesyndication.com/pagead/js/adsbygoogle.js?client=ca-pub-2982459700139266\" crossorigin=\"anonymous\" data-checked-head=\"true\"></script>\\n  \\n<!-- Google tag (gtag.js) -->\\n<script async=\"\" src=\"https://www.googletagmanager.com/gtag/js?id=G-HCXDDK2V0E\"></script>\\n<script>\\n  window.dataLayer = window.dataLayer || [];\\n  function gtag(){dataLayer.push(arguments);}\\n  gtag(\\'js\\', new Date());\\n\\n  gtag(\\'config\\', \\'G-HCXDDK2V0E\\');\\n</script>\\n\\n\\n                \\n                \\n                <style type=\"text/css\">.another_category {\\n    border: 1px solid #E5E5E5;\\n    padding: 10px 10px 5px;\\n    margin: 10px 0;\\n    clear: both;\\n}\\n\\n.another_category h4 {\\n    font-size: 12px !important;\\n    margin: 0 !important;\\n    border-bottom: 1px solid #E5E5E5 !important;\\n    padding: 2px 0 6px !important;\\n}\\n\\n.another_category h4 a {\\n    font-weight: bold !important;\\n}\\n\\n.another_category table {\\n    table-layout: fixed;\\n    border-collapse: collapse;\\n    width: 100% !important;\\n    margin-top: 10px !important;\\n}\\n\\n* html .another_category table {\\n    width: auto !important;\\n}\\n\\n*:first-child + html .another_category table {\\n    width: auto !important;\\n}\\n\\n.another_category th, .another_category td {\\n    padding: 0 0 4px !important;\\n}\\n\\n.another_category th {\\n    text-align: left;\\n    font-size: 12px !important;\\n    font-weight: normal;\\n    word-break: break-all;\\n    overflow: hidden;\\n    line-height: 1.5;\\n}\\n\\n.another_category td {\\n    text-align: right;\\n    width: 80px;\\n    font-size: 11px;\\n}\\n\\n.another_category th a {\\n    font-weight: normal;\\n    text-decoration: none;\\n    border: none !important;\\n}\\n\\n.another_category th a.current {\\n    font-weight: bold;\\n    text-decoration: none !important;\\n    border-bottom: 1px solid !important;\\n}\\n\\n.another_category th span {\\n    font-weight: normal;\\n    text-decoration: none;\\n    font: 10px Tahoma, Sans-serif;\\n    border: none !important;\\n}\\n\\n.another_category_color_gray, .another_category_color_gray h4 {\\n    border-color: #E5E5E5 !important;\\n}\\n\\n.another_category_color_gray * {\\n    color: #909090 !important;\\n}\\n\\n.another_category_color_gray th a.current {\\n    border-color: #909090 !important;\\n}\\n\\n.another_category_color_gray h4, .another_category_color_gray h4 a {\\n    color: #737373 !important;\\n}\\n\\n.another_category_color_red, .another_category_color_red h4 {\\n    border-color: #F6D4D3 !important;\\n}\\n\\n.another_category_color_red * {\\n    color: #E86869 !important;\\n}\\n\\n.another_category_color_red th a.current {\\n    border-color: #E86869 !important;\\n}\\n\\n.another_category_color_red h4, .another_category_color_red h4 a {\\n    color: #ED0908 !important;\\n}\\n\\n.another_category_color_green, .another_category_color_green h4 {\\n    border-color: #CCE7C8 !important;\\n}\\n\\n.another_category_color_green * {\\n    color: #64C05B !important;\\n}\\n\\n.another_category_color_green th a.current {\\n    border-color: #64C05B !important;\\n}\\n\\n.another_category_color_green h4, .another_category_color_green h4 a {\\n    color: #3EA731 !important;\\n}\\n\\n.another_category_color_blue, .another_category_color_blue h4 {\\n    border-color: #C8DAF2 !important;\\n}\\n\\n.another_category_color_blue * {\\n    color: #477FD6 !important;\\n}\\n\\n.another_category_color_blue th a.current {\\n    border-color: #477FD6 !important;\\n}\\n\\n.another_category_color_blue h4, .another_category_color_blue h4 a {\\n    color: #1960CA !important;\\n}\\n\\n.another_category_color_violet, .another_category_color_violet h4 {\\n    border-color: #E1CEEC !important;\\n}\\n\\n.another_category_color_violet * {\\n    color: #9D64C5 !important;\\n}\\n\\n.another_category_color_violet th a.current {\\n    border-color: #9D64C5 !important;\\n}\\n\\n.another_category_color_violet h4, .another_category_color_violet h4 a {\\n    color: #7E2CB5 !important;\\n}\\n</style>\\n\\n                \\n                <link rel=\"stylesheet\" type=\"text/css\" href=\"https://tistory1.daumcdn.net/tistory_admin/userblog/tistory-e6506e2a046e51fea310cb12269adb958a199e44/static/style/dialog.css\">\\n<link rel=\"stylesheet\" type=\"text/css\" href=\"//t1.daumcdn.net/tistory_admin/www/style/top/font.css\">\\n<link rel=\"stylesheet\" type=\"text/css\" href=\"https://tistory1.daumcdn.net/tistory_admin/userblog/tistory-e6506e2a046e51fea310cb12269adb958a199e44/static/style/postBtn.css\">\\n<link rel=\"stylesheet\" type=\"text/css\" href=\"https://tistory1.daumcdn.net/tistory_admin/userblog/tistory-e6506e2a046e51fea310cb12269adb958a199e44/static/style/comment.css\">\\n<link rel=\"stylesheet\" type=\"text/css\" href=\"https://tistory1.daumcdn.net/tistory_admin/userblog/tistory-e6506e2a046e51fea310cb12269adb958a199e44/static/style/tistory.css\">\\n<link rel=\"stylesheet\" type=\"text/css\" href=\"https://tistory1.daumcdn.net/tistory_admin/userblog/tistory-e6506e2a046e51fea310cb12269adb958a199e44/static/style/revenue.css\">\\n<link rel=\"canonical\" href=\"https://pinkwink.kr\">\\n\\n<!-- BEGIN STRUCTURED_DATA -->\\n<script type=\"application/ld+json\">\\n    {\"@context\":\"http://schema.org\",\"@type\":\"WebSite\",\"url\":\"/\",\"potentialAction\":{\"@type\":\"SearchAction\",\"target\":\"/search/{search_term_string}\",\"query-input\":\"required name=search_term_string\"}}\\n</script>\\n<!-- END STRUCTURED_DATA -->\\n<script type=\"text/javascript\" src=\"https://tistory1.daumcdn.net/tistory_admin/userblog/tistory-e6506e2a046e51fea310cb12269adb958a199e44/static/script/common.js\"></script>\\n<script type=\"text/javascript\" src=\"https://tistory1.daumcdn.net/tistory_admin/userblog/tistory-e6506e2a046e51fea310cb12269adb958a199e44/static/script/comment.js\" defer=\"\"></script>\\n\\n                \\n                <meta http-equiv=\"origin-trial\" content=\"As0hBNJ8h++fNYlkq8cTye2qDLyom8NddByiVytXGGD0YVE+2CEuTCpqXMDxdhOMILKoaiaYifwEvCRlJ/9GcQ8AAAB8eyJvcmlnaW4iOiJodHRwczovL2RvdWJsZWNsaWNrLm5ldDo0NDMiLCJmZWF0dXJlIjoiV2ViVmlld1hSZXF1ZXN0ZWRXaXRoRGVwcmVjYXRpb24iLCJleHBpcnkiOjE3MTk1MzI3OTksImlzU3ViZG9tYWluIjp0cnVlfQ==\"><meta http-equiv=\"origin-trial\" content=\"AgRYsXo24ypxC89CJanC+JgEmraCCBebKl8ZmG7Tj5oJNx0cmH0NtNRZs3NB5ubhpbX/bIt7l2zJOSyO64NGmwMAAACCeyJvcmlnaW4iOiJodHRwczovL2dvb2dsZXN5bmRpY2F0aW9uLmNvbTo0NDMiLCJmZWF0dXJlIjoiV2ViVmlld1hSZXF1ZXN0ZWRXaXRoRGVwcmVjYXRpb24iLCJleHBpcnkiOjE3MTk1MzI3OTksImlzU3ViZG9tYWluIjp0cnVlfQ==\"><meta http-equiv=\"origin-trial\" content=\"A/ERL66fN363FkXxgDc6F1+ucRUkAhjEca9W3la6xaLnD2Y1lABsqmdaJmPNaUKPKVBRpyMKEhXYl7rSvrQw+AkAAACNeyJvcmlnaW4iOiJodHRwczovL2RvdWJsZWNsaWNrLm5ldDo0NDMiLCJmZWF0dXJlIjoiRmxlZGdlQmlkZGluZ0FuZEF1Y3Rpb25TZXJ2ZXIiLCJleHBpcnkiOjE3MTkzNTk5OTksImlzU3ViZG9tYWluIjp0cnVlLCJpc1RoaXJkUGFydHkiOnRydWV9\"><meta http-equiv=\"origin-trial\" content=\"A6OdGH3fVf4eKRDbXb4thXA4InNqDJDRhZ8U533U/roYjp4Yau0T3YSuc63vmAs/8ga1cD0E3A7LEq6AXk1uXgsAAACTeyJvcmlnaW4iOiJodHRwczovL2dvb2dsZXN5bmRpY2F0aW9uLmNvbTo0NDMiLCJmZWF0dXJlIjoiRmxlZGdlQmlkZGluZ0FuZEF1Y3Rpb25TZXJ2ZXIiLCJleHBpcnkiOjE3MTkzNTk5OTksImlzU3ViZG9tYWluIjp0cnVlLCJpc1RoaXJkUGFydHkiOnRydWV9\"><meta http-equiv=\"origin-trial\" content=\"AymqwRC7u88Y4JPvfIF2F37QKylC04248hLCdJAsh8xgOfe/dVJPV3XS3wLFca1ZMVOtnBfVjaCMTVudWM//5g4AAAB7eyJvcmlnaW4iOiJodHRwczovL3d3dy5nb29nbGV0YWdtYW5hZ2VyLmNvbTo0NDMiLCJmZWF0dXJlIjoiUHJpdmFjeVNhbmRib3hBZHNBUElzIiwiZXhwaXJ5IjoxNjk1MTY3OTk5LCJpc1RoaXJkUGFydHkiOnRydWV9\"><meta http-equiv=\"origin-trial\" content=\"As0hBNJ8h++fNYlkq8cTye2qDLyom8NddByiVytXGGD0YVE+2CEuTCpqXMDxdhOMILKoaiaYifwEvCRlJ/9GcQ8AAAB8eyJvcmlnaW4iOiJodHRwczovL2RvdWJsZWNsaWNrLm5ldDo0NDMiLCJmZWF0dXJlIjoiV2ViVmlld1hSZXF1ZXN0ZWRXaXRoRGVwcmVjYXRpb24iLCJleHBpcnkiOjE3MTk1MzI3OTksImlzU3ViZG9tYWluIjp0cnVlfQ==\"><meta http-equiv=\"origin-trial\" content=\"AgRYsXo24ypxC89CJanC+JgEmraCCBebKl8ZmG7Tj5oJNx0cmH0NtNRZs3NB5ubhpbX/bIt7l2zJOSyO64NGmwMAAACCeyJvcmlnaW4iOiJodHRwczovL2dvb2dsZXN5bmRpY2F0aW9uLmNvbTo0NDMiLCJmZWF0dXJlIjoiV2ViVmlld1hSZXF1ZXN0ZWRXaXRoRGVwcmVjYXRpb24iLCJleHBpcnkiOjE3MTk1MzI3OTksImlzU3ViZG9tYWluIjp0cnVlfQ==\"><meta http-equiv=\"origin-trial\" content=\"A/ERL66fN363FkXxgDc6F1+ucRUkAhjEca9W3la6xaLnD2Y1lABsqmdaJmPNaUKPKVBRpyMKEhXYl7rSvrQw+AkAAACNeyJvcmlnaW4iOiJodHRwczovL2RvdWJsZWNsaWNrLm5ldDo0NDMiLCJmZWF0dXJlIjoiRmxlZGdlQmlkZGluZ0FuZEF1Y3Rpb25TZXJ2ZXIiLCJleHBpcnkiOjE3MTkzNTk5OTksImlzU3ViZG9tYWluIjp0cnVlLCJpc1RoaXJkUGFydHkiOnRydWV9\"><meta http-equiv=\"origin-trial\" content=\"A6OdGH3fVf4eKRDbXb4thXA4InNqDJDRhZ8U533U/roYjp4Yau0T3YSuc63vmAs/8ga1cD0E3A7LEq6AXk1uXgsAAACTeyJvcmlnaW4iOiJodHRwczovL2dvb2dsZXN5bmRpY2F0aW9uLmNvbTo0NDMiLCJmZWF0dXJlIjoiRmxlZGdlQmlkZGluZ0FuZEF1Y3Rpb25TZXJ2ZXIiLCJleHBpcnkiOjE3MTkzNTk5OTksImlzU3ViZG9tYWluIjp0cnVlLCJpc1RoaXJkUGFydHkiOnRydWV9\"><meta http-equiv=\"origin-trial\" content=\"As0hBNJ8h++fNYlkq8cTye2qDLyom8NddByiVytXGGD0YVE+2CEuTCpqXMDxdhOMILKoaiaYifwEvCRlJ/9GcQ8AAAB8eyJvcmlnaW4iOiJodHRwczovL2RvdWJsZWNsaWNrLm5ldDo0NDMiLCJmZWF0dXJlIjoiV2ViVmlld1hSZXF1ZXN0ZWRXaXRoRGVwcmVjYXRpb24iLCJleHBpcnkiOjE3MTk1MzI3OTksImlzU3ViZG9tYWluIjp0cnVlfQ==\"><meta http-equiv=\"origin-trial\" content=\"AgRYsXo24ypxC89CJanC+JgEmraCCBebKl8ZmG7Tj5oJNx0cmH0NtNRZs3NB5ubhpbX/bIt7l2zJOSyO64NGmwMAAACCeyJvcmlnaW4iOiJodHRwczovL2dvb2dsZXN5bmRpY2F0aW9uLmNvbTo0NDMiLCJmZWF0dXJlIjoiV2ViVmlld1hSZXF1ZXN0ZWRXaXRoRGVwcmVjYXRpb24iLCJleHBpcnkiOjE3MTk1MzI3OTksImlzU3ViZG9tYWluIjp0cnVlfQ==\"><meta http-equiv=\"origin-trial\" content=\"A/ERL66fN363FkXxgDc6F1+ucRUkAhjEca9W3la6xaLnD2Y1lABsqmdaJmPNaUKPKVBRpyMKEhXYl7rSvrQw+AkAAACNeyJvcmlnaW4iOiJodHRwczovL2RvdWJsZWNsaWNrLm5ldDo0NDMiLCJmZWF0dXJlIjoiRmxlZGdlQmlkZGluZ0FuZEF1Y3Rpb25TZXJ2ZXIiLCJleHBpcnkiOjE3MTkzNTk5OTksImlzU3ViZG9tYWluIjp0cnVlLCJpc1RoaXJkUGFydHkiOnRydWV9\"><meta http-equiv=\"origin-trial\" content=\"A6OdGH3fVf4eKRDbXb4thXA4InNqDJDRhZ8U533U/roYjp4Yau0T3YSuc63vmAs/8ga1cD0E3A7LEq6AXk1uXgsAAACTeyJvcmlnaW4iOiJodHRwczovL2dvb2dsZXN5bmRpY2F0aW9uLmNvbTo0NDMiLCJmZWF0dXJlIjoiRmxlZGdlQmlkZGluZ0FuZEF1Y3Rpb25TZXJ2ZXIiLCJleHBpcnkiOjE3MTkzNTk5OTksImlzU3ViZG9tYWluIjp0cnVlLCJpc1RoaXJkUGFydHkiOnRydWV9\"><meta http-equiv=\"origin-trial\" content=\"As0hBNJ8h++fNYlkq8cTye2qDLyom8NddByiVytXGGD0YVE+2CEuTCpqXMDxdhOMILKoaiaYifwEvCRlJ/9GcQ8AAAB8eyJvcmlnaW4iOiJodHRwczovL2RvdWJsZWNsaWNrLm5ldDo0NDMiLCJmZWF0dXJlIjoiV2ViVmlld1hSZXF1ZXN0ZWRXaXRoRGVwcmVjYXRpb24iLCJleHBpcnkiOjE3MTk1MzI3OTksImlzU3ViZG9tYWluIjp0cnVlfQ==\"><meta http-equiv=\"origin-trial\" content=\"AgRYsXo24ypxC89CJanC+JgEmraCCBebKl8ZmG7Tj5oJNx0cmH0NtNRZs3NB5ubhpbX/bIt7l2zJOSyO64NGmwMAAACCeyJvcmlnaW4iOiJodHRwczovL2dvb2dsZXN5bmRpY2F0aW9uLmNvbTo0NDMiLCJmZWF0dXJlIjoiV2ViVmlld1hSZXF1ZXN0ZWRXaXRoRGVwcmVjYXRpb24iLCJleHBpcnkiOjE3MTk1MzI3OTksImlzU3ViZG9tYWluIjp0cnVlfQ==\"><meta http-equiv=\"origin-trial\" content=\"A/ERL66fN363FkXxgDc6F1+ucRUkAhjEca9W3la6xaLnD2Y1lABsqmdaJmPNaUKPKVBRpyMKEhXYl7rSvrQw+AkAAACNeyJvcmlnaW4iOiJodHRwczovL2RvdWJsZWNsaWNrLm5ldDo0NDMiLCJmZWF0dXJlIjoiRmxlZGdlQmlkZGluZ0FuZEF1Y3Rpb25TZXJ2ZXIiLCJleHBpcnkiOjE3MTkzNTk5OTksImlzU3ViZG9tYWluIjp0cnVlLCJpc1RoaXJkUGFydHkiOnRydWV9\"><meta http-equiv=\"origin-trial\" content=\"A6OdGH3fVf4eKRDbXb4thXA4InNqDJDRhZ8U533U/roYjp4Yau0T3YSuc63vmAs/8ga1cD0E3A7LEq6AXk1uXgsAAACTeyJvcmlnaW4iOiJodHRwczovL2dvb2dsZXN5bmRpY2F0aW9uLmNvbTo0NDMiLCJmZWF0dXJlIjoiRmxlZGdlQmlkZGluZ0FuZEF1Y3Rpb25TZXJ2ZXIiLCJleHBpcnkiOjE3MTkzNTk5OTksImlzU3ViZG9tYWluIjp0cnVlLCJpc1RoaXJkUGFydHkiOnRydWV9\"><style>@font-face{font-family:swiper-icons;src:url(\"data:application/font-woff;charset=utf-8;base64, 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\");font-weight:400;font-style:normal}:root{--swiper-theme-color:#007aff}.swiper{margin-left:auto;margin-right:auto;position:relative;overflow:hidden;list-style:none;padding:0;z-index:1}.swiper-vertical>.swiper-wrapper{flex-direction:column}.swiper-wrapper{position:relative;width:100%;height:100%;z-index:1;display:flex;transition-property:transform;box-sizing:content-box}.swiper-android .swiper-slide,.swiper-wrapper{transform:translate3d(0px, 0, 0)}.swiper-pointer-events{touch-action:pan-y}.swiper-pointer-events.swiper-vertical{touch-action:pan-x}.swiper-slide{flex-shrink:0;width:100%;height:100%;position:relative;transition-property:transform}.swiper-slide-invisible-blank{visibility:hidden}.swiper-autoheight,.swiper-autoheight .swiper-slide{height:auto}.swiper-autoheight .swiper-wrapper{align-items:flex-start;transition-property:transform,height}.swiper-backface-hidden .swiper-slide{transform:translateZ(0);-webkit-backface-visibility:hidden;backface-visibility:hidden}.swiper-3d,.swiper-3d.swiper-css-mode .swiper-wrapper{perspective:1200px}.swiper-3d .swiper-cube-shadow,.swiper-3d .swiper-slide,.swiper-3d .swiper-slide-shadow,.swiper-3d .swiper-slide-shadow-bottom,.swiper-3d .swiper-slide-shadow-left,.swiper-3d .swiper-slide-shadow-right,.swiper-3d .swiper-slide-shadow-top,.swiper-3d .swiper-wrapper{transform-style:preserve-3d}.swiper-3d .swiper-slide-shadow,.swiper-3d .swiper-slide-shadow-bottom,.swiper-3d .swiper-slide-shadow-left,.swiper-3d .swiper-slide-shadow-right,.swiper-3d .swiper-slide-shadow-top{position:absolute;left:0;top:0;width:100%;height:100%;pointer-events:none;z-index:10}.swiper-3d .swiper-slide-shadow{background:rgba(0,0,0,.15)}.swiper-3d .swiper-slide-shadow-left{background-image:linear-gradient(to left, rgba(0, 0, 0, 0.5), rgba(0, 0, 0, 0))}.swiper-3d .swiper-slide-shadow-right{background-image:linear-gradient(to right, rgba(0, 0, 0, 0.5), rgba(0, 0, 0, 0))}.swiper-3d .swiper-slide-shadow-top{background-image:linear-gradient(to top, rgba(0, 0, 0, 0.5), rgba(0, 0, 0, 0))}.swiper-3d .swiper-slide-shadow-bottom{background-image:linear-gradient(to bottom, rgba(0, 0, 0, 0.5), rgba(0, 0, 0, 0))}.swiper-css-mode>.swiper-wrapper{overflow:auto;scrollbar-width:none;-ms-overflow-style:none}.swiper-css-mode>.swiper-wrapper::-webkit-scrollbar{display:none}.swiper-css-mode>.swiper-wrapper>.swiper-slide{scroll-snap-align:start start}.swiper-horizontal.swiper-css-mode>.swiper-wrapper{scroll-snap-type:x mandatory}.swiper-vertical.swiper-css-mode>.swiper-wrapper{scroll-snap-type:y mandatory}.swiper-centered>.swiper-wrapper::before{content:\"\";flex-shrink:0;order:9999}.swiper-centered.swiper-horizontal>.swiper-wrapper>.swiper-slide:first-child{margin-inline-start:var(--swiper-centered-offset-before)}.swiper-centered.swiper-horizontal>.swiper-wrapper::before{height:100%;min-height:1px;width:var(--swiper-centered-offset-after)}.swiper-centered.swiper-vertical>.swiper-wrapper>.swiper-slide:first-child{margin-block-start:var(--swiper-centered-offset-before)}.swiper-centered.swiper-vertical>.swiper-wrapper::before{width:100%;min-width:1px;height:var(--swiper-centered-offset-after)}.swiper-centered>.swiper-wrapper>.swiper-slide{scroll-snap-align:center center;scroll-snap-stop:always}</style></head>\\n                                                <body id=\"tt-body-search\" class=\"color-gray post-type-text paging-view-more\" style=\"padding: 0px;\">\\n                \\n                \\n                \\n\\n<ins class=\"adsbygoogle adsbygoogle-noablate\" data-adsbygoogle-status=\"done\" style=\"display: none !important;\" data-ad-status=\"unfilled\"><div id=\"aswift_0_host\" tabindex=\"0\" title=\"Advertisement\" aria-label=\"Advertisement\" style=\"border: none; height: 0px; width: 0px; margin: 0px; padding: 0px; position: relative; visibility: visible; background-color: transparent; display: inline-block;\"><iframe id=\"aswift_0\" name=\"aswift_0\" style=\"left:0;position:absolute;top:0;border:0;width:undefinedpx;height:undefinedpx;\" sandbox=\"allow-forms allow-popups allow-popups-to-escape-sandbox allow-same-origin allow-scripts allow-top-navigation-by-user-activation\" frameborder=\"0\" marginwidth=\"0\" marginheight=\"0\" vspace=\"0\" hspace=\"0\" allowtransparency=\"true\" scrolling=\"no\" src=\"https://googleads.g.doubleclick.net/pagead/ads?client=ca-pub-2982459700139266&amp;output=html&amp;adk=3397874647&amp;adf=2703517995&amp;lmt=1704796898&amp;plat=3%3A65536%2C4%3A65536%2C16%3A8388608%2C17%3A32%2C24%3A32%2C25%3A32%2C30%3A34603008%2C32%3A32%2C41%3A32%2C42%3A32&amp;format=0x0&amp;url=https%3A%2F%2Fpinkwink.kr%2Fsearch%2F%25EB%2594%25A5%25EB%259F%25AC%25EB%258B%259D&amp;ea=0&amp;host=ca-host-pub-9691043933427338&amp;pra=5&amp;wgl=1&amp;easpi=0&amp;asro=0&amp;asiscm=1&amp;aslmt=0.4&amp;asamt=-1&amp;asedf=0&amp;asefa=1&amp;aseiel=1~2~4~6&amp;aslcwct=150&amp;asacwct=25&amp;uach=WyJXaW5kb3dzIiwiMTAuMC4wIiwieDg2IiwiIiwiMTIwLjAuNjA5OS4yMDAiLG51bGwsMCxudWxsLCI2NCIsW1siTm90X0EgQnJhbmQiLCI4LjAuMC4wIl0sWyJDaHJvbWl1bSIsIjEyMC4wLjYwOTkuMjAwIl0sWyJHb29nbGUgQ2hyb21lIiwiMTIwLjAuNjA5OS4yMDAiXV0sMF0.&amp;dt=1704796897916&amp;bpp=3&amp;bdt=224&amp;idt=296&amp;shv=r20240104&amp;mjsv=m202401040101&amp;ptt=9&amp;saldr=aa&amp;abxe=1&amp;cookie=ID%3D97f521d0cf267eb8%3AT%3D1704795952%3ART%3D1704796264%3AS%3DALNI_MZZX_WAZA_HuzN_fa1lJDLaNNeZjQ&amp;gpic=UID%3D00000cd46376f01b%3AT%3D1704795952%3ART%3D1704796264%3AS%3DALNI_Mbhf3RlNzSBu7_f07KtLP-bSl6Llw&amp;nras=1&amp;correlator=515034788375&amp;frm=20&amp;pv=2&amp;ga_vid=1789015960.1704795165&amp;ga_sid=1704796898&amp;ga_hid=1498399665&amp;ga_fc=1&amp;u_tz=540&amp;u_his=5&amp;u_h=1080&amp;u_w=2560&amp;u_ah=1080&amp;u_aw=2560&amp;u_cd=24&amp;u_sd=1&amp;dmc=8&amp;adx=-12245933&amp;ady=-12245933&amp;biw=412&amp;bih=942&amp;scr_x=0&amp;scr_y=0&amp;eid=44759875%2C44759926%2C44759837%2C31080262%2C31080323%2C95320888&amp;oid=2&amp;pvsid=849406462119574&amp;tmod=556174894&amp;uas=0&amp;nvt=1&amp;fsapi=1&amp;ref=https%3A%2F%2Fpinkwink.kr%2F&amp;fc=1920&amp;brdim=3268%2C235%2C3268%2C235%2C2560%2C231%2C1000%2C1080%2C429%2C942&amp;vis=1&amp;rsz=%7C%7Cs%7C&amp;abl=NS&amp;fu=32768&amp;bc=31&amp;psd=W251bGwsbnVsbCxudWxsLDNd&amp;ifi=1&amp;uci=a!1&amp;fsb=1&amp;dtd=308\" data-google-container-id=\"a!1\" data-load-complete=\"true\"></iframe></div></ins><div id=\"acc-nav\">\\n  <a href=\"#content\">본문 바로가기</a>\\n</div>\\n<div id=\"wrap\" style=\"height: auto !important;\">\\n  <header id=\"header\">\\n    <h1><a href=\"https://pinkwink.kr/\">PinkWink</a></h1>\\n    <button type=\"button\" class=\"mobile-menu\"><span>메뉴</span></button>\\n    <div class=\"menu\">\\n      <nav id=\"gnb\">\\n        <ul class=\"tt_category\"><li class=\"\"><a href=\"/category\" class=\"link_tit\"> Posts by PinkWink <span class=\"c_cnt\">(1327)</span> </a>\\n  <ul class=\"category_list\"><li class=\"\"><a href=\"/category/Education\" class=\"link_item\"> Education <span class=\"c_cnt\">(44)</span> </a></li>\\n<li class=\"\"><a href=\"/category/Robot\" class=\"link_item\"> Robot <span class=\"c_cnt\">(166)</span> </a>\\n  <ul class=\"sub_category_list\"><li class=\"\"><a href=\"/category/Robot/Project\" class=\"link_sub_item\"> Project <span class=\"c_cnt\">(45)</span> </a></li>\\n<li class=\"\"><a href=\"/category/Robot/Robot%20Program%20-%20ROS\" class=\"link_sub_item\"> Robot Program - ROS <span class=\"c_cnt\">(69)</span> </a></li>\\n<li class=\"\"><a href=\"/category/Robot/Robot%20Module\" class=\"link_sub_item\"> Robot Module <span class=\"c_cnt\">(16)</span> </a></li>\\n<li class=\"\"><a href=\"/category/Robot/Block%20Coding\" class=\"link_sub_item\"> Block Coding <span class=\"c_cnt\">(13)</span> </a></li>\\n<li class=\"\"><a href=\"/category/Robot/Reference\" class=\"link_sub_item\"> Reference <span class=\"c_cnt\">(23)</span> </a></li>\\n</ul>\\n</li>\\n<li class=\"\"><a href=\"/category/Theory\" class=\"link_item\"> Theory <span class=\"c_cnt\">(228)</span> </a>\\n  <ul class=\"sub_category_list\"><li class=\"\"><a href=\"/category/Theory/ControlTheory\" class=\"link_sub_item\"> ControlTheory <span class=\"c_cnt\">(53)</span> </a></li>\\n<li class=\"\"><a href=\"/category/Theory/DataScience\" class=\"link_sub_item\"> DataScience <span class=\"c_cnt\">(52)</span> </a></li>\\n<li class=\"\"><a href=\"/category/Theory/MachineLearning\" class=\"link_sub_item\"> MachineLearning <span class=\"c_cnt\">(7)</span> </a></li>\\n<li class=\"\"><a href=\"/category/Theory/DeepLearning\" class=\"link_sub_item\"> DeepLearning <span class=\"c_cnt\">(19)</span> </a></li>\\n<li class=\"\"><a href=\"/category/Theory/Project\" class=\"link_sub_item\"> Project <span class=\"c_cnt\">(5)</span> </a></li>\\n<li class=\"\"><a href=\"/category/Theory/Lecture\" class=\"link_sub_item\"> Lecture <span class=\"c_cnt\">(77)</span> </a></li>\\n<li class=\"\"><a href=\"/category/Theory/Review\" class=\"link_sub_item\"> Review <span class=\"c_cnt\">(15)</span> </a></li>\\n</ul>\\n</li>\\n<li class=\"\"><a href=\"/category/Software\" class=\"link_item\"> Software <span class=\"c_cnt\">(304)</span> </a>\\n  <ul class=\"sub_category_list\"><li class=\"\"><a href=\"/category/Software/MATLAB\" class=\"link_sub_item\"> MATLAB <span class=\"c_cnt\">(65)</span> </a></li>\\n<li class=\"\"><a href=\"/category/Software/Python\" class=\"link_sub_item\"> Python <span class=\"c_cnt\">(78)</span> </a></li>\\n<li class=\"\"><a href=\"/category/Software/Processing\" class=\"link_sub_item\"> Processing <span class=\"c_cnt\">(11)</span> </a></li>\\n<li class=\"\"><a href=\"/category/Software/Ubuntu%20and%20Mint\" class=\"link_sub_item\"> Ubuntu and Mint <span class=\"c_cnt\">(42)</span> </a></li>\\n<li class=\"\"><a href=\"/category/Software/Mac%20OS\" class=\"link_sub_item\"> Mac OS <span class=\"c_cnt\">(25)</span> </a></li>\\n<li class=\"\"><a href=\"/category/Software/Useful%20SW\" class=\"link_sub_item\"> Useful SW <span class=\"c_cnt\">(60)</span> </a></li>\\n<li class=\"\"><a href=\"/category/Software/Useful%20Site\" class=\"link_sub_item\"> Useful Site <span class=\"c_cnt\">(23)</span> </a></li>\\n</ul>\\n</li>\\n<li class=\"\"><a href=\"/category/Hardware\" class=\"link_item\"> Hardware <span class=\"c_cnt\">(101)</span> </a>\\n  <ul class=\"sub_category_list\"><li class=\"\"><a href=\"/category/Hardware/SBC%20%28rasp%2C%20jetson%2C%20latte%20panda%29\" class=\"link_sub_item\"> SBC (rasp, jetson, latte pa.. <span class=\"c_cnt\">(20)</span> </a></li>\\n<li class=\"\"><a href=\"/category/Hardware/Arduino%20and%20Friends\" class=\"link_sub_item\"> Arduino and Friends <span class=\"c_cnt\">(30)</span> </a></li>\\n<li class=\"\"><a href=\"/category/Hardware/MCU\" class=\"link_sub_item\"> MCU <span class=\"c_cnt\">(16)</span> </a></li>\\n<li class=\"\"><a href=\"/category/Hardware/Review\" class=\"link_sub_item\"> Review <span class=\"c_cnt\">(35)</span> </a></li>\\n</ul>\\n</li>\\n<li class=\"\"><a href=\"/category/%EB%AC%B8%ED%99%94%EC%83%9D%ED%99%9C\" class=\"link_item\"> 문화생활 <span class=\"c_cnt\">(140)</span> </a>\\n  <ul class=\"sub_category_list\"><li class=\"\"><a href=\"/category/%EB%AC%B8%ED%99%94%EC%83%9D%ED%99%9C/%EA%B0%90%EC%83%81%ED%95%98%EA%B8%B0\" class=\"link_sub_item\"> 감상하기 <span class=\"c_cnt\">(28)</span> </a></li>\\n<li class=\"\"><a href=\"/category/%EB%AC%B8%ED%99%94%EC%83%9D%ED%99%9C/%EA%B0%80%EB%B3%BC%EA%B1%B0%EB%A6%AC.%EC%84%B8%EA%B3%84\" class=\"link_sub_item\"> 가볼거리.세계 <span class=\"c_cnt\">(84)</span> </a></li>\\n<li class=\"\"><a href=\"/category/%EB%AC%B8%ED%99%94%EC%83%9D%ED%99%9C/%EC%97%AD%EC%82%AC%EC%9D%B4%EC%95%BC%EA%B8%B0\" class=\"link_sub_item\"> 역사이야기 <span class=\"c_cnt\">(28)</span> </a></li>\\n</ul>\\n</li>\\n<li class=\"\"><a href=\"/category/%EC%9D%BC%EC%83%81%EC%83%9D%ED%99%9C\" class=\"link_item\"> 일상생활 <span class=\"c_cnt\">(344)</span> </a>\\n  <ul class=\"sub_category_list\"><li class=\"\"><a href=\"/category/%EC%9D%BC%EC%83%81%EC%83%9D%ED%99%9C/%EC%95%84%EA%B0%80%20%EB%AF%B8%EB%B0%94%EB%A4%BC\" class=\"link_sub_item\"> 아가 미바뤼 <span class=\"c_cnt\">(66)</span> </a></li>\\n<li class=\"\"><a href=\"/category/%EC%9D%BC%EC%83%81%EC%83%9D%ED%99%9C/%EB%81%84%EC%A0%81%EA%B1%B0%EB%A6%BC\" class=\"link_sub_item\"> 끄적거림 <span class=\"c_cnt\">(123)</span> </a></li>\\n<li class=\"\"><a href=\"/category/%EC%9D%BC%EC%83%81%EC%83%9D%ED%99%9C/%EB%A8%B9%EC%9D%84%EA%B1%B0%EB%A6%AC\" class=\"link_sub_item\"> 먹을거리 <span class=\"c_cnt\">(50)</span> </a></li>\\n<li class=\"\"><a href=\"/category/%EC%9D%BC%EC%83%81%EC%83%9D%ED%99%9C/%EA%B0%80%EB%B3%BC%EA%B1%B0%EB%A6%AC.%ED%95%9C%EA%B5%AD\" class=\"link_sub_item\"> 가볼거리.한국 <span class=\"c_cnt\">(91)</span> </a></li>\\n<li class=\"\"><a href=\"/category/%EC%9D%BC%EC%83%81%EC%83%9D%ED%99%9C/%ED%88%AC%EB%8D%9C%EA%B1%B0%EB%A6%BC\" class=\"link_sub_item\"> 투덜거림 <span class=\"c_cnt\">(14)</span> </a></li>\\n</ul>\\n</li>\\n</ul>\\n</li>\\n</ul>\\n\\n      </nav>\\n      <div class=\"social-link\">\\n        \\n        \\n        \\n        \\n      </div>\\n      <p>POWERED BY TISTORY</p>\\n    </div>\\n    <div class=\"search\">\\n      \\n          <input type=\"text\" name=\"search\" value=\"딥러닝\" placeholder=\"검색내용을 입력하세요.\" onkeypress=\"if (event.keyCode == 13) { try {\\n    window.location.href = \\'/search\\' + \\'/\\' + looseURIEncode(document.getElementsByName(\\'search\\')[0].value);\\n    document.getElementsByName(\\'search\\')[0].value = \\'\\';\\n    return false;\\n} catch (e) {} }\">\\n          <button type=\"submit\" onclick=\"try {\\n    window.location.href = \\'/search\\' + \\'/\\' + looseURIEncode(document.getElementsByName(\\'search\\')[0].value);\\n    document.getElementsByName(\\'search\\')[0].value = \\'\\';\\n    return false;\\n} catch (e) {}\">검색</button>\\n        \\n    </div>\\n  </header>\\n  <hr>\\n  <section class=\"container\">\\n    \\n    <article id=\"content\">\\n      \\n\\n      \\n\\n      \\n\\n      \\n        <div class=\"post-header\">\\n          <span><h1>딥러닝</h1></span>\\n          <span style=\"padding-left: 5px; font-weight: bold;\">(69)\\n          <div class=\"list-type\">\\n            <button type=\"button\" class=\"thum\">썸네일형</button>\\n            <button type=\"button\" class=\"list current\">리스트형</button>\\n          </div>\\n        </span></div>\\n      \\n\\n      <div class=\"inner\">\\n        \\n\\n                \\n            \\n  \\n    <div class=\"post-item\">\\n      <a href=\"/1447\">\\n        <span class=\"thum\">\\n          \\n            <img src=\"//i1.daumcdn.net/thumb/C264x200/?fname=https://blog.kakaocdn.net/dn/vYGHl/btsz9AzkVLv/XEDuxw2WIn0DdpF0IcPrz0/img.png\" alt=\"\">\\n          \\n        </span>\\n        <span class=\"title\">핑크랩이 데이원컴퍼니의 제로베이스에 데이터분석 과정 수업 개발에 참여했습니다.</span>\\n        <span class=\"date\">2023. 11. 12. 19:52</span>\\n        <span class=\"excerpt\">일단, 워낙 데이원컴퍼니의 고유명사처럼 인식되는 패스트캠퍼스부터 시작해야겠네요. 저는 회사이름도 패스트캠퍼스이던 시절, 그 분들이 흔히들 신사역 반지하 시절이라고 이야기하는 시절에 처음 인연을 맺엇습니다. 그 후 패스트캠퍼스는 2021년 사내 회사의 개념으로 CIC(Company In Compayny) 제도로 본사 이름을 데이원컴퍼니, 그리고, 각 CIC 중에 기존의 패스트캠퍼스와 스노우볼, 레모네이드, 콜로서를 두었습니다. 데이원컴퍼니는 이상한 변호사 우영우의 촬영지로 유명한 센터필드에 입주해있으며, 처음 2014년 혹은 2015년부터 2019년까지 누적매출 천억을 성인 교육으로 돌파한 대단한 이력의 회사입니다. 아무튼 우리가 자주 패스트캠퍼스라고 이야기하는 회사는 데이원컴퍼니가 되었고, 그 중 한 C..</span>\\n      </a>\\n    </div>\\n  \\n  \\n\\n            \\n        \\n            \\n  \\n    <div class=\"post-item\">\\n      <a href=\"/1446\">\\n        <span class=\"thum\">\\n          \\n            <img src=\"//i1.daumcdn.net/thumb/C264x200/?fname=https://blog.kakaocdn.net/dn/nWJOK/btsAc2O4tOi/3CKxe7CnJXCgUNpyBgCyb1/img.png\" alt=\"\">\\n          \\n        </span>\\n        <span class=\"title\">핑크랩이 아트센터 나비와 서울대 UX랩에 기술적 지원 프로젝트를 진행했습니다. ESP32, UWB 등을 활용한 공간 위치인식 및 음성 전송</span>\\n        <span class=\"date\">2023. 11. 12. 13:43</span>\\n        <span class=\"excerpt\">작년에 저는 아트센터 나비와 서울대 UX랩 분들을 대상으로 인력 양성 사업의 일종으로 아두이노 등 HW관련 수업을 진행했습니다. 그 인연으로 이번에 핑크랩이 ESP32, UWB 등을 활용한 공간 위치인식 및 음성 전송 관련된 프로젝트를 살짝 진행했습니다. 배경 https://pinkwink.kr/1418 아트센터 나비에서 예술쪽 분들에게 아두이노 교육을 진행했습니다. 시작은 작년인 2022년 10월부터입니다. 어떤때는 일주에 한번, 또 어떤때는 2~3주 걸러 한 번씩 금요일마다 오후에 진행되었습니다. 처음 이 건을 의뢰해 주신 분은 한국로봇융합연구원이었습니다 pinkwink.kr 이때 여러 대화중에 무언가 큰~~~~ 계획을 하시는 두 기관의 연구원들께서 프로젝트 진행의 부스트업, 진행속도의 가속력(^^)..</span>\\n      </a>\\n    </div>\\n  \\n  \\n\\n            \\n        \\n            \\n  \\n    <div class=\"post-item\">\\n      <a href=\"/1442\">\\n        <span class=\"thum\">\\n          \\n            <img src=\"//i1.daumcdn.net/thumb/C264x200/?fname=https://blog.kakaocdn.net/dn/mqswu/btszojRvW84/iUyoT3foutdwx8x0vWDN7k/img.png\" alt=\"\">\\n          \\n        </span>\\n        <span class=\"title\">핑크랩이 2023년 여름. 서울로봇아카데미의 교육을 진행했습니다.</span>\\n        <span class=\"date\">2023. 10. 29. 09:30</span>\\n        <span class=\"excerpt\">올해 2023년도 이제 2개월이 남았네요. 이런 느낌으로 한 해의 끝을 바라보는 것이 벌써 수십년째(헉.ㅠㅠ. 세월...)인데 여전히 한 해에 대한 아쉬움이 남습니다. 그러나 저와 저희 핑크랩(PinkLAB)은 23년을 정말 열심히 살았습니다. 그 중 여름에 진행한 서울로봇아카데미의 한 과정이 기억에 남습니다. 그 과정을 소개하려고 합니다. 핑크랩이 진행한 서울로봇아카데미 과정 서울로봇 아카데미는 서울시가 운영하는 로봇 교육 기관입니다. 서울로봇아카데미는 서울시의 위탁을 받아, 한국로봇산업협회와 한국로봇융합연구원이 서울로봇아카데미를 위탁 운영합니다. 그러니까 서울시가 주최기관이고, 한국로봇산업협회와 한국로봇융합연구원이 주관기관인거죠. 23년 여름에는 위 그림처럼 4개의 과정이 개설되었습니다. 그 중에서 ..</span>\\n      </a>\\n    </div>\\n  \\n  \\n\\n            \\n        \\n            \\n  \\n    <div class=\"post-item\">\\n      <a href=\"/1431\">\\n        <span class=\"thum\">\\n          \\n            <img src=\"//i1.daumcdn.net/thumb/C264x200/?fname=https://blog.kakaocdn.net/dn/J0V5K/btsoRx1SeGy/C4GQywG2o9ZqX3KgfpfjV1/img.png\" alt=\"\">\\n          \\n        </span>\\n        <span class=\"title\">[수강생 프로젝트 소개] 행동 인지 예측 모델을 이용한 불량 제품 검수 모델 개발</span>\\n        <span class=\"date\">2023. 7. 26. 08:10</span>\\n        <span class=\"excerpt\">안녕하세요. 이번에도 제가 제로베이스 데이터사이언스 스쿨에서 수업을 진행한 팀의 업적(?)을 도 하나 소개하려고 합니다. 이번 팀은 작업의 절차를 인식하려고 노력한 팀입니다. 물건을 놓아라, 돌려라 등의 행동을 인식해서 모델이 작업자가 가이드에 맞춰 잘 작업을 진행하고 있는지 그리고 대상 물건은 정상인지 등을 확인하는 모델을 만들려는 것입니다. 먼저 인지해야하는 행동 등을 정의를 내렸습니다. 그리고 불량 제품도 선정하구요. 이번 팀은 YOLO로 물체 인식, 미디어파이프로 Pose 인식, 그리고 인식된 pose를 이용해서 행동을 인식하는 것은 LSTM을 사용했습니다. 여러 상황을 조금 가정하고 진행을 했습니다. 단순한 행동이긴 하지만, \"돌려라\"의 행동을 인식하는 것은 단순히 한 장의 사진으로 되는 것이 ..</span>\\n      </a>\\n    </div>\\n  \\n  \\n\\n            \\n        \\n            \\n  \\n    <div class=\"post-item\">\\n      <a href=\"/1427\">\\n        <span class=\"thum\">\\n          \\n            <img src=\"//i1.daumcdn.net/thumb/C264x200/?fname=https://blog.kakaocdn.net/dn/mZyxa/btskllcT9gn/RncR5K8s9eJ03JkKaexNaK/img.png\" alt=\"\">\\n          \\n        </span>\\n        <span class=\"title\">영상 인식에 필요한 기초 기법 간편 정리 - ArUCo Marker, YOLO 등</span>\\n        <span class=\"date\">2023. 6. 19. 09:11</span>\\n        <span class=\"excerpt\">이번에는 로봇에서 영상인식, 혹은 간단한 프로젝트에서 영상을 인식하는 부분에 대해 간단히 정리해서 유투브에 올렸습니다. 여러가지를 모두 다루면 좋겠지만, 윈도우 환경에서 설명을 했고, OpenCV 기초, ArUCo Marker 이야기, YOLO, YOLO를 위한 라벨링 작업등을 초~간단하게 설명했습니다. 먼저 아래 링크는 영상 전체의 재생목록입니다. https://www.youtube.com/playlist?list=PL83j7f4UkozEKBsOgKNEy79w5ClNMtxSF 영상 인식에 필요한 기법 간편 정리 이번에는 로봇에서 영상인식, 혹은 간단한 프로젝트에서 영상을 인식하는 부분에 대해 간단히 정리해서 유투브에 올렸습니다. 여러가지를 모두 다루면 좋겠지만, 윈도우 환경에서 설명을 했고, www.y..</span>\\n      </a>\\n    </div>\\n  \\n  \\n\\n            \\n        \\n            \\n  \\n    <div class=\"post-item\">\\n      <a href=\"/1426\">\\n        <span class=\"thum\">\\n          \\n            <img src=\"//i1.daumcdn.net/thumb/C264x200/?fname=https://blog.kakaocdn.net/dn/bpcaLp/btsjlEE1g6j/ytddI9gaz4lkPBsz6A5RVK/img.png\" alt=\"\">\\n          \\n        </span>\\n        <span class=\"title\">[수강생 프로젝트 소개] 리뷰 분석 및 리뷰 가치 평가</span>\\n        <span class=\"date\">2023. 6. 12. 08:00</span>\\n        <span class=\"excerpt\">이번에 소개해 드릴 프로젝트는 제가 전임강사로 있는 제로베이스의 한 수강생들의 프로젝트입니다. 제로베이스의 수업은 저와 본격적으로 만나게 되는 프로젝트 단계까지 도착하시는 분들이 여러 사정으로 비율로는 낮게 오시는데요. 그 일련의 과정을 버티고 버텨서 도착하신 분들이라 꽤 수준 높은 프로젝트를 진행할 때가 많습니다. 이번에 소개해드릴 팀도 재미있는 프로젝트를 멋지게 수행한 팀 중 한 팀입니다. 개요 제목을 귀여운 공격적 스타일(^?^)로 잘 뽑은 것 같습니다. 그러나 제목에서 하고자 하는 일이 바로 들어나죠. 쇼핑몰의 상품에 달린 리뷰의 사진이 올바르게 찍혔냐는 부분을 검증하는 것으로 보시면 됩니다. 네 위 그림에서 보여주듯이, 좋은 리뷰에게 좋은 보상을 하도록 해서 리뷰 시스템을 건전하게 만들겠다는 것..</span>\\n      </a>\\n    </div>\\n  \\n  \\n\\n            \\n        \\n            \\n  \\n    <div class=\"post-item\">\\n      <a href=\"/1423\">\\n        <span class=\"thum\">\\n          \\n            <img src=\"//i1.daumcdn.net/thumb/C264x200/?fname=https://blog.kakaocdn.net/dn/b2u9XJ/btsgpYNip1p/4ArmaU8DKLL6EkhVlXMn2K/img.png\" alt=\"\">\\n          \\n        </span>\\n        <span class=\"title\">핑크랩이 진행한 H Mobility 해커톤 대회 이야기</span>\\n        <span class=\"date\">2023. 5. 18. 17:44</span>\\n        <span class=\"excerpt\">작년 11월에 저희 핑크랩이 현대자동차의 H-Mobility 해커톤 대회를 진행하게 되었다고 하고, 첫 행사를 진행한 후 글을 올렸었습니다. 그리고 애초 계약했던 두 번째 행사를 지난 주 주말, 5월 13일 14일에 진행해서 이제 전체 진행을 마쳤습니다. 대회의 주제 자체는 지난번 글에서 다루어서 아래 글을 보시고, 오늘은 저와 저희 팀 - 핑크랩의 이야기를 해보려고 합니다. 해커톤을 어떻게 준비해 갔는지를 이야기를 해볼까 합니다. https://pinkwink.kr/1400 22년 11월 H-Mobility Robotics 해커톤 대회를 마쳤습니다 얼마전에 저희 핑크랩이 현대 H 모빌리티 로보틱스 해커톤 대회를 연다고 했었는데요. https://pinkwink.kr/1397 핑크랩이 H-Mobility..</span>\\n      </a>\\n    </div>\\n  \\n  \\n\\n            \\n        \\n            \\n  \\n    <div class=\"post-item\">\\n      <a href=\"/1421\">\\n        <span class=\"thum\">\\n          \\n            <img src=\"//i1.daumcdn.net/thumb/C264x200/?fname=https://blog.kakaocdn.net/dn/mRax9/btsc1u1UlQl/dgpqyFQtJ2f27FKr0SXu31/img.png\" alt=\"\">\\n          \\n        </span>\\n        <span class=\"title\">[수강생 프로젝트 소개] 자율주행 로봇 SW 개발 - 차선인식, 장애물 회피, SLAM, ROS2</span>\\n        <span class=\"date\">2023. 4. 28. 08:00</span>\\n        <span class=\"excerpt\">최근 저는 정말 바쁜 날을 보내고 있습니다. 그 와중에 그래도 소개할 팀은 또 소개해야죠?^^ 이번에 소개할 팀의 결과물은 저에게 딥러닝과 ROS2 등의 수업을 시작한지 대략 5개월이 되던 시점에 시작한 프로젝트의 결과입니다. 처음에는 어미로봇이 아가로봇(^^)들을 데리고 실외를 주행한 다음 실내에서는 아가로봇들이 동작하는 컨셉이었습니다. 그러나 배우는 단계의 학생들이라 자금의 여력이 충분치 않아서 안타깝게도 많이 생략해야 했던 ... 슬픔이 있습니다. 그래도 저는 이 팀이 잘했다 싶은 것은 스스로 수행한 일들이 아래와 같기 때문입니다. 차선 인식을 하기 위한 segmentation 모델 학습 인식된 차선으로 로봇 기동하기 차선 위의 장애물을 감지하고 회피 기동하기 ROS2 slam을 이용해서 맵빌딩하고..</span>\\n      </a>\\n    </div>\\n  \\n  \\n\\n            \\n        \\n        <script async=\"\" src=\"https://pagead2.googlesyndication.com/pagead/js/adsbygoogle.js?client=ca-pub-2982459700139266\" crossorigin=\"anonymous\" data-checked-head=\"true\"></script>\\n<ins class=\"adsbygoogle\" style=\"display: block; height: 1293px;\" data-ad-format=\"autorelaxed\" data-ad-client=\"ca-pub-2982459700139266\" data-ad-slot=\"4966491850\" data-adsbygoogle-status=\"done\" data-ad-status=\"filled\"><div id=\"aswift_1_host\" tabindex=\"0\" title=\"Advertisement\" aria-label=\"Advertisement\" style=\"border: none; height: 1293px; width: 376px; margin: 0px; padding: 0px; position: relative; visibility: visible; background-color: transparent; display: inline-block;\"><iframe id=\"aswift_1\" name=\"aswift_1\" style=\"left:0;position:absolute;top:0;border:0;width:376px;height:1293px;\" sandbox=\"allow-forms allow-popups allow-popups-to-escape-sandbox allow-same-origin allow-scripts allow-top-navigation-by-user-activation\" width=\"376\" height=\"1293\" frameborder=\"0\" marginwidth=\"0\" marginheight=\"0\" vspace=\"0\" hspace=\"0\" allowtransparency=\"true\" scrolling=\"no\" src=\"https://googleads.g.doubleclick.net/pagead/ads?client=ca-pub-2982459700139266&amp;output=html&amp;h=1293&amp;slotname=4966491850&amp;adk=3571497776&amp;adf=1807177087&amp;pi=t.ma~as.4966491850&amp;w=376&amp;cr_col=1&amp;cr_row=13&amp;fwrn=2&amp;lmt=1704796898&amp;rafmt=9&amp;format=376x1293&amp;url=https%3A%2F%2Fpinkwink.kr%2Fsearch%2F%25EB%2594%25A5%25EB%259F%25AC%25EB%258B%259D&amp;ea=0&amp;host=ca-host-pub-9691043933427338&amp;crui=image_sidebyside&amp;fwr=0&amp;wgl=1&amp;uach=WyJXaW5kb3dzIiwiMTAuMC4wIiwieDg2IiwiIiwiMTIwLjAuNjA5OS4yMDAiLG51bGwsMCxudWxsLCI2NCIsW1siTm90X0EgQnJhbmQiLCI4LjAuMC4wIl0sWyJDaHJvbWl1bSIsIjEyMC4wLjYwOTkuMjAwIl0sWyJHb29nbGUgQ2hyb21lIiwiMTIwLjAuNjA5OS4yMDAiXV0sMF0.&amp;dt=1704796897938&amp;bpp=44&amp;bdt=247&amp;idt=386&amp;shv=r20240104&amp;mjsv=m202401040101&amp;ptt=9&amp;saldr=aa&amp;abxe=1&amp;cookie=ID%3D97f521d0cf267eb8%3AT%3D1704795952%3ART%3D1704796264%3AS%3DALNI_MZZX_WAZA_HuzN_fa1lJDLaNNeZjQ&amp;gpic=UID%3D00000cd46376f01b%3AT%3D1704795952%3ART%3D1704796264%3AS%3DALNI_Mbhf3RlNzSBu7_f07KtLP-bSl6Llw&amp;prev_fmts=0x0&amp;nras=1&amp;correlator=515034788375&amp;frm=20&amp;pv=1&amp;ga_vid=1789015960.1704795165&amp;ga_sid=1704796898&amp;ga_hid=1498399665&amp;ga_fc=1&amp;u_tz=540&amp;u_his=5&amp;u_h=1080&amp;u_w=2560&amp;u_ah=1080&amp;u_aw=2560&amp;u_cd=24&amp;u_sd=1&amp;dmc=8&amp;adx=18&amp;ady=1537&amp;biw=412&amp;bih=942&amp;scr_x=0&amp;scr_y=0&amp;eid=44759875%2C44759926%2C44759837%2C31080262%2C31080323%2C95320888&amp;oid=2&amp;pvsid=849406462119574&amp;tmod=556174894&amp;uas=0&amp;nvt=1&amp;ref=https%3A%2F%2Fpinkwink.kr%2F&amp;fc=1920&amp;brdim=3268%2C235%2C3268%2C235%2C2560%2C231%2C1000%2C1080%2C429%2C942&amp;vis=1&amp;rsz=o%7C%7CeEbr%7C&amp;abl=CS&amp;pfx=0&amp;fu=128&amp;bc=31&amp;psd=W251bGwsbnVsbCxudWxsLDNd&amp;ifi=2&amp;uci=a!2&amp;btvi=1&amp;fsb=1&amp;dtd=397\" data-google-container-id=\"a!2\" data-google-query-id=\"CNeR56yP0IMDFcrnFgUd_ZMEIQ\" data-load-complete=\"true\"></iframe></div></ins>\\n<script>\\n     (adsbygoogle = window.adsbygoogle || []).push({});\\n</script>\\n      </div>\\n\\n      \\n\\n      \\n\\n      \\n        <div class=\"pagination\">\\n          <a class=\"prev no-more-prev\" style=\"display: none;\">이전</a>\\n          \\n            <a href=\"/search/%EB%94%A5%EB%9F%AC%EB%8B%9D?page=1\" style=\"display: none;\"><span class=\"selected\">1</span></a>\\n          \\n            <a href=\"/search/%EB%94%A5%EB%9F%AC%EB%8B%9D?page=2\" style=\"display: none;\"><span class=\"\">2</span></a>\\n          \\n            <a href=\"/search/%EB%94%A5%EB%9F%AC%EB%8B%9D?page=3\" style=\"display: none;\"><span class=\"\">3</span></a>\\n          \\n            <a href=\"/search/%EB%94%A5%EB%9F%AC%EB%8B%9D?page=4\" style=\"display: none;\"><span class=\"\">4</span></a>\\n          \\n            <a style=\"display: none;\"><span class=\"\">···</span></a>\\n          \\n            <a href=\"/search/%EB%94%A5%EB%9F%AC%EB%8B%9D?page=9\" style=\"display: none;\"><span class=\"\">9</span></a>\\n          \\n          <a href=\"/search/%EB%94%A5%EB%9F%AC%EB%8B%9D?page=2\" class=\"next \" style=\"display: none;\">다음</a>\\n        <a href=\"/search/%EB%94%A5%EB%9F%AC%EB%8B%9D?page=2\" class=\"btn view-more\">목록 더보기</a></div>\\n      \\n\\n    </article>\\n\\n  \\n  </section>\\n  <hr>\\n  <div class=\"revenue_unit_wrap position_list\">\\n  <div class=\"revenue_unit_item adsense responsive\">\\n    <div class=\"revenue_unit_info\">반응형</div>\\n    <script src=\"//pagead2.googlesyndication.com/pagead/js/adsbygoogle.js\" async=\"async\"></script>\\n    <ins class=\"adsbygoogle\" style=\"display: block; transition: none 0s ease 0s; outline: none; border: none; padding: 0px; border-spacing: 0px; margin-left: 0px; width: 412px; z-index: 30; height: 343px;\" data-ad-host=\"ca-host-pub-9691043933427338\" data-ad-client=\"ca-pub-2982459700139266\" data-ad-format=\"auto\" data-adsbygoogle-status=\"done\" data-ad-status=\"filled\"><div id=\"aswift_2_host\" tabindex=\"0\" title=\"Advertisement\" aria-label=\"Advertisement\" style=\"border: none; height: 343px; width: 412px; margin: 0px; padding: 0px; position: relative; visibility: visible; background-color: transparent; display: inline-block; overflow: visible;\"><iframe id=\"aswift_2\" name=\"aswift_2\" style=\"left:0;position:absolute;top:0;border:0;width:412px;height:343px;\" sandbox=\"allow-forms allow-popups allow-popups-to-escape-sandbox allow-same-origin allow-scripts allow-top-navigation-by-user-activation\" width=\"412\" height=\"343\" frameborder=\"0\" marginwidth=\"0\" marginheight=\"0\" vspace=\"0\" hspace=\"0\" allowtransparency=\"true\" scrolling=\"no\" src=\"https://googleads.g.doubleclick.net/pagead/ads?client=ca-pub-2982459700139266&amp;output=html&amp;h=343&amp;adk=1337605279&amp;adf=1602128588&amp;w=412&amp;lmt=1704796898&amp;rafmt=1&amp;format=412x343&amp;url=https%3A%2F%2Fpinkwink.kr%2Fsearch%2F%25EB%2594%25A5%25EB%259F%25AC%25EB%258B%259D&amp;ea=0&amp;host=ca-host-pub-9691043933427338&amp;fwr=1&amp;rpe=1&amp;resp_fmts=3&amp;sfro=1&amp;wgl=1&amp;uach=WyJXaW5kb3dzIiwiMTAuMC4wIiwieDg2IiwiIiwiMTIwLjAuNjA5OS4yMDAiLG51bGwsMCxudWxsLCI2NCIsW1siTm90X0EgQnJhbmQiLCI4LjAuMC4wIl0sWyJDaHJvbWl1bSIsIjEyMC4wLjYwOTkuMjAwIl0sWyJHb29nbGUgQ2hyb21lIiwiMTIwLjAuNjA5OS4yMDAiXV0sMF0.&amp;dt=1704796898058&amp;bpp=3&amp;bdt=366&amp;idt=295&amp;shv=r20240104&amp;mjsv=m202401040101&amp;ptt=9&amp;saldr=aa&amp;abxe=1&amp;cookie=ID%3D97f521d0cf267eb8%3AT%3D1704795952%3ART%3D1704796264%3AS%3DALNI_MZZX_WAZA_HuzN_fa1lJDLaNNeZjQ&amp;gpic=UID%3D00000cd46376f01b%3AT%3D1704795952%3ART%3D1704796264%3AS%3DALNI_Mbhf3RlNzSBu7_f07KtLP-bSl6Llw&amp;prev_fmts=0x0%2C376x1293&amp;nras=1&amp;correlator=515034788375&amp;frm=20&amp;pv=1&amp;ga_vid=1789015960.1704795165&amp;ga_sid=1704796898&amp;ga_hid=1498399665&amp;ga_fc=1&amp;u_tz=540&amp;u_his=5&amp;u_h=1080&amp;u_w=2560&amp;u_ah=1080&amp;u_aw=2560&amp;u_cd=24&amp;u_sd=1&amp;dmc=8&amp;adx=0&amp;ady=3102&amp;biw=412&amp;bih=942&amp;scr_x=0&amp;scr_y=0&amp;eid=44759875%2C44759926%2C44759837%2C31080262%2C31080323%2C95320888&amp;oid=2&amp;pvsid=849406462119574&amp;tmod=556174894&amp;uas=0&amp;nvt=1&amp;ref=https%3A%2F%2Fpinkwink.kr%2F&amp;fc=1920&amp;brdim=3268%2C235%2C3268%2C235%2C2560%2C231%2C1000%2C1080%2C429%2C942&amp;vis=1&amp;rsz=o%7C%7CoeEbr%7C&amp;abl=CS&amp;pfx=0&amp;fu=128&amp;bc=31&amp;psd=W251bGwsbnVsbCxudWxsLDNd&amp;ifi=3&amp;uci=a!3&amp;btvi=2&amp;fsb=1&amp;dtd=302\" data-google-container-id=\"a!3\" data-google-query-id=\"CIbU56yP0IMDFczSFgUdQ-EGUQ\" data-load-complete=\"true\"></iframe></div></ins>\\n    <script>(adsbygoogle = window.adsbygoogle || []).push({});</script>\\n  </div>\\n</div>\\n  <footer id=\"footer\">\\n    <p class=\"copyright\">DESIGN BY <a href=\"#\">TISTORY</a> <a href=\"https://pinkwink.tistory.com/manage\" class=\"admin\">관리자</a></p>\\n  </footer>\\n</div>\\n<script src=\"https://tistory1.daumcdn.net/tistory/371175/skin/images/script.js?_version_=1687613150\"></script>\\n\\n\\n\\n<script async=\"\" src=\"//pagead2.googlesyndication.com/pagead/js/adsbygoogle.js\"></script>\\n<div class=\"#menubar menu_toolbar \">\\n  <h2 class=\"screen_out\">티스토리툴바</h2>\\n</div>\\n<div class=\"#menubar menu_toolbar \"></div>\\n<div class=\"layer_tooltip\">\\n  <div class=\"inner_layer_tooltip\">\\n    <p class=\"desc_g\"></p>\\n  </div>\\n</div>\\n<iframe id=\"editEntry\" style=\"position:absolute;width:1px;height:1px;left:-100px;top:-100px\" src=\"//pinkwink.tistory.com/api\"></iframe>\\n\\n                        <!-- SyntaxHighlight - START -->\\n        <link href=\"//cdnjs.cloudflare.com/ajax/libs/highlight.js/10.7.3/styles/github.min.css\" rel=\"stylesheet\"><script src=\"//cdnjs.cloudflare.com/ajax/libs/highlight.js/10.7.3/highlight.min.js\"></script>\\n<script src=\"//cdnjs.cloudflare.com/ajax/libs/highlight.js/10.7.3/languages/delphi.min.js\"></script>\\n<script src=\"//cdnjs.cloudflare.com/ajax/libs/highlight.js/10.7.3/languages/php.min.js\"></script>\\n<script src=\"//cdnjs.cloudflare.com/ajax/libs/highlight.js/10.7.3/languages/python.min.js\"></script>\\n<script src=\"//cdnjs.cloudflare.com/ajax/libs/highlight.js/10.7.3/languages/r.min.js\" defer=\"\"></script>\\n<script src=\"//cdnjs.cloudflare.com/ajax/libs/highlight.js/10.7.3/languages/ruby.min.js\"></script>\\n<script src=\"//cdnjs.cloudflare.com/ajax/libs/highlight.js/10.7.3/languages/scala.min.js\" defer=\"\"></script>\\n<script src=\"//cdnjs.cloudflare.com/ajax/libs/highlight.js/10.7.3/languages/shell.min.js\"></script>\\n<script src=\"//cdnjs.cloudflare.com/ajax/libs/highlight.js/10.7.3/languages/sql.min.js\"></script>\\n<script src=\"//cdnjs.cloudflare.com/ajax/libs/highlight.js/10.7.3/languages/swift.min.js\" defer=\"\"></script>\\n<script src=\"//cdnjs.cloudflare.com/ajax/libs/highlight.js/10.7.3/languages/typescript.min.js\" defer=\"\"></script>\\n<script src=\"//cdnjs.cloudflare.com/ajax/libs/highlight.js/10.7.3/languages/vbnet.min.js\" defer=\"\"></script>\\n  <script>hljs.initHighlightingOnLoad();</script>\\n\\n\\n        <!-- SyntaxHighlight - END -->\\n\\n                \\n                <script type=\"text/javascript\">(function($) {\\n    $(document).ready(function() {\\n        lightbox.options.fadeDuration = 200;\\n        lightbox.options.resizeDuration = 200;\\n        lightbox.options.wrapAround = false;\\n        lightbox.options.albumLabel = \"%1 / %2\";\\n    })\\n})(tjQuery);</script>\\n<div style=\"margin:0; padding:0; border:none; background:none; float:none; clear:none; z-index:0\"></div>\\n<script type=\"text/javascript\" src=\"https://tistory1.daumcdn.net/tistory_admin/userblog/tistory-e6506e2a046e51fea310cb12269adb958a199e44/static/script/common.js\"></script>\\n<script type=\"text/javascript\">window.roosevelt_params_queue = window.roosevelt_params_queue || [{channel_id: \\'dk\\', channel_label: \\'{tistory}\\'}]</script>\\n<script type=\"text/javascript\" src=\"//t1.daumcdn.net/midas/rt/dk_bt/roosevelt_dk_bt.js\" async=\"async\"></script>\\n<script type=\"text/javascript\" src=\"https://tistory1.daumcdn.net/tistory_admin/userblog/tistory-e6506e2a046e51fea310cb12269adb958a199e44/static/script/menubar.min.js\"></script>\\n<script>            (function (win, doc, src) {\\n    win.Wpm = win.Wpm || function (name, param) {\\n        win.Wpm.queue = win.Wpm.queue || [];\\n        const { queue } = win.Wpm;\\n        queue.push([name, param]);\\n    };\\n    const script = doc.createElement(\\'script\\');\\n    script.src = src;\\n    script.async = 1;\\n    const [elem] = doc.getElementsByTagName(\\'script\\');\\n    elem.parentNode.insertBefore(script, elem);\\n})(window, document, \\'https://t1.kakaocdn.net/malibu_prod/normal_wpm.js\\');\\n            const APP_KEY = \\'fd21bd1c091849f9a2555e49c43a73dd\\';\\n            Wpm(\\'appKey\\', APP_KEY);</script>\\n\\n                \\n                <script>window.tiara = {\"svcDomain\":\"user.tistory.com\",\"section\":\"글뷰\",\"trackPage\":\"검색뷰_보기\",\"page\":\"검색뷰\",\"key\":\"371175\",\"customProps\":{\"userId\":\"0\",\"blogId\":\"371175\",\"entryId\":\"null\",\"role\":\"guest\",\"trackPage\":\"검색뷰_보기\",\"filterTarget\":false},\"entry\":null,\"kakaoAppKey\":\"3e6ddd834b023f24221217e370daed18\",\"appUserId\":\"null\"}</script>\\n<script type=\"text/javascript\" src=\"https://tistory1.daumcdn.net/tistory_admin/userblog/tistory-e6506e2a046e51fea310cb12269adb958a199e44/static/script/tiara.min.js\"></script>\\n\\n                \\n\\n<div id=\"lightboxOverlay\" class=\"lightboxOverlay\" style=\"display: none;\"></div><div id=\"lightbox\" class=\"lightbox\" style=\"display: none;\"><div class=\"lb-outerContainer\"><div class=\"lb-container\"><img class=\"lb-image\" src=\"data:image/gif;base64,R0lGODlhAQABAIAAAP///wAAACH5BAEAAAAALAAAAAABAAEAAAICRAEAOw==\"><div class=\"lb-nav\"><a class=\"lb-prev\" href=\"\"></a><a class=\"lb-next\" href=\"\"></a></div><div class=\"lb-loader\"><a class=\"lb-cancel\"></a></div></div></div><div class=\"lb-dataContainer\"><div class=\"lb-data\"><div class=\"lb-details\"><span class=\"lb-caption\"></span><span class=\"lb-number\"></span></div><div class=\"lb-closeContainer\"><a class=\"lb-close\"></a></div></div></div></div><ins class=\"adsbygoogle adsbygoogle-noablate\" data-adsbygoogle-status=\"done\" data-anchor-status=\"ready-to-display\" style=\"display: none;\" data-ad-status=\"filled\"><div id=\"aswift_3_host\" tabindex=\"0\" title=\"Advertisement\" aria-label=\"Advertisement\" style=\"border: none; height: 103px; width: 412px; margin: 0px; padding: 0px; position: relative; visibility: visible; background-color: transparent; display: inline-block;\"><iframe id=\"aswift_3\" name=\"aswift_3\" style=\"width:412px !IMPORTANT;height:103px !IMPORTANT\" sandbox=\"allow-forms allow-popups allow-popups-to-escape-sandbox allow-same-origin allow-scripts allow-top-navigation-by-user-activation\" width=\"412\" height=\"103\" frameborder=\"0\" marginwidth=\"0\" marginheight=\"0\" vspace=\"0\" hspace=\"0\" allowtransparency=\"true\" scrolling=\"no\" src=\"https://googleads.g.doubleclick.net/pagead/html/r20240104/r20110914/zrt_lookup_fy2021.html?fsb=1#RS-0-&amp;adk=3397874642&amp;client=ca-pub-2982459700139266&amp;fa=2&amp;ifi=4&amp;uci=a!4&amp;btvi=3\" data-google-container-id=\"a!4\" data-google-query-id=\"CLul36yP0IMDFd_QFgUd5dgC4w\" data-load-complete=\"true\"></iframe></div><div class=\"grippy-host\" style=\"position: absolute !important; top: 103px !important; width: 100% !important;\"></div></ins><iframe src=\"https://www.google.com/recaptcha/api2/aframe\" width=\"0\" height=\"0\" style=\"display: none;\"></iframe></body><iframe id=\"google_esf\" name=\"google_esf\" src=\"https://googleads.g.doubleclick.net/pagead/html/r20240104/r20190131/zrt_lookup_fy2021.html\" style=\"display: none;\"></iframe></html>'"
      ]
     },
     "execution_count": 77,
     "metadata": {},
     "output_type": "execute_result"
    }
   ],
   "source": [
    "driver.page_source"
   ]
  },
  {
   "cell_type": "markdown",
   "metadata": {},
   "source": [
    "- 위에서 실행한 \"딥러닝\" 검색 결과 창에서 포스트 가져오기\n",
    "\n",
    "![selenium_beautifulsoup](https://github.com/ElaYJ/Study_EDA/assets/153154981/63e98919-6552-4186-a3a2-1832f983ff08)"
   ]
  },
  {
   "cell_type": "code",
   "execution_count": 78,
   "metadata": {},
   "outputs": [
    {
     "data": {
      "text/plain": [
       "[<div class=\"post-item\">\n",
       " <a href=\"/1447\">\n",
       " <span class=\"thum\">\n",
       " <img alt=\"\" src=\"//i1.daumcdn.net/thumb/C264x200/?fname=https://blog.kakaocdn.net/dn/vYGHl/btsz9AzkVLv/XEDuxw2WIn0DdpF0IcPrz0/img.png\"/>\n",
       " </span>\n",
       " <span class=\"title\">핑크랩이 데이원컴퍼니의 제로베이스에 데이터분석 과정 수업 개발에 참여했습니다.</span>\n",
       " <span class=\"date\">2023. 11. 12. 19:52</span>\n",
       " <span class=\"excerpt\">일단, 워낙 데이원컴퍼니의 고유명사처럼 인식되는 패스트캠퍼스부터 시작해야겠네요. 저는 회사이름도 패스트캠퍼스이던 시절, 그 분들이 흔히들 신사역 반지하 시절이라고 이야기하는 시절에 처음 인연을 맺엇습니다. 그 후 패스트캠퍼스는 2021년 사내 회사의 개념으로 CIC(Company In Compayny) 제도로 본사 이름을 데이원컴퍼니, 그리고, 각 CIC 중에 기존의 패스트캠퍼스와 스노우볼, 레모네이드, 콜로서를 두었습니다. 데이원컴퍼니는 이상한 변호사 우영우의 촬영지로 유명한 센터필드에 입주해있으며, 처음 2014년 혹은 2015년부터 2019년까지 누적매출 천억을 성인 교육으로 돌파한 대단한 이력의 회사입니다. 아무튼 우리가 자주 패스트캠퍼스라고 이야기하는 회사는 데이원컴퍼니가 되었고, 그 중 한 C..</span>\n",
       " </a>\n",
       " </div>,\n",
       " <div class=\"post-item\">\n",
       " <a href=\"/1446\">\n",
       " <span class=\"thum\">\n",
       " <img alt=\"\" src=\"//i1.daumcdn.net/thumb/C264x200/?fname=https://blog.kakaocdn.net/dn/nWJOK/btsAc2O4tOi/3CKxe7CnJXCgUNpyBgCyb1/img.png\"/>\n",
       " </span>\n",
       " <span class=\"title\">핑크랩이 아트센터 나비와 서울대 UX랩에 기술적 지원 프로젝트를 진행했습니다. ESP32, UWB 등을 활용한 공간 위치인식 및 음성 전송</span>\n",
       " <span class=\"date\">2023. 11. 12. 13:43</span>\n",
       " <span class=\"excerpt\">작년에 저는 아트센터 나비와 서울대 UX랩 분들을 대상으로 인력 양성 사업의 일종으로 아두이노 등 HW관련 수업을 진행했습니다. 그 인연으로 이번에 핑크랩이 ESP32, UWB 등을 활용한 공간 위치인식 및 음성 전송 관련된 프로젝트를 살짝 진행했습니다. 배경 https://pinkwink.kr/1418 아트센터 나비에서 예술쪽 분들에게 아두이노 교육을 진행했습니다. 시작은 작년인 2022년 10월부터입니다. 어떤때는 일주에 한번, 또 어떤때는 2~3주 걸러 한 번씩 금요일마다 오후에 진행되었습니다. 처음 이 건을 의뢰해 주신 분은 한국로봇융합연구원이었습니다 pinkwink.kr 이때 여러 대화중에 무언가 큰~~~~ 계획을 하시는 두 기관의 연구원들께서 프로젝트 진행의 부스트업, 진행속도의 가속력(^^)..</span>\n",
       " </a>\n",
       " </div>,\n",
       " <div class=\"post-item\">\n",
       " <a href=\"/1442\">\n",
       " <span class=\"thum\">\n",
       " <img alt=\"\" src=\"//i1.daumcdn.net/thumb/C264x200/?fname=https://blog.kakaocdn.net/dn/mqswu/btszojRvW84/iUyoT3foutdwx8x0vWDN7k/img.png\"/>\n",
       " </span>\n",
       " <span class=\"title\">핑크랩이 2023년 여름. 서울로봇아카데미의 교육을 진행했습니다.</span>\n",
       " <span class=\"date\">2023. 10. 29. 09:30</span>\n",
       " <span class=\"excerpt\">올해 2023년도 이제 2개월이 남았네요. 이런 느낌으로 한 해의 끝을 바라보는 것이 벌써 수십년째(헉.ㅠㅠ. 세월...)인데 여전히 한 해에 대한 아쉬움이 남습니다. 그러나 저와 저희 핑크랩(PinkLAB)은 23년을 정말 열심히 살았습니다. 그 중 여름에 진행한 서울로봇아카데미의 한 과정이 기억에 남습니다. 그 과정을 소개하려고 합니다. 핑크랩이 진행한 서울로봇아카데미 과정 서울로봇 아카데미는 서울시가 운영하는 로봇 교육 기관입니다. 서울로봇아카데미는 서울시의 위탁을 받아, 한국로봇산업협회와 한국로봇융합연구원이 서울로봇아카데미를 위탁 운영합니다. 그러니까 서울시가 주최기관이고, 한국로봇산업협회와 한국로봇융합연구원이 주관기관인거죠. 23년 여름에는 위 그림처럼 4개의 과정이 개설되었습니다. 그 중에서 ..</span>\n",
       " </a>\n",
       " </div>,\n",
       " <div class=\"post-item\">\n",
       " <a href=\"/1431\">\n",
       " <span class=\"thum\">\n",
       " <img alt=\"\" src=\"//i1.daumcdn.net/thumb/C264x200/?fname=https://blog.kakaocdn.net/dn/J0V5K/btsoRx1SeGy/C4GQywG2o9ZqX3KgfpfjV1/img.png\"/>\n",
       " </span>\n",
       " <span class=\"title\">[수강생 프로젝트 소개] 행동 인지 예측 모델을 이용한 불량 제품 검수 모델 개발</span>\n",
       " <span class=\"date\">2023. 7. 26. 08:10</span>\n",
       " <span class=\"excerpt\">안녕하세요. 이번에도 제가 제로베이스 데이터사이언스 스쿨에서 수업을 진행한 팀의 업적(?)을 도 하나 소개하려고 합니다. 이번 팀은 작업의 절차를 인식하려고 노력한 팀입니다. 물건을 놓아라, 돌려라 등의 행동을 인식해서 모델이 작업자가 가이드에 맞춰 잘 작업을 진행하고 있는지 그리고 대상 물건은 정상인지 등을 확인하는 모델을 만들려는 것입니다. 먼저 인지해야하는 행동 등을 정의를 내렸습니다. 그리고 불량 제품도 선정하구요. 이번 팀은 YOLO로 물체 인식, 미디어파이프로 Pose 인식, 그리고 인식된 pose를 이용해서 행동을 인식하는 것은 LSTM을 사용했습니다. 여러 상황을 조금 가정하고 진행을 했습니다. 단순한 행동이긴 하지만, \"돌려라\"의 행동을 인식하는 것은 단순히 한 장의 사진으로 되는 것이 ..</span>\n",
       " </a>\n",
       " </div>,\n",
       " <div class=\"post-item\">\n",
       " <a href=\"/1427\">\n",
       " <span class=\"thum\">\n",
       " <img alt=\"\" src=\"//i1.daumcdn.net/thumb/C264x200/?fname=https://blog.kakaocdn.net/dn/mZyxa/btskllcT9gn/RncR5K8s9eJ03JkKaexNaK/img.png\"/>\n",
       " </span>\n",
       " <span class=\"title\">영상 인식에 필요한 기초 기법 간편 정리 - ArUCo Marker, YOLO 등</span>\n",
       " <span class=\"date\">2023. 6. 19. 09:11</span>\n",
       " <span class=\"excerpt\">이번에는 로봇에서 영상인식, 혹은 간단한 프로젝트에서 영상을 인식하는 부분에 대해 간단히 정리해서 유투브에 올렸습니다. 여러가지를 모두 다루면 좋겠지만, 윈도우 환경에서 설명을 했고, OpenCV 기초, ArUCo Marker 이야기, YOLO, YOLO를 위한 라벨링 작업등을 초~간단하게 설명했습니다. 먼저 아래 링크는 영상 전체의 재생목록입니다. https://www.youtube.com/playlist?list=PL83j7f4UkozEKBsOgKNEy79w5ClNMtxSF 영상 인식에 필요한 기법 간편 정리 이번에는 로봇에서 영상인식, 혹은 간단한 프로젝트에서 영상을 인식하는 부분에 대해 간단히 정리해서 유투브에 올렸습니다. 여러가지를 모두 다루면 좋겠지만, 윈도우 환경에서 설명을 했고, www.y..</span>\n",
       " </a>\n",
       " </div>,\n",
       " <div class=\"post-item\">\n",
       " <a href=\"/1426\">\n",
       " <span class=\"thum\">\n",
       " <img alt=\"\" src=\"//i1.daumcdn.net/thumb/C264x200/?fname=https://blog.kakaocdn.net/dn/bpcaLp/btsjlEE1g6j/ytddI9gaz4lkPBsz6A5RVK/img.png\"/>\n",
       " </span>\n",
       " <span class=\"title\">[수강생 프로젝트 소개] 리뷰 분석 및 리뷰 가치 평가</span>\n",
       " <span class=\"date\">2023. 6. 12. 08:00</span>\n",
       " <span class=\"excerpt\">이번에 소개해 드릴 프로젝트는 제가 전임강사로 있는 제로베이스의 한 수강생들의 프로젝트입니다. 제로베이스의 수업은 저와 본격적으로 만나게 되는 프로젝트 단계까지 도착하시는 분들이 여러 사정으로 비율로는 낮게 오시는데요. 그 일련의 과정을 버티고 버텨서 도착하신 분들이라 꽤 수준 높은 프로젝트를 진행할 때가 많습니다. 이번에 소개해드릴 팀도 재미있는 프로젝트를 멋지게 수행한 팀 중 한 팀입니다. 개요 제목을 귀여운 공격적 스타일(^?^)로 잘 뽑은 것 같습니다. 그러나 제목에서 하고자 하는 일이 바로 들어나죠. 쇼핑몰의 상품에 달린 리뷰의 사진이 올바르게 찍혔냐는 부분을 검증하는 것으로 보시면 됩니다. 네 위 그림에서 보여주듯이, 좋은 리뷰에게 좋은 보상을 하도록 해서 리뷰 시스템을 건전하게 만들겠다는 것..</span>\n",
       " </a>\n",
       " </div>,\n",
       " <div class=\"post-item\">\n",
       " <a href=\"/1423\">\n",
       " <span class=\"thum\">\n",
       " <img alt=\"\" src=\"//i1.daumcdn.net/thumb/C264x200/?fname=https://blog.kakaocdn.net/dn/b2u9XJ/btsgpYNip1p/4ArmaU8DKLL6EkhVlXMn2K/img.png\"/>\n",
       " </span>\n",
       " <span class=\"title\">핑크랩이 진행한 H Mobility 해커톤 대회 이야기</span>\n",
       " <span class=\"date\">2023. 5. 18. 17:44</span>\n",
       " <span class=\"excerpt\">작년 11월에 저희 핑크랩이 현대자동차의 H-Mobility 해커톤 대회를 진행하게 되었다고 하고, 첫 행사를 진행한 후 글을 올렸었습니다. 그리고 애초 계약했던 두 번째 행사를 지난 주 주말, 5월 13일 14일에 진행해서 이제 전체 진행을 마쳤습니다. 대회의 주제 자체는 지난번 글에서 다루어서 아래 글을 보시고, 오늘은 저와 저희 팀 - 핑크랩의 이야기를 해보려고 합니다. 해커톤을 어떻게 준비해 갔는지를 이야기를 해볼까 합니다. https://pinkwink.kr/1400 22년 11월 H-Mobility Robotics 해커톤 대회를 마쳤습니다 얼마전에 저희 핑크랩이 현대 H 모빌리티 로보틱스 해커톤 대회를 연다고 했었는데요. https://pinkwink.kr/1397 핑크랩이 H-Mobility..</span>\n",
       " </a>\n",
       " </div>,\n",
       " <div class=\"post-item\">\n",
       " <a href=\"/1421\">\n",
       " <span class=\"thum\">\n",
       " <img alt=\"\" src=\"//i1.daumcdn.net/thumb/C264x200/?fname=https://blog.kakaocdn.net/dn/mRax9/btsc1u1UlQl/dgpqyFQtJ2f27FKr0SXu31/img.png\"/>\n",
       " </span>\n",
       " <span class=\"title\">[수강생 프로젝트 소개] 자율주행 로봇 SW 개발 - 차선인식, 장애물 회피, SLAM, ROS2</span>\n",
       " <span class=\"date\">2023. 4. 28. 08:00</span>\n",
       " <span class=\"excerpt\">최근 저는 정말 바쁜 날을 보내고 있습니다. 그 와중에 그래도 소개할 팀은 또 소개해야죠?^^ 이번에 소개할 팀의 결과물은 저에게 딥러닝과 ROS2 등의 수업을 시작한지 대략 5개월이 되던 시점에 시작한 프로젝트의 결과입니다. 처음에는 어미로봇이 아가로봇(^^)들을 데리고 실외를 주행한 다음 실내에서는 아가로봇들이 동작하는 컨셉이었습니다. 그러나 배우는 단계의 학생들이라 자금의 여력이 충분치 않아서 안타깝게도 많이 생략해야 했던 ... 슬픔이 있습니다. 그래도 저는 이 팀이 잘했다 싶은 것은 스스로 수행한 일들이 아래와 같기 때문입니다. 차선 인식을 하기 위한 segmentation 모델 학습 인식된 차선으로 로봇 기동하기 차선 위의 장애물을 감지하고 회피 기동하기 ROS2 slam을 이용해서 맵빌딩하고..</span>\n",
       " </a>\n",
       " </div>]"
      ]
     },
     "execution_count": 78,
     "metadata": {},
     "output_type": "execute_result"
    }
   ],
   "source": [
    "contents = soup.select(\".post-item\")\n",
    "contents"
   ]
  },
  {
   "cell_type": "code",
   "execution_count": 79,
   "metadata": {},
   "outputs": [
    {
     "data": {
      "text/plain": [
       "8"
      ]
     },
     "execution_count": 79,
     "metadata": {},
     "output_type": "execute_result"
    }
   ],
   "source": [
    "len(contents)"
   ]
  },
  {
   "cell_type": "code",
   "execution_count": 80,
   "metadata": {},
   "outputs": [
    {
     "data": {
      "text/plain": [
       "<div class=\"post-item\">\n",
       "<a href=\"/1442\">\n",
       "<span class=\"thum\">\n",
       "<img alt=\"\" src=\"//i1.daumcdn.net/thumb/C264x200/?fname=https://blog.kakaocdn.net/dn/mqswu/btszojRvW84/iUyoT3foutdwx8x0vWDN7k/img.png\"/>\n",
       "</span>\n",
       "<span class=\"title\">핑크랩이 2023년 여름. 서울로봇아카데미의 교육을 진행했습니다.</span>\n",
       "<span class=\"date\">2023. 10. 29. 09:30</span>\n",
       "<span class=\"excerpt\">올해 2023년도 이제 2개월이 남았네요. 이런 느낌으로 한 해의 끝을 바라보는 것이 벌써 수십년째(헉.ㅠㅠ. 세월...)인데 여전히 한 해에 대한 아쉬움이 남습니다. 그러나 저와 저희 핑크랩(PinkLAB)은 23년을 정말 열심히 살았습니다. 그 중 여름에 진행한 서울로봇아카데미의 한 과정이 기억에 남습니다. 그 과정을 소개하려고 합니다. 핑크랩이 진행한 서울로봇아카데미 과정 서울로봇 아카데미는 서울시가 운영하는 로봇 교육 기관입니다. 서울로봇아카데미는 서울시의 위탁을 받아, 한국로봇산업협회와 한국로봇융합연구원이 서울로봇아카데미를 위탁 운영합니다. 그러니까 서울시가 주최기관이고, 한국로봇산업협회와 한국로봇융합연구원이 주관기관인거죠. 23년 여름에는 위 그림처럼 4개의 과정이 개설되었습니다. 그 중에서 ..</span>\n",
       "</a>\n",
       "</div>"
      ]
     },
     "execution_count": 80,
     "metadata": {},
     "output_type": "execute_result"
    }
   ],
   "source": [
    "contents[2]"
   ]
  },
  {
   "cell_type": "code",
   "execution_count": 81,
   "metadata": {},
   "outputs": [],
   "source": [
    "driver.quit()"
   ]
  },
  {
   "cell_type": "code",
   "execution_count": null,
   "metadata": {},
   "outputs": [],
   "source": []
  }
 ],
 "metadata": {
  "kernelspec": {
   "display_name": "ds_study",
   "language": "python",
   "name": "python3"
  },
  "language_info": {
   "codemirror_mode": {
    "name": "ipython",
    "version": 3
   },
   "file_extension": ".py",
   "mimetype": "text/x-python",
   "name": "python",
   "nbconvert_exporter": "python",
   "pygments_lexer": "ipython3",
   "version": "3.8.18"
  }
 },
 "nbformat": 4,
 "nbformat_minor": 2
}
