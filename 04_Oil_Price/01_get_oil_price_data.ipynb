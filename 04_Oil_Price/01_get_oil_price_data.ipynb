{
 "cells": [
  {
   "cell_type": "markdown",
   "metadata": {},
   "source": [
    "# 웹에서 분석 데이터 가져오기\n",
    "\n",
    "### 🔰 셀프 주유소가 정말 저렴할까?\n",
    "\n",
    "- 서울시에 등록된 주유소의 가격 정보를 확인할 수 있는 Opinet 사이트 활용\n",
    "\n",
    "- 데이터 확보를 위한 작업\n",
    "\n",
    "    1. 사이트 구조 확인 : https://www.opinet.co.kr/user/main/mainView.do\n",
    "\n",
    "    2. 목표 데이터 설정 : https://www.opinet.co.kr/searRgSelect.do\n",
    "\n",
    "        - 브랜드 \n",
    "        - 가격 \n",
    "        - 셀프 주유 여부 \n",
    "        - 위치 "
   ]
  },
  {
   "cell_type": "markdown",
   "metadata": {},
   "source": [
    "### 🔰 웹 데이터 가져오기 by selenium"
   ]
  },
  {
   "cell_type": "markdown",
   "metadata": {},
   "source": [
    "- Chrome 제어창 띄우기"
   ]
  },
  {
   "cell_type": "code",
   "execution_count": 1,
   "metadata": {},
   "outputs": [],
   "source": [
    "from selenium import webdriver\n",
    "from selenium.webdriver.chrome.service import Service\n",
    "\n",
    "chrome_driver_path = \"../chromedriver-win64/chromedriver.exe\"\n",
    "service = Service(executable_path=chrome_driver_path)\n",
    "options = webdriver.ChromeOptions()\n",
    "\n",
    "driver = webdriver.Chrome(options=options, service=service)\n",
    "\n",
    "# Opinet > 싼 주유소 찾기 > 지역별 페이지로 접근\n",
    "url = \"https://www.opinet.co.kr/searRgSelect.do\"\n",
    "driver.get(url)"
   ]
  },
  {
   "cell_type": "code",
   "execution_count": 2,
   "metadata": {},
   "outputs": [],
   "source": [
    "driver.set_window_position(x=3268, y=235)\n",
    "driver.set_window_size(width=1000, height=1080)"
   ]
  },
  {
   "cell_type": "markdown",
   "metadata": {},
   "source": [
    "-----"
   ]
  },
  {
   "cell_type": "markdown",
   "metadata": {},
   "source": [
    "- 문제 : 팝업창\n",
    "\n",
    "\t- 만약 팝업창이 뜨는 사이트라면 해당 URL로 한 번에 접근이 안된다.\n",
    "\n",
    "\t- 원하는 페이지로 접근하지 못하고 메인페이지로 접속이 되면서 팝업창이 뜨는 문제가 발생한다."
   ]
  },
  {
   "cell_type": "code",
   "execution_count": null,
   "metadata": {},
   "outputs": [],
   "source": [
    "# 1. 팝업창으로 화면 전환 후 닫다준다.\n",
    "driver.switch_to.window(driver.window_handles[-1])\n",
    "driver.close()"
   ]
  },
  {
   "cell_type": "code",
   "execution_count": null,
   "metadata": {},
   "outputs": [],
   "source": [
    "# 2. 메인창으로 화면 전환 후 접근 페이지를 다시 요청한다.\n",
    "driver.switch_to.window(driver.window_handles[-1])\n",
    "driver.get(url)"
   ]
  },
  {
   "cell_type": "code",
   "execution_count": null,
   "metadata": {},
   "outputs": [],
   "source": [
    "# 문제 해결 함수 : 요청 페이지 가져오기\n",
    "\n",
    "import time\n",
    "\n",
    "def request_page_get():\n",
    "    # 요청 페이지 최초 접근\n",
    "    chrome_driver_path = \"../chromedriver-win64/chromedriver.exe\"\n",
    "    options = webdriver.ChromeOptions()\n",
    "    service = Service(chrome_driver_path)\n",
    "    driver = webdriver.Chrome(options=options, service=service)\n",
    "    url = \"https://www.opinet.co.kr/searRgSelect.do\"\n",
    "    driver.get(url)\n",
    "    time.sleep(3) # selenium의 속도가 빠르지 못해 다음 수행에서 오류가 날 수 있다.\n",
    "    \n",
    "    # 팝업창으로 전환\n",
    "    driver.switch_to.window(driver.window_handles[-1])\n",
    "    \n",
    "    # 팝업창 닫기\n",
    "    driver.close()\n",
    "    time.sleep(3)\n",
    "    \n",
    "    # 메인화면 창으로 전환\n",
    "    driver.switch_to.window(driver.window_handles[-1])\n",
    "    \n",
    "    # 접근 URL 다시 요청\n",
    "    driver.get(url)"
   ]
  },
  {
   "cell_type": "code",
   "execution_count": null,
   "metadata": {},
   "outputs": [],
   "source": [
    "request_page_get()"
   ]
  },
  {
   "cell_type": "markdown",
   "metadata": {},
   "source": [
    "-----"
   ]
  },
  {
   "cell_type": "code",
   "execution_count": 3,
   "metadata": {},
   "outputs": [],
   "source": [
    "from selenium.webdriver.common.by import By"
   ]
  },
  {
   "cell_type": "markdown",
   "metadata": {},
   "source": [
    "- 지역: 시/도 데이터\n",
    "\n",
    "\t- 토글로 되어있어 '서울'을 선택해야 한다.\n",
    "\n",
    "\t- `id=\"SIDO_NM0\"` 속성으로 접근한다.\n",
    "\n",
    "![오피넷_SIDO](https://github.com/ElaYJ/Study_EDA/assets/153154981/046c72ba-b406-472a-9fb0-d713eefbd825)"
   ]
  },
  {
   "cell_type": "code",
   "execution_count": 4,
   "metadata": {},
   "outputs": [
    {
     "data": {
      "text/plain": [
       "(<selenium.webdriver.remote.webelement.WebElement (session=\"1d47ec006fe13799709ac817fc72eb6d\", element=\"BA465787FCD7D3279E07D95CF63C6DE9_element_2323\")>,\n",
       " '            시/도\\n            \\n             \\n             \\n              서울\\n             \\n            \\n             \\n             \\n              부산\\n             \\n            \\n             \\n             \\n              대구\\n             \\n            \\n             \\n             \\n              인천\\n             \\n            \\n             \\n             \\n              광주\\n             \\n            \\n             \\n             \\n              대전\\n             \\n            \\n             \\n             \\n              울산\\n             \\n            \\n             \\n             \\n              세종\\n             \\n            \\n             \\n              경기\\n             \\n             \\n            \\n             \\n             \\n              강원\\n             \\n            \\n             \\n             \\n              충북\\n             \\n            \\n             \\n             \\n              충남\\n             \\n            \\n             \\n             \\n              전북\\n             \\n            \\n             \\n             \\n              전남\\n             \\n            \\n             \\n             \\n              경북\\n             \\n            \\n             \\n             \\n              경남\\n             \\n            \\n             \\n             \\n              제주\\n             \\n            \\n           ')"
      ]
     },
     "execution_count": 4,
     "metadata": {},
     "output_type": "execute_result"
    }
   ],
   "source": [
    "sido_list_raw = driver.find_element(By.ID, \"SIDO_NM0\")\n",
    "sido_list_raw, sido_list_raw.text"
   ]
  },
  {
   "cell_type": "code",
   "execution_count": 5,
   "metadata": {},
   "outputs": [
    {
     "name": "stdout",
     "output_type": "stream",
     "text": [
      "            시/도\n",
      "            \n",
      "             \n",
      "             \n",
      "              서울\n",
      "             \n",
      "            \n",
      "             \n",
      "             \n",
      "              부산\n",
      "             \n",
      "            \n",
      "             \n",
      "             \n",
      "              대구\n",
      "             \n",
      "            \n",
      "             \n",
      "             \n",
      "              인천\n",
      "             \n",
      "            \n",
      "             \n",
      "             \n",
      "              광주\n",
      "             \n",
      "            \n",
      "             \n",
      "             \n",
      "              대전\n",
      "             \n",
      "            \n",
      "             \n",
      "             \n",
      "              울산\n",
      "             \n",
      "            \n",
      "             \n",
      "             \n",
      "              세종\n",
      "             \n",
      "            \n",
      "             \n",
      "              경기\n",
      "             \n",
      "             \n",
      "            \n",
      "             \n",
      "             \n",
      "              강원\n",
      "             \n",
      "            \n",
      "             \n",
      "             \n",
      "              충북\n",
      "             \n",
      "            \n",
      "             \n",
      "             \n",
      "              충남\n",
      "             \n",
      "            \n",
      "             \n",
      "             \n",
      "              전북\n",
      "             \n",
      "            \n",
      "             \n",
      "             \n",
      "              전남\n",
      "             \n",
      "            \n",
      "             \n",
      "             \n",
      "              경북\n",
      "             \n",
      "            \n",
      "             \n",
      "             \n",
      "              경남\n",
      "             \n",
      "            \n",
      "             \n",
      "             \n",
      "              제주\n",
      "             \n",
      "            \n",
      "           \n"
     ]
    }
   ],
   "source": [
    "print(sido_list_raw.text)"
   ]
  },
  {
   "cell_type": "code",
   "execution_count": 8,
   "metadata": {},
   "outputs": [
    {
     "data": {
      "text/plain": [
       "(18, '시/도', '제주')"
      ]
     },
     "execution_count": 8,
     "metadata": {},
     "output_type": "execute_result"
    }
   ],
   "source": [
    "sido_list = sido_list_raw.find_elements(By.TAG_NAME, \"option\")\n",
    "len(sido_list), sido_list[0].text, sido_list[17].text"
   ]
  },
  {
   "cell_type": "markdown",
   "metadata": {},
   "source": [
    "- `get_attribute()`\n",
    "\n",
    "\t- `get_attribute(\"value\")` : value= 속성값 가져오기"
   ]
  },
  {
   "cell_type": "code",
   "execution_count": 9,
   "metadata": {},
   "outputs": [
    {
     "data": {
      "text/plain": [
       "'서울특별시'"
      ]
     },
     "execution_count": 9,
     "metadata": {},
     "output_type": "execute_result"
    }
   ],
   "source": [
    "sido_list[1].get_attribute(\"value\")"
   ]
  },
  {
   "cell_type": "code",
   "execution_count": 10,
   "metadata": {},
   "outputs": [
    {
     "data": {
      "text/plain": [
       "['',\n",
       " '서울특별시',\n",
       " '부산광역시',\n",
       " '대구광역시',\n",
       " '인천광역시',\n",
       " '광주광역시',\n",
       " '대전광역시',\n",
       " '울산광역시',\n",
       " '세종특별자치시',\n",
       " '경기도',\n",
       " '강원특별자치도',\n",
       " '충청북도',\n",
       " '충청남도',\n",
       " '전라북도',\n",
       " '전라남도',\n",
       " '경상북도',\n",
       " '경상남도',\n",
       " '제주특별자치도']"
      ]
     },
     "execution_count": 10,
     "metadata": {},
     "output_type": "execute_result"
    }
   ],
   "source": [
    "# means_1.\n",
    "\n",
    "sido_names = []\n",
    "for option in sido_list:\n",
    "    sido_names.append(option.get_attribute(\"value\"))\n",
    "    \n",
    "sido_names"
   ]
  },
  {
   "cell_type": "code",
   "execution_count": 11,
   "metadata": {},
   "outputs": [
    {
     "data": {
      "text/plain": [
       "['', '서울특별시', '부산광역시', '대구광역시', '인천광역시']"
      ]
     },
     "execution_count": 11,
     "metadata": {},
     "output_type": "execute_result"
    }
   ],
   "source": [
    "# means_2.\n",
    "\n",
    "sido_names = [option.get_attribute(\"value\") for option in sido_list]\n",
    "sido_names[:5]"
   ]
  },
  {
   "cell_type": "code",
   "execution_count": 12,
   "metadata": {},
   "outputs": [
    {
     "data": {
      "text/plain": [
       "['서울특별시',\n",
       " '부산광역시',\n",
       " '대구광역시',\n",
       " '인천광역시',\n",
       " '광주광역시',\n",
       " '대전광역시',\n",
       " '울산광역시',\n",
       " '세종특별자치시',\n",
       " '경기도',\n",
       " '강원특별자치도',\n",
       " '충청북도',\n",
       " '충청남도',\n",
       " '전라북도',\n",
       " '전라남도',\n",
       " '경상북도',\n",
       " '경상남도',\n",
       " '제주특별자치도']"
      ]
     },
     "execution_count": 12,
     "metadata": {},
     "output_type": "execute_result"
    }
   ],
   "source": [
    "sido_names = sido_names[1:] # del sido_names[0]\n",
    "sido_names"
   ]
  },
  {
   "cell_type": "code",
   "execution_count": 13,
   "metadata": {},
   "outputs": [
    {
     "data": {
      "text/plain": [
       "'서울특별시'"
      ]
     },
     "execution_count": 13,
     "metadata": {},
     "output_type": "execute_result"
    }
   ],
   "source": [
    "sido_names[0]"
   ]
  },
  {
   "cell_type": "markdown",
   "metadata": {},
   "source": [
    "- 지역 > 시/도 > 서울 선택"
   ]
  },
  {
   "cell_type": "code",
   "execution_count": 14,
   "metadata": {},
   "outputs": [],
   "source": [
    "sido_list_raw.send_keys(sido_names[0])"
   ]
  },
  {
   "cell_type": "markdown",
   "metadata": {},
   "source": [
    "- 지역: 구 데이터"
   ]
  },
  {
   "cell_type": "code",
   "execution_count": 15,
   "metadata": {},
   "outputs": [
    {
     "data": {
      "text/plain": [
       "(['강남구', '강동구', '강북구', '강서구', '관악구'], 25)"
      ]
     },
     "execution_count": 15,
     "metadata": {},
     "output_type": "execute_result"
    }
   ],
   "source": [
    "# 부모 태그: <select> tag\n",
    "gu_list_raw = driver.find_element(By.ID, \"SIGUNGU_NM0\")\n",
    "\n",
    "# 자식 태그: <option> tag\n",
    "gu_list = gu_list_raw.find_elements(By.TAG_NAME, \"option\")\n",
    "\n",
    "# 태그 속성값: <option> tag의 value= 값\n",
    "gu_names = [option.get_attribute(\"value\") for option in gu_list]\n",
    "\n",
    "del gu_names[0] # gu_names = gu_names[1:]\n",
    "gu_names[:5], len(gu_names)"
   ]
  },
  {
   "cell_type": "markdown",
   "metadata": {},
   "source": [
    "- 지역 > 시/군/구 > 성동구 선택"
   ]
  },
  {
   "cell_type": "code",
   "execution_count": 16,
   "metadata": {},
   "outputs": [],
   "source": [
    "gu_list_raw.send_keys(gu_names[15])"
   ]
  },
  {
   "cell_type": "markdown",
   "metadata": {},
   "source": [
    "![04_OP_selenium_exel_save](https://github.com/ElaYJ/Study_EDA/assets/153154981/e40bd01f-a80c-4d6d-9dfc-56546218c715)"
   ]
  },
  {
   "cell_type": "markdown",
   "metadata": {},
   "source": [
    "### 🔰 엑셀 저장\n",
    "\n",
    "- 구별 주유소 정보를 엑셀로 저장"
   ]
  },
  {
   "cell_type": "code",
   "execution_count": 17,
   "metadata": {},
   "outputs": [],
   "source": [
    "# means_1. selector\n",
    "driver.find_element(By.CSS_SELECTOR, \"#glopopd_excel\").click()"
   ]
  },
  {
   "cell_type": "code",
   "execution_count": 18,
   "metadata": {},
   "outputs": [],
   "source": [
    "# means_2. xpath\n",
    "driver.find_element(By.XPATH, '//*[@id=\"glopopd_excel\"]').click()"
   ]
  },
  {
   "cell_type": "code",
   "execution_count": 19,
   "metadata": {},
   "outputs": [],
   "source": [
    "# means_3. id\n",
    "driver.find_element(By.ID, \"glopopd_excel\").click()"
   ]
  },
  {
   "cell_type": "markdown",
   "metadata": {},
   "source": [
    "- `progressbar` 모듈\n",
    "\n",
    "\t- vscode에서는 tqdm 모듈을 사용하지 못해 비슷한 기능의 다른 모듈 사용"
   ]
  },
  {
   "cell_type": "code",
   "execution_count": 22,
   "metadata": {},
   "outputs": [
    {
     "name": "stderr",
     "output_type": "stream",
     "text": [
      "[========================================================================] 100%\n"
     ]
    }
   ],
   "source": [
    "import progressbar\n",
    "import time\n",
    "\n",
    "# 진행 상황 표시 위젯 생성\n",
    "bar = progressbar.ProgressBar(\n",
    "\tmaxval=100,\n",
    " \twidgets=[progressbar.Bar('=', '[', ']'), ' ', progressbar.Percentage()]\n",
    ")\n",
    "\n",
    "# 반복 작업 예시 (0부터 99까지 반복)\n",
    "for i in bar(range(100)):\n",
    "    # 작업 수행\n",
    "    time.sleep(0.01)"
   ]
  },
  {
   "cell_type": "code",
   "execution_count": 24,
   "metadata": {},
   "outputs": [
    {
     "name": "stderr",
     "output_type": "stream",
     "text": [
      "[========================================================================] 100%\n"
     ]
    }
   ],
   "source": [
    "import time\n",
    "# jupyter notebook\n",
    "# from tqdm import tqdm_notebook\n",
    "\n",
    "# vscode\n",
    "from progressbar import ProgressBar, Bar, Percentage\n",
    "bar = ProgressBar(maxval=100, widgets=[Bar('=', '[', ']'), \" \", Percentage()])\n",
    "\n",
    "\n",
    "# jupyter notebook\n",
    "# for gu in tqdm_notebook(gu_names):\n",
    "\n",
    "# vscode\n",
    "for gu in bar(gu_names):\n",
    "    element = driver.find_element(By.ID, \"SIGUNGU_NM0\")\n",
    "    element.send_keys(gu)\n",
    "    time.sleep(3)\n",
    "    \n",
    "    element_get_excel = driver.find_element(By.ID, \"glopopd_excel\")\n",
    "    element_get_excel.click()\n",
    "    time.sleep(3)"
   ]
  },
  {
   "cell_type": "code",
   "execution_count": 25,
   "metadata": {},
   "outputs": [],
   "source": [
    "driver.close()"
   ]
  }
 ],
 "metadata": {
  "kernelspec": {
   "display_name": "ds_study",
   "language": "python",
   "name": "python3"
  },
  "language_info": {
   "codemirror_mode": {
    "name": "ipython",
    "version": 3
   },
   "file_extension": ".py",
   "mimetype": "text/x-python",
   "name": "python",
   "nbconvert_exporter": "python",
   "pygments_lexer": "ipython3",
   "version": "3.8.18"
  }
 },
 "nbformat": 4,
 "nbformat_minor": 2
}
