{
 "cells": [
  {
   "cell_type": "markdown",
   "metadata": {},
   "source": [
    "## Text Highlight"
   ]
  },
  {
   "cell_type": "code",
   "execution_count": 1,
   "metadata": {},
   "outputs": [
    {
     "data": {
      "text/html": [
       "<style type=\"text/css\">\n",
       "#T_65486_row0_col0, #T_65486_row2_col0, #T_65486_row4_col0 {\n",
       "  background-color: yellow;\n",
       "}\n",
       "</style>\n",
       "<table id=\"T_65486\">\n",
       "  <thead>\n",
       "    <tr>\n",
       "      <th class=\"blank level0\" >&nbsp;</th>\n",
       "      <th id=\"T_65486_level0_col0\" class=\"col_heading level0 col0\" >keyword</th>\n",
       "    </tr>\n",
       "  </thead>\n",
       "  <tbody>\n",
       "    <tr>\n",
       "      <th id=\"T_65486_level0_row0\" class=\"row_heading level0 row0\" >0</th>\n",
       "      <td id=\"T_65486_row0_col0\" class=\"data row0 col0\" >apple</td>\n",
       "    </tr>\n",
       "    <tr>\n",
       "      <th id=\"T_65486_level0_row1\" class=\"row_heading level0 row1\" >1</th>\n",
       "      <td id=\"T_65486_row1_col0\" class=\"data row1 col0\" >banana</td>\n",
       "    </tr>\n",
       "    <tr>\n",
       "      <th id=\"T_65486_level0_row2\" class=\"row_heading level0 row2\" >2</th>\n",
       "      <td id=\"T_65486_row2_col0\" class=\"data row2 col0\" >apple pie</td>\n",
       "    </tr>\n",
       "    <tr>\n",
       "      <th id=\"T_65486_level0_row3\" class=\"row_heading level0 row3\" >3</th>\n",
       "      <td id=\"T_65486_row3_col0\" class=\"data row3 col0\" >orange</td>\n",
       "    </tr>\n",
       "    <tr>\n",
       "      <th id=\"T_65486_level0_row4\" class=\"row_heading level0 row4\" >4</th>\n",
       "      <td id=\"T_65486_row4_col0\" class=\"data row4 col0\" >apple juice</td>\n",
       "    </tr>\n",
       "  </tbody>\n",
       "</table>\n"
      ],
      "text/plain": [
       "<pandas.io.formats.style.Styler at 0x1a9c3259d90>"
      ]
     },
     "execution_count": 1,
     "metadata": {},
     "output_type": "execute_result"
    }
   ],
   "source": [
    "import pandas as pd\n",
    "\n",
    "# 샘플 데이터프레임 생성\n",
    "data = {'keyword': ['apple', 'banana', 'apple pie', 'orange', 'apple juice']}\n",
    "df = pd.DataFrame(data)\n",
    "\n",
    "# 텍스트 하이라이트 함수 정의\n",
    "def highlight_text(text, highlight_word):\n",
    "    if highlight_word in text:\n",
    "        return f'background-color: yellow'\n",
    "    else:\n",
    "        return ''\n",
    "\n",
    "# 스타일을 적용하기 위한 함수 정의\n",
    "def highlight_df(df, highlight_word):\n",
    "    return df.style.applymap(lambda x: highlight_text(x, highlight_word), subset=['keyword'])\n",
    "\n",
    "# 특정 키워드 강조\n",
    "highlight_word = 'apple'\n",
    "highlighted_df = highlight_df(df, highlight_word)\n",
    "\n",
    "# 결과 출력\n",
    "highlighted_df"
   ]
  },
  {
   "cell_type": "code",
   "execution_count": 12,
   "metadata": {},
   "outputs": [
    {
     "data": {
      "text/html": [
       "<style type=\"text/css\">\n",
       "#T_9a878_row2_col1, #T_9a878_row3_col1 {\n",
       "  background-color: yellow;\n",
       "}\n",
       "</style>\n",
       "<table id=\"T_9a878\">\n",
       "  <thead>\n",
       "    <tr>\n",
       "      <th class=\"blank level0\" >&nbsp;</th>\n",
       "      <th id=\"T_9a878_level0_col0\" class=\"col_heading level0 col0\" >A</th>\n",
       "      <th id=\"T_9a878_level0_col1\" class=\"col_heading level0 col1\" >B</th>\n",
       "    </tr>\n",
       "  </thead>\n",
       "  <tbody>\n",
       "    <tr>\n",
       "      <th id=\"T_9a878_level0_row0\" class=\"row_heading level0 row0\" >0</th>\n",
       "      <td id=\"T_9a878_row0_col0\" class=\"data row0 col0\" >1</td>\n",
       "      <td id=\"T_9a878_row0_col1\" class=\"data row0 col1\" >100</td>\n",
       "    </tr>\n",
       "    <tr>\n",
       "      <th id=\"T_9a878_level0_row1\" class=\"row_heading level0 row1\" >1</th>\n",
       "      <td id=\"T_9a878_row1_col0\" class=\"data row1 col0\" >2</td>\n",
       "      <td id=\"T_9a878_row1_col1\" class=\"data row1 col1\" >200</td>\n",
       "    </tr>\n",
       "    <tr>\n",
       "      <th id=\"T_9a878_level0_row2\" class=\"row_heading level0 row2\" >2</th>\n",
       "      <td id=\"T_9a878_row2_col0\" class=\"data row2 col0\" >3</td>\n",
       "      <td id=\"T_9a878_row2_col1\" class=\"data row2 col1\" >300</td>\n",
       "    </tr>\n",
       "    <tr>\n",
       "      <th id=\"T_9a878_level0_row3\" class=\"row_heading level0 row3\" >3</th>\n",
       "      <td id=\"T_9a878_row3_col0\" class=\"data row3 col0\" >4</td>\n",
       "      <td id=\"T_9a878_row3_col1\" class=\"data row3 col1\" >400</td>\n",
       "    </tr>\n",
       "  </tbody>\n",
       "</table>\n"
      ],
      "text/plain": [
       "<pandas.io.formats.style.Styler at 0x25faf70eb50>"
      ]
     },
     "execution_count": 12,
     "metadata": {},
     "output_type": "execute_result"
    }
   ],
   "source": [
    "import pandas as pd\n",
    "\n",
    "# 예시 데이터프레임 생성\n",
    "data = {'A': [1, 2, 3, 4],\n",
    "        'B': [100, 200, 300, 400]}\n",
    "df = pd.DataFrame(data)\n",
    "\n",
    "# 스타일을 적용할 함수 정의\n",
    "def highlight_numbers(val):\n",
    "    if val > 200:  # 값이 200을 초과하는 경우\n",
    "        return 'background-color: yellow'\n",
    "    else:\n",
    "        return ''\n",
    "\n",
    "# 스타일이 적용된 데이터프레임 생성\n",
    "styled_df = df.style.applymap(highlight_numbers)\n",
    "\n",
    "# 스타일이 적용된 데이터프레임 출력\n",
    "styled_df"
   ]
  },
  {
   "cell_type": "code",
   "execution_count": 14,
   "metadata": {},
   "outputs": [
    {
     "data": {
      "text/html": [
       "<style type=\"text/css\">\n",
       "#T_a5dfd_row0_col0, #T_a5dfd_row0_col1, #T_a5dfd_row2_col0, #T_a5dfd_row2_col1 {\n",
       "  background-color: lightblue;\n",
       "}\n",
       "</style>\n",
       "<table id=\"T_a5dfd\">\n",
       "  <thead>\n",
       "    <tr>\n",
       "      <th class=\"blank level0\" >&nbsp;</th>\n",
       "      <th id=\"T_a5dfd_level0_col0\" class=\"col_heading level0 col0\" >A</th>\n",
       "      <th id=\"T_a5dfd_level0_col1\" class=\"col_heading level0 col1\" >B</th>\n",
       "    </tr>\n",
       "  </thead>\n",
       "  <tbody>\n",
       "    <tr>\n",
       "      <th id=\"T_a5dfd_level0_row0\" class=\"row_heading level0 row0\" >0</th>\n",
       "      <td id=\"T_a5dfd_row0_col0\" class=\"data row0 col0\" >1</td>\n",
       "      <td id=\"T_a5dfd_row0_col1\" class=\"data row0 col1\" >100</td>\n",
       "    </tr>\n",
       "    <tr>\n",
       "      <th id=\"T_a5dfd_level0_row1\" class=\"row_heading level0 row1\" >1</th>\n",
       "      <td id=\"T_a5dfd_row1_col0\" class=\"data row1 col0\" >2</td>\n",
       "      <td id=\"T_a5dfd_row1_col1\" class=\"data row1 col1\" >200</td>\n",
       "    </tr>\n",
       "    <tr>\n",
       "      <th id=\"T_a5dfd_level0_row2\" class=\"row_heading level0 row2\" >2</th>\n",
       "      <td id=\"T_a5dfd_row2_col0\" class=\"data row2 col0\" >3</td>\n",
       "      <td id=\"T_a5dfd_row2_col1\" class=\"data row2 col1\" >300</td>\n",
       "    </tr>\n",
       "    <tr>\n",
       "      <th id=\"T_a5dfd_level0_row3\" class=\"row_heading level0 row3\" >3</th>\n",
       "      <td id=\"T_a5dfd_row3_col0\" class=\"data row3 col0\" >4</td>\n",
       "      <td id=\"T_a5dfd_row3_col1\" class=\"data row3 col1\" >400</td>\n",
       "    </tr>\n",
       "  </tbody>\n",
       "</table>\n"
      ],
      "text/plain": [
       "<pandas.io.formats.style.Styler at 0x25fb25f4fd0>"
      ]
     },
     "execution_count": 14,
     "metadata": {},
     "output_type": "execute_result"
    }
   ],
   "source": [
    "import pandas as pd\n",
    "\n",
    "# 예시 데이터프레임 생성\n",
    "data = {'A': [1, 2, 3, 4],\n",
    "        'B': [100, 200, 300, 400]}\n",
    "df = pd.DataFrame(data)\n",
    "\n",
    "# 스타일을 적용할 함수 정의\n",
    "def highlight_index(index):\n",
    "    return ['background-color: lightblue' if i % 2 == 0 else '' for i in range(len(index))]\n",
    "\n",
    "# 스타일이 적용된 데이터프레임 생성\n",
    "styled_df = df.style.apply(highlight_index, axis=0)\n",
    "\n",
    "# 스타일이 적용된 데이터프레임 출력\n",
    "styled_df"
   ]
  },
  {
   "cell_type": "code",
   "execution_count": 35,
   "metadata": {},
   "outputs": [
    {
     "data": {
      "text/html": [
       "<style type=\"text/css\">\n",
       "#T_c30b4_row1_col0, #T_c30b4_row1_col1 {\n",
       "  background-color: lightblue;\n",
       "}\n",
       "</style>\n",
       "<table id=\"T_c30b4\">\n",
       "  <thead>\n",
       "    <tr>\n",
       "      <th class=\"blank level0\" >&nbsp;</th>\n",
       "      <th id=\"T_c30b4_level0_col0\" class=\"col_heading level0 col0\" >A</th>\n",
       "      <th id=\"T_c30b4_level0_col1\" class=\"col_heading level0 col1\" >B</th>\n",
       "    </tr>\n",
       "  </thead>\n",
       "  <tbody>\n",
       "    <tr>\n",
       "      <th id=\"T_c30b4_level0_row0\" class=\"row_heading level0 row0\" >0</th>\n",
       "      <td id=\"T_c30b4_row0_col0\" class=\"data row0 col0\" >1</td>\n",
       "      <td id=\"T_c30b4_row0_col1\" class=\"data row0 col1\" >100</td>\n",
       "    </tr>\n",
       "    <tr>\n",
       "      <th id=\"T_c30b4_level0_row1\" class=\"row_heading level0 row1\" >1</th>\n",
       "      <td id=\"T_c30b4_row1_col0\" class=\"data row1 col0\" >2</td>\n",
       "      <td id=\"T_c30b4_row1_col1\" class=\"data row1 col1\" >200</td>\n",
       "    </tr>\n",
       "    <tr>\n",
       "      <th id=\"T_c30b4_level0_row2\" class=\"row_heading level0 row2\" >2</th>\n",
       "      <td id=\"T_c30b4_row2_col0\" class=\"data row2 col0\" >3</td>\n",
       "      <td id=\"T_c30b4_row2_col1\" class=\"data row2 col1\" >300</td>\n",
       "    </tr>\n",
       "    <tr>\n",
       "      <th id=\"T_c30b4_level0_row3\" class=\"row_heading level0 row3\" >3</th>\n",
       "      <td id=\"T_c30b4_row3_col0\" class=\"data row3 col0\" >4</td>\n",
       "      <td id=\"T_c30b4_row3_col1\" class=\"data row3 col1\" >400</td>\n",
       "    </tr>\n",
       "  </tbody>\n",
       "</table>\n"
      ],
      "text/plain": [
       "<pandas.io.formats.style.Styler at 0x25fb4ce75b0>"
      ]
     },
     "execution_count": 35,
     "metadata": {},
     "output_type": "execute_result"
    }
   ],
   "source": [
    "import pandas as pd\n",
    "\n",
    "# 예시 데이터프레임 생성\n",
    "data = {'A': [1, 2, 3, 4],\n",
    "        'B': [100, 200, 300, 400]}\n",
    "df = pd.DataFrame(data)\n",
    "\n",
    "# 스타일을 적용할 함수 정의\n",
    "def highlight_index(x):\n",
    "    return ['background-color: lightblue' if i == 1 else '' for i in x.index]\n",
    "\n",
    "# 스타일이 적용된 데이터프레임 생성\n",
    "styled_df = df.style.apply(highlight_index, axis=0)\n",
    "\n",
    "# 스타일이 적용된 데이터프레임 출력\n",
    "styled_df"
   ]
  },
  {
   "cell_type": "code",
   "execution_count": 11,
   "metadata": {},
   "outputs": [
    {
     "data": {
      "text/html": [
       "<style type=\"text/css\">\n",
       "#T_ebfa7_row0_col1, #T_ebfa7_row1_col1, #T_ebfa7_row2_col1, #T_ebfa7_row3_col1 {\n",
       "  color: red;\n",
       "}\n",
       "</style>\n",
       "<table id=\"T_ebfa7\">\n",
       "  <thead>\n",
       "    <tr>\n",
       "      <th class=\"blank level0\" >&nbsp;</th>\n",
       "      <th id=\"T_ebfa7_level0_col0\" class=\"col_heading level0 col0\" >A</th>\n",
       "      <th id=\"T_ebfa7_level0_col1\" class=\"col_heading level0 col1\" >B</th>\n",
       "    </tr>\n",
       "  </thead>\n",
       "  <tbody>\n",
       "    <tr>\n",
       "      <th id=\"T_ebfa7_level0_row0\" class=\"row_heading level0 row0\" >0</th>\n",
       "      <td id=\"T_ebfa7_row0_col0\" class=\"data row0 col0\" >1</td>\n",
       "      <td id=\"T_ebfa7_row0_col1\" class=\"data row0 col1\" >apple</td>\n",
       "    </tr>\n",
       "    <tr>\n",
       "      <th id=\"T_ebfa7_level0_row1\" class=\"row_heading level0 row1\" >1</th>\n",
       "      <td id=\"T_ebfa7_row1_col0\" class=\"data row1 col0\" >2</td>\n",
       "      <td id=\"T_ebfa7_row1_col1\" class=\"data row1 col1\" >banana</td>\n",
       "    </tr>\n",
       "    <tr>\n",
       "      <th id=\"T_ebfa7_level0_row2\" class=\"row_heading level0 row2\" >2</th>\n",
       "      <td id=\"T_ebfa7_row2_col0\" class=\"data row2 col0\" >3</td>\n",
       "      <td id=\"T_ebfa7_row2_col1\" class=\"data row2 col1\" >carrot</td>\n",
       "    </tr>\n",
       "    <tr>\n",
       "      <th id=\"T_ebfa7_level0_row3\" class=\"row_heading level0 row3\" >3</th>\n",
       "      <td id=\"T_ebfa7_row3_col0\" class=\"data row3 col0\" >4</td>\n",
       "      <td id=\"T_ebfa7_row3_col1\" class=\"data row3 col1\" >date</td>\n",
       "    </tr>\n",
       "  </tbody>\n",
       "</table>\n"
      ],
      "text/plain": [
       "<pandas.io.formats.style.Styler at 0x25fb25b9dc0>"
      ]
     },
     "execution_count": 11,
     "metadata": {},
     "output_type": "execute_result"
    }
   ],
   "source": [
    "import pandas as pd\n",
    "\n",
    "# 예시 데이터프레임 생성\n",
    "data = {'A': [1, 2, 3, 4],\n",
    "        'B': ['apple', 'banana', 'carrot', 'date']}\n",
    "df = pd.DataFrame(data)\n",
    "\n",
    "# 스타일을 적용할 함수 정의\n",
    "def highlight_text(text):\n",
    "    if 'a' in text.lower():  # 'a'가 포함된 경우\n",
    "        return 'color: red'\n",
    "    else:\n",
    "        return 'color: black'\n",
    "\n",
    "# 특정 열에 스타일 적용\n",
    "styled_df = df.style.applymap(highlight_text, subset=['B'])\n",
    "\n",
    "# 스타일이 적용된 데이터프레임 출력\n",
    "styled_df"
   ]
  },
  {
   "cell_type": "markdown",
   "metadata": {},
   "source": [
    "## Wold Cloud"
   ]
  },
  {
   "cell_type": "code",
   "execution_count": 2,
   "metadata": {},
   "outputs": [
    {
     "name": "stdout",
     "output_type": "stream",
     "text": [
      "Requirement already satisfied: pandas in c:\\users\\happy\\miniconda3\\envs\\ds_study\\lib\\site-packages (2.0.3)\n",
      "Requirement already satisfied: matplotlib in c:\\users\\happy\\miniconda3\\envs\\ds_study\\lib\\site-packages (3.7.2)\n",
      "Collecting wordcloud\n",
      "  Downloading wordcloud-1.9.3-cp38-cp38-win_amd64.whl.metadata (3.5 kB)\n",
      "Requirement already satisfied: python-dateutil>=2.8.2 in c:\\users\\happy\\miniconda3\\envs\\ds_study\\lib\\site-packages (from pandas) (2.8.2)\n",
      "Requirement already satisfied: pytz>=2020.1 in c:\\users\\happy\\miniconda3\\envs\\ds_study\\lib\\site-packages (from pandas) (2023.3.post1)\n",
      "Requirement already satisfied: tzdata>=2022.1 in c:\\users\\happy\\miniconda3\\envs\\ds_study\\lib\\site-packages (from pandas) (2023.3)\n",
      "Requirement already satisfied: numpy>=1.20.3 in c:\\users\\happy\\miniconda3\\envs\\ds_study\\lib\\site-packages (from pandas) (1.24.3)\n",
      "Requirement already satisfied: contourpy>=1.0.1 in c:\\users\\happy\\miniconda3\\envs\\ds_study\\lib\\site-packages (from matplotlib) (1.0.5)\n",
      "Requirement already satisfied: cycler>=0.10 in c:\\users\\happy\\miniconda3\\envs\\ds_study\\lib\\site-packages (from matplotlib) (0.11.0)\n",
      "Requirement already satisfied: fonttools>=4.22.0 in c:\\users\\happy\\miniconda3\\envs\\ds_study\\lib\\site-packages (from matplotlib) (4.25.0)\n",
      "Requirement already satisfied: kiwisolver>=1.0.1 in c:\\users\\happy\\miniconda3\\envs\\ds_study\\lib\\site-packages (from matplotlib) (1.4.4)\n",
      "Requirement already satisfied: packaging>=20.0 in c:\\users\\happy\\miniconda3\\envs\\ds_study\\lib\\site-packages (from matplotlib) (23.1)\n",
      "Requirement already satisfied: pillow>=6.2.0 in c:\\users\\happy\\miniconda3\\envs\\ds_study\\lib\\site-packages (from matplotlib) (10.0.1)\n",
      "Requirement already satisfied: pyparsing<3.1,>=2.3.1 in c:\\users\\happy\\miniconda3\\envs\\ds_study\\lib\\site-packages (from matplotlib) (3.0.9)\n",
      "Requirement already satisfied: importlib-resources>=3.2.0 in c:\\users\\happy\\miniconda3\\envs\\ds_study\\lib\\site-packages (from matplotlib) (5.13.0)\n",
      "Requirement already satisfied: zipp>=3.1.0 in c:\\users\\happy\\miniconda3\\envs\\ds_study\\lib\\site-packages (from importlib-resources>=3.2.0->matplotlib) (3.11.0)\n",
      "Requirement already satisfied: six>=1.5 in c:\\users\\happy\\miniconda3\\envs\\ds_study\\lib\\site-packages (from python-dateutil>=2.8.2->pandas) (1.16.0)\n",
      "Downloading wordcloud-1.9.3-cp38-cp38-win_amd64.whl (300 kB)\n",
      "   ---------------------------------------- 0.0/300.7 kB ? eta -:--:--\n",
      "   ---------------------------------------- 0.0/300.7 kB ? eta -:--:--\n",
      "   ---------------------------------------- 0.0/300.7 kB ? eta -:--:--\n",
      "   - -------------------------------------- 10.2/300.7 kB ? eta -:--:--\n",
      "   --- ----------------------------------- 30.7/300.7 kB 262.6 kB/s eta 0:00:02\n",
      "   ---------- ---------------------------- 81.9/300.7 kB 508.4 kB/s eta 0:00:01\n",
      "   ------------------------------------ --- 276.5/300.7 kB 1.3 MB/s eta 0:00:01\n",
      "   ---------------------------------------- 300.7/300.7 kB 1.2 MB/s eta 0:00:00\n",
      "Installing collected packages: wordcloud\n",
      "Successfully installed wordcloud-1.9.3\n"
     ]
    }
   ],
   "source": [
    "#!pip install pandas matplotlib wordcloud"
   ]
  },
  {
   "cell_type": "code",
   "execution_count": null,
   "metadata": {},
   "outputs": [],
   "source": [
    "# import platform\n",
    "# import matplotlib.pyplot as plt \n",
    "# from matplotlib import font_manager, rc\n",
    "\n",
    "# path = \"c:/Windows/Fonts/malgun.ttf\"\n",
    "\n",
    "# if platform.system() == \"Darwin\":\n",
    "#     rc(\"font\", family=\"Arial Unicode MS\")\n",
    "#     print(\"Hangul OK in your MAC!!!\")\n",
    "# elif platform.system() == \"Windows\":\n",
    "#     font_name = font_manager.FontProperties(fname=path).get_name()\n",
    "#     rc(\"font\", family=font_name)\n",
    "#     print(\"Hangul OK in your Windows!!!\")\n",
    "# else:\n",
    "#     print(\"Unknown system.. sorry~~~\")\n",
    "    \n",
    "# plt.rcParams[\"axes.unicode_minus\"] = False\n",
    "# get_ipython().run_line_magic(\"matplotlib\", \"inline\")"
   ]
  },
  {
   "cell_type": "code",
   "execution_count": 2,
   "metadata": {},
   "outputs": [
    {
     "data": {
      "image/png": "[encoded data removed]",
      "text/plain": [
       "<Figure size 1000x500 with 1 Axes>"
      ]
     },
     "metadata": {},
     "output_type": "display_data"
    }
   ],
   "source": [
    "import pandas as pd\n",
    "import matplotlib.pyplot as plt\n",
    "from matplotlib import rc\n",
    "from wordcloud import WordCloud\n",
    "\n",
    "rc(\"font\", family=\"Malgun Gothic\")\n",
    "    \n",
    "plt.rcParams[\"axes.unicode_minus\"] = False\n",
    "get_ipython().run_line_magic(\"matplotlib\", \"inline\")\n",
    "\n",
    "# 한글 폰트 설정\n",
    "font_path = 'C:/Windows/Fonts/malgun.ttf'  # 원하는 한글 폰트 경로로 수정\n",
    "# wordcloud = WordCloud(font_path=font_path).generate(\"한글 텍스트\")\n",
    "\n",
    "\n",
    "# 텍스트 데이터 생성 (예제용)\n",
    "text_data = \"python은 데이터 분석에 유용한 프로그래밍 언어입니다. \\\n",
    "             데이터 분석을 위해 pandas와 matplotlib을 사용할 수 있습니다. \\\n",
    "             wordcloud를 사용하여 텍스트 데이터의 빈도수를 시각화할 수 있습니다.\"\n",
    "\n",
    "# 텍스트 데이터를 공백을 기준으로 단어로 분리\n",
    "words = text_data.split()\n",
    "\n",
    "# 단어의 빈도수를 계산하여 DataFrame 생성\n",
    "word_freq = pd.Series(words).value_counts()\n",
    "\n",
    "# 워드클라우드 생성\n",
    "wordcloud = WordCloud(width=800, height=400, background_color='white', font_path=font_path).generate_from_frequencies(word_freq)\n",
    "\n",
    "# 워드클라우드를 이미지로 시각화\n",
    "plt.figure(figsize=(10, 5))\n",
    "plt.imshow(wordcloud, interpolation='bilinear')\n",
    "plt.axis('off')\n",
    "plt.show()"
   ]
  },
  {
   "cell_type": "code",
   "execution_count": 3,
   "metadata": {},
   "outputs": [
    {
     "name": "stdout",
     "output_type": "stream",
     "text": [
      "Malgun Gothic\n"
     ]
    }
   ],
   "source": [
    "import matplotlib.pyplot as plt\n",
    "from matplotlib import font_manager, rc\n",
    "\n",
    "path = \"c:/Windows/Fonts/malgun.ttf\"\n",
    "font_name = font_manager.FontProperties(fname=path).get_name()\n",
    "print(font_name)\n",
    "rc(\"font\", family=font_name)\n",
    "\n",
    "    \n",
    "plt.rcParams[\"axes.unicode_minus\"] = False\n",
    "get_ipython().run_line_magic(\"matplotlib\", \"inline\")"
   ]
  },
  {
   "cell_type": "code",
   "execution_count": 12,
   "metadata": {},
   "outputs": [
    {
     "data": {
      "image/png": "[encoded data removed]",
      "text/plain": [
       "<Figure size 640x480 with 1 Axes>"
      ]
     },
     "metadata": {},
     "output_type": "display_data"
    }
   ],
   "source": [
    "import seaborn as sns\n",
    "import matplotlib.pyplot as plt\n",
    "\n",
    "# 데이터 생성 예시\n",
    "data = sns.load_dataset('tips')\n",
    "\n",
    "# countplot 그리기\n",
    "ax = sns.countplot(x='day', data=data)\n",
    "\n",
    "# 방법 1: ax 객체를 이용하여 라벨 추가\n",
    "for p in ax.patches:\n",
    "    ax.annotate(f'{p.get_height()}', (p.get_x() + p.get_width() / 2., p.get_height()-2), ha='center', va='center', xytext=(0, 10), textcoords='offset points')\n",
    "\n",
    "# 방법 2: annotate() 함수 사용\n",
    "# for p in ax.patches:\n",
    "#     ax.annotate(f'{p.get_height()}', (p.get_x() + p.get_width() / 2., p.get_height()), ha='center', va='center', xytext=(0, 10), textcoords='offset points')\n",
    "\n",
    "plt.title(\"한글 제목\")\n",
    "plt.show()"
   ]
  },
  {
   "cell_type": "code",
   "execution_count": 14,
   "metadata": {},
   "outputs": [
    {
     "data": {
      "image/png": "[encoded data removed]",
      "text/plain": [
       "<Figure size 640x480 with 1 Axes>"
      ]
     },
     "metadata": {},
     "output_type": "display_data"
    }
   ],
   "source": [
    "import seaborn as sns\n",
    "import matplotlib.pyplot as plt\n",
    "\n",
    "# 데이터 불러오기 예시\n",
    "iris = sns.load_dataset(\"iris\")\n",
    "\n",
    "# countplot 그리기\n",
    "sns.countplot(x=\"species\", data=iris)\n",
    "\n",
    "# 라벨 붙이기\n",
    "plt.text(0, iris['species'].value_counts()['setosa'], 'setosa', ha='center')\n",
    "plt.show()\n",
    "\n",
    "\"\"\"\n",
    "원하는 카테고리의 빈도를 얻기 위해 value_counts() 함수를 사용하여 'setosa' 카테고리의 빈도를 계산하고,\n",
    "그 값을 이용하여 라벨을 추가\n",
    "\"\"\""
   ]
  },
  {
   "cell_type": "code",
   "execution_count": 15,
   "metadata": {},
   "outputs": [
    {
     "data": {
      "text/plain": [
       "50"
      ]
     },
     "execution_count": 15,
     "metadata": {},
     "output_type": "execute_result"
    }
   ],
   "source": [
    "iris['species'].value_counts()['setosa']"
   ]
  },
  {
   "cell_type": "code",
   "execution_count": 15,
   "metadata": {},
   "outputs": [
    {
     "data": {
      "text/plain": [
       "[{'type': 'choropleth', 'autocolorscale': False}]"
      ]
     },
     "execution_count": 15,
     "metadata": {},
     "output_type": "execute_result"
    }
   ],
   "source": [
    "data = [dict(\n",
    "        type = 'choropleth',\n",
    "        autocolorscale = False\n",
    "        )]\n",
    "data"
   ]
  },
  {
   "cell_type": "markdown",
   "metadata": {},
   "source": [
    "## Graph Animation\n",
    "\n",
    "https://pinkwink.kr/1090"
   ]
  },
  {
   "cell_type": "code",
   "execution_count": null,
   "metadata": {},
   "outputs": [],
   "source": []
  },
  {
   "cell_type": "code",
   "execution_count": 37,
   "metadata": {},
   "outputs": [
    {
     "data": {
      "text/html": [
       "<div>\n",
       "<style scoped>\n",
       "    .dataframe tbody tr th:only-of-type {\n",
       "        vertical-align: middle;\n",
       "    }\n",
       "\n",
       "    .dataframe tbody tr th {\n",
       "        vertical-align: top;\n",
       "    }\n",
       "\n",
       "    .dataframe thead th {\n",
       "        text-align: right;\n",
       "    }\n",
       "</style>\n",
       "<table border=\"1\" class=\"dataframe\">\n",
       "  <thead>\n",
       "    <tr style=\"text-align: right;\">\n",
       "      <th></th>\n",
       "      <th>A</th>\n",
       "      <th>B</th>\n",
       "      <th>C</th>\n",
       "    </tr>\n",
       "  </thead>\n",
       "  <tbody>\n",
       "    <tr>\n",
       "      <th>row1</th>\n",
       "      <td>10</td>\n",
       "      <td>15</td>\n",
       "      <td>12</td>\n",
       "    </tr>\n",
       "    <tr>\n",
       "      <th>row2</th>\n",
       "      <td>20</td>\n",
       "      <td>25</td>\n",
       "      <td>22</td>\n",
       "    </tr>\n",
       "    <tr>\n",
       "      <th>row3</th>\n",
       "      <td>30</td>\n",
       "      <td>35</td>\n",
       "      <td>32</td>\n",
       "    </tr>\n",
       "    <tr>\n",
       "      <th>row4</th>\n",
       "      <td>40</td>\n",
       "      <td>45</td>\n",
       "      <td>42</td>\n",
       "    </tr>\n",
       "  </tbody>\n",
       "</table>\n",
       "</div>"
      ],
      "text/plain": [
       "       A   B   C\n",
       "row1  10  15  12\n",
       "row2  20  25  22\n",
       "row3  30  35  32\n",
       "row4  40  45  42"
      ]
     },
     "metadata": {},
     "output_type": "display_data"
    },
    {
     "data": {
      "image/png": "[encoded data removed]",
      "text/plain": [
       "<Figure size 640x480 with 1 Axes>"
      ]
     },
     "metadata": {},
     "output_type": "display_data"
    }
   ],
   "source": [
    "import pandas as pd\n",
    "import matplotlib.pyplot as plt\n",
    "\n",
    "# 예시 데이터프레임 생성\n",
    "data = {'A': [10, 20, 30, 40],\n",
    "        'B': [15, 25, 35, 45],\n",
    "        'C': [12, 22, 32, 42]}\n",
    "df = pd.DataFrame(data, index=['row1', 'row2', 'row3', 'row4'])\n",
    "display(df)\n",
    "\n",
    "# 선택한 두 개의 열 추출\n",
    "selected_columns = ['A', 'B']\n",
    "df_selected = df[selected_columns]\n",
    "\n",
    "# 바 차트 생성\n",
    "df_selected.plot.bar(rot=0)\n",
    "plt.title('Comparison of Columns A and B')\n",
    "plt.xlabel('Index')\n",
    "plt.ylabel('Values')\n",
    "plt.show()"
   ]
  },
  {
   "cell_type": "code",
   "execution_count": 9,
   "metadata": {},
   "outputs": [
    {
     "data": {
      "image/png": "[encoded data removed]",
      "text/plain": [
       "<Figure size 1000x500 with 2 Axes>"
      ]
     },
     "metadata": {},
     "output_type": "display_data"
    }
   ],
   "source": [
    "import matplotlib.pyplot as plt\n",
    "import numpy as np\n",
    "\n",
    "# 예제 데이터 생성\n",
    "x = np.arange(5)\n",
    "y1 = np.random.randint(1, 10, size=5)\n",
    "y2 = np.random.randint(1, 10, size=5)\n",
    "\n",
    "# 서브플롯 생성\n",
    "fig, axs = plt.subplots(1, 2, figsize=(10, 5))\n",
    "\n",
    "# 첫 번째 서브플롯\n",
    "axs[0].bar(x, y1)\n",
    "axs[0].set_title('Plot 1')\n",
    "axs[0].set_xticks(x)  # x 눈금 설정\n",
    "axs[0].set_xticklabels(['A', 'B', 'C', 'D', 'E'], rotation=45)  # x 눈금 라벨 회전\n",
    "\n",
    "# 두 번째 서브플롯\n",
    "axs[1].bar(x, y2)\n",
    "axs[1].set_title('Plot 2')\n",
    "axs[1].set_xticks(x)  # x 눈금 설정\n",
    "axs[1].set_xticklabels(['A', 'B', 'C', 'D', 'E'], rotation=45)  # x 눈금 라벨 회전\n",
    "\n",
    "plt.tight_layout()\n",
    "plt.show()"
   ]
  },
  {
   "cell_type": "code",
   "execution_count": 1,
   "metadata": {},
   "outputs": [
    {
     "data": {
      "text/html": [
       "<div>\n",
       "<style scoped>\n",
       "    .dataframe tbody tr th:only-of-type {\n",
       "        vertical-align: middle;\n",
       "    }\n",
       "\n",
       "    .dataframe tbody tr th {\n",
       "        vertical-align: top;\n",
       "    }\n",
       "\n",
       "    .dataframe thead th {\n",
       "        text-align: right;\n",
       "    }\n",
       "</style>\n",
       "<table border=\"1\" class=\"dataframe\">\n",
       "  <thead>\n",
       "    <tr style=\"text-align: right;\">\n",
       "      <th></th>\n",
       "      <th>Year</th>\n",
       "      <th>Month</th>\n",
       "      <th>Day</th>\n",
       "      <th>Date</th>\n",
       "    </tr>\n",
       "  </thead>\n",
       "  <tbody>\n",
       "    <tr>\n",
       "      <th>0</th>\n",
       "      <td>2022</td>\n",
       "      <td>1</td>\n",
       "      <td>15</td>\n",
       "      <td>2022-01-15</td>\n",
       "    </tr>\n",
       "    <tr>\n",
       "      <th>1</th>\n",
       "      <td>2023</td>\n",
       "      <td>2</td>\n",
       "      <td>20</td>\n",
       "      <td>2023-02-20</td>\n",
       "    </tr>\n",
       "    <tr>\n",
       "      <th>2</th>\n",
       "      <td>2024</td>\n",
       "      <td>3</td>\n",
       "      <td>25</td>\n",
       "      <td>2024-03-25</td>\n",
       "    </tr>\n",
       "  </tbody>\n",
       "</table>\n",
       "</div>"
      ],
      "text/plain": [
       "   Year  Month  Day       Date\n",
       "0  2022      1   15 2022-01-15\n",
       "1  2023      2   20 2023-02-20\n",
       "2  2024      3   25 2024-03-25"
      ]
     },
     "metadata": {},
     "output_type": "display_data"
    },
    {
     "name": "stdout",
     "output_type": "stream",
     "text": [
      "<class 'pandas.core.frame.DataFrame'>\n",
      "RangeIndex: 3 entries, 0 to 2\n",
      "Data columns (total 4 columns):\n",
      " #   Column  Non-Null Count  Dtype         \n",
      "---  ------  --------------  -----         \n",
      " 0   Year    3 non-null      int64         \n",
      " 1   Month   3 non-null      int64         \n",
      " 2   Day     3 non-null      int64         \n",
      " 3   Date    3 non-null      datetime64[ns]\n",
      "dtypes: datetime64[ns](1), int64(3)\n",
      "memory usage: 224.0 bytes\n"
     ]
    }
   ],
   "source": [
    "import pandas as pd\n",
    "\n",
    "# 예제 데이터프레임 생성\n",
    "data = {\n",
    "    'Year': [2022, 2023, 2024],\n",
    "    'Month': [1, 2, 3],\n",
    "    'Day': [15, 20, 25]\n",
    "}\n",
    "\n",
    "df = pd.DataFrame(data)\n",
    "\n",
    "# 연, 월, 일을 하나로 합치기\n",
    "df['Date'] = pd.to_datetime(df[['Year', 'Month', 'Day']])\n",
    "\n",
    "# 결과 확인\n",
    "display(df)\n",
    "df.info()"
   ]
  },
  {
   "cell_type": "code",
   "execution_count": 3,
   "metadata": {},
   "outputs": [
    {
     "name": "stdout",
     "output_type": "stream",
     "text": [
      "Date\n",
      "2022-01    25\n",
      "2022-02    45\n",
      "2022-03    30\n",
      "Freq: M, Name: Value, dtype: int64\n"
     ]
    }
   ],
   "source": [
    "import pandas as pd\n",
    "\n",
    "# 예제 데이터프레임 생성\n",
    "data = {\n",
    "    'Date': ['2022-01-15', '2022-01-20', '2022-02-10', '2022-02-25', '2022-03-05'],\n",
    "    'Value': [10, 15, 20, 25, 30]\n",
    "}\n",
    "\n",
    "df = pd.DataFrame(data)\n",
    "\n",
    "# Date 컬럼을 날짜형으로 변환\n",
    "df['Date'] = pd.to_datetime(df['Date'])\n",
    "\n",
    "# 연도와 월로 그룹화하여 그룹별로 합계 계산\n",
    "result = df.groupby(df['Date'].dt.to_period('M'))['Value'].sum()\n",
    "\n",
    "# 결과 확인\n",
    "print(result)"
   ]
  },
  {
   "cell_type": "code",
   "execution_count": 4,
   "metadata": {},
   "outputs": [
    {
     "data": {
      "text/html": [
       "<div>\n",
       "<style scoped>\n",
       "    .dataframe tbody tr th:only-of-type {\n",
       "        vertical-align: middle;\n",
       "    }\n",
       "\n",
       "    .dataframe tbody tr th {\n",
       "        vertical-align: top;\n",
       "    }\n",
       "\n",
       "    .dataframe thead th {\n",
       "        text-align: right;\n",
       "    }\n",
       "</style>\n",
       "<table border=\"1\" class=\"dataframe\">\n",
       "  <thead>\n",
       "    <tr style=\"text-align: right;\">\n",
       "      <th></th>\n",
       "      <th>연</th>\n",
       "      <th>월</th>\n",
       "      <th>날짜</th>\n",
       "    </tr>\n",
       "  </thead>\n",
       "  <tbody>\n",
       "    <tr>\n",
       "      <th>0</th>\n",
       "      <td>2022</td>\n",
       "      <td>1</td>\n",
       "      <td>2022-01-01</td>\n",
       "    </tr>\n",
       "    <tr>\n",
       "      <th>1</th>\n",
       "      <td>2022</td>\n",
       "      <td>2</td>\n",
       "      <td>2022-02-01</td>\n",
       "    </tr>\n",
       "    <tr>\n",
       "      <th>2</th>\n",
       "      <td>2023</td>\n",
       "      <td>3</td>\n",
       "      <td>2023-03-01</td>\n",
       "    </tr>\n",
       "    <tr>\n",
       "      <th>3</th>\n",
       "      <td>2023</td>\n",
       "      <td>4</td>\n",
       "      <td>2023-04-01</td>\n",
       "    </tr>\n",
       "  </tbody>\n",
       "</table>\n",
       "</div>"
      ],
      "text/plain": [
       "      연  월         날짜\n",
       "0  2022  1 2022-01-01\n",
       "1  2022  2 2022-02-01\n",
       "2  2023  3 2023-03-01\n",
       "3  2023  4 2023-04-01"
      ]
     },
     "execution_count": 4,
     "metadata": {},
     "output_type": "execute_result"
    }
   ],
   "source": [
    "import pandas as pd\n",
    "\n",
    "# 예제 데이터 생성\n",
    "data = {'연': [2022, 2022, 2023, 2023],\n",
    "        '월': [1, 2, 3, 4]}\n",
    "\n",
    "# 데이터프레임 생성\n",
    "df = pd.DataFrame(data)\n",
    "\n",
    "# 연도와 월을 문자열로 변환하여 합치기\n",
    "df['날짜'] = df['연'].astype(str) + '-' + df['월'].astype(str)\n",
    "\n",
    "# 날짜형으로 변환\n",
    "df['날짜'] = pd.to_datetime(df['날짜'], format='%Y-%m')\n",
    "\n",
    "df"
   ]
  },
  {
   "cell_type": "code",
   "execution_count": null,
   "metadata": {},
   "outputs": [],
   "source": []
  }
 ],
 "metadata": {
  "kernelspec": {
   "display_name": "ds_study",
   "language": "python",
   "name": "python3"
  },
  "language_info": {
   "codemirror_mode": {
    "name": "ipython",
    "version": 3
   },
   "file_extension": ".py",
   "mimetype": "text/x-python",
   "name": "python",
   "nbconvert_exporter": "python",
   "pygments_lexer": "ipython3",
   "version": "3.8.18"
  }
 },
 "nbformat": 4,
 "nbformat_minor": 2
}
