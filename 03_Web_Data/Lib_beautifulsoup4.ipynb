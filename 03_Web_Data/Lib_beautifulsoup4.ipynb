{
 "cells": [
  {
   "cell_type": "markdown",
   "metadata": {},
   "source": [
    "# BeautifulSoup for Web Data"
   ]
  },
  {
   "cell_type": "markdown",
   "metadata": {},
   "source": [
    "### 🔰 BeautifulSoup Basic\n",
    "\n",
    "- 공식 문서 : https://www.crummy.com/software/BeautifulSoup/bs4/doc/\n",
    "\n",
    "- install \n",
    "    <p>\n",
    "    - conda install -c anaconda beautifulsoup4 ✔</br>\n",
    "    - pip install beautifulsoup4\n",
    "    </p></br>\n",
    "\n",
    "- data\n",
    "    <p>\n",
    "    - 03. test_first.html\n",
    "    </p>\n",
    "\n",
    "    ![03_test_first_html](https://github.com/ElaYJ/Study_EDA/assets/153154981/fef76276-5d47-411e-a2a4-1aa7e0fd7c6b)"
   ]
  },
  {
   "cell_type": "code",
   "execution_count": 2,
   "metadata": {},
   "outputs": [
    {
     "data": {
      "text/plain": [
       "'<!doctype html>\\n<html>\\n    <head>\\n        <title>zerobase</title>\\n    </head>\\n    <body>        \\n        <div>\\n        <!--division(구분)-->            \\n            <p class=\"inner-text first-item\" id=\"first\">\\n            <!--paragraph(단락, 문단)-->\\n                Happy PinkWink.\\n                <a href=\"https://pinkwink.kr\" id=\"pw-link\">PinkWink</a>\\n            </p>\\n            <p class=\"inner-text second-item\">\\n                Happy Data Science.\\n                <a href=\"https://www.python.org\" target=\"_blink\" id=\"py-link\">Python</a>\\n            </p>\\n        </div>\\n        <p class=\"outer-text first-item\" id=\"second\">\\n            <b>Data Science is funny.</b>\\n        </p>\\n        <p class=\"outer-text\">\\n            <i>All I need is Love.</i>\\n        </p>\\n    </body>\\n</html>'"
      ]
     },
     "execution_count": 2,
     "metadata": {},
     "output_type": "execute_result"
    }
   ],
   "source": [
    "page = open(\"../data/03. test_first.html\", \"r\").read()\n",
    "page"
   ]
  },
  {
   "cell_type": "code",
   "execution_count": 25,
   "metadata": {},
   "outputs": [
    {
     "name": "stdout",
     "output_type": "stream",
     "text": [
      "<!doctype html>\n",
      "<html>\n",
      "    <head>\n",
      "        <title>zerobase</title>\n",
      "    </head>\n",
      "    <body>        \n",
      "        <div>\n",
      "        <!--division(구분)-->            \n",
      "            <p class=\"inner-text first-item\" id=\"first\">\n",
      "            <!--paragraph(단락, 문단)-->\n",
      "                Happy PinkWink.\n",
      "                <a href=\"https://pinkwink.kr\" id=\"pw-link\">PinkWink</a>\n",
      "            </p>\n",
      "            <p class=\"inner-text second-item\">\n",
      "                Happy Data Science.\n",
      "                <a href=\"https://www.python.org\" target=\"_blink\" id=\"py-link\">Python</a>\n",
      "            </p>\n",
      "        </div>\n",
      "        <p class=\"outer-text first-item\" id=\"second\">\n",
      "            <b>Data Science is funny.</b>\n",
      "        </p>\n",
      "        <p class=\"outer-text\">\n",
      "            <i>All I need is Love.</i>\n",
      "        </p>\n",
      "    </body>\n",
      "</html>\n"
     ]
    }
   ],
   "source": [
    "print(page)"
   ]
  },
  {
   "cell_type": "markdown",
   "metadata": {},
   "source": [
    "- `\"html.parser\"`\n",
    "\n",
    "\t- Beautiful Soup에서 html을 읽는 엔진 중 하나\n",
    "\n",
    "\t- [공식 문서](https://www.crummy.com/software/BeautifulSoup/bs4/doc/#installing-a-parser) 참고"
   ]
  },
  {
   "cell_type": "code",
   "execution_count": 3,
   "metadata": {},
   "outputs": [
    {
     "data": {
      "text/plain": [
       "<!DOCTYPE html>\n",
       "\n",
       "<html>\n",
       "<head>\n",
       "<title>zerobase</title>\n",
       "</head>\n",
       "<body>\n",
       "<div>\n",
       "<!--division(구분)-->\n",
       "<p class=\"inner-text first-item\" id=\"first\">\n",
       "<!--paragraph(단락, 문단)-->\n",
       "                Happy PinkWink.\n",
       "                <a href=\"https://pinkwink.kr\" id=\"pw-link\">PinkWink</a>\n",
       "</p>\n",
       "<p class=\"inner-text second-item\">\n",
       "                Happy Data Science.\n",
       "                <a href=\"https://www.python.org\" id=\"py-link\" target=\"_blink\">Python</a>\n",
       "</p>\n",
       "</div>\n",
       "<p class=\"outer-text first-item\" id=\"second\">\n",
       "<b>Data Science is funny.</b>\n",
       "</p>\n",
       "<p class=\"outer-text\">\n",
       "<i>All I need is Love.</i>\n",
       "</p>\n",
       "</body>\n",
       "</html>"
      ]
     },
     "execution_count": 3,
     "metadata": {},
     "output_type": "execute_result"
    }
   ],
   "source": [
    "from bs4 import BeautifulSoup\n",
    "\n",
    "soup = BeautifulSoup(page, \"html.parser\")\n",
    "soup"
   ]
  },
  {
   "cell_type": "markdown",
   "metadata": {},
   "source": [
    "- `prettify()`\n",
    "\n",
    "\t- prettify : 꾸며대다, 겉치레하다\n",
    "\t\n",
    "\t- prettify() 메서드는 html을 들여쓰기로 보기 좋게 표현해 준다."
   ]
  },
  {
   "cell_type": "code",
   "execution_count": 27,
   "metadata": {},
   "outputs": [
    {
     "name": "stdout",
     "output_type": "stream",
     "text": [
      "<!DOCTYPE html>\n",
      "<html>\n",
      " <head>\n",
      "  <title>\n",
      "   zerobase\n",
      "  </title>\n",
      " </head>\n",
      " <body>\n",
      "  <div>\n",
      "   <!--division(구분)-->\n",
      "   <p class=\"inner-text first-item\" id=\"first\">\n",
      "    <!--paragraph(단락, 문단)-->\n",
      "    Happy PinkWink.\n",
      "    <a href=\"https://pinkwink.kr\" id=\"pw-link\">\n",
      "     PinkWink\n",
      "    </a>\n",
      "   </p>\n",
      "   <p class=\"inner-text second-item\">\n",
      "    Happy Data Science.\n",
      "    <a href=\"https://www.python.org\" id=\"py-link\" target=\"_blink\">\n",
      "     Python\n",
      "    </a>\n",
      "   </p>\n",
      "  </div>\n",
      "  <p class=\"outer-text first-item\" id=\"second\">\n",
      "   <b>\n",
      "    Data Science is funny.\n",
      "   </b>\n",
      "  </p>\n",
      "  <p class=\"outer-text\">\n",
      "   <i>\n",
      "    All I need is Love.\n",
      "   </i>\n",
      "  </p>\n",
      " </body>\n",
      "</html>\n",
      "\n"
     ]
    }
   ],
   "source": [
    "print(soup.prettify())"
   ]
  },
  {
   "cell_type": "markdown",
   "metadata": {},
   "source": [
    "- `head` tag 확인"
   ]
  },
  {
   "cell_type": "code",
   "execution_count": 28,
   "metadata": {},
   "outputs": [
    {
     "data": {
      "text/plain": [
       "<head>\n",
       "<title>zerobase</title>\n",
       "</head>"
      ]
     },
     "execution_count": 28,
     "metadata": {},
     "output_type": "execute_result"
    }
   ],
   "source": [
    "soup.head"
   ]
  },
  {
   "cell_type": "code",
   "execution_count": 4,
   "metadata": {},
   "outputs": [
    {
     "data": {
      "text/plain": [
       "<title>zerobase</title>"
      ]
     },
     "execution_count": 4,
     "metadata": {},
     "output_type": "execute_result"
    }
   ],
   "source": [
    "soup.title"
   ]
  },
  {
   "cell_type": "markdown",
   "metadata": {},
   "source": [
    "- `body` tag 확인"
   ]
  },
  {
   "cell_type": "code",
   "execution_count": 29,
   "metadata": {},
   "outputs": [
    {
     "data": {
      "text/plain": [
       "<body>\n",
       "<div>\n",
       "<!--division(구분)-->\n",
       "<p class=\"inner-text first-item\" id=\"first\">\n",
       "<!--paragraph(단락, 문단)-->\n",
       "                Happy PinkWink.\n",
       "                <a href=\"https://pinkwink.kr\" id=\"pw-link\">PinkWink</a>\n",
       "</p>\n",
       "<p class=\"inner-text second-item\">\n",
       "                Happy Data Science.\n",
       "                <a href=\"https://www.python.org\" id=\"py-link\" target=\"_blink\">Python</a>\n",
       "</p>\n",
       "</div>\n",
       "<p class=\"outer-text first-item\" id=\"second\">\n",
       "<b>Data Science is funny.</b>\n",
       "</p>\n",
       "<p class=\"outer-text\">\n",
       "<i>All I need is Love.</i>\n",
       "</p>\n",
       "</body>"
      ]
     },
     "execution_count": 29,
     "metadata": {},
     "output_type": "execute_result"
    }
   ],
   "source": [
    "soup.body"
   ]
  },
  {
   "cell_type": "markdown",
   "metadata": {},
   "source": [
    "- `div` tag 확인\n",
    "\n",
    "\t- division, 구분"
   ]
  },
  {
   "cell_type": "code",
   "execution_count": 30,
   "metadata": {},
   "outputs": [
    {
     "data": {
      "text/plain": [
       "<div>\n",
       "<!--division(구분)-->\n",
       "<p class=\"inner-text first-item\" id=\"first\">\n",
       "<!--paragraph(단락, 문단)-->\n",
       "                Happy PinkWink.\n",
       "                <a href=\"https://pinkwink.kr\" id=\"pw-link\">PinkWink</a>\n",
       "</p>\n",
       "<p class=\"inner-text second-item\">\n",
       "                Happy Data Science.\n",
       "                <a href=\"https://www.python.org\" id=\"py-link\" target=\"_blink\">Python</a>\n",
       "</p>\n",
       "</div>"
      ]
     },
     "execution_count": 30,
     "metadata": {},
     "output_type": "execute_result"
    }
   ],
   "source": [
    "soup.div"
   ]
  },
  {
   "cell_type": "markdown",
   "metadata": {},
   "source": [
    "- `p` tag 확인\n",
    "\n",
    "\t- paragraph, 단락·문단\n",
    "\n",
    "\t- 처음 발견한 \\<p> tag만 출력된다."
   ]
  },
  {
   "cell_type": "code",
   "execution_count": 31,
   "metadata": {},
   "outputs": [
    {
     "data": {
      "text/plain": [
       "<p class=\"inner-text first-item\" id=\"first\">\n",
       "<!--paragraph(단락, 문단)-->\n",
       "                Happy PinkWink.\n",
       "                <a href=\"https://pinkwink.kr\" id=\"pw-link\">PinkWink</a>\n",
       "</p>"
      ]
     },
     "execution_count": 31,
     "metadata": {},
     "output_type": "execute_result"
    }
   ],
   "source": [
    "soup.p"
   ]
  },
  {
   "cell_type": "markdown",
   "metadata": {},
   "source": [
    "- `find()` : 특정 태그 검색\n",
    "\n",
    "\t- find(\"p\") : : 첫 \\<p\\> tag만 가져온다.\n",
    "\n",
    "\t- class_=\"\" : 태그 내 속성값을 추가적인 조건으로 더 지정할 수 있다.\n",
    "\n",
    "\t- dict 형태로도 태그 내 속성값 조건을 추가할 수 있다."
   ]
  },
  {
   "cell_type": "code",
   "execution_count": 32,
   "metadata": {},
   "outputs": [
    {
     "data": {
      "text/plain": [
       "<p class=\"inner-text first-item\" id=\"first\">\n",
       "<!--paragraph(단락, 문단)-->\n",
       "                Happy PinkWink.\n",
       "                <a href=\"https://pinkwink.kr\" id=\"pw-link\">PinkWink</a>\n",
       "</p>"
      ]
     },
     "execution_count": 32,
     "metadata": {},
     "output_type": "execute_result"
    }
   ],
   "source": [
    "soup.find(\"p\")"
   ]
  },
  {
   "cell_type": "code",
   "execution_count": 33,
   "metadata": {},
   "outputs": [
    {
     "data": {
      "text/plain": [
       "<p class=\"inner-text second-item\">\n",
       "                Happy Data Science.\n",
       "                <a href=\"https://www.python.org\" id=\"py-link\" target=\"_blink\">Python</a>\n",
       "</p>"
      ]
     },
     "execution_count": 33,
     "metadata": {},
     "output_type": "execute_result"
    }
   ],
   "source": [
    "# 파이썬 예약어 : class, id, def, list, str, int, tuple...\n",
    "# 파이썬 예약어와 겹치므로 언더바(_)를 사용해 구분해 준다.\n",
    "\n",
    "soup.find(\"p\", class_=\"inner-text second-item\")"
   ]
  },
  {
   "cell_type": "code",
   "execution_count": 35,
   "metadata": {},
   "outputs": [
    {
     "data": {
      "text/plain": [
       "<p class=\"outer-text first-item\" id=\"second\">\n",
       "<b>Data Science is funny.</b>\n",
       "</p>"
      ]
     },
     "execution_count": 35,
     "metadata": {},
     "output_type": "execute_result"
    }
   ],
   "source": [
    "soup.find(\"p\", {\"class\": \"outer-text first-item\"})"
   ]
  },
  {
   "cell_type": "code",
   "execution_count": 42,
   "metadata": {},
   "outputs": [
    {
     "data": {
      "text/plain": [
       "<p class=\"inner-text first-item\" id=\"first\">\n",
       "<!--paragraph(단락, 문단)-->\n",
       "                Happy PinkWink.\n",
       "                <a href=\"https://pinkwink.kr\" id=\"pw-link\">PinkWink</a>\n",
       "</p>"
      ]
     },
     "execution_count": 42,
     "metadata": {},
     "output_type": "execute_result"
    }
   ],
   "source": [
    "# 다중 조건\n",
    "\n",
    "soup.find(\"p\", {\"class\": \"inner-text first-item\", \"id\": \"first\"})"
   ]
  },
  {
   "cell_type": "code",
   "execution_count": 36,
   "metadata": {},
   "outputs": [
    {
     "data": {
      "text/plain": [
       "'\\nData Science is funny.\\n'"
      ]
     },
     "execution_count": 36,
     "metadata": {},
     "output_type": "execute_result"
    }
   ],
   "source": [
    "# tag를 제외하고 내용만 가져오기\n",
    "\n",
    "soup.find(\"p\", {\"class\": \"outer-text first-item\"}).text"
   ]
  },
  {
   "cell_type": "code",
   "execution_count": 37,
   "metadata": {},
   "outputs": [
    {
     "data": {
      "text/plain": [
       "'Data Science is funny.'"
      ]
     },
     "execution_count": 37,
     "metadata": {},
     "output_type": "execute_result"
    }
   ],
   "source": [
    "# 포함된 개행 문자 제거\n",
    "\n",
    "soup.find(\"p\", {\"class\": \"outer-text first-item\"}).text.strip()"
   ]
  },
  {
   "cell_type": "code",
   "execution_count": 38,
   "metadata": {},
   "outputs": [
    {
     "data": {
      "text/plain": [
       "'\\nData Science is funny.\\n'"
      ]
     },
     "execution_count": 38,
     "metadata": {},
     "output_type": "execute_result"
    }
   ],
   "source": [
    "soup.find(\"p\", {\"class\": \"outer-text first-item\"}).get_text()"
   ]
  },
  {
   "cell_type": "code",
   "execution_count": 40,
   "metadata": {},
   "outputs": [
    {
     "data": {
      "text/plain": [
       "'Data Science is funny.'"
      ]
     },
     "execution_count": 40,
     "metadata": {},
     "output_type": "execute_result"
    }
   ],
   "source": [
    "soup.find(\"p\", {\"class\": \"outer-text first-item\"}).get_text().strip()"
   ]
  },
  {
   "cell_type": "markdown",
   "metadata": {},
   "source": [
    "- `find_all()` : 지정된 태크를 모두 찾아준다.\n",
    "\n",
    "\t- find_all(\"p\") : 모든 \\<p\\> tag를 가져온다. 여러 개의 \\<p\\> tag를 list 형태로 반환한다."
   ]
  },
  {
   "cell_type": "code",
   "execution_count": 44,
   "metadata": {},
   "outputs": [
    {
     "data": {
      "text/plain": [
       "([<p class=\"inner-text first-item\" id=\"first\">\n",
       "  <!--paragraph(단락, 문단)-->\n",
       "                  Happy PinkWink.\n",
       "                  <a href=\"https://pinkwink.kr\" id=\"pw-link\">PinkWink</a>\n",
       "  </p>,\n",
       "  <p class=\"inner-text second-item\">\n",
       "                  Happy Data Science.\n",
       "                  <a href=\"https://www.python.org\" id=\"py-link\" target=\"_blink\">Python</a>\n",
       "  </p>,\n",
       "  <p class=\"outer-text first-item\" id=\"second\">\n",
       "  <b>Data Science is funny.</b>\n",
       "  </p>,\n",
       "  <p class=\"outer-text\">\n",
       "  <i>All I need is Love.</i>\n",
       "  </p>],\n",
       " 4)"
      ]
     },
     "execution_count": 44,
     "metadata": {},
     "output_type": "execute_result"
    }
   ],
   "source": [
    "soup.find_all(\"p\"), len(soup.find_all(\"p\"))"
   ]
  },
  {
   "cell_type": "code",
   "execution_count": 45,
   "metadata": {},
   "outputs": [
    {
     "data": {
      "text/plain": [
       "[<p class=\"outer-text first-item\" id=\"second\">\n",
       " <b>Data Science is funny.</b>\n",
       " </p>,\n",
       " <p class=\"outer-text\">\n",
       " <i>All I need is Love.</i>\n",
       " </p>]"
      ]
     },
     "execution_count": 45,
     "metadata": {},
     "output_type": "execute_result"
    }
   ],
   "source": [
    "soup.find_all(class_=\"outer-text\")"
   ]
  },
  {
   "cell_type": "code",
   "execution_count": 49,
   "metadata": {},
   "outputs": [
    {
     "data": {
      "text/plain": [
       "[<p class=\"inner-text second-item\">\n",
       "                 Happy Data Science.\n",
       "                 <a href=\"https://www.python.org\" id=\"py-link\" target=\"_blink\">Python</a>\n",
       " </p>]"
      ]
     },
     "execution_count": 49,
     "metadata": {},
     "output_type": "execute_result"
    }
   ],
   "source": [
    "soup.find_all(\"p\", class_=\"inner-text second-item\")"
   ]
  },
  {
   "cell_type": "code",
   "execution_count": 46,
   "metadata": {},
   "outputs": [
    {
     "data": {
      "text/plain": [
       "[<p class=\"inner-text first-item\" id=\"first\">\n",
       " <!--paragraph(단락, 문단)-->\n",
       "                 Happy PinkWink.\n",
       "                 <a href=\"https://pinkwink.kr\" id=\"pw-link\">PinkWink</a>\n",
       " </p>]"
      ]
     },
     "execution_count": 46,
     "metadata": {},
     "output_type": "execute_result"
    }
   ],
   "source": [
    "soup.find_all(id=\"first\")"
   ]
  },
  {
   "cell_type": "code",
   "execution_count": 47,
   "metadata": {},
   "outputs": [
    {
     "data": {
      "text/plain": [
       "<p class=\"inner-text first-item\" id=\"first\">\n",
       "<!--paragraph(단락, 문단)-->\n",
       "                Happy PinkWink.\n",
       "                <a href=\"https://pinkwink.kr\" id=\"pw-link\">PinkWink</a>\n",
       "</p>"
      ]
     },
     "execution_count": 47,
     "metadata": {},
     "output_type": "execute_result"
    }
   ],
   "source": [
    "soup.find(id=\"first\")"
   ]
  },
  {
   "cell_type": "markdown",
   "metadata": {},
   "source": [
    "- HTML 내에서 속성 `id`는 unique한 값을 가져야 한다. 즉, 한 번만 나타난다.\n",
    "- 그러므로 find_all() 함수는 의미가 없다.\n",
    "\n",
    "- 단, 검색 결과를 `list`로 받고 싶다면 id라도 find_all() 함수를 사용한다.\n",
    "- list 형태로 반환되므로 `[]`로 접근한다."
   ]
  },
  {
   "cell_type": "code",
   "execution_count": 52,
   "metadata": {},
   "outputs": [
    {
     "data": {
      "text/plain": [
       "<a href=\"https://pinkwink.kr\" id=\"pw-link\">PinkWink</a>"
      ]
     },
     "execution_count": 52,
     "metadata": {},
     "output_type": "execute_result"
    }
   ],
   "source": [
    "soup.find_all(id=\"pw-link\")[0]"
   ]
  },
  {
   "cell_type": "markdown",
   "metadata": {},
   "source": [
    "- tag 내 내용 가져오는 방법"
   ]
  },
  {
   "cell_type": "code",
   "execution_count": 53,
   "metadata": {},
   "outputs": [
    {
     "data": {
      "text/plain": [
       "'PinkWink'"
      ]
     },
     "execution_count": 53,
     "metadata": {},
     "output_type": "execute_result"
    }
   ],
   "source": [
    "soup.find_all(id=\"pw-link\")[0].text"
   ]
  },
  {
   "cell_type": "code",
   "execution_count": 55,
   "metadata": {},
   "outputs": [
    {
     "data": {
      "text/plain": [
       "'PinkWink'"
      ]
     },
     "execution_count": 55,
     "metadata": {},
     "output_type": "execute_result"
    }
   ],
   "source": [
    "soup.find_all(id=\"pw-link\")[0].string"
   ]
  },
  {
   "cell_type": "code",
   "execution_count": 4,
   "metadata": {},
   "outputs": [
    {
     "data": {
      "text/plain": [
       "'PinkWink'"
      ]
     },
     "execution_count": 4,
     "metadata": {},
     "output_type": "execute_result"
    }
   ],
   "source": [
    "soup.find_all(id=\"pw-link\")[0].get_text()"
   ]
  },
  {
   "cell_type": "code",
   "execution_count": 56,
   "metadata": {},
   "outputs": [
    {
     "name": "stdout",
     "output_type": "stream",
     "text": [
      "PinkWink\n"
     ]
    }
   ],
   "source": [
    "print(soup.find_all(id=\"pw-link\")[0].text)"
   ]
  },
  {
   "cell_type": "code",
   "execution_count": 57,
   "metadata": {},
   "outputs": [
    {
     "data": {
      "text/plain": [
       "'\\n\\n                Happy PinkWink.\\n                PinkWink\\n'"
      ]
     },
     "execution_count": 57,
     "metadata": {},
     "output_type": "execute_result"
    }
   ],
   "source": [
    "soup.find_all(\"p\")[0].text"
   ]
  },
  {
   "cell_type": "code",
   "execution_count": 58,
   "metadata": {},
   "outputs": [
    {
     "name": "stdout",
     "output_type": "stream",
     "text": [
      "\n",
      "\n",
      "                Happy PinkWink.\n",
      "                PinkWink\n",
      "\n",
      "\n",
      "                Happy Data Science.\n",
      "                Python\n",
      "\n",
      "\n",
      "                Happy Data Science.\n",
      "                Python\n",
      "\n"
     ]
    }
   ],
   "source": [
    "print(soup.find_all(\"p\")[0].text)\n",
    "print(soup.find_all(\"p\")[1].text)\n",
    "print(soup.find_all(\"p\")[1].get_text())"
   ]
  },
  {
   "cell_type": "code",
   "execution_count": 62,
   "metadata": {},
   "outputs": [
    {
     "name": "stdout",
     "output_type": "stream",
     "text": [
      "None\n",
      "None\n"
     ]
    }
   ],
   "source": [
    "print(soup.find_all(\"p\")[0].string)\n",
    "print(soup.find_all(\"p\")[3].string)"
   ]
  },
  {
   "cell_type": "code",
   "execution_count": 60,
   "metadata": {},
   "outputs": [
    {
     "name": "stdout",
     "output_type": "stream",
     "text": [
      "--------------------------------------------------\n",
      "\n",
      "\n",
      "                Happy PinkWink.\n",
      "                PinkWink\n",
      "\n",
      "--------------------------------------------------\n",
      "\n",
      "                Happy Data Science.\n",
      "                Python\n",
      "\n",
      "--------------------------------------------------\n",
      "\n",
      "Data Science is funny.\n",
      "\n",
      "--------------------------------------------------\n",
      "\n",
      "All I need is Love.\n",
      "\n"
     ]
    }
   ],
   "source": [
    "# p 태그 리스트에서 텍스트 속성만 출력 \n",
    "\n",
    "for each_tag in soup.find_all(\"p\"):\n",
    "    print(\"-\" * 50)\n",
    "    print(each_tag.text)"
   ]
  },
  {
   "cell_type": "markdown",
   "metadata": {},
   "source": [
    "- \\<a> tag에서 href 속성값에 있는 값 추출 방법\n",
    "\n",
    "\t- 외부로 연결되는 링크의 주소를 알아내는 것으로 두가지 방식이 있다.\n",
    "\n",
    "\t- `get()` 혹은 `[]` 사용"
   ]
  },
  {
   "cell_type": "code",
   "execution_count": 63,
   "metadata": {},
   "outputs": [
    {
     "data": {
      "text/plain": [
       "[<a href=\"https://pinkwink.kr\" id=\"pw-link\">PinkWink</a>,\n",
       " <a href=\"https://www.python.org\" id=\"py-link\" target=\"_blink\">Python</a>]"
      ]
     },
     "execution_count": 63,
     "metadata": {},
     "output_type": "execute_result"
    }
   ],
   "source": [
    "links = soup.find_all(\"a\")\n",
    "links"
   ]
  },
  {
   "cell_type": "code",
   "execution_count": 64,
   "metadata": {},
   "outputs": [
    {
     "data": {
      "text/plain": [
       "'https://pinkwink.kr'"
      ]
     },
     "execution_count": 64,
     "metadata": {},
     "output_type": "execute_result"
    }
   ],
   "source": [
    "# case_1\n",
    "\n",
    "links[0].get(\"href\")"
   ]
  },
  {
   "cell_type": "code",
   "execution_count": 65,
   "metadata": {},
   "outputs": [
    {
     "data": {
      "text/plain": [
       "'https://www.python.org'"
      ]
     },
     "execution_count": 65,
     "metadata": {},
     "output_type": "execute_result"
    }
   ],
   "source": [
    "# case_2\n",
    "\n",
    "links[1][\"href\"]"
   ]
  },
  {
   "cell_type": "code",
   "execution_count": 67,
   "metadata": {},
   "outputs": [
    {
     "name": "stdout",
     "output_type": "stream",
     "text": [
      "PinkWink => https://pinkwink.kr\n",
      "Python => https://www.python.org\n"
     ]
    }
   ],
   "source": [
    "for each in links:\n",
    "    href = each.get(\"href\") # each[\"href\"]\n",
    "    text = each.get_text()\n",
    "    print(text + \" => \" + href)"
   ]
  },
  {
   "cell_type": "markdown",
   "metadata": {},
   "source": [
    "### 🔰 BeautifulSoup 예제 1-1. 네이버 금융 - 환율정보 가져오기\n",
    "\n",
    "- 웹주소(URL)에 접근할 때는 urllib의 request 모듈이 필요하다."
   ]
  },
  {
   "cell_type": "code",
   "execution_count": 68,
   "metadata": {},
   "outputs": [],
   "source": [
    "from urllib.request import urlopen\n",
    "from bs4 import BeautifulSoup"
   ]
  },
  {
   "cell_type": "code",
   "execution_count": 69,
   "metadata": {},
   "outputs": [
    {
     "data": {
      "text/plain": [
       "<http.client.HTTPResponse at 0x23940680e80>"
      ]
     },
     "execution_count": 69,
     "metadata": {},
     "output_type": "execute_result"
    }
   ],
   "source": [
    "url = \"https://finance.naver.com/marketindex/\"\n",
    "page = urlopen(url)\n",
    "page"
   ]
  },
  {
   "cell_type": "markdown",
   "metadata": {},
   "source": [
    "- `response`\n",
    "\n",
    "\t- 'page'라는 변수명 보다는 'response'나 'res' 변수명을 주로 사용한다.\n",
    "\n",
    "\t- 웹페이지는 url로 요청(request)한 것에 대한 응답(response)이기 때문이다."
   ]
  },
  {
   "cell_type": "code",
   "execution_count": 70,
   "metadata": {},
   "outputs": [
    {
     "data": {
      "text/plain": [
       "200"
      ]
     },
     "execution_count": 70,
     "metadata": {},
     "output_type": "execute_result"
    }
   ],
   "source": [
    "response = urlopen(url=url)\n",
    "response.status"
   ]
  },
  {
   "cell_type": "markdown",
   "metadata": {},
   "source": [
    "👆 response.status 값이 `200`이라는 것은 정상적으로 응답을 받았다는 의미이다.\n",
    "\n",
    "- HTTP 상태 코드로 번호에 따라 웹페이지가 어떤 상태인지 표현해 준다.\n",
    "\n",
    "- https://ko.wikipedia.org/wiki/HTTP_%EC%83%81%ED%83%9C_%EC%BD%94%EB%93%9C"
   ]
  },
  {
   "cell_type": "code",
   "execution_count": null,
   "metadata": {},
   "outputs": [],
   "source": [
    "soup = BeautifulSoup(response, \"html.parser\")\n",
    "print(soup.prettify())"
   ]
  },
  {
   "cell_type": "markdown",
   "metadata": {},
   "source": [
    "![03_WD_bs4_네이버금융-1](https://github.com/ElaYJ/Study_EDA/assets/153154981/72f269d1-401a-4003-b259-c5bcba8fea0a)\n",
    "\n",
    "![03_WD_bs4_네이버금융-2](https://github.com/ElaYJ/Study_EDA/assets/153154981/aeba2f26-924a-4831-ac62-e7b95eb0e8fa)"
   ]
  },
  {
   "cell_type": "code",
   "execution_count": 72,
   "metadata": {},
   "outputs": [
    {
     "data": {
      "text/plain": [
       "([<span class=\"value\">1,317.50</span>,\n",
       "  <span class=\"value\">912.55</span>,\n",
       "  <span class=\"value\">1,443.58</span>,\n",
       "  <span class=\"value\">183.75</span>,\n",
       "  <span class=\"value\">144.1000</span>,\n",
       "  <span class=\"value\">1.0958</span>,\n",
       "  <span class=\"value\">1.2726</span>,\n",
       "  <span class=\"value\">102.1200</span>,\n",
       "  <span class=\"value\">73.81</span>,\n",
       "  <span class=\"value\">1571.64</span>,\n",
       "  <span class=\"value\">2049.8</span>,\n",
       "  <span class=\"value\">85732.82</span>],\n",
       " 12)"
      ]
     },
     "execution_count": 72,
     "metadata": {},
     "output_type": "execute_result"
    }
   ],
   "source": [
    "# case_1.\n",
    "\n",
    "soup.find_all(\"span\", \"value\"), len(soup.find_all(\"span\", \"value\"))"
   ]
  },
  {
   "cell_type": "code",
   "execution_count": 73,
   "metadata": {},
   "outputs": [
    {
     "data": {
      "text/plain": [
       "([<span class=\"value\">1,317.50</span>,\n",
       "  <span class=\"value\">912.55</span>,\n",
       "  <span class=\"value\">1,443.58</span>,\n",
       "  <span class=\"value\">183.75</span>,\n",
       "  <span class=\"value\">144.1000</span>,\n",
       "  <span class=\"value\">1.0958</span>,\n",
       "  <span class=\"value\">1.2726</span>,\n",
       "  <span class=\"value\">102.1200</span>,\n",
       "  <span class=\"value\">73.81</span>,\n",
       "  <span class=\"value\">1571.64</span>,\n",
       "  <span class=\"value\">2049.8</span>,\n",
       "  <span class=\"value\">85732.82</span>],\n",
       " 12)"
      ]
     },
     "execution_count": 73,
     "metadata": {},
     "output_type": "execute_result"
    }
   ],
   "source": [
    "# case_2.\n",
    "\n",
    "soup.find_all(\"span\", class_=\"value\"), len(soup.find_all(\"span\", class_=\"value\"))"
   ]
  },
  {
   "cell_type": "code",
   "execution_count": 74,
   "metadata": {},
   "outputs": [
    {
     "data": {
      "text/plain": [
       "([<span class=\"value\">1,317.50</span>,\n",
       "  <span class=\"value\">912.55</span>,\n",
       "  <span class=\"value\">1,443.58</span>,\n",
       "  <span class=\"value\">183.75</span>,\n",
       "  <span class=\"value\">144.1000</span>,\n",
       "  <span class=\"value\">1.0958</span>,\n",
       "  <span class=\"value\">1.2726</span>,\n",
       "  <span class=\"value\">102.1200</span>,\n",
       "  <span class=\"value\">73.81</span>,\n",
       "  <span class=\"value\">1571.64</span>,\n",
       "  <span class=\"value\">2049.8</span>,\n",
       "  <span class=\"value\">85732.82</span>],\n",
       " 12)"
      ]
     },
     "execution_count": 74,
     "metadata": {},
     "output_type": "execute_result"
    }
   ],
   "source": [
    "# case_3.\n",
    "\n",
    "soup.find_all(\"span\", {\"class\": \"value\"}), len(soup.find_all(\"span\", {\"class\": \"value\"}))"
   ]
  },
  {
   "cell_type": "code",
   "execution_count": 75,
   "metadata": {},
   "outputs": [
    {
     "data": {
      "text/plain": [
       "'1,317.50'"
      ]
     },
     "execution_count": 75,
     "metadata": {},
     "output_type": "execute_result"
    }
   ],
   "source": [
    "# 1\n",
    "soup.find_all(\"span\", {\"class\": \"value\"})[0].text"
   ]
  },
  {
   "cell_type": "code",
   "execution_count": 76,
   "metadata": {},
   "outputs": [
    {
     "data": {
      "text/plain": [
       "'1,317.50'"
      ]
     },
     "execution_count": 76,
     "metadata": {},
     "output_type": "execute_result"
    }
   ],
   "source": [
    "# 2\n",
    "soup.find_all(\"span\", {\"class\": \"value\"})[0].string"
   ]
  },
  {
   "cell_type": "code",
   "execution_count": 77,
   "metadata": {},
   "outputs": [
    {
     "data": {
      "text/plain": [
       "'1,317.50'"
      ]
     },
     "execution_count": 77,
     "metadata": {},
     "output_type": "execute_result"
    }
   ],
   "source": [
    "# 3\n",
    "soup.find_all(\"span\", {\"class\": \"value\"})[0].get_text()"
   ]
  },
  {
   "cell_type": "markdown",
   "metadata": {},
   "source": [
    "### 🔰 BeautifulSoup 예제 1-2. 네이버 금융 - 환율정보 가져오기\n",
    "\n",
    "- 웹주소(URL)에 접근하는 모듈로 urllib.request 말고 requests 모듈 사용\n",
    "\n",
    "- `requests` 모듈 설치\n",
    "\t- !pip install requests\n",
    "\n",
    "\t- 검색: \"urllib.request vs requests\" --> 두 모듈을 비교해볼 수 있다.\n",
    "\n",
    "- `select_one`, `select` : find, find_all 과 동일한 기능을 하는 함수\n",
    "\n",
    "\t- find, select_one : 단일 선택\n",
    "\t- find_all, select : 다중 선택\n",
    "\t\n",
    "\t- 검색: \"find_all, select\" --> 둘의 차이를 비교해볼 것"
   ]
  },
  {
   "cell_type": "code",
   "execution_count": 78,
   "metadata": {},
   "outputs": [],
   "source": [
    "import requests\n",
    "from bs4 import BeautifulSoup"
   ]
  },
  {
   "cell_type": "markdown",
   "metadata": {},
   "source": [
    "- request 방식에는 get 방식과 post 방식이 있다.\n",
    "\n",
    "\t- requests.get(), requests.post()"
   ]
  },
  {
   "cell_type": "code",
   "execution_count": 79,
   "metadata": {},
   "outputs": [
    {
     "data": {
      "text/plain": [
       "<Response [200]>"
      ]
     },
     "execution_count": 79,
     "metadata": {},
     "output_type": "execute_result"
    }
   ],
   "source": [
    "url = \"https://finance.naver.com/marketindex/\"\n",
    "response = requests.get(url)\n",
    "response"
   ]
  },
  {
   "cell_type": "code",
   "execution_count": null,
   "metadata": {},
   "outputs": [],
   "source": [
    "response.content"
   ]
  },
  {
   "cell_type": "code",
   "execution_count": null,
   "metadata": {},
   "outputs": [],
   "source": [
    "response.text"
   ]
  },
  {
   "cell_type": "code",
   "execution_count": null,
   "metadata": {},
   "outputs": [],
   "source": [
    "soup = BeautifulSoup(response.text, \"html.parser\")\n",
    "print(soup.prettify())"
   ]
  },
  {
   "cell_type": "code",
   "execution_count": null,
   "metadata": {},
   "outputs": [],
   "source": [
    "soup.find_all(\"li\")"
   ]
  },
  {
   "cell_type": "markdown",
   "metadata": {},
   "source": [
    "- `select()`\n",
    "\n",
    "\t- find_all() 과 동일"
   ]
  },
  {
   "cell_type": "code",
   "execution_count": null,
   "metadata": {},
   "outputs": [],
   "source": [
    "exchange_list = soup.select(\"li\")\n",
    "exchange_list, len(exchange_list)"
   ]
  },
  {
   "cell_type": "markdown",
   "metadata": {},
   "source": [
    "👆 모든 \"li\" tag, 36개가 스크랩되었다. \n",
    "\n",
    "- 우리가 원하는 \\<li\\> tag는 4개이므로 좀더 구체적인 속성 지정이 필요하다.\n",
    "\n",
    "![네이버금융](https://github.com/ElaYJ/Study_EDA/assets/153154981/4d943c80-00c8-42bd-9f05-e07f508ecd29)"
   ]
  },
  {
   "cell_type": "markdown",
   "metadata": {},
   "source": [
    "- `select()` 사용 방법\n",
    "\n",
    "\t- `#` 은 id를 의미\n",
    "\n",
    "\t- `.` 은 class를 의미\n",
    "\t\n",
    "\t- `>` : 바로 하위를 의미"
   ]
  },
  {
   "cell_type": "code",
   "execution_count": 85,
   "metadata": {},
   "outputs": [
    {
     "data": {
      "text/plain": [
       "(4,\n",
       " [<li class=\"on\">\n",
       "  <a class=\"head usd\" href=\"/marketindex/exchangeDetail.naver?marketindexCd=FX_USDKRW\" onclick=\"clickcr(this, 'fr1.usdt', '', '', event);\">\n",
       "  <h3 class=\"h_lst\"><span class=\"blind\">미국 USD</span></h3>\n",
       "  <div class=\"head_info point_up\">\n",
       "  <span class=\"value\">1,317.50</span>\n",
       "  <span class=\"txt_krw\"><span class=\"blind\">원</span></span>\n",
       "  <span class=\"change\">1.50</span>\n",
       "  <span class=\"blind\">상승</span>\n",
       "  </div>\n",
       "  </a>\n",
       "  <a class=\"graph_img\" href=\"/marketindex/exchangeDetail.naver?marketindexCd=FX_USDKRW\" onclick=\"clickcr(this, 'fr1.usdc', '', '', event);\">\n",
       "  <img alt=\"\" height=\"153\" src=\"https://ssl.pstatic.net/imgfinance/chart/marketindex/FX_USDKRW.png\" width=\"295\"/>\n",
       "  </a>\n",
       "  <div class=\"graph_info\">\n",
       "  <span class=\"time\">2024.01.08 23:39</span>\n",
       "  <span class=\"source\">하나은행 기준</span>\n",
       "  <span class=\"count\">고시회차<span class=\"num\">373</span>회</span>\n",
       "  </div>\n",
       "  </li>,\n",
       "  <li class=\"\">\n",
       "  <a class=\"head jpy\" href=\"/marketindex/exchangeDetail.naver?marketindexCd=FX_JPYKRW\" onclick=\"clickcr(this, 'fr1.jpyt', '', '', event);\">\n",
       "  <h3 class=\"h_lst\"><span class=\"blind\">일본 JPY(100엔)</span></h3>\n",
       "  <div class=\"head_info point_up\">\n",
       "  <span class=\"value\">912.55</span>\n",
       "  <span class=\"txt_krw\"><span class=\"blind\">원</span></span>\n",
       "  <span class=\"change\">3.11</span>\n",
       "  <span class=\"blind\">상승</span>\n",
       "  </div>\n",
       "  </a>\n",
       "  <a class=\"graph_img\" href=\"/marketindex/exchangeDetail.naver?marketindexCd=FX_JPYKRW\" onclick=\"clickcr(this, 'fr1.jpyc', '', '', event);\">\n",
       "  <img alt=\"\" height=\"153\" src=\"https://ssl.pstatic.net/imgfinance/chart/marketindex/FX_JPYKRW.png\" width=\"295\"/>\n",
       "  </a>\n",
       "  <div class=\"graph_info\">\n",
       "  <span class=\"time\">2024.01.08 23:39</span>\n",
       "  <span class=\"source\">하나은행 기준</span>\n",
       "  <span class=\"count\">고시회차<span class=\"num\">373</span>회</span>\n",
       "  </div>\n",
       "  </li>,\n",
       "  <li class=\"\">\n",
       "  <a class=\"head eur\" href=\"/marketindex/exchangeDetail.naver?marketindexCd=FX_EURKRW\" onclick=\"clickcr(this, 'fr1.eurt', '', '', event);\">\n",
       "  <h3 class=\"h_lst\"><span class=\"blind\">유럽연합 EUR</span></h3>\n",
       "  <div class=\"head_info point_up\">\n",
       "  <span class=\"value\">1,443.58</span>\n",
       "  <span class=\"txt_krw\"><span class=\"blind\">원</span></span>\n",
       "  <span class=\"change\">3.74</span>\n",
       "  <span class=\"blind\">상승</span>\n",
       "  </div>\n",
       "  </a>\n",
       "  <a class=\"graph_img\" href=\"/marketindex/exchangeDetail.naver?marketindexCd=FX_EURKRW\" onclick=\"clickcr(this, 'fr1.eurc', '', '', event);\">\n",
       "  <img alt=\"\" height=\"153\" src=\"https://ssl.pstatic.net/imgfinance/chart/marketindex/FX_EURKRW.png\" width=\"295\"/>\n",
       "  </a>\n",
       "  <div class=\"graph_info\">\n",
       "  <span class=\"time\">2024.01.08 23:39</span>\n",
       "  <span class=\"source\">하나은행 기준</span>\n",
       "  <span class=\"count\">고시회차<span class=\"num\">373</span>회</span>\n",
       "  </div>\n",
       "  </li>,\n",
       "  <li class=\"\">\n",
       "  <a class=\"head cny\" href=\"/marketindex/exchangeDetail.naver?marketindexCd=FX_CNYKRW\" onclick=\"clickcr(this, 'fr1.cnyt', '', '', event);\">\n",
       "  <h3 class=\"h_lst\"><span class=\"blind\">중국 CNY</span></h3>\n",
       "  <div class=\"head_info point_up\">\n",
       "  <span class=\"value\">183.75</span>\n",
       "  <span class=\"txt_krw\"><span class=\"blind\">원</span></span>\n",
       "  <span class=\"change\">0.09</span>\n",
       "  <span class=\"blind\">상승</span>\n",
       "  </div>\n",
       "  </a>\n",
       "  <a class=\"graph_img\" href=\"/marketindex/exchangeDetail.naver?marketindexCd=FX_CNYKRW\" onclick=\"clickcr(this, 'fr1.cnyc', '', '', event);\">\n",
       "  <img alt=\"\" height=\"153\" src=\"https://ssl.pstatic.net/imgfinance/chart/marketindex/FX_CNYKRW.png\" width=\"295\"/>\n",
       "  </a>\n",
       "  <div class=\"graph_info\">\n",
       "  <span class=\"time\">2024.01.08 23:39</span>\n",
       "  <span class=\"source\">하나은행 기준</span>\n",
       "  <span class=\"count\">고시회차<span class=\"num\">373</span>회</span>\n",
       "  </div>\n",
       "  </li>])"
      ]
     },
     "execution_count": 85,
     "metadata": {},
     "output_type": "execute_result"
    }
   ],
   "source": [
    "exchange_list = soup.select(\"#exchangeList > li\")\n",
    "len(exchange_list), exchange_list"
   ]
  },
  {
   "cell_type": "markdown",
   "metadata": {},
   "source": [
    "- `select_one()`\n",
    "\n",
    "\t- find() 와 동일"
   ]
  },
  {
   "cell_type": "code",
   "execution_count": 86,
   "metadata": {},
   "outputs": [
    {
     "data": {
      "text/plain": [
       "<h3 class=\"h_lst\"><span class=\"blind\">미국 USD</span></h3>"
      ]
     },
     "execution_count": 86,
     "metadata": {},
     "output_type": "execute_result"
    }
   ],
   "source": [
    "# [0] --> 미국에 관한 환율 정보\n",
    "exchange_list[0].select_one(\".h_lst\")"
   ]
  },
  {
   "cell_type": "code",
   "execution_count": 87,
   "metadata": {},
   "outputs": [
    {
     "data": {
      "text/plain": [
       "<span class=\"blind\">미국 USD</span>"
      ]
     },
     "execution_count": 87,
     "metadata": {},
     "output_type": "execute_result"
    }
   ],
   "source": [
    "exchange_list[0].select_one(\".blind\")"
   ]
  },
  {
   "cell_type": "markdown",
   "metadata": {},
   "source": [
    "👆 원하는 \"class=blind\"가 아니다.\n",
    "\n",
    "- 좀 더 속성값을 지정해 준다.\n",
    "\n",
    "- `class=\"head_info point_up\"` 에서 띄어쓰기는 속성값 2개를 의미한다.\n",
    "\t- 띄어쓰기를 그대로 쓰면 안된다."
   ]
  },
  {
   "cell_type": "code",
   "execution_count": 89,
   "metadata": {},
   "outputs": [
    {
     "data": {
      "text/plain": [
       "<span class=\"blind\">원</span>"
      ]
     },
     "execution_count": 89,
     "metadata": {},
     "output_type": "execute_result"
    }
   ],
   "source": [
    "exchange_list[0].select_one(\".head_info.point_up .blind\")"
   ]
  },
  {
   "cell_type": "markdown",
   "metadata": {},
   "source": [
    "👆 이것도 원하는 값이 아니다.\n",
    "\n",
    "- 띄어쓰기는 모든 하위 class=blind를 의미한다.\n",
    "\n",
    "- 바로 하위 class=blind를 가져오기 위해 `>`를 사용한다."
   ]
  },
  {
   "cell_type": "code",
   "execution_count": 90,
   "metadata": {},
   "outputs": [
    {
     "data": {
      "text/plain": [
       "<span class=\"blind\">상승</span>"
      ]
     },
     "execution_count": 90,
     "metadata": {},
     "output_type": "execute_result"
    }
   ],
   "source": [
    "exchange_list[0].select_one(\".head_info.point_up > .blind\")"
   ]
  },
  {
   "cell_type": "code",
   "execution_count": 91,
   "metadata": {},
   "outputs": [
    {
     "data": {
      "text/plain": [
       "('미국 USD', '1,317.50', '1.50', '상승')"
      ]
     },
     "execution_count": 91,
     "metadata": {},
     "output_type": "execute_result"
    }
   ],
   "source": [
    "# 원하는 모든 값 추출하기\n",
    "title = exchange_list[0].select_one(\".h_lst\").text\n",
    "exchange = exchange_list[0].select_one(\".value\").text\n",
    "change = exchange_list[0].select_one(\".change\").text\n",
    "updown = exchange_list[0].select_one(\".head_info.point_up > .blind\").text\n",
    "\n",
    "title, exchange, change, updown"
   ]
  },
  {
   "cell_type": "markdown",
   "metadata": {},
   "source": [
    "- `get()` : 태그 내 해당 속성값을 가져온다.\n",
    "\n",
    "\t<p>\n",
    "\tReturns the value of the 'key' attribute for the tag, or the value given for 'default' if it doesn't have that attribute.\n",
    "\t</p>"
   ]
  },
  {
   "cell_type": "code",
   "execution_count": 92,
   "metadata": {},
   "outputs": [
    {
     "data": {
      "text/plain": [
       "<a class=\"head usd\" href=\"/marketindex/exchangeDetail.naver?marketindexCd=FX_USDKRW\" onclick=\"clickcr(this, 'fr1.usdt', '', '', event);\">\n",
       "<h3 class=\"h_lst\"><span class=\"blind\">미국 USD</span></h3>\n",
       "<div class=\"head_info point_up\">\n",
       "<span class=\"value\">1,317.50</span>\n",
       "<span class=\"txt_krw\"><span class=\"blind\">원</span></span>\n",
       "<span class=\"change\">1.50</span>\n",
       "<span class=\"blind\">상승</span>\n",
       "</div>\n",
       "</a>"
      ]
     },
     "execution_count": 92,
     "metadata": {},
     "output_type": "execute_result"
    }
   ],
   "source": [
    "# link\n",
    "exchange_list[0].select_one(\"a\")"
   ]
  },
  {
   "cell_type": "code",
   "execution_count": 93,
   "metadata": {},
   "outputs": [
    {
     "data": {
      "text/plain": [
       "'/marketindex/exchangeDetail.naver?marketindexCd=FX_USDKRW'"
      ]
     },
     "execution_count": 93,
     "metadata": {},
     "output_type": "execute_result"
    }
   ],
   "source": [
    "exchange_list[0].select_one(\"a\").get(\"href\")"
   ]
  },
  {
   "cell_type": "code",
   "execution_count": 94,
   "metadata": {},
   "outputs": [
    {
     "data": {
      "text/plain": [
       "'https://finance.naver.com/marketindex/exchangeDetail.naver?marketindexCd=FX_USDKRW'"
      ]
     },
     "execution_count": 94,
     "metadata": {},
     "output_type": "execute_result"
    }
   ],
   "source": [
    "base_url = \"https://finance.naver.com\"\n",
    "base_url + exchange_list[0].select_one(\"a\").get(\"href\")"
   ]
  },
  {
   "cell_type": "markdown",
   "metadata": {},
   "source": [
    "- `find()` 사용"
   ]
  },
  {
   "cell_type": "code",
   "execution_count": 95,
   "metadata": {},
   "outputs": [
    {
     "data": {
      "text/plain": [
       "[<span class=\"value\">1,317.50</span>,\n",
       " <span class=\"value\">912.55</span>,\n",
       " <span class=\"value\">1,443.58</span>,\n",
       " <span class=\"value\">183.75</span>]"
      ]
     },
     "execution_count": 95,
     "metadata": {},
     "output_type": "execute_result"
    }
   ],
   "source": [
    "find_method = soup.find_all(\"ul\", id=\"exchangeList\")\n",
    "find_method[0].find_all(\"span\", \"value\")"
   ]
  },
  {
   "cell_type": "markdown",
   "metadata": {},
   "source": [
    "- pandas DataFrame으로 정보를 모아 엑셀로 저장"
   ]
  },
  {
   "cell_type": "code",
   "execution_count": 96,
   "metadata": {},
   "outputs": [
    {
     "name": "stdout",
     "output_type": "stream",
     "text": [
      "{'title': '미국 USD', 'exchange': '1,317.50', 'change': '1.50', 'updown': '상승'}\n",
      "{'title': '일본 JPY(100엔)', 'exchange': '912.55', 'change': '3.11', 'updown': '상승'}\n",
      "{'title': '유럽연합 EUR', 'exchange': '1,443.58', 'change': '3.74', 'updown': '상승'}\n",
      "{'title': '중국 CNY', 'exchange': '183.75', 'change': '0.09', 'updown': '상승'}\n"
     ]
    }
   ],
   "source": [
    "# 총 4번을 돌면 미국부터 중국까지의 정보를 가져올 수 있다.\n",
    "# data를 dict 형태로 만들면 DataFrame으로 변환하기 좋다.\n",
    "for item in exchange_list:\n",
    "    data = {\n",
    "\t\t\"title\": item.select_one(\".h_lst\").text,\n",
    "\t\t\"exchange\": item.select_one(\".value\").text,\n",
    "\t\t\"change\": item.select_one(\".change\").text,\n",
    "\t\t\"updown\": item.select_one(\".head_info.point_up > .blind\").text\n",
    "\t}\n",
    "    print(data)"
   ]
  },
  {
   "cell_type": "code",
   "execution_count": 98,
   "metadata": {},
   "outputs": [
    {
     "data": {
      "text/html": [
       "<div>\n",
       "<style scoped>\n",
       "    .dataframe tbody tr th:only-of-type {\n",
       "        vertical-align: middle;\n",
       "    }\n",
       "\n",
       "    .dataframe tbody tr th {\n",
       "        vertical-align: top;\n",
       "    }\n",
       "\n",
       "    .dataframe thead th {\n",
       "        text-align: right;\n",
       "    }\n",
       "</style>\n",
       "<table border=\"1\" class=\"dataframe\">\n",
       "  <thead>\n",
       "    <tr style=\"text-align: right;\">\n",
       "      <th></th>\n",
       "      <th>title</th>\n",
       "      <th>exchange</th>\n",
       "      <th>change</th>\n",
       "      <th>updown</th>\n",
       "      <th>link</th>\n",
       "    </tr>\n",
       "  </thead>\n",
       "  <tbody>\n",
       "    <tr>\n",
       "      <th>0</th>\n",
       "      <td>미국 USD</td>\n",
       "      <td>1,317.50</td>\n",
       "      <td>1.50</td>\n",
       "      <td>상승</td>\n",
       "      <td>https://finance.naver.com/marketindex/exchange...</td>\n",
       "    </tr>\n",
       "    <tr>\n",
       "      <th>1</th>\n",
       "      <td>일본 JPY(100엔)</td>\n",
       "      <td>912.55</td>\n",
       "      <td>3.11</td>\n",
       "      <td>상승</td>\n",
       "      <td>https://finance.naver.com/marketindex/exchange...</td>\n",
       "    </tr>\n",
       "    <tr>\n",
       "      <th>2</th>\n",
       "      <td>유럽연합 EUR</td>\n",
       "      <td>1,443.58</td>\n",
       "      <td>3.74</td>\n",
       "      <td>상승</td>\n",
       "      <td>https://finance.naver.com/marketindex/exchange...</td>\n",
       "    </tr>\n",
       "    <tr>\n",
       "      <th>3</th>\n",
       "      <td>중국 CNY</td>\n",
       "      <td>183.75</td>\n",
       "      <td>0.09</td>\n",
       "      <td>상승</td>\n",
       "      <td>https://finance.naver.com/marketindex/exchange...</td>\n",
       "    </tr>\n",
       "  </tbody>\n",
       "</table>\n",
       "</div>"
      ],
      "text/plain": [
       "          title  exchange change updown  \\\n",
       "0        미국 USD  1,317.50   1.50     상승   \n",
       "1  일본 JPY(100엔)    912.55   3.11     상승   \n",
       "2      유럽연합 EUR  1,443.58   3.74     상승   \n",
       "3        중국 CNY    183.75   0.09     상승   \n",
       "\n",
       "                                                link  \n",
       "0  https://finance.naver.com/marketindex/exchange...  \n",
       "1  https://finance.naver.com/marketindex/exchange...  \n",
       "2  https://finance.naver.com/marketindex/exchange...  \n",
       "3  https://finance.naver.com/marketindex/exchange...  "
      ]
     },
     "execution_count": 98,
     "metadata": {},
     "output_type": "execute_result"
    }
   ],
   "source": [
    "import pandas as pd\n",
    "\n",
    "# 4개 나라의 환율 정보를 수집\n",
    "\n",
    "exchange_data = []\n",
    "base_url = \"https://finance.naver.com\"\n",
    "\n",
    "for item in exchange_list:\n",
    "    data = {\n",
    "\t\t\"title\": item.select_one(\".h_lst\").text,\n",
    "\t\t\"exchange\": item.select_one(\".value\").text,\n",
    "\t\t\"change\": item.select_one(\".change\").text,\n",
    "\t\t\"updown\": item.select_one(\".head_info.point_up > .blind\").text,\n",
    "\t\t\"link\": base_url + item.select_one(\"a\").get(\"href\")\n",
    "\t}\n",
    "    exchange_data.append(data)\n",
    "    \n",
    "df = pd.DataFrame(exchange_data)\n",
    "df"
   ]
  },
  {
   "cell_type": "code",
   "execution_count": 99,
   "metadata": {},
   "outputs": [],
   "source": [
    "# 엑셀로 저장\n",
    "df.to_excel(\"./result_data/lib_ex_naverfinance.xlsx\")"
   ]
  },
  {
   "cell_type": "markdown",
   "metadata": {},
   "source": [
    "### 🔰 BeautifulSoup 예제2 - 위키백과 문서 정보 가져오기\n",
    "\n",
    "- 한글로 URL이 이루어진 \"여명의 눈동자\"를 예제로 사용\n",
    "\n",
    "- 웹페이지 URL을 복사해서 메모장이나 Jupyter Note 붙여 넣어 보면 한글이 깨진다.\n",
    "\n",
    "\t<p>\n",
    "\thttps://ko.wikipedia.org/wiki/%EC%97%AC%EB%AA%85%EC%9D%98_%EB%88%88%EB%8F%99%EC%9E%90\n",
    "\t</p></br>\n",
    "\n",
    "- 웹주소의 한글 부분을 URL로 인코딩해야 한다.\n",
    "\n",
    "- 검색: \"url decode\"\n",
    "\n",
    "\t- https://ko.wikipedia.org/wiki/%EC%97%AC%EB%AA%85%EC%9D%98_%EB%88%88%EB%8F%99%EC%9E%90"
   ]
  },
  {
   "cell_type": "code",
   "execution_count": 7,
   "metadata": {},
   "outputs": [],
   "source": [
    "import urllib\n",
    "from bs4 import BeautifulSoup\n",
    "from urllib.request import urlopen, Request"
   ]
  },
  {
   "cell_type": "markdown",
   "metadata": {},
   "source": [
    "- `urllib.parse.quote()` : 한글이나 특수문자 등을 URL로 인코딩해준다."
   ]
  },
  {
   "cell_type": "code",
   "execution_count": 103,
   "metadata": {},
   "outputs": [
    {
     "data": {
      "text/plain": [
       "200"
      ]
     },
     "execution_count": 103,
     "metadata": {},
     "output_type": "execute_result"
    }
   ],
   "source": [
    "# {}를 사용해 변수를 선언한다.\n",
    "# format() 함수로 변수의 값을 할당할 때 urllib의 한글 url 인코딩 함수를 사용한다.\n",
    "\n",
    "html = \"https://ko.wikipedia.org/wiki/{search_words}\".format(\n",
    "\tsearch_words = urllib.parse.quote(\"여명의_눈동자\") # 한글을 URL로 인코딩\n",
    ")\n",
    "response = urlopen(html)\n",
    "response.status"
   ]
  },
  {
   "cell_type": "code",
   "execution_count": null,
   "metadata": {},
   "outputs": [],
   "source": [
    "html = \"https://ko.wikipedia.org/wiki/{search_words}\"\n",
    "req = Request(html.format(search_words = urllib.parse.quote(\"여명의_눈동자\")))\n",
    "\n",
    "response = urlopen(req)\n",
    "soup = BeautifulSoup(response, \"html.parser\")\n",
    "print(soup.prettify())"
   ]
  },
  {
   "cell_type": "markdown",
   "metadata": {},
   "source": [
    "- 등장인물 정보 가져오기\n",
    "\n",
    "![여명의눈동자](https://github.com/ElaYJ/Study_EDA/assets/153154981/1c222cfa-1abb-4d75-81a7-2a2e22ae044d)"
   ]
  },
  {
   "cell_type": "code",
   "execution_count": 105,
   "metadata": {},
   "outputs": [
    {
     "name": "stdout",
     "output_type": "stream",
     "text": [
      "=> 0=========================\n",
      "\n",
      "대문최근 바뀜요즘 화제임의의 문서로기부\n",
      "\n",
      "=> 1=========================\n",
      "\n",
      "사랑방사용자 모임관리 요청\n",
      "\n",
      "=> 2=========================\n",
      "\n",
      "도움말정책과 지침질문방\n",
      "\n",
      "=> 3=========================\n",
      "\n",
      "\n",
      "=> 4=========================\n",
      "\n",
      "\n",
      "=> 5=========================\n",
      "\n",
      "\n",
      "=> 6=========================\n",
      "\n",
      "계정 만들기\n",
      "\n",
      "로그인\n",
      "\n",
      "\n",
      "=> 7=========================\n",
      "\n",
      " 계정 만들기 로그인\n",
      "\n",
      "=> 8=========================\n",
      "\n",
      "기여토론\n",
      "\n",
      "=> 9=========================\n",
      "\n",
      "\n",
      "\n",
      "처음 위치\n",
      "\n",
      "\n",
      "\n",
      "\n",
      "\n",
      "1개요\n",
      "\n",
      "\n",
      "\n",
      "\n",
      "\n",
      "\n",
      "\n",
      "2등장 인물\n",
      "\n",
      "\n",
      "\n",
      "등장 인물 하위섹션 토글하기\n",
      "\n",
      "\n",
      "\n",
      "\n",
      "\n",
      "2.1주요 인물\n",
      "\n",
      "\n",
      "\n",
      "\n",
      "\n",
      "\n",
      "\n",
      "2.2여옥의 주변 인물\n",
      "\n",
      "\n",
      "\n",
      "\n",
      "\n",
      "\n",
      "\n",
      "2.3하림의 주변 인물\n",
      "\n",
      "\n",
      "\n",
      "\n",
      "\n",
      "\n",
      "\n",
      "2.4그 외\n",
      "\n",
      "\n",
      "\n",
      "\n",
      "\n",
      "\n",
      "\n",
      "\n",
      "\n",
      "3제작진\n",
      "\n",
      "\n",
      "\n",
      "\n",
      "\n",
      "\n",
      "\n",
      "4시청률\n",
      "\n",
      "\n",
      "\n",
      "\n",
      "\n",
      "\n",
      "\n",
      "5본방송 편성 변경\n",
      "\n",
      "\n",
      "\n",
      "\n",
      "\n",
      "\n",
      "\n",
      "6재방송 결방 사유 및 편성 변경\n",
      "\n",
      "\n",
      "\n",
      "\n",
      "\n",
      "\n",
      "\n",
      "7수상 경력\n",
      "\n",
      "\n",
      "\n",
      "\n",
      "\n",
      "\n",
      "\n",
      "8OST\n",
      "\n",
      "\n",
      "\n",
      "\n",
      "\n",
      "\n",
      "\n",
      "9참고 사항\n",
      "\n",
      "\n",
      "\n",
      "\n",
      "\n",
      "\n",
      "\n",
      "10고증 오류\n",
      "\n",
      "\n",
      "\n",
      "\n",
      "\n",
      "\n",
      "\n",
      "11주해\n",
      "\n",
      "\n",
      "\n",
      "\n",
      "\n",
      "\n",
      "\n",
      "12각주\n",
      "\n",
      "\n",
      "\n",
      "\n",
      "\n",
      "\n",
      "\n",
      "13외부 링크\n",
      "\n",
      "\n",
      "\n",
      "\n",
      "\n",
      "=> 10=========================\n",
      "\n",
      "\n",
      "=> 11=========================\n",
      "\n",
      "\n",
      "\n",
      "\n",
      "2.1주요 인물\n",
      "\n",
      "\n",
      "\n",
      "\n",
      "\n",
      "\n",
      "\n",
      "2.2여옥의 주변 인물\n",
      "\n",
      "\n",
      "\n",
      "\n",
      "\n",
      "\n",
      "\n",
      "2.3하림의 주변 인물\n",
      "\n",
      "\n",
      "\n",
      "\n",
      "\n",
      "\n",
      "\n",
      "2.4그 외\n",
      "\n",
      "\n",
      "\n",
      "\n",
      "\n",
      "=> 12=========================\n",
      "\n",
      "\n",
      "=> 13=========================\n",
      "\n",
      "\n",
      "=> 14=========================\n",
      "\n",
      "\n",
      "=> 15=========================\n",
      "\n",
      "\n",
      "=> 16=========================\n",
      "\n",
      "\n",
      "=> 17=========================\n",
      "\n",
      "\n",
      "=> 18=========================\n",
      "\n",
      "\n",
      "=> 19=========================\n",
      "\n",
      "\n",
      "=> 20=========================\n",
      "\n",
      "\n",
      "=> 21=========================\n",
      "\n",
      "\n",
      "=> 22=========================\n",
      "\n",
      "\n",
      "=> 23=========================\n",
      "\n",
      "\n",
      "=> 24=========================\n",
      "\n",
      "\n",
      "=> 25=========================\n",
      "\n",
      "\n",
      "=> 26=========================\n",
      "\n",
      "\n",
      "=> 27=========================\n",
      "\n",
      "EnglishفارسیKreyòl ayisyenMagyarBahasa IndonesiaItaliano日本語PolskiPortuguêsУкраїнська吴语中文\n",
      "\n",
      "=> 28=========================\n",
      "\n",
      "문서토론\n",
      "\n",
      "=> 29=========================\n",
      "\n",
      "\n",
      "=> 30=========================\n",
      "\n",
      "읽기편집역사 보기\n",
      "\n",
      "=> 31=========================\n",
      "\n",
      "읽기편집역사 보기\n",
      "\n",
      "=> 32=========================\n",
      "\n",
      "여기를 가리키는 문서가리키는 글의 최근 바뀜파일 올리기특수 문서 목록고유 링크문서 정보이 문서 인용하기축약된 URL 얻기위키데이터 항목\n",
      "\n",
      "=> 33=========================\n",
      "\n",
      "책 만들기PDF로 다운로드인쇄용 판\n",
      "\n",
      "=> 34=========================\n",
      "소설《여명의 눈동자》\n",
      "=> 35=========================\n",
      "채시라 : 윤여옥 역 (아역: 김민정)\n",
      "박상원 : 장하림(하리모토 나츠오) 역 (아역: 김태진)\n",
      "최재성 : 최대치(사카이) 역 (아역: 장덕수)\n",
      "=> 36=========================\n",
      "최불암 : 윤홍철 역 - 윤여옥의 아버지\n",
      "한차돌 : 최대운 역 - 최대치와 윤여옥의 아들\n",
      "오연수 : 봉순 역\n",
      "=> 37=========================\n",
      "김소원 : 장하림의 어머니 역\n",
      "김동현 : 장경림 역 - 장하림의 형 (아역: 이민우)\n",
      "안해숙 : 장경림의 아내 역\n",
      "=> 38=========================\n",
      "박근형 : 최두일(스즈키) 역\n",
      "=> 39=========================\n",
      "이정길 : 김기문 역\n",
      "=> 40=========================\n",
      "장항선 : 오오에 오장 역\n"
     ]
    }
   ],
   "source": [
    "n = 0\n",
    "for each in soup.find_all(\"ul\"):\n",
    "    # 160개가 넘어 40개 까지만 출력\n",
    "    if n > 40: break\n",
    "    \n",
    "    print(\"=> \" + str(n) + \"=\"*25)\n",
    "    print(each.get_text())\n",
    "    \n",
    "    n += 1"
   ]
  },
  {
   "cell_type": "markdown",
   "metadata": {},
   "source": [
    "👆 35번에 원하는 등장인물 데이터가 있다.\n",
    "\n",
    "- `wordWrap`\n",
    "\n",
    "\t<p>\n",
    "\t\tTo disable word wrapping in the output of a Jupyter Notebook in VS Code,</br>\n",
    "\t\tput the following in your settings.json file:</br></br>\n",
    "\t\t\"notebook.output.wordWrap\": false,\n",
    "\t</p>"
   ]
  },
  {
   "cell_type": "code",
   "execution_count": 106,
   "metadata": {},
   "outputs": [
    {
     "data": {
      "text/plain": [
       "<ul><li><a href=\"/wiki/%EC%B1%84%EC%8B%9C%EB%9D%BC\" title=\"채시라\">채시라</a> : 윤여옥 역 (아역: <a href=\"/wiki/%EA%B9%80%EB%AF%BC%EC%A0%95_(1982%EB%85%84)\" title=\"김민정 (1982년)\">김민정</a>)</li>\n",
       "<li><a href=\"/wiki/%EB%B0%95%EC%83%81%EC%9B%90\" title=\"박상원\">박상원</a> : 장하림(하리모토 나츠오) 역 (아역: <a href=\"/wiki/%EA%B9%80%ED%83%9C%EC%A7%84_(%EC%88%98%ED%95%84%EA%B0%80)\" title=\"김태진 (수필가)\">김태진</a>)</li>\n",
       "<li><a href=\"/wiki/%EC%B5%9C%EC%9E%AC%EC%84%B1_(%EB%B0%B0%EC%9A%B0)\" title=\"최재성 (배우)\">최재성</a> : 최대치(사카이) 역 (아역: <a href=\"/wiki/%EC%9E%A5%EB%8D%95%EC%88%98_(%EB%B0%B0%EC%9A%B0)\" title=\"장덕수 (배우)\">장덕수</a>)</li></ul>"
      ]
     },
     "execution_count": 106,
     "metadata": {},
     "output_type": "execute_result"
    }
   ],
   "source": [
    "soup.find_all(\"ul\")[35]"
   ]
  },
  {
   "cell_type": "code",
   "execution_count": 113,
   "metadata": {},
   "outputs": [
    {
     "data": {
      "text/plain": [
       "'채시라\\xa0: 윤여옥 역 (아역: 김민정)\\n박상원\\xa0: 장하림(하리모토 나츠오) 역 (아역: 김태진)\\n최재성\\xa0: 최대치(사카이) 역 (아역: 장덕수)'"
      ]
     },
     "execution_count": 113,
     "metadata": {},
     "output_type": "execute_result"
    }
   ],
   "source": [
    "soup.find_all(\"ul\")[35].text"
   ]
  },
  {
   "cell_type": "markdown",
   "metadata": {},
   "source": [
    "👆 html 코드들이 섞여있다."
   ]
  },
  {
   "cell_type": "code",
   "execution_count": 114,
   "metadata": {},
   "outputs": [
    {
     "data": {
      "text/plain": [
       "'채시라: 윤여옥 역 (아역: 김민정)박상원: 장하림(하리모토 나츠오) 역 (아역: 김태진)최재성: 최대치(사카이) 역 (아역: 장덕수)'"
      ]
     },
     "execution_count": 114,
     "metadata": {},
     "output_type": "execute_result"
    }
   ],
   "source": [
    "soup.find_all(\"ul\")[35].text.strip().replace(\"\\xa0\", \"\").replace(\"\\n\", \"\")"
   ]
  },
  {
   "cell_type": "code",
   "execution_count": 10,
   "metadata": {},
   "outputs": [
    {
     "data": {
      "text/plain": [
       "['채시라: 윤여옥 역 (아역: 김민정)',\n",
       " '박상원: 장하림(하리모토 나츠오) 역 (아역: 김태진)',\n",
       " '최재성: 최대치(사카이) 역 (아역: 장덕수)']"
      ]
     },
     "execution_count": 10,
     "metadata": {},
     "output_type": "execute_result"
    }
   ],
   "source": [
    "soup.find_all(\"ul\")[35].text.strip().replace(\"\\xa0\", \"\").split(\"\\n\")"
   ]
  }
 ],
 "metadata": {
  "kernelspec": {
   "display_name": "ds_study",
   "language": "python",
   "name": "python3"
  },
  "language_info": {
   "codemirror_mode": {
    "name": "ipython",
    "version": 3
   },
   "file_extension": ".py",
   "mimetype": "text/x-python",
   "name": "python",
   "nbconvert_exporter": "python",
   "pygments_lexer": "ipython3",
   "version": "3.8.18"
  }
 },
 "nbformat": 4,
 "nbformat_minor": 2
}
