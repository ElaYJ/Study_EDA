{
 "cells": [
  {
   "cell_type": "markdown",
   "metadata": {},
   "source": [
    "# 시카고 맛집 데이터 가져오기"
   ]
  },
  {
   "cell_type": "markdown",
   "metadata": {},
   "source": [
    "### 🔰 개요\n",
    "\n",
    "- https://www.chicagomag.com/Chicago-Magazine/November-2012/Best-Sandwiches-Chicago/ \n",
    "\n",
    "- chicago magazine the 50 best sandwiches\n",
    "\n",
    "\t시카고의 50개 맛집 샌드위치 가게에 대한 이름과 메뉴 정보가 있다.\n",
    "\n",
    "- 최종목표\n",
    "\t<p>\n",
    "\t총 51개 페이지에서 각 가게의 정보를 가져온다\n",
    "\t</p>\n",
    "\n",
    "\t- 메인페이지\n",
    "\t\t- 랭킹\n",
    "\t\t- 가게이름 \n",
    "\t\t- 대표메뉴\n",
    "\t\t- url 주소\n",
    "\n",
    "\t- 하위페이지\n",
    "\t\t- 대표메뉴의 가격 \n",
    "\t\t- 가게주소"
   ]
  },
  {
   "cell_type": "markdown",
   "metadata": {},
   "source": [
    "### 🔰 메인페이지\n",
    "\n",
    "> 메인 페이지에서 데이터를 웹 크롤링\n",
    "\n",
    "- 랭킹, 데표메뉴, 가게이름, url 정보를 가져온다."
   ]
  },
  {
   "cell_type": "code",
   "execution_count": 9,
   "metadata": {},
   "outputs": [],
   "source": [
    "from urllib.request import urlopen, Request\n",
    "import ssl"
   ]
  },
  {
   "cell_type": "code",
   "execution_count": 10,
   "metadata": {},
   "outputs": [
    {
     "ename": "HTTPError",
     "evalue": "HTTP Error 403: Forbidden",
     "output_type": "error",
     "traceback": [
      "\u001b[1;31m---------------------------------------------------------------------------\u001b[0m",
      "\u001b[1;31mHTTPError\u001b[0m                                 Traceback (most recent call last)",
      "Cell \u001b[1;32mIn[10], line 8\u001b[0m\n\u001b[0;32m      5\u001b[0m ca_filepath \u001b[38;5;241m=\u001b[39m \u001b[38;5;124m\"\u001b[39m\u001b[38;5;124m../chicagomag.crt\u001b[39m\u001b[38;5;124m\"\u001b[39m\n\u001b[0;32m      6\u001b[0m ctxt \u001b[38;5;241m=\u001b[39m ssl\u001b[38;5;241m.\u001b[39mcreate_default_context(cafile\u001b[38;5;241m=\u001b[39mca_filepath)\n\u001b[1;32m----> 8\u001b[0m response \u001b[38;5;241m=\u001b[39m \u001b[43murlopen\u001b[49m\u001b[43m(\u001b[49m\u001b[43murl\u001b[49m\u001b[43m,\u001b[49m\u001b[43m \u001b[49m\u001b[43mcontext\u001b[49m\u001b[38;5;241;43m=\u001b[39;49m\u001b[43mctxt\u001b[49m\u001b[43m)\u001b[49m\n\u001b[0;32m      9\u001b[0m response\n",
      "File \u001b[1;32mc:\\Users\\happy\\miniconda3\\envs\\ds_study\\lib\\urllib\\request.py:222\u001b[0m, in \u001b[0;36murlopen\u001b[1;34m(url, data, timeout, cafile, capath, cadefault, context)\u001b[0m\n\u001b[0;32m    220\u001b[0m \u001b[38;5;28;01melse\u001b[39;00m:\n\u001b[0;32m    221\u001b[0m     opener \u001b[38;5;241m=\u001b[39m _opener\n\u001b[1;32m--> 222\u001b[0m \u001b[38;5;28;01mreturn\u001b[39;00m \u001b[43mopener\u001b[49m\u001b[38;5;241;43m.\u001b[39;49m\u001b[43mopen\u001b[49m\u001b[43m(\u001b[49m\u001b[43murl\u001b[49m\u001b[43m,\u001b[49m\u001b[43m \u001b[49m\u001b[43mdata\u001b[49m\u001b[43m,\u001b[49m\u001b[43m \u001b[49m\u001b[43mtimeout\u001b[49m\u001b[43m)\u001b[49m\n",
      "File \u001b[1;32mc:\\Users\\happy\\miniconda3\\envs\\ds_study\\lib\\urllib\\request.py:531\u001b[0m, in \u001b[0;36mOpenerDirector.open\u001b[1;34m(self, fullurl, data, timeout)\u001b[0m\n\u001b[0;32m    529\u001b[0m \u001b[38;5;28;01mfor\u001b[39;00m processor \u001b[38;5;129;01min\u001b[39;00m \u001b[38;5;28mself\u001b[39m\u001b[38;5;241m.\u001b[39mprocess_response\u001b[38;5;241m.\u001b[39mget(protocol, []):\n\u001b[0;32m    530\u001b[0m     meth \u001b[38;5;241m=\u001b[39m \u001b[38;5;28mgetattr\u001b[39m(processor, meth_name)\n\u001b[1;32m--> 531\u001b[0m     response \u001b[38;5;241m=\u001b[39m \u001b[43mmeth\u001b[49m\u001b[43m(\u001b[49m\u001b[43mreq\u001b[49m\u001b[43m,\u001b[49m\u001b[43m \u001b[49m\u001b[43mresponse\u001b[49m\u001b[43m)\u001b[49m\n\u001b[0;32m    533\u001b[0m \u001b[38;5;28;01mreturn\u001b[39;00m response\n",
      "File \u001b[1;32mc:\\Users\\happy\\miniconda3\\envs\\ds_study\\lib\\urllib\\request.py:640\u001b[0m, in \u001b[0;36mHTTPErrorProcessor.http_response\u001b[1;34m(self, request, response)\u001b[0m\n\u001b[0;32m    637\u001b[0m \u001b[38;5;66;03m# According to RFC 2616, \"2xx\" code indicates that the client's\u001b[39;00m\n\u001b[0;32m    638\u001b[0m \u001b[38;5;66;03m# request was successfully received, understood, and accepted.\u001b[39;00m\n\u001b[0;32m    639\u001b[0m \u001b[38;5;28;01mif\u001b[39;00m \u001b[38;5;129;01mnot\u001b[39;00m (\u001b[38;5;241m200\u001b[39m \u001b[38;5;241m<\u001b[39m\u001b[38;5;241m=\u001b[39m code \u001b[38;5;241m<\u001b[39m \u001b[38;5;241m300\u001b[39m):\n\u001b[1;32m--> 640\u001b[0m     response \u001b[38;5;241m=\u001b[39m \u001b[38;5;28;43mself\u001b[39;49m\u001b[38;5;241;43m.\u001b[39;49m\u001b[43mparent\u001b[49m\u001b[38;5;241;43m.\u001b[39;49m\u001b[43merror\u001b[49m\u001b[43m(\u001b[49m\n\u001b[0;32m    641\u001b[0m \u001b[43m        \u001b[49m\u001b[38;5;124;43m'\u001b[39;49m\u001b[38;5;124;43mhttp\u001b[39;49m\u001b[38;5;124;43m'\u001b[39;49m\u001b[43m,\u001b[49m\u001b[43m \u001b[49m\u001b[43mrequest\u001b[49m\u001b[43m,\u001b[49m\u001b[43m \u001b[49m\u001b[43mresponse\u001b[49m\u001b[43m,\u001b[49m\u001b[43m \u001b[49m\u001b[43mcode\u001b[49m\u001b[43m,\u001b[49m\u001b[43m \u001b[49m\u001b[43mmsg\u001b[49m\u001b[43m,\u001b[49m\u001b[43m \u001b[49m\u001b[43mhdrs\u001b[49m\u001b[43m)\u001b[49m\n\u001b[0;32m    643\u001b[0m \u001b[38;5;28;01mreturn\u001b[39;00m response\n",
      "File \u001b[1;32mc:\\Users\\happy\\miniconda3\\envs\\ds_study\\lib\\urllib\\request.py:569\u001b[0m, in \u001b[0;36mOpenerDirector.error\u001b[1;34m(self, proto, *args)\u001b[0m\n\u001b[0;32m    567\u001b[0m \u001b[38;5;28;01mif\u001b[39;00m http_err:\n\u001b[0;32m    568\u001b[0m     args \u001b[38;5;241m=\u001b[39m (\u001b[38;5;28mdict\u001b[39m, \u001b[38;5;124m'\u001b[39m\u001b[38;5;124mdefault\u001b[39m\u001b[38;5;124m'\u001b[39m, \u001b[38;5;124m'\u001b[39m\u001b[38;5;124mhttp_error_default\u001b[39m\u001b[38;5;124m'\u001b[39m) \u001b[38;5;241m+\u001b[39m orig_args\n\u001b[1;32m--> 569\u001b[0m     \u001b[38;5;28;01mreturn\u001b[39;00m \u001b[38;5;28;43mself\u001b[39;49m\u001b[38;5;241;43m.\u001b[39;49m\u001b[43m_call_chain\u001b[49m\u001b[43m(\u001b[49m\u001b[38;5;241;43m*\u001b[39;49m\u001b[43margs\u001b[49m\u001b[43m)\u001b[49m\n",
      "File \u001b[1;32mc:\\Users\\happy\\miniconda3\\envs\\ds_study\\lib\\urllib\\request.py:502\u001b[0m, in \u001b[0;36mOpenerDirector._call_chain\u001b[1;34m(self, chain, kind, meth_name, *args)\u001b[0m\n\u001b[0;32m    500\u001b[0m \u001b[38;5;28;01mfor\u001b[39;00m handler \u001b[38;5;129;01min\u001b[39;00m handlers:\n\u001b[0;32m    501\u001b[0m     func \u001b[38;5;241m=\u001b[39m \u001b[38;5;28mgetattr\u001b[39m(handler, meth_name)\n\u001b[1;32m--> 502\u001b[0m     result \u001b[38;5;241m=\u001b[39m \u001b[43mfunc\u001b[49m\u001b[43m(\u001b[49m\u001b[38;5;241;43m*\u001b[39;49m\u001b[43margs\u001b[49m\u001b[43m)\u001b[49m\n\u001b[0;32m    503\u001b[0m     \u001b[38;5;28;01mif\u001b[39;00m result \u001b[38;5;129;01mis\u001b[39;00m \u001b[38;5;129;01mnot\u001b[39;00m \u001b[38;5;28;01mNone\u001b[39;00m:\n\u001b[0;32m    504\u001b[0m         \u001b[38;5;28;01mreturn\u001b[39;00m result\n",
      "File \u001b[1;32mc:\\Users\\happy\\miniconda3\\envs\\ds_study\\lib\\urllib\\request.py:649\u001b[0m, in \u001b[0;36mHTTPDefaultErrorHandler.http_error_default\u001b[1;34m(self, req, fp, code, msg, hdrs)\u001b[0m\n\u001b[0;32m    648\u001b[0m \u001b[38;5;28;01mdef\u001b[39;00m \u001b[38;5;21mhttp_error_default\u001b[39m(\u001b[38;5;28mself\u001b[39m, req, fp, code, msg, hdrs):\n\u001b[1;32m--> 649\u001b[0m     \u001b[38;5;28;01mraise\u001b[39;00m HTTPError(req\u001b[38;5;241m.\u001b[39mfull_url, code, msg, hdrs, fp)\n",
      "\u001b[1;31mHTTPError\u001b[0m: HTTP Error 403: Forbidden"
     ]
    }
   ],
   "source": [
    "\n",
    "url_base = \"https://www.chicagomag.com/\"\n",
    "url_sub = \"Chicago-Magazine/November-2012/Best-Sandwiches-Chicago/\"\n",
    "url = url_base + url_sub\n",
    "\n",
    "ca_filepath = \"../chicagomag.crt\"\n",
    "ctxt = ssl.create_default_context(cafile=ca_filepath)\n",
    "\n",
    "response = urlopen(url, context=ctxt)\n",
    "response"
   ]
  },
  {
   "cell_type": "markdown",
   "metadata": {},
   "source": [
    "👆 HTTP Error 403 : 서버에서 나에게 문제가 있다고 막은 것이다.\n",
    "\n",
    "- 해결방법은 `header=` 값을 설정해 주는 것이다."
   ]
  },
  {
   "cell_type": "code",
   "execution_count": 11,
   "metadata": {},
   "outputs": [
    {
     "data": {
      "text/plain": [
       "(<http.client.HTTPResponse at 0x1b79bd9eb20>, 200)"
      ]
     },
     "execution_count": 11,
     "metadata": {},
     "output_type": "execute_result"
    }
   ],
   "source": [
    "# ca : Certification Authority\n",
    "ca_filepath = \"../chicagomag.crt\"\n",
    "ctxt = ssl.create_default_context(cafile=ca_filepath)\n",
    "\n",
    "req = Request(url, headers={\"user-agent\": \"Chrome\"})\n",
    "\n",
    "response = urlopen(req, context=ctxt)\n",
    "response, response.status"
   ]
  },
  {
   "cell_type": "markdown",
   "metadata": {},
   "source": [
    "- Network > Request Headers > User-Agent 의 원값을 그대로 넣어도 된다.\n",
    "\n",
    "\t- 크롬 개발자 도구 네트워크에서 가져옴.\n",
    "\t- {\"User-Agent\": \"Mozilla/5.0 (Windows NT 10.0; Win64; x64) AppleWebKit/537.36 (KHTML, like Gecko) Chrome/120.0.0.0 Safari/537.36\"}"
   ]
  },
  {
   "cell_type": "code",
   "execution_count": 12,
   "metadata": {},
   "outputs": [
    {
     "data": {
      "text/plain": [
       "(<http.client.HTTPResponse at 0x1b79bd081f0>, 200)"
      ]
     },
     "execution_count": 12,
     "metadata": {},
     "output_type": "execute_result"
    }
   ],
   "source": [
    "req = Request(url, headers={\"User-Agent\": \"Mozilla/5.0 (Windows NT 10.0; Win64; x64) AppleWebKit/537.36 (KHTML, like Gecko) Chrome/120.0.0.0 Safari/537.36\"})\n",
    "\n",
    "response = urlopen(req, context=ctxt)\n",
    "response, response.status"
   ]
  },
  {
   "cell_type": "markdown",
   "metadata": {},
   "source": [
    "- `fake-useragent`\n",
    "\n",
    "\t- !pip install fake-useragent\n",
    "\n",
    "\t- Network의 Request Headers 속성 User-Agent의 값을 임으로 생성해 준다."
   ]
  },
  {
   "cell_type": "code",
   "execution_count": 13,
   "metadata": {},
   "outputs": [
    {
     "data": {
      "text/plain": [
       "'Mozilla/5.0 (Windows NT 10.0; Win64; x64) AppleWebKit/537.36 (KHTML, like Gecko) Chrome/114.0.0.0 Safari/537.36'"
      ]
     },
     "execution_count": 13,
     "metadata": {},
     "output_type": "execute_result"
    }
   ],
   "source": [
    "from fake_useragent import UserAgent\n",
    "\n",
    "ua = UserAgent()\n",
    "# ua.ie\n",
    "# Error occurred during getting browser: ie, but was suppressed with fallback.\n",
    "ua.fallback"
   ]
  },
  {
   "cell_type": "code",
   "execution_count": null,
   "metadata": {},
   "outputs": [],
   "source": [
    "import ssl\n",
    "from urllib.request import urlopen, Request\n",
    "from fake_useragent import UserAgent\n",
    "from bs4 import BeautifulSoup\n",
    "\n",
    "ca_filepath = \"../chicagomag.crt\"\n",
    "ctxt = ssl.create_default_context(cafile=ca_filepath)\n",
    "\n",
    "url_base = \"https://www.chicagomag.com/\"\n",
    "url_sub = \"Chicago-Magazine/November-2012/Best-Sandwiches-Chicago/\"\n",
    "url = url_base + url_sub\n",
    "\n",
    "ua = UserAgent()\n",
    "req = Request(url, headers={\"user-agent\": ua.fallback})\n",
    "\n",
    "html = urlopen(req, context=ctxt)\n",
    "\n",
    "soup = BeautifulSoup(html, \"html.parser\")\n",
    "print(soup.prettify())"
   ]
  },
  {
   "cell_type": "markdown",
   "metadata": {},
   "source": [
    "- 수집 데이터 찾기\n",
    "\n",
    "![시카고맛집50](https://github.com/ElaYJ/Study_EDA/assets/153154981/815e5ee1-ae46-40c6-833f-7b0072c08773)"
   ]
  },
  {
   "cell_type": "code",
   "execution_count": null,
   "metadata": {},
   "outputs": [],
   "source": [
    "soup.select(\".sammy\"), len(soup.select(\".sammy\"))"
   ]
  },
  {
   "cell_type": "code",
   "execution_count": 16,
   "metadata": {},
   "outputs": [
    {
     "data": {
      "text/plain": [
       "([<div class=\"sammy\" style=\"position: relative;\">\n",
       "  <div class=\"sammyRank\">1</div>\n",
       "  <div class=\"sammyListing\"><a href=\"/Chicago-Magazine/November-2012/Best-Sandwiches-in-Chicago-Old-Oak-Tap-BLT/\"><b>BLT</b><br/>\n",
       "  Old Oak Tap<br/>\n",
       "  <em>Read more</em> </a></div>\n",
       "  </div>,\n",
       "  <div class=\"sammy\" style=\"position: relative;\">\n",
       "  <div class=\"sammyRank\">2</div>\n",
       "  <div class=\"sammyListing\"><a href=\"/Chicago-Magazine/November-2012/Best-Sandwiches-in-Chicago-Au-Cheval-Fried-Bologna/\"><b>Fried Bologna</b><br/>\n",
       "  Au Cheval<br/>\n",
       "  <em>Read more</em> </a></div>\n",
       "  </div>,\n",
       "  <div class=\"sammy\" style=\"position: relative;\">\n",
       "  <div class=\"sammyRank\">3</div>\n",
       "  <div class=\"sammyListing\"><a href=\"/Chicago-Magazine/November-2012/Best-Sandwiches-in-Chicago-Xoco-Woodland-Mushroom/\"><b>Woodland Mushroom</b><br/>\n",
       "  Xoco<br/>\n",
       "  <em>Read more</em> </a></div>\n",
       "  </div>,\n",
       "  <div class=\"sammy\" style=\"position: relative;\">\n",
       "  <div class=\"sammyRank\">4</div>\n",
       "  <div class=\"sammyListing\"><a href=\"/Chicago-Magazine/November-2012/Best-Sandwiches-in-Chicago-Als-Deli-Roast-Beef/\"><b>Roast Beef</b><br/>\n",
       "  Al’s Deli<br/>\n",
       "  <em>Read more</em> </a></div>\n",
       "  </div>,\n",
       "  <div class=\"sammy\" style=\"position: relative;\">\n",
       "  <div class=\"sammyRank\">5</div>\n",
       "  <div class=\"sammyListing\"><a href=\"/Chicago-Magazine/November-2012/Best-Sandwiches-in-Chicago-Publican-Quality-Meats-PB-L/\"><b>PB&amp;L</b><br/>\n",
       "  Publican Quality Meats<br/>\n",
       "  <em>Read more</em> </a></div>\n",
       "  </div>,\n",
       "  <div class=\"sammy\" style=\"position: relative;\">\n",
       "  <div class=\"sammyRank\">6</div>\n",
       "  <div class=\"sammyListing\"><a href=\"https://www.chicagomag.com/Chicago-Magazine/November-2012/Best-Sandwiches-in-Chicago-Hendrickx-Belgian-Bread-Crafter-Belgian-Chicken-Curry-Salad/\"><b>Belgian Chicken Curry Salad</b><br/>\n",
       "  Hendrickx Belgian Bread Crafter<br/>\n",
       "  <em>Read more</em> </a></div>\n",
       "  </div>,\n",
       "  <div class=\"sammy\" style=\"position: relative;\">\n",
       "  <div class=\"sammyRank\">7</div>\n",
       "  <div class=\"sammyListing\"><a href=\"/Chicago-Magazine/November-2012/Best-Sandwiches-in-Chicago-Acadia-Lobster-Roll/\"><b>Lobster Roll</b><br/>\n",
       "  Acadia<br/>\n",
       "  <em>Read more</em> </a></div>\n",
       "  </div>,\n",
       "  <div class=\"sammy\" style=\"position: relative;\">\n",
       "  <div class=\"sammyRank\">8</div>\n",
       "  <div class=\"sammyListing\"><a href=\"/Chicago-Magazine/November-2012/Best-Sandwiches-in-Chicago-Birchwood-Kitchen-Smoked-Salmon-Salad/\"><b>Smoked Salmon Salad</b><br/>\n",
       "  Birchwood Kitchen<br/>\n",
       "  <em>Read more</em> </a></div>\n",
       "  </div>,\n",
       "  <div class=\"sammy\" style=\"position: relative;\">\n",
       "  <div class=\"sammyRank\">9</div>\n",
       "  <div class=\"sammyListing\"><a href=\"/Chicago-Magazine/November-2012/Best-Sandwiches-in-Chicago-Cemitas-Puebla-Atomica-Cemitas/\"><b>Atomica Cemitas</b><br/>\n",
       "  Cemitas Puebla<br/>\n",
       "  <em>Read more</em> </a></div>\n",
       "  </div>,\n",
       "  <div class=\"sammy\" style=\"position: relative;\">\n",
       "  <div class=\"sammyRank\">10</div>\n",
       "  <div class=\"sammyListing\"><a href=\"/Chicago-Magazine/November-2012/Best-Sandwiches-in-Chicago-Nana-Grilled-Laughing-Bird-Shrimp-and-Fried-Oyster-Po-Boy/\"><b>Grilled Laughing Bird Shrimp and Fried Po’ Boy</b><br/>\n",
       "  Nana<br/>\n",
       "  <em>Read more</em> </a></div>\n",
       "  </div>,\n",
       "  <div class=\"sammy\" style=\"position: relative;\">\n",
       "  <div class=\"sammyRank\">11</div>\n",
       "  <div class=\"sammyListing\"><a href=\"https://www.chicagomag.com/Chicago-Magazine/November-2012/Best-Sandwiches-in-Chicago-Lula-Cafe-Ham-and-Raclette-Panino/\"><b>Ham and Raclette Panino</b><br/>\n",
       "  Lula Cafe<br/>\n",
       "  <em>Read more</em> </a></div>\n",
       "  </div>,\n",
       "  <div class=\"sammy\" style=\"position: relative;\">\n",
       "  <div class=\"sammyRank\">12</div>\n",
       "  <div class=\"sammyListing\"><a href=\"https://www.chicagomag.com/Chicago-Magazine/November-2012/Best-Sandwiches-in-Chicago-Ricobenes-Breaded-Steak/\"><b>Breaded Steak</b><br/>\n",
       "  Ricobene’s<br/>\n",
       "  <em>Read more</em> </a></div>\n",
       "  </div>,\n",
       "  <div class=\"sammy\" style=\"position: relative;\">\n",
       "  <div class=\"sammyRank\">13</div>\n",
       "  <div class=\"sammyListing\"><a href=\"https://www.chicagomag.com/Chicago-Magazine/November-2012/Best-Sandwiches-in-Chicago-Frog-n-Snail-The-Hawkeye/\"><b>The Hawkeye</b><br/>\n",
       "  Frog n Snail<br/>\n",
       "  <em>Read more</em> </a></div>\n",
       "  </div>,\n",
       "  <div class=\"sammy\" style=\"position: relative;\">\n",
       "  <div class=\"sammyRank\">14</div>\n",
       "  <div class=\"sammyListing\"><a href=\"https://www.chicagomag.com/Chicago-Magazine/November-2012/Best-Sandwiches-in-Chicago-Crosbys-Kitchen-Chicken-Dip/\"><b>Chicken Dip</b><br/>\n",
       "  Crosby’s Kitchen<br/>\n",
       "  <em>Read more</em> </a></div>\n",
       "  </div>,\n",
       "  <div class=\"sammy\" style=\"position: relative;\">\n",
       "  <div class=\"sammyRank\">15</div>\n",
       "  <div class=\"sammyListing\"><a href=\"https://www.chicagomag.com/Chicago-Magazine/November-2012/Best-Sandwiches-in-Chicago-Longman-and-Eagle-Wild-Boar-Sloppy-Joe/\"><b>Wild Boar Sloppy Joe</b><br/>\n",
       "  Longman &amp; Eagle<br/>\n",
       "  <em>Read more</em> </a></div>\n",
       "  </div>,\n",
       "  <div class=\"sammy\" style=\"position: relative;\">\n",
       "  <div class=\"sammyRank\">16</div>\n",
       "  <div class=\"sammyListing\"><a href=\"https://www.chicagomag.com/Chicago-Magazine/November-2012/Best-Sandwiches-in-Chicago-Bari-Meatball-Sub/\"><b>Meatball Sub</b><br/>\n",
       "  Bari<br/>\n",
       "  <em>Read more</em> </a></div>\n",
       "  </div>,\n",
       "  <div class=\"sammy\" style=\"position: relative;\">\n",
       "  <div class=\"sammyRank\">17</div>\n",
       "  <div class=\"sammyListing\"><a href=\"https://www.chicagomag.com/Chicago-Magazine/November-2012/Best-Sandwiches-in-Chicago-Mannys-Corned-Beef/\"><b>Corned Beef</b><br/>\n",
       "  Manny’s<br/>\n",
       "  <em>Read more</em> </a></div>\n",
       "  </div>,\n",
       "  <div class=\"sammy\" style=\"position: relative;\">\n",
       "  <div class=\"sammyRank\">18</div>\n",
       "  <div class=\"sammyListing\"><a href=\"https://www.chicagomag.com/Chicago-Magazine/November-2012/Best-Sandwiches-in-Chicago-Eggys-Turkey-Club/\"><b>Turkey Club</b><br/>\n",
       "  Eggy’s<br/>\n",
       "  <em>Read more</em> </a></div>\n",
       "  </div>,\n",
       "  <div class=\"sammy\" style=\"position: relative;\">\n",
       "  <div class=\"sammyRank\">19</div>\n",
       "  <div class=\"sammyListing\"><a href=\"https://www.chicagomag.com/Chicago-Magazine/November-2012/Best-Sandwiches-in-Chicago-Old-Jerusalem-Falafel/\"><b>Falafel</b><br/>\n",
       "  Old Jerusalem<br/>\n",
       "  <em>Read more</em> </a></div>\n",
       "  </div>,\n",
       "  <div class=\"sammy\" style=\"position: relative;\">\n",
       "  <div class=\"sammyRank\">20</div>\n",
       "  <div class=\"sammyListing\"><a href=\"https://www.chicagomag.com/Chicago-Magazine/November-2012/Best-Sandwiches-in-Chicago-Mindys-HotChocolate-Crab-Cake/\"><b>Crab Cake</b><br/>\n",
       "  Mindy’s HotChocolate<br/>\n",
       "  <em>Read more</em> </a></div>\n",
       "  </div>,\n",
       "  <div class=\"sammy\" style=\"position: relative;\">\n",
       "  <div class=\"sammyRank\">21</div>\n",
       "  <div class=\"sammyListing\"><a href=\"https://www.chicagomag.com/Chicago-Magazine/November-2012/Best-Sandwiches-in-Chicago-Olgas-Delicatessen-Chicken-Schnitzel/\"><b>Chicken Schnitzel</b><br/>\n",
       "  Olga’s Delicatessen<br/>\n",
       "  <em>Read more</em> </a></div>\n",
       "  </div>,\n",
       "  <div class=\"sammy\" style=\"position: relative;\">\n",
       "  <div class=\"sammyRank\">22</div>\n",
       "  <div class=\"sammyListing\"><a href=\"https://www.chicagomag.com/Chicago-Magazine/November-2012/Best-Sandwiches-in-Chicago-Dawali-Mediterranean-Kitchen-Shawarma/\"><b>Shawarma</b><br/>\n",
       "  Dawali Mediterranean Kitchen<br/>\n",
       "  <em>Read more</em> </a></div>\n",
       "  </div>,\n",
       "  <div class=\"sammy\" style=\"position: relative;\">\n",
       "  <div class=\"sammyRank\">23</div>\n",
       "  <div class=\"sammyListing\"><a href=\"https://www.chicagomag.com/Chicago-Magazine/November-2012/Best-Sandwiches-in-Chicago-Big-Jones-Toasted-Pimiento-Cheese/\"><b>Toasted Pimiento Cheese</b><br/>\n",
       "  Big Jones<br/>\n",
       "  <em>Read more</em> </a></div>\n",
       "  </div>,\n",
       "  <div class=\"sammy\" style=\"position: relative;\">\n",
       "  <div class=\"sammyRank\">24</div>\n",
       "  <div class=\"sammyListing\"><a href=\"https://www.chicagomag.com/Chicago-Magazine/November-2012/Best-Sandwiches-in-Chicago-La-Pane-Vegetarian-Panino/\"><b>Vegetarian Panino</b><br/>\n",
       "  La Pane<br/>\n",
       "  <em>Read more</em> </a></div>\n",
       "  </div>,\n",
       "  <div class=\"sammy\" style=\"position: relative;\">\n",
       "  <div class=\"sammyRank\">25</div>\n",
       "  <div class=\"sammyListing\"><a href=\"/Chicago-Magazine/November-2012/Best-Sandwiches-in-Chicago-Pastoral-Cali-Chevre/\"><b>Cali Chèvre</b><br/>\n",
       "  Pastoral<br/>\n",
       "  <em>Read more</em> </a></div>\n",
       "  </div>,\n",
       "  <div class=\"sammy\" style=\"position: relative;\">\n",
       "  <div class=\"sammyRank\">26</div>\n",
       "  <div class=\"sammyListing\"><a href=\"https://www.chicagomag.com/Chicago-Magazine/November-2012/Best-Sandwiches-in-Chicago-Maxs-Deli-Pastrami/\"><b>Pastrami</b><br/>\n",
       "  Max’s Deli<br/>\n",
       "  <em>Read more</em> </a></div>\n",
       "  </div>,\n",
       "  <div class=\"sammy\" style=\"position: relative;\">\n",
       "  <div class=\"sammyRank\">27</div>\n",
       "  <div class=\"sammyListing\"><a href=\"https://www.chicagomag.com/Chicago-Magazine/November-2012/Best-Sandwiches-in-Chicago-Luckys-Sandwich-Co-The-Fredo/\"><b>The Fredo</b><br/>\n",
       "  Lucky’s Sandwich Co.<br/>\n",
       "  <em>Read more</em> </a></div>\n",
       "  </div>,\n",
       "  <div class=\"sammy\" style=\"position: relative;\">\n",
       "  <div class=\"sammyRank\">28</div>\n",
       "  <div class=\"sammyListing\"><a href=\"https://www.chicagomag.com/Chicago-Magazine/November-2012/Best-Sandwiches-in-Chicago-City-Provisions-Smoked-Ham/\"><b>Smoked Ham</b><br/>\n",
       "  City Provisions<br/>\n",
       "  <em>Read more</em> </a></div>\n",
       "  </div>,\n",
       "  <div class=\"sammy\" style=\"position: relative;\">\n",
       "  <div class=\"sammyRank\">29</div>\n",
       "  <div class=\"sammyListing\"><a href=\"https://www.chicagomag.com/Chicago-Magazine/November-2012/Best-Sandwiches-in-Chicago-Papas-Cache-Sabroso-Jibarito/\"><b>Jibarito</b><br/>\n",
       "  Papa’s Cache Sabroso<br/>\n",
       "  <em>Read more</em> </a></div>\n",
       "  </div>,\n",
       "  <div class=\"sammy\" style=\"position: relative;\">\n",
       "  <div class=\"sammyRank\">30</div>\n",
       "  <div class=\"sammyListing\"><a href=\"https://www.chicagomag.com/Chicago-Magazine/November-2012/Best-Sandwiches-in-Chicago-Bavettes-Bar-and-Boeuf-Shaved-Prime-Rib/\"><b>Shaved Prime Rib</b><br/>\n",
       "  Bavette’s Bar &amp; Boeuf<br/>\n",
       "  <em>Read more</em> </a></div>\n",
       "  </div>,\n",
       "  <div class=\"sammy\" style=\"position: relative;\">\n",
       "  <div class=\"sammyRank\">31</div>\n",
       "  <div class=\"sammyListing\"><a href=\"https://www.chicagomag.com/Chicago-Magazine/November-2012/Best-Sandwiches-in-Chicago-Hannahs-Bretzel-Serrano-Ham-and-Manchego-Cheese/\"><b>Serrano Ham and Manchego Cheese</b><br/>\n",
       "  Hannah’s Bretzel<br/>\n",
       "  <em>Read more</em> </a></div>\n",
       "  </div>,\n",
       "  <div class=\"sammy\" style=\"position: relative;\">\n",
       "  <div class=\"sammyRank\">32</div>\n",
       "  <div class=\"sammyListing\"><a href=\"https://www.chicagomag.com/Chicago-Magazine/November-2012/Best-Sandwiches-in-Chicago-La-Fournette-Tuna-Salad/\"><b>Tuna Salad</b><br/>\n",
       "  La Fournette<br/>\n",
       "  <em>Read more</em> </a></div>\n",
       "  </div>,\n",
       "  <div class=\"sammy\" style=\"position: relative;\">\n",
       "  <div class=\"sammyRank\">33</div>\n",
       "  <div class=\"sammyListing\"><a href=\"https://www.chicagomag.com/Chicago-Magazine/November-2012/Best-Sandwiches-in-Chicago-Paramount-Room-Paramount-Reuben/\"><b>Paramount Reuben</b><br/>\n",
       "  Paramount Room<br/>\n",
       "  <em>Read more</em> </a></div>\n",
       "  </div>,\n",
       "  <div class=\"sammy\" style=\"position: relative;\">\n",
       "  <div class=\"sammyRank\">34</div>\n",
       "  <div class=\"sammyListing\"><a href=\"https://www.chicagomag.com/Chicago-Magazine/November-2012/Best-Sandwiches-in-Chicago-Melt-Sandwich-Shoppe-The-Istanbul/\"><b>The Istanbul</b><br/>\n",
       "  Melt Sandwich Shoppe<br/>\n",
       "  <em>Read more</em> </a></div>\n",
       "  </div>,\n",
       "  <div class=\"sammy\" style=\"position: relative;\">\n",
       "  <div class=\"sammyRank\">35</div>\n",
       "  <div class=\"sammyListing\"><a href=\"https://www.chicagomag.com/Chicago-Magazine/November-2012/Best-Sandwiches-in-Chicago-Floriole-Cafe-and-Bakery-BAD/\"><b>B.A.D.</b><br/>\n",
       "  Floriole Cafe &amp; Bakery<br/>\n",
       "  <em>Read more</em> </a></div>\n",
       "  </div>,\n",
       "  <div class=\"sammy\" style=\"position: relative;\">\n",
       "  <div class=\"sammyRank\">36</div>\n",
       "  <div class=\"sammyListing\"><a href=\"https://www.chicagomag.com/Chicago-Magazine/November-2012/Best-Sandwiches-in-Chicago-First-Slice-Pie-Cafe-Duck-Confit-and-Mozzarella/\"><b>Duck Confit and Mozzarella</b><br/>\n",
       "  First Slice Pie Café<br/>\n",
       "  <em>Read more</em> </a></div>\n",
       "  </div>,\n",
       "  <div class=\"sammy\" style=\"position: relative;\">\n",
       "  <div class=\"sammyRank\">37</div>\n",
       "  <div class=\"sammyListing\"><a href=\"https://www.chicagomag.com/Chicago-Magazine/November-2012/Best-Sandwiches-in-Chicago-Troquet-Croque-Monsieur/\"><b>Croque Monsieur</b><br/>\n",
       "  Troquet<br/>\n",
       "  <em>Read more</em> </a></div>\n",
       "  </div>,\n",
       "  <div class=\"sammy\" style=\"position: relative;\">\n",
       "  <div class=\"sammyRank\">38</div>\n",
       "  <div class=\"sammyListing\"><a href=\"https://www.chicagomag.com/Chicago-Magazine/November-2012/Best-Sandwiches-in-Chicago-Grahamwich-Green-Garbanzo/\"><b>Green Garbanzo</b><br/>\n",
       "  Grahamwich<br/>\n",
       "  <em>Read more</em> </a></div>\n",
       "  </div>,\n",
       "  <div class=\"sammy\" style=\"position: relative;\">\n",
       "  <div class=\"sammyRank\">39</div>\n",
       "  <div class=\"sammyListing\"><a href=\"https://www.chicagomag.com/Chicago-Magazine/November-2012/Best-Sandwiches-in-Chicago-Saigon-Sisters-The-Hen-House/\"><b>The Hen House</b><br/>\n",
       "  Saigon Sisters<br/>\n",
       "  <em>Read more</em> </a></div>\n",
       "  </div>,\n",
       "  <div class=\"sammy\" style=\"position: relative;\">\n",
       "  <div class=\"sammyRank\">40</div>\n",
       "  <div class=\"sammyListing\"><a href=\"https://www.chicagomag.com/Chicago-Magazine/November-2012/Best-Sandwiches-in-Chicago-Rosalias-Deli-Tuscan-Chicken/\"><b>Tuscan Chicken</b><br/>\n",
       "  Rosalia’s Deli<br/>\n",
       "  <em>Read more</em> </a></div>\n",
       "  </div>,\n",
       "  <div class=\"sammy\" style=\"position: relative;\">\n",
       "  <div class=\"sammyRank\">41</div>\n",
       "  <div class=\"sammyListing\"><a href=\"https://www.chicagomag.com/Chicago-Magazine/November-2012/Best-Sandwiches-in-Chicago-Z-and-H-MarketCafe-The-Marty/\"><b>The Marty </b><br/>\n",
       "  Z&amp;H MarketCafe<br/>\n",
       "  <em>Read more</em> </a></div>\n",
       "  </div>,\n",
       "  <div class=\"sammy\" style=\"position: relative;\">\n",
       "  <div class=\"sammyRank\">42</div>\n",
       "  <div class=\"sammyListing\"><a href=\"https://www.chicagomag.com/Chicago-Magazine/November-2012/Best-Sandwiches-in-Chicago-Market-House-on-the-Square-Whitefish/\"><b>Whitefish</b><br/>\n",
       "  Market House on the Square<br/>\n",
       "  <em>Read more</em> </a></div>\n",
       "  </div>,\n",
       "  <div class=\"sammy\" style=\"position: relative;\">\n",
       "  <div class=\"sammyRank\">43</div>\n",
       "  <div class=\"sammyListing\"><a href=\"https://www.chicagomag.com/Chicago-Magazine/November-2012/Best-Sandwiches-in-Chicago-Elaines-Coffee-Call-Oat-Bread-Pecan-Butter-and-Fruit-Jam/\"><b>Oat Bread, Pecan Butter, and Fruit Jam</b><br/>\n",
       "  Elaine’s Coffee Call<br/>\n",
       "  <em>Read more</em> </a></div>\n",
       "  </div>,\n",
       "  <div class=\"sammy\" style=\"position: relative;\">\n",
       "  <div class=\"sammyRank\">44</div>\n",
       "  <div class=\"sammyListing\"><a href=\"https://www.chicagomag.com/Chicago-Magazine/November-2012/Best-Sandwiches-in-Chicago-Marion-Street-Cheese-Market-Cauliflower-Melt/\"><b>Cauliflower Melt</b><br/>\n",
       "  Marion Street Cheese Market<br/>\n",
       "  <em>Read more</em> </a></div>\n",
       "  </div>,\n",
       "  <div class=\"sammy\" style=\"position: relative;\">\n",
       "  <div class=\"sammyRank\">45</div>\n",
       "  <div class=\"sammyListing\"><a href=\"https://www.chicagomag.com/Chicago-Magazine/November-2012/Best-Sandwiches-in-Chicago-Cafecito-Cubano/\"><b>Cubana</b><br/>\n",
       "  Cafecito<br/>\n",
       "  <em>Read more</em> </a></div>\n",
       "  </div>,\n",
       "  <div class=\"sammy\" style=\"position: relative;\">\n",
       "  <div class=\"sammyRank\">46</div>\n",
       "  <div class=\"sammyListing\"><a href=\"https://www.chicagomag.com/Chicago-Magazine/November-2012/Best-Sandwiches-in-Chicago-Chickpea-Kufta/\"><b>Kufta</b><br/>\n",
       "  Chickpea<br/>\n",
       "  <em>Read more</em> </a></div>\n",
       "  </div>,\n",
       "  <div class=\"sammy\" style=\"position: relative;\">\n",
       "  <div class=\"sammyRank\">47</div>\n",
       "  <div class=\"sammyListing\"><a href=\"https://www.chicagomag.com/Chicago-Magazine/November-2012/Best-Sandwiches-in-Chicago-The-Goddess-and-Grocer-Debbies-Egg-Salad/\"><b>Debbie’s Egg Salad</b><br/>\n",
       "  The Goddess and Grocer<br/>\n",
       "  <em>Read more</em> </a></div>\n",
       "  </div>,\n",
       "  <div class=\"sammy\" style=\"position: relative;\">\n",
       "  <div class=\"sammyRank\">48</div>\n",
       "  <div class=\"sammyListing\"><a href=\"https://www.chicagomag.com/Chicago-Magazine/November-2012/Best-Sandwiches-in-Chicago-Zenwich-Beef-Curry/\"><b>Beef Curry</b><br/>\n",
       "  Zenwich<br/>\n",
       "  <em>Read more</em> </a></div>\n",
       "  </div>,\n",
       "  <div class=\"sammy\" style=\"position: relative;\">\n",
       "  <div class=\"sammyRank\">49</div>\n",
       "  <div class=\"sammyListing\"><a href=\"https://www.chicagomag.com/Chicago-Magazine/November-2012/Best-Sandwiches-in-Chicago-Toni-Patisserie-Le-Vegetarien/\"><b>Le Végétarien</b><br/>\n",
       "  Toni Patisserie<br/>\n",
       "  <em>Read more</em> </a></div>\n",
       "  </div>,\n",
       "  <div class=\"sammy\" style=\"position: relative; border-bottom: 0\">\n",
       "  <div class=\"sammyRank\">50</div>\n",
       "  <div class=\"sammyListing\"><a href=\"https://www.chicagomag.com/Chicago-Magazine/November-2012/Best-Sandwiches-in-Chicago-Phoebes-Bakery-The-Gatsby/\"><b>The Gatsby</b><br/>\n",
       "  Phoebe’s Bakery<br/>\n",
       "  <em>Read more</em> </a></div>\n",
       "  </div>],\n",
       " 50)"
      ]
     },
     "execution_count": 16,
     "metadata": {},
     "output_type": "execute_result"
    }
   ],
   "source": [
    "# soup.select(\".sammy\"), len(soup.select(\".sammy\"))과 동일한 방식\n",
    "soup.find_all(\"div\", \"sammy\"), len(soup.find_all(\"div\", \"sammy\"))"
   ]
  },
  {
   "cell_type": "code",
   "execution_count": 17,
   "metadata": {},
   "outputs": [
    {
     "data": {
      "text/plain": [
       "(<div class=\"sammy\" style=\"position: relative;\">\n",
       " <div class=\"sammyRank\">1</div>\n",
       " <div class=\"sammyListing\"><a href=\"/Chicago-Magazine/November-2012/Best-Sandwiches-in-Chicago-Old-Oak-Tap-BLT/\"><b>BLT</b><br/>\n",
       " Old Oak Tap<br/>\n",
       " <em>Read more</em> </a></div>\n",
       " </div>,\n",
       " bs4.element.Tag)"
      ]
     },
     "execution_count": 17,
     "metadata": {},
     "output_type": "execute_result"
    }
   ],
   "source": [
    "tmp_one = soup.find_all(\"div\", \"sammy\")[0]\n",
    "tmp_one, type(tmp_one)"
   ]
  },
  {
   "cell_type": "markdown",
   "metadata": {},
   "source": [
    "👆 type이 <bs4.element.Tag>라는 것은 find() 함수를 사용할 수 있다는 뜻이다."
   ]
  },
  {
   "cell_type": "markdown",
   "metadata": {},
   "source": [
    "- 랭킹 데이터 얻기"
   ]
  },
  {
   "cell_type": "code",
   "execution_count": 18,
   "metadata": {},
   "outputs": [
    {
     "data": {
      "text/plain": [
       "<div class=\"sammyRank\">1</div>"
      ]
     },
     "execution_count": 18,
     "metadata": {},
     "output_type": "execute_result"
    }
   ],
   "source": [
    "tmp_one.find(class_=\"sammyRank\")"
   ]
  },
  {
   "cell_type": "code",
   "execution_count": 19,
   "metadata": {},
   "outputs": [
    {
     "data": {
      "text/plain": [
       "'1'"
      ]
     },
     "execution_count": 19,
     "metadata": {},
     "output_type": "execute_result"
    }
   ],
   "source": [
    "tmp_one.find(class_=\"sammyRank\").get_text()"
   ]
  },
  {
   "cell_type": "code",
   "execution_count": 20,
   "metadata": {},
   "outputs": [
    {
     "data": {
      "text/plain": [
       "'1'"
      ]
     },
     "execution_count": 20,
     "metadata": {},
     "output_type": "execute_result"
    }
   ],
   "source": [
    "tmp_one.find(class_=\"sammyRank\").text"
   ]
  },
  {
   "cell_type": "markdown",
   "metadata": {},
   "source": [
    "- 대표 메뉴와 가게 이름 얻기"
   ]
  },
  {
   "cell_type": "code",
   "execution_count": 21,
   "metadata": {},
   "outputs": [
    {
     "data": {
      "text/plain": [
       "<div class=\"sammy\" style=\"position: relative;\">\n",
       "<div class=\"sammyRank\">1</div>\n",
       "<div class=\"sammyListing\"><a href=\"/Chicago-Magazine/November-2012/Best-Sandwiches-in-Chicago-Old-Oak-Tap-BLT/\"><b>BLT</b><br/>\n",
       "Old Oak Tap<br/>\n",
       "<em>Read more</em> </a></div>\n",
       "</div>"
      ]
     },
     "execution_count": 21,
     "metadata": {},
     "output_type": "execute_result"
    }
   ],
   "source": [
    "tmp_one"
   ]
  },
  {
   "cell_type": "code",
   "execution_count": 22,
   "metadata": {},
   "outputs": [
    {
     "data": {
      "text/plain": [
       "<div class=\"sammyListing\"><a href=\"/Chicago-Magazine/November-2012/Best-Sandwiches-in-Chicago-Old-Oak-Tap-BLT/\"><b>BLT</b><br/>\n",
       "Old Oak Tap<br/>\n",
       "<em>Read more</em> </a></div>"
      ]
     },
     "execution_count": 22,
     "metadata": {},
     "output_type": "execute_result"
    }
   ],
   "source": [
    "tmp_one.find(\"div\", {\"class\": \"sammyListing\"})"
   ]
  },
  {
   "cell_type": "code",
   "execution_count": 23,
   "metadata": {},
   "outputs": [
    {
     "data": {
      "text/plain": [
       "'BLT\\nOld Oak Tap\\nRead more '"
      ]
     },
     "execution_count": 23,
     "metadata": {},
     "output_type": "execute_result"
    }
   ],
   "source": [
    "tmp_one.find(\"div\", {\"class\": \"sammyListing\"}).text"
   ]
  },
  {
   "cell_type": "code",
   "execution_count": 24,
   "metadata": {},
   "outputs": [
    {
     "data": {
      "text/plain": [
       "'BLT\\nOld Oak Tap\\nRead more '"
      ]
     },
     "execution_count": 24,
     "metadata": {},
     "output_type": "execute_result"
    }
   ],
   "source": [
    "tmp_one.select_one(\".sammyListing\").get_text()"
   ]
  },
  {
   "cell_type": "code",
   "execution_count": 25,
   "metadata": {},
   "outputs": [
    {
     "data": {
      "text/plain": [
       "['BLT', 'Old Oak Tap', 'Read more ']"
      ]
     },
     "execution_count": 25,
     "metadata": {},
     "output_type": "execute_result"
    }
   ],
   "source": [
    "tmp_one.select_one(\".sammyListing\").text.split(\"\\n\")"
   ]
  },
  {
   "cell_type": "markdown",
   "metadata": {},
   "source": [
    "- `re` module : regular expression\n",
    "\n",
    "\t- `|` 는 OR을 의미한다."
   ]
  },
  {
   "cell_type": "code",
   "execution_count": 26,
   "metadata": {},
   "outputs": [
    {
     "data": {
      "text/plain": [
       "['BLT', 'Old Oak Tap', 'Read more ']"
      ]
     },
     "execution_count": 26,
     "metadata": {},
     "output_type": "execute_result"
    }
   ],
   "source": [
    "import re\n",
    "\n",
    "tmp_string = tmp_one.find(class_=\"sammyListing\").get_text()\n",
    "re.split((\"\\n|\\r\\n\"), tmp_string)"
   ]
  },
  {
   "cell_type": "code",
   "execution_count": 27,
   "metadata": {},
   "outputs": [
    {
     "name": "stdout",
     "output_type": "stream",
     "text": [
      "BLT\n",
      "Old Oak Tap\n"
     ]
    }
   ],
   "source": [
    "print(re.split((\"\\n|\\r\\n\"), tmp_string)[0]) # menu\n",
    "print(re.split((\"\\n|\\r\\n\"), tmp_string)[1]) # cafe"
   ]
  },
  {
   "cell_type": "markdown",
   "metadata": {},
   "source": [
    "- 홈페이지 주소 얻기\n",
    "\n",
    "\t- url 주소가 상대경로인 것도 있고 절대경로인 것도 있다."
   ]
  },
  {
   "cell_type": "code",
   "execution_count": 28,
   "metadata": {},
   "outputs": [
    {
     "data": {
      "text/plain": [
       "'/Chicago-Magazine/November-2012/Best-Sandwiches-in-Chicago-Old-Oak-Tap-BLT/'"
      ]
     },
     "execution_count": 28,
     "metadata": {},
     "output_type": "execute_result"
    }
   ],
   "source": [
    "tmp_one.find(\"a\")[\"href\"]"
   ]
  },
  {
   "cell_type": "code",
   "execution_count": 29,
   "metadata": {},
   "outputs": [
    {
     "data": {
      "text/plain": [
       "'/Chicago-Magazine/November-2012/Best-Sandwiches-in-Chicago-Old-Oak-Tap-BLT/'"
      ]
     },
     "execution_count": 29,
     "metadata": {},
     "output_type": "execute_result"
    }
   ],
   "source": [
    "tmp_one.select_one(\"a\").get(\"href\")"
   ]
  },
  {
   "cell_type": "markdown",
   "metadata": {},
   "source": [
    "- `urljoin()`\n",
    "\n",
    "\t- url_base가 없으면 붙여주고, 있으면 그냥 패스\n",
    "\n",
    "\t- 상대 경로와 절대 경로가 혼용되어 있는 경우 상대 경로에 url_base를 붙여 절대 경로로 만들어 준다."
   ]
  },
  {
   "cell_type": "code",
   "execution_count": 30,
   "metadata": {},
   "outputs": [
    {
     "data": {
      "text/plain": [
       "(50, 50, 50, 50)"
      ]
     },
     "execution_count": 30,
     "metadata": {},
     "output_type": "execute_result"
    }
   ],
   "source": [
    "from urllib.parse import urljoin\n",
    "\n",
    "url_base = \"http://www.chicagomag.com\"\n",
    "\n",
    "# 필요한 내용을 담을 빈 리스트 \n",
    "# 리스트로 하나씩 컬럼을 만들고, DataFrame으로 합칠 예정 \n",
    "rank = [] \n",
    "main_menu = [] \n",
    "cafe_name = [] \n",
    "url_add = [] \n",
    "\n",
    "list_soup = soup.find_all(\"div\", \"sammy\") # soup.select(\".sammy\")\n",
    "\n",
    "for item in list_soup: \n",
    "    rank.append(item.find(class_=\"sammyRank\").get_text())\n",
    "    tmp_string = item.find(class_=\"sammyListing\").get_text()\n",
    "    main_menu.append(re.split((\"\\n|\\r\\n\"), tmp_string)[0])\n",
    "    cafe_name.append(re.split((\"\\n|\\r\\n\"), tmp_string)[1])\n",
    "    url_add.append(urljoin(url_base, item.find(\"a\")[\"href\"]))\n",
    "    \n",
    "len(rank), len(main_menu), len(cafe_name), len(url_add)"
   ]
  },
  {
   "cell_type": "code",
   "execution_count": 31,
   "metadata": {},
   "outputs": [
    {
     "data": {
      "text/plain": [
       "['1', '2', '3', '4', '5']"
      ]
     },
     "execution_count": 31,
     "metadata": {},
     "output_type": "execute_result"
    }
   ],
   "source": [
    "rank[:5]"
   ]
  },
  {
   "cell_type": "code",
   "execution_count": 32,
   "metadata": {},
   "outputs": [
    {
     "data": {
      "text/plain": [
       "['BLT', 'Fried Bologna', 'Woodland Mushroom', 'Roast Beef', 'PB&L']"
      ]
     },
     "execution_count": 32,
     "metadata": {},
     "output_type": "execute_result"
    }
   ],
   "source": [
    "main_menu[:5]"
   ]
  },
  {
   "cell_type": "code",
   "execution_count": 33,
   "metadata": {},
   "outputs": [
    {
     "data": {
      "text/plain": [
       "['Old Oak Tap', 'Au Cheval', 'Xoco', 'Al’s Deli', 'Publican Quality Meats']"
      ]
     },
     "execution_count": 33,
     "metadata": {},
     "output_type": "execute_result"
    }
   ],
   "source": [
    "cafe_name[:5]"
   ]
  },
  {
   "cell_type": "code",
   "execution_count": 34,
   "metadata": {},
   "outputs": [
    {
     "data": {
      "text/plain": [
       "['http://www.chicagomag.com/Chicago-Magazine/November-2012/Best-Sandwiches-in-Chicago-Old-Oak-Tap-BLT/',\n",
       " 'http://www.chicagomag.com/Chicago-Magazine/November-2012/Best-Sandwiches-in-Chicago-Au-Cheval-Fried-Bologna/',\n",
       " 'http://www.chicagomag.com/Chicago-Magazine/November-2012/Best-Sandwiches-in-Chicago-Xoco-Woodland-Mushroom/',\n",
       " 'http://www.chicagomag.com/Chicago-Magazine/November-2012/Best-Sandwiches-in-Chicago-Als-Deli-Roast-Beef/',\n",
       " 'http://www.chicagomag.com/Chicago-Magazine/November-2012/Best-Sandwiches-in-Chicago-Publican-Quality-Meats-PB-L/']"
      ]
     },
     "execution_count": 34,
     "metadata": {},
     "output_type": "execute_result"
    }
   ],
   "source": [
    "url_add[:5]"
   ]
  },
  {
   "cell_type": "markdown",
   "metadata": {},
   "source": [
    "- DataFrame 생성"
   ]
  },
  {
   "cell_type": "code",
   "execution_count": 35,
   "metadata": {},
   "outputs": [
    {
     "data": {
      "text/html": [
       "<div>\n",
       "<style scoped>\n",
       "    .dataframe tbody tr th:only-of-type {\n",
       "        vertical-align: middle;\n",
       "    }\n",
       "\n",
       "    .dataframe tbody tr th {\n",
       "        vertical-align: top;\n",
       "    }\n",
       "\n",
       "    .dataframe thead th {\n",
       "        text-align: right;\n",
       "    }\n",
       "</style>\n",
       "<table border=\"1\" class=\"dataframe\">\n",
       "  <thead>\n",
       "    <tr style=\"text-align: right;\">\n",
       "      <th></th>\n",
       "      <th>Rank</th>\n",
       "      <th>Menu</th>\n",
       "      <th>Cafe</th>\n",
       "      <th>URL</th>\n",
       "    </tr>\n",
       "  </thead>\n",
       "  <tbody>\n",
       "    <tr>\n",
       "      <th>48</th>\n",
       "      <td>49</td>\n",
       "      <td>Le Végétarien</td>\n",
       "      <td>Toni Patisserie</td>\n",
       "      <td>https://www.chicagomag.com/Chicago-Magazine/No...</td>\n",
       "    </tr>\n",
       "    <tr>\n",
       "      <th>49</th>\n",
       "      <td>50</td>\n",
       "      <td>The Gatsby</td>\n",
       "      <td>Phoebe’s Bakery</td>\n",
       "      <td>https://www.chicagomag.com/Chicago-Magazine/No...</td>\n",
       "    </tr>\n",
       "  </tbody>\n",
       "</table>\n",
       "</div>"
      ],
      "text/plain": [
       "   Rank           Menu             Cafe  \\\n",
       "48   49  Le Végétarien  Toni Patisserie   \n",
       "49   50     The Gatsby  Phoebe’s Bakery   \n",
       "\n",
       "                                                  URL  \n",
       "48  https://www.chicagomag.com/Chicago-Magazine/No...  \n",
       "49  https://www.chicagomag.com/Chicago-Magazine/No...  "
      ]
     },
     "execution_count": 35,
     "metadata": {},
     "output_type": "execute_result"
    }
   ],
   "source": [
    "import pandas as pd\n",
    "\n",
    "data = {\n",
    "\t\"Rank\": rank,\n",
    "\t\"Menu\": main_menu,\n",
    "\t\"Cafe\": cafe_name,\n",
    "\t\"URL\": url_add\n",
    "}\n",
    "\n",
    "df = pd.DataFrame(data)\n",
    "df.tail(2)"
   ]
  },
  {
   "cell_type": "markdown",
   "metadata": {},
   "source": [
    "- 컬럼 순서 변경"
   ]
  },
  {
   "cell_type": "code",
   "execution_count": 36,
   "metadata": {},
   "outputs": [
    {
     "data": {
      "text/html": [
       "<div>\n",
       "<style scoped>\n",
       "    .dataframe tbody tr th:only-of-type {\n",
       "        vertical-align: middle;\n",
       "    }\n",
       "\n",
       "    .dataframe tbody tr th {\n",
       "        vertical-align: top;\n",
       "    }\n",
       "\n",
       "    .dataframe thead th {\n",
       "        text-align: right;\n",
       "    }\n",
       "</style>\n",
       "<table border=\"1\" class=\"dataframe\">\n",
       "  <thead>\n",
       "    <tr style=\"text-align: right;\">\n",
       "      <th></th>\n",
       "      <th>Rank</th>\n",
       "      <th>Cafe</th>\n",
       "      <th>Menu</th>\n",
       "      <th>URL</th>\n",
       "    </tr>\n",
       "  </thead>\n",
       "  <tbody>\n",
       "    <tr>\n",
       "      <th>45</th>\n",
       "      <td>46</td>\n",
       "      <td>Chickpea</td>\n",
       "      <td>Kufta</td>\n",
       "      <td>https://www.chicagomag.com/Chicago-Magazine/No...</td>\n",
       "    </tr>\n",
       "    <tr>\n",
       "      <th>46</th>\n",
       "      <td>47</td>\n",
       "      <td>The Goddess and Grocer</td>\n",
       "      <td>Debbie’s Egg Salad</td>\n",
       "      <td>https://www.chicagomag.com/Chicago-Magazine/No...</td>\n",
       "    </tr>\n",
       "    <tr>\n",
       "      <th>47</th>\n",
       "      <td>48</td>\n",
       "      <td>Zenwich</td>\n",
       "      <td>Beef Curry</td>\n",
       "      <td>https://www.chicagomag.com/Chicago-Magazine/No...</td>\n",
       "    </tr>\n",
       "    <tr>\n",
       "      <th>48</th>\n",
       "      <td>49</td>\n",
       "      <td>Toni Patisserie</td>\n",
       "      <td>Le Végétarien</td>\n",
       "      <td>https://www.chicagomag.com/Chicago-Magazine/No...</td>\n",
       "    </tr>\n",
       "    <tr>\n",
       "      <th>49</th>\n",
       "      <td>50</td>\n",
       "      <td>Phoebe’s Bakery</td>\n",
       "      <td>The Gatsby</td>\n",
       "      <td>https://www.chicagomag.com/Chicago-Magazine/No...</td>\n",
       "    </tr>\n",
       "  </tbody>\n",
       "</table>\n",
       "</div>"
      ],
      "text/plain": [
       "   Rank                    Cafe                Menu  \\\n",
       "45   46                Chickpea               Kufta   \n",
       "46   47  The Goddess and Grocer  Debbie’s Egg Salad   \n",
       "47   48                 Zenwich          Beef Curry   \n",
       "48   49         Toni Patisserie       Le Végétarien   \n",
       "49   50         Phoebe’s Bakery          The Gatsby   \n",
       "\n",
       "                                                  URL  \n",
       "45  https://www.chicagomag.com/Chicago-Magazine/No...  \n",
       "46  https://www.chicagomag.com/Chicago-Magazine/No...  \n",
       "47  https://www.chicagomag.com/Chicago-Magazine/No...  \n",
       "48  https://www.chicagomag.com/Chicago-Magazine/No...  \n",
       "49  https://www.chicagomag.com/Chicago-Magazine/No...  "
      ]
     },
     "execution_count": 36,
     "metadata": {},
     "output_type": "execute_result"
    }
   ],
   "source": [
    "df = pd.DataFrame(data, columns=[\"Rank\", \"Cafe\", \"Menu\", \"URL\"])\n",
    "df.tail()"
   ]
  },
  {
   "cell_type": "markdown",
   "metadata": {},
   "source": [
    "- 데이터 저장"
   ]
  },
  {
   "cell_type": "code",
   "execution_count": 37,
   "metadata": {},
   "outputs": [],
   "source": [
    "df.to_csv(\"./result_data/01_Chicago_mainpage_data.csv\", encoding=\"utf-8\")"
   ]
  },
  {
   "cell_type": "markdown",
   "metadata": {},
   "source": [
    "### 🔰 하위페이지\n",
    "\n",
    "> 하위 페이지의 데이터를 웹크롤링\n",
    "\n",
    "- url 주소를 통해 하위 페이지로 접근해 가격과 주소 데이터를 가져온다."
   ]
  },
  {
   "cell_type": "code",
   "execution_count": 38,
   "metadata": {},
   "outputs": [],
   "source": [
    "# requirements\n",
    "import pandas as pd\n",
    "import ssl\n",
    "from urllib.request import urlopen, Request\n",
    "from fake_useragent import UserAgent\n",
    "from bs4 import BeautifulSoup\n",
    "\n",
    "ca_filepath = \"../chicagomag.crt\"\n",
    "ctxt = ssl.create_default_context(cafile=ca_filepath)"
   ]
  },
  {
   "cell_type": "code",
   "execution_count": 39,
   "metadata": {},
   "outputs": [
    {
     "data": {
      "text/html": [
       "<div>\n",
       "<style scoped>\n",
       "    .dataframe tbody tr th:only-of-type {\n",
       "        vertical-align: middle;\n",
       "    }\n",
       "\n",
       "    .dataframe tbody tr th {\n",
       "        vertical-align: top;\n",
       "    }\n",
       "\n",
       "    .dataframe thead th {\n",
       "        text-align: right;\n",
       "    }\n",
       "</style>\n",
       "<table border=\"1\" class=\"dataframe\">\n",
       "  <thead>\n",
       "    <tr style=\"text-align: right;\">\n",
       "      <th></th>\n",
       "      <th>Rank</th>\n",
       "      <th>Cafe</th>\n",
       "      <th>Menu</th>\n",
       "      <th>URL</th>\n",
       "    </tr>\n",
       "  </thead>\n",
       "  <tbody>\n",
       "    <tr>\n",
       "      <th>45</th>\n",
       "      <td>46</td>\n",
       "      <td>Chickpea</td>\n",
       "      <td>Kufta</td>\n",
       "      <td>https://www.chicagomag.com/Chicago-Magazine/No...</td>\n",
       "    </tr>\n",
       "    <tr>\n",
       "      <th>46</th>\n",
       "      <td>47</td>\n",
       "      <td>The Goddess and Grocer</td>\n",
       "      <td>Debbie’s Egg Salad</td>\n",
       "      <td>https://www.chicagomag.com/Chicago-Magazine/No...</td>\n",
       "    </tr>\n",
       "    <tr>\n",
       "      <th>47</th>\n",
       "      <td>48</td>\n",
       "      <td>Zenwich</td>\n",
       "      <td>Beef Curry</td>\n",
       "      <td>https://www.chicagomag.com/Chicago-Magazine/No...</td>\n",
       "    </tr>\n",
       "    <tr>\n",
       "      <th>48</th>\n",
       "      <td>49</td>\n",
       "      <td>Toni Patisserie</td>\n",
       "      <td>Le Végétarien</td>\n",
       "      <td>https://www.chicagomag.com/Chicago-Magazine/No...</td>\n",
       "    </tr>\n",
       "    <tr>\n",
       "      <th>49</th>\n",
       "      <td>50</td>\n",
       "      <td>Phoebe’s Bakery</td>\n",
       "      <td>The Gatsby</td>\n",
       "      <td>https://www.chicagomag.com/Chicago-Magazine/No...</td>\n",
       "    </tr>\n",
       "  </tbody>\n",
       "</table>\n",
       "</div>"
      ],
      "text/plain": [
       "    Rank                    Cafe                Menu  \\\n",
       "45    46                Chickpea               Kufta   \n",
       "46    47  The Goddess and Grocer  Debbie’s Egg Salad   \n",
       "47    48                 Zenwich          Beef Curry   \n",
       "48    49         Toni Patisserie       Le Végétarien   \n",
       "49    50         Phoebe’s Bakery          The Gatsby   \n",
       "\n",
       "                                                  URL  \n",
       "45  https://www.chicagomag.com/Chicago-Magazine/No...  \n",
       "46  https://www.chicagomag.com/Chicago-Magazine/No...  \n",
       "47  https://www.chicagomag.com/Chicago-Magazine/No...  \n",
       "48  https://www.chicagomag.com/Chicago-Magazine/No...  \n",
       "49  https://www.chicagomag.com/Chicago-Magazine/No...  "
      ]
     },
     "execution_count": 39,
     "metadata": {},
     "output_type": "execute_result"
    }
   ],
   "source": [
    "df = pd.read_csv(\"./result_data/01_Chicago_mainpage_data.csv\", index_col=0)\n",
    "df.tail()"
   ]
  },
  {
   "cell_type": "code",
   "execution_count": 40,
   "metadata": {},
   "outputs": [
    {
     "data": {
      "text/plain": [
       "'http://www.chicagomag.com/Chicago-Magazine/November-2012/Best-Sandwiches-in-Chicago-Old-Oak-Tap-BLT/'"
      ]
     },
     "execution_count": 40,
     "metadata": {},
     "output_type": "execute_result"
    }
   ],
   "source": [
    "df[\"URL\"][0]"
   ]
  },
  {
   "cell_type": "markdown",
   "metadata": {},
   "source": [
    "- 데이터 수집하기\n",
    "\n",
    "\t- 가격 정보와 주소 추출\n",
    "\n",
    "![시카고맛집50_하위](https://github.com/ElaYJ/Study_EDA/assets/153154981/e831ecb4-0c13-4c5b-94ae-f6ee0cd69d8a)"
   ]
  },
  {
   "cell_type": "code",
   "execution_count": 41,
   "metadata": {},
   "outputs": [
    {
     "data": {
      "text/plain": [
       "<p class=\"addy\">\n",
       "<em>$10. 2109 W. Chicago Ave., 773-772-0406, <a href=\"http://www.theoldoaktap.com/\">theoldoaktap.com</a></em></p>"
      ]
     },
     "execution_count": 41,
     "metadata": {},
     "output_type": "execute_result"
    }
   ],
   "source": [
    "ua = UserAgent()\n",
    "req = Request(df[\"URL\"][0], headers={\"user-agent\": ua.fallback})\n",
    "html = urlopen(req, context=ctxt).read()\n",
    "\n",
    "soup_tmp = BeautifulSoup(html, \"html.parser\")\n",
    "soup_tmp.find(\"p\", \"addy\") # soup_tmp.select_one(\".addy\")"
   ]
  },
  {
   "cell_type": "markdown",
   "metadata": {},
   "source": [
    "- regular expression"
   ]
  },
  {
   "cell_type": "code",
   "execution_count": 42,
   "metadata": {},
   "outputs": [
    {
     "data": {
      "text/plain": [
       "'\\n$10. 2109 W. Chicago Ave., 773-772-0406, theoldoaktap.com'"
      ]
     },
     "execution_count": 42,
     "metadata": {},
     "output_type": "execute_result"
    }
   ],
   "source": [
    "price_tmp = soup_tmp.select_one(\".addy\").text\n",
    "price_tmp"
   ]
  },
  {
   "cell_type": "code",
   "execution_count": 43,
   "metadata": {},
   "outputs": [
    {
     "data": {
      "text/plain": [
       "['\\n$10. 2109 W. Chicago Ave', ' 773-772-040', ' theoldoaktap.com']"
      ]
     },
     "execution_count": 43,
     "metadata": {},
     "output_type": "execute_result"
    }
   ],
   "source": [
    "import re\n",
    "\n",
    "re.split(\".,\", price_tmp)"
   ]
  },
  {
   "cell_type": "code",
   "execution_count": 44,
   "metadata": {},
   "outputs": [
    {
     "data": {
      "text/plain": [
       "'\\n$10. 2109 W. Chicago Ave'"
      ]
     },
     "execution_count": 44,
     "metadata": {},
     "output_type": "execute_result"
    }
   ],
   "source": [
    "price_address = re.split(\".,\", price_tmp)[0]\n",
    "price_address"
   ]
  },
  {
   "cell_type": "markdown",
   "metadata": {},
   "source": [
    "- `\"\\$\\d+\\.(\\d+)?\"`\n",
    "\n",
    "\t- `$`로 시작하고, `d+`뒤에 숫자가 여러 개 올 수 있고, 숫자들 뒤에 `.`이 오고,\n",
    "\t\n",
    "\t\t 그 뒤에 `d+`숫자들이 `()?`올수도 있고 없을 수도 있다."
   ]
  },
  {
   "cell_type": "code",
   "execution_count": 45,
   "metadata": {},
   "outputs": [
    {
     "data": {
      "text/plain": [
       "'$10.'"
      ]
     },
     "execution_count": 45,
     "metadata": {},
     "output_type": "execute_result"
    }
   ],
   "source": [
    "price = re.search(\"\\$\\d+\\.(\\d+)?\", price_tmp).group()\n",
    "price"
   ]
  },
  {
   "cell_type": "code",
   "execution_count": 46,
   "metadata": {},
   "outputs": [
    {
     "data": {
      "text/plain": [
       "'2109 W. Chicago Ave'"
      ]
     },
     "execution_count": 46,
     "metadata": {},
     "output_type": "execute_result"
    }
   ],
   "source": [
    "# 가격이 끝나는 지점의 위치를 이용해 그 뒤가 주소라고 생각한다.\n",
    "address = price_address[len(price)+2:]\n",
    "address"
   ]
  },
  {
   "cell_type": "markdown",
   "metadata": {},
   "source": [
    "- 전체 데이터 수집"
   ]
  },
  {
   "cell_type": "code",
   "execution_count": 47,
   "metadata": {},
   "outputs": [
    {
     "name": "stdout",
     "output_type": "stream",
     "text": [
      "0\n",
      "1\n",
      "2\n"
     ]
    }
   ],
   "source": [
    "price = []\n",
    "address = []\n",
    "\n",
    "for n in df.index[:3]:\n",
    "    req = Request(df[\"URL\"][n], headers={\"user-agent\": ua.fallback})\n",
    "    html = urlopen(req, context=ctxt).read()\n",
    "    soup_tmp = BeautifulSoup(html, \"html.parser\")\n",
    "    \n",
    "    gettings = soup_tmp.find(\"p\", \"addy\").get_text()\n",
    "    tmp = re.split(\".,\", gettings)[0]\n",
    "    price_tmp = re.search(\"\\$\\d+\\.(\\d+)?\", tmp).group()\n",
    "    \n",
    "    price.append(price_tmp)\n",
    "    address.append(tmp[len(price_tmp)+2:])\n",
    "    print(n)"
   ]
  },
  {
   "cell_type": "code",
   "execution_count": 48,
   "metadata": {},
   "outputs": [
    {
     "data": {
      "text/plain": [
       "(['$10.', '$9.', '$9.50'],\n",
       " ['2109 W. Chicago Ave', '800 W. Randolph St', ' 445 N. Clark St'])"
      ]
     },
     "execution_count": 48,
     "metadata": {},
     "output_type": "execute_result"
    }
   ],
   "source": [
    "price, address"
   ]
  },
  {
   "cell_type": "code",
   "execution_count": 49,
   "metadata": {},
   "outputs": [
    {
     "name": "stdout",
     "output_type": "stream",
     "text": [
      "0\n",
      "1\n",
      "2\n"
     ]
    }
   ],
   "source": [
    "price = []\n",
    "address = []\n",
    "\n",
    "for idx, row in df[:3].iterrows():\n",
    "    req = Request(row[\"URL\"], headers={\"user-agent\": ua.fallback})\n",
    "    html = urlopen(req, context=ctxt).read()\n",
    "    soup_tmp = BeautifulSoup(html, \"html.parser\")\n",
    "    \n",
    "    gettings = soup_tmp.find(\"p\", \"addy\").get_text()\n",
    "    tmp = re.split(\".,\", gettings)[0]\n",
    "    price_tmp = re.search(\"\\$\\d+\\.(\\d+)?\", tmp).group()\n",
    "    \n",
    "    price.append(price_tmp)\n",
    "    address.append(tmp[len(price_tmp)+2:])\n",
    "    print(idx)"
   ]
  },
  {
   "cell_type": "code",
   "execution_count": 50,
   "metadata": {},
   "outputs": [
    {
     "data": {
      "text/plain": [
       "(['$10.', '$9.', '$9.50'],\n",
       " ['2109 W. Chicago Ave', '800 W. Randolph St', ' 445 N. Clark St'])"
      ]
     },
     "execution_count": 50,
     "metadata": {},
     "output_type": "execute_result"
    }
   ],
   "source": [
    "price, address"
   ]
  },
  {
   "cell_type": "markdown",
   "metadata": {},
   "source": [
    "- `TQDM` module 설치\n",
    "\n",
    "\t- conda install -c conda-forge tqdm"
   ]
  },
  {
   "cell_type": "code",
   "execution_count": 51,
   "metadata": {},
   "outputs": [
    {
     "name": "stdout",
     "output_type": "stream",
     "text": [
      "0\n",
      "1\n",
      "2\n",
      "3\n",
      "4\n",
      "5\n",
      "6\n",
      "7\n",
      "8\n",
      "9\n",
      "10\n",
      "11\n",
      "12\n",
      "13\n",
      "14\n",
      "15\n",
      "16\n",
      "17\n",
      "18\n",
      "19\n",
      "20\n",
      "21\n",
      "22\n",
      "23\n",
      "24\n",
      "25\n",
      "26\n",
      "27\n",
      "28\n",
      "29\n",
      "30\n",
      "31\n",
      "32\n",
      "33\n",
      "34\n",
      "35\n",
      "36\n",
      "37\n",
      "38\n",
      "39\n",
      "40\n",
      "41\n",
      "42\n",
      "43\n",
      "44\n",
      "45\n",
      "46\n",
      "47\n",
      "48\n",
      "49\n"
     ]
    }
   ],
   "source": [
    "# VSCode에서 tqdm 사용 ❌\n",
    "# from tqdm import tqdm \n",
    "\n",
    "price = []\n",
    "address = []\n",
    "\n",
    "for idx, row in df.iterrows(): # tqdm(df.iterrows()):\n",
    "    req = Request(row[\"URL\"], headers={\"user-agent\": ua.fallback})\n",
    "    html = urlopen(req, context=ctxt).read()\n",
    "    soup_tmp = BeautifulSoup(html, \"html.parser\")\n",
    "    \n",
    "    gettings = soup_tmp.find(\"p\", \"addy\").get_text()\n",
    "    tmp = re.split(\".,\", gettings)[0]\n",
    "    price_tmp = re.search(\"\\$\\d+\\.(\\d+)?\", tmp).group()\n",
    "    \n",
    "    price.append(price_tmp)\n",
    "    address.append(tmp[len(price_tmp)+2:])\n",
    "    print(idx)"
   ]
  },
  {
   "cell_type": "code",
   "execution_count": 52,
   "metadata": {},
   "outputs": [
    {
     "data": {
      "text/plain": [
       "(50, 50)"
      ]
     },
     "execution_count": 52,
     "metadata": {},
     "output_type": "execute_result"
    }
   ],
   "source": [
    "len(price), len(address)"
   ]
  },
  {
   "cell_type": "code",
   "execution_count": 53,
   "metadata": {},
   "outputs": [
    {
     "data": {
      "text/plain": [
       "['$10.', '$9.', '$9.50', '$9.40', '$10.']"
      ]
     },
     "execution_count": 53,
     "metadata": {},
     "output_type": "execute_result"
    }
   ],
   "source": [
    "price[:5]"
   ]
  },
  {
   "cell_type": "code",
   "execution_count": 54,
   "metadata": {},
   "outputs": [
    {
     "data": {
      "text/plain": [
       "['2109 W. Chicago Ave',\n",
       " '800 W. Randolph St',\n",
       " ' 445 N. Clark St',\n",
       " ' 914 Noyes St',\n",
       " '825 W. Fulton Mkt']"
      ]
     },
     "execution_count": 54,
     "metadata": {},
     "output_type": "execute_result"
    }
   ],
   "source": [
    "address[:5]"
   ]
  },
  {
   "cell_type": "markdown",
   "metadata": {},
   "source": [
    "- DataFrame에 추가\n",
    "\n",
    "\t- 하위페이지 데이터 DataFrame에 합치기"
   ]
  },
  {
   "cell_type": "code",
   "execution_count": 55,
   "metadata": {},
   "outputs": [
    {
     "data": {
      "text/html": [
       "<div>\n",
       "<style scoped>\n",
       "    .dataframe tbody tr th:only-of-type {\n",
       "        vertical-align: middle;\n",
       "    }\n",
       "\n",
       "    .dataframe tbody tr th {\n",
       "        vertical-align: top;\n",
       "    }\n",
       "\n",
       "    .dataframe thead th {\n",
       "        text-align: right;\n",
       "    }\n",
       "</style>\n",
       "<table border=\"1\" class=\"dataframe\">\n",
       "  <thead>\n",
       "    <tr style=\"text-align: right;\">\n",
       "      <th></th>\n",
       "      <th>Rank</th>\n",
       "      <th>Cafe</th>\n",
       "      <th>Menu</th>\n",
       "      <th>URL</th>\n",
       "    </tr>\n",
       "  </thead>\n",
       "  <tbody>\n",
       "    <tr>\n",
       "      <th>48</th>\n",
       "      <td>49</td>\n",
       "      <td>Toni Patisserie</td>\n",
       "      <td>Le Végétarien</td>\n",
       "      <td>https://www.chicagomag.com/Chicago-Magazine/No...</td>\n",
       "    </tr>\n",
       "    <tr>\n",
       "      <th>49</th>\n",
       "      <td>50</td>\n",
       "      <td>Phoebe’s Bakery</td>\n",
       "      <td>The Gatsby</td>\n",
       "      <td>https://www.chicagomag.com/Chicago-Magazine/No...</td>\n",
       "    </tr>\n",
       "  </tbody>\n",
       "</table>\n",
       "</div>"
      ],
      "text/plain": [
       "    Rank             Cafe           Menu  \\\n",
       "48    49  Toni Patisserie  Le Végétarien   \n",
       "49    50  Phoebe’s Bakery     The Gatsby   \n",
       "\n",
       "                                                  URL  \n",
       "48  https://www.chicagomag.com/Chicago-Magazine/No...  \n",
       "49  https://www.chicagomag.com/Chicago-Magazine/No...  "
      ]
     },
     "execution_count": 55,
     "metadata": {},
     "output_type": "execute_result"
    }
   ],
   "source": [
    "df.tail(2)"
   ]
  },
  {
   "cell_type": "code",
   "execution_count": 56,
   "metadata": {},
   "outputs": [
    {
     "data": {
      "text/html": [
       "<div>\n",
       "<style scoped>\n",
       "    .dataframe tbody tr th:only-of-type {\n",
       "        vertical-align: middle;\n",
       "    }\n",
       "\n",
       "    .dataframe tbody tr th {\n",
       "        vertical-align: top;\n",
       "    }\n",
       "\n",
       "    .dataframe thead th {\n",
       "        text-align: right;\n",
       "    }\n",
       "</style>\n",
       "<table border=\"1\" class=\"dataframe\">\n",
       "  <thead>\n",
       "    <tr style=\"text-align: right;\">\n",
       "      <th></th>\n",
       "      <th>Rank</th>\n",
       "      <th>Cafe</th>\n",
       "      <th>Menu</th>\n",
       "      <th>URL</th>\n",
       "      <th>Price</th>\n",
       "      <th>Address</th>\n",
       "    </tr>\n",
       "  </thead>\n",
       "  <tbody>\n",
       "    <tr>\n",
       "      <th>0</th>\n",
       "      <td>1</td>\n",
       "      <td>Old Oak Tap</td>\n",
       "      <td>BLT</td>\n",
       "      <td>http://www.chicagomag.com/Chicago-Magazine/Nov...</td>\n",
       "      <td>$10.</td>\n",
       "      <td>2109 W. Chicago Ave</td>\n",
       "    </tr>\n",
       "    <tr>\n",
       "      <th>1</th>\n",
       "      <td>2</td>\n",
       "      <td>Au Cheval</td>\n",
       "      <td>Fried Bologna</td>\n",
       "      <td>http://www.chicagomag.com/Chicago-Magazine/Nov...</td>\n",
       "      <td>$9.</td>\n",
       "      <td>800 W. Randolph St</td>\n",
       "    </tr>\n",
       "    <tr>\n",
       "      <th>2</th>\n",
       "      <td>3</td>\n",
       "      <td>Xoco</td>\n",
       "      <td>Woodland Mushroom</td>\n",
       "      <td>http://www.chicagomag.com/Chicago-Magazine/Nov...</td>\n",
       "      <td>$9.50</td>\n",
       "      <td>445 N. Clark St</td>\n",
       "    </tr>\n",
       "    <tr>\n",
       "      <th>3</th>\n",
       "      <td>4</td>\n",
       "      <td>Al’s Deli</td>\n",
       "      <td>Roast Beef</td>\n",
       "      <td>http://www.chicagomag.com/Chicago-Magazine/Nov...</td>\n",
       "      <td>$9.40</td>\n",
       "      <td>914 Noyes St</td>\n",
       "    </tr>\n",
       "    <tr>\n",
       "      <th>4</th>\n",
       "      <td>5</td>\n",
       "      <td>Publican Quality Meats</td>\n",
       "      <td>PB&amp;L</td>\n",
       "      <td>http://www.chicagomag.com/Chicago-Magazine/Nov...</td>\n",
       "      <td>$10.</td>\n",
       "      <td>825 W. Fulton Mkt</td>\n",
       "    </tr>\n",
       "    <tr>\n",
       "      <th>5</th>\n",
       "      <td>6</td>\n",
       "      <td>Hendrickx Belgian Bread Crafter</td>\n",
       "      <td>Belgian Chicken Curry Salad</td>\n",
       "      <td>https://www.chicagomag.com/Chicago-Magazine/No...</td>\n",
       "      <td>$7.25</td>\n",
       "      <td>100 E. Walton St</td>\n",
       "    </tr>\n",
       "    <tr>\n",
       "      <th>6</th>\n",
       "      <td>7</td>\n",
       "      <td>Acadia</td>\n",
       "      <td>Lobster Roll</td>\n",
       "      <td>http://www.chicagomag.com/Chicago-Magazine/Nov...</td>\n",
       "      <td>$16.</td>\n",
       "      <td>1639 S. Wabash Ave</td>\n",
       "    </tr>\n",
       "    <tr>\n",
       "      <th>7</th>\n",
       "      <td>8</td>\n",
       "      <td>Birchwood Kitchen</td>\n",
       "      <td>Smoked Salmon Salad</td>\n",
       "      <td>http://www.chicagomag.com/Chicago-Magazine/Nov...</td>\n",
       "      <td>$10.</td>\n",
       "      <td>2211 W. North Ave</td>\n",
       "    </tr>\n",
       "    <tr>\n",
       "      <th>8</th>\n",
       "      <td>9</td>\n",
       "      <td>Cemitas Puebla</td>\n",
       "      <td>Atomica Cemitas</td>\n",
       "      <td>http://www.chicagomag.com/Chicago-Magazine/Nov...</td>\n",
       "      <td>$9.</td>\n",
       "      <td>3619 W. North Ave</td>\n",
       "    </tr>\n",
       "    <tr>\n",
       "      <th>9</th>\n",
       "      <td>10</td>\n",
       "      <td>Nana</td>\n",
       "      <td>Grilled Laughing Bird Shrimp and Fried Po’ Boy</td>\n",
       "      <td>http://www.chicagomag.com/Chicago-Magazine/Nov...</td>\n",
       "      <td>$17.</td>\n",
       "      <td>3267 S. Halsted St</td>\n",
       "    </tr>\n",
       "    <tr>\n",
       "      <th>10</th>\n",
       "      <td>11</td>\n",
       "      <td>Lula Cafe</td>\n",
       "      <td>Ham and Raclette Panino</td>\n",
       "      <td>https://www.chicagomag.com/Chicago-Magazine/No...</td>\n",
       "      <td>$11.</td>\n",
       "      <td>2537 N. Kedzie Blvd</td>\n",
       "    </tr>\n",
       "    <tr>\n",
       "      <th>11</th>\n",
       "      <td>12</td>\n",
       "      <td>Ricobene’s</td>\n",
       "      <td>Breaded Steak</td>\n",
       "      <td>https://www.chicagomag.com/Chicago-Magazine/No...</td>\n",
       "      <td>$5.49</td>\n",
       "      <td>Multiple location</td>\n",
       "    </tr>\n",
       "    <tr>\n",
       "      <th>12</th>\n",
       "      <td>13</td>\n",
       "      <td>Frog n Snail</td>\n",
       "      <td>The Hawkeye</td>\n",
       "      <td>https://www.chicagomag.com/Chicago-Magazine/No...</td>\n",
       "      <td>$14.</td>\n",
       "      <td>3124 N. Broadwa</td>\n",
       "    </tr>\n",
       "    <tr>\n",
       "      <th>13</th>\n",
       "      <td>14</td>\n",
       "      <td>Crosby’s Kitchen</td>\n",
       "      <td>Chicken Dip</td>\n",
       "      <td>https://www.chicagomag.com/Chicago-Magazine/No...</td>\n",
       "      <td>$10.</td>\n",
       "      <td>3455 N. Southport Ave</td>\n",
       "    </tr>\n",
       "    <tr>\n",
       "      <th>14</th>\n",
       "      <td>15</td>\n",
       "      <td>Longman &amp; Eagle</td>\n",
       "      <td>Wild Boar Sloppy Joe</td>\n",
       "      <td>https://www.chicagomag.com/Chicago-Magazine/No...</td>\n",
       "      <td>$13.</td>\n",
       "      <td>2657 N. Kedzie Ave</td>\n",
       "    </tr>\n",
       "    <tr>\n",
       "      <th>15</th>\n",
       "      <td>16</td>\n",
       "      <td>Bari</td>\n",
       "      <td>Meatball Sub</td>\n",
       "      <td>https://www.chicagomag.com/Chicago-Magazine/No...</td>\n",
       "      <td>$4.50</td>\n",
       "      <td>1120 W. Grand Ave</td>\n",
       "    </tr>\n",
       "    <tr>\n",
       "      <th>16</th>\n",
       "      <td>17</td>\n",
       "      <td>Manny’s</td>\n",
       "      <td>Corned Beef</td>\n",
       "      <td>https://www.chicagomag.com/Chicago-Magazine/No...</td>\n",
       "      <td>$11.95</td>\n",
       "      <td>1141 S. Jefferson St</td>\n",
       "    </tr>\n",
       "    <tr>\n",
       "      <th>17</th>\n",
       "      <td>18</td>\n",
       "      <td>Eggy’s</td>\n",
       "      <td>Turkey Club</td>\n",
       "      <td>https://www.chicagomag.com/Chicago-Magazine/No...</td>\n",
       "      <td>$11.50</td>\n",
       "      <td>333 E. Benton Pl</td>\n",
       "    </tr>\n",
       "    <tr>\n",
       "      <th>18</th>\n",
       "      <td>19</td>\n",
       "      <td>Old Jerusalem</td>\n",
       "      <td>Falafel</td>\n",
       "      <td>https://www.chicagomag.com/Chicago-Magazine/No...</td>\n",
       "      <td>$6.25</td>\n",
       "      <td>1411 N. Wells St</td>\n",
       "    </tr>\n",
       "    <tr>\n",
       "      <th>19</th>\n",
       "      <td>20</td>\n",
       "      <td>Mindy’s HotChocolate</td>\n",
       "      <td>Crab Cake</td>\n",
       "      <td>https://www.chicagomag.com/Chicago-Magazine/No...</td>\n",
       "      <td>$15.</td>\n",
       "      <td>1747 N. Damen Ave</td>\n",
       "    </tr>\n",
       "    <tr>\n",
       "      <th>20</th>\n",
       "      <td>21</td>\n",
       "      <td>Olga’s Delicatessen</td>\n",
       "      <td>Chicken Schnitzel</td>\n",
       "      <td>https://www.chicagomag.com/Chicago-Magazine/No...</td>\n",
       "      <td>$5.</td>\n",
       "      <td>3209 W. Irving Park Rd</td>\n",
       "    </tr>\n",
       "    <tr>\n",
       "      <th>21</th>\n",
       "      <td>22</td>\n",
       "      <td>Dawali Mediterranean Kitchen</td>\n",
       "      <td>Shawarma</td>\n",
       "      <td>https://www.chicagomag.com/Chicago-Magazine/No...</td>\n",
       "      <td>$6.</td>\n",
       "      <td>Multiple location</td>\n",
       "    </tr>\n",
       "    <tr>\n",
       "      <th>22</th>\n",
       "      <td>23</td>\n",
       "      <td>Big Jones</td>\n",
       "      <td>Toasted Pimiento Cheese</td>\n",
       "      <td>https://www.chicagomag.com/Chicago-Magazine/No...</td>\n",
       "      <td>$8.</td>\n",
       "      <td>5347 N. Clark St</td>\n",
       "    </tr>\n",
       "    <tr>\n",
       "      <th>23</th>\n",
       "      <td>24</td>\n",
       "      <td>La Pane</td>\n",
       "      <td>Vegetarian Panino</td>\n",
       "      <td>https://www.chicagomag.com/Chicago-Magazine/No...</td>\n",
       "      <td>$5.99</td>\n",
       "      <td>2954 W. Irving Park Rd</td>\n",
       "    </tr>\n",
       "    <tr>\n",
       "      <th>24</th>\n",
       "      <td>25</td>\n",
       "      <td>Pastoral</td>\n",
       "      <td>Cali Chèvre</td>\n",
       "      <td>http://www.chicagomag.com/Chicago-Magazine/Nov...</td>\n",
       "      <td>$7.52</td>\n",
       "      <td>Multiple location</td>\n",
       "    </tr>\n",
       "    <tr>\n",
       "      <th>25</th>\n",
       "      <td>26</td>\n",
       "      <td>Max’s Deli</td>\n",
       "      <td>Pastrami</td>\n",
       "      <td>https://www.chicagomag.com/Chicago-Magazine/No...</td>\n",
       "      <td>$11.95</td>\n",
       "      <td>191 Skokie Valley Rd</td>\n",
       "    </tr>\n",
       "    <tr>\n",
       "      <th>26</th>\n",
       "      <td>27</td>\n",
       "      <td>Lucky’s Sandwich Co.</td>\n",
       "      <td>The Fredo</td>\n",
       "      <td>https://www.chicagomag.com/Chicago-Magazine/No...</td>\n",
       "      <td>$7.50</td>\n",
       "      <td>Multiple location</td>\n",
       "    </tr>\n",
       "    <tr>\n",
       "      <th>27</th>\n",
       "      <td>28</td>\n",
       "      <td>City Provisions</td>\n",
       "      <td>Smoked Ham</td>\n",
       "      <td>https://www.chicagomag.com/Chicago-Magazine/No...</td>\n",
       "      <td>$12.95</td>\n",
       "      <td>1818 W. Wilson Ave</td>\n",
       "    </tr>\n",
       "    <tr>\n",
       "      <th>28</th>\n",
       "      <td>29</td>\n",
       "      <td>Papa’s Cache Sabroso</td>\n",
       "      <td>Jibarito</td>\n",
       "      <td>https://www.chicagomag.com/Chicago-Magazine/No...</td>\n",
       "      <td>$7.</td>\n",
       "      <td>2517 W. Division St</td>\n",
       "    </tr>\n",
       "    <tr>\n",
       "      <th>29</th>\n",
       "      <td>30</td>\n",
       "      <td>Bavette’s Bar &amp; Boeuf</td>\n",
       "      <td>Shaved Prime Rib</td>\n",
       "      <td>https://www.chicagomag.com/Chicago-Magazine/No...</td>\n",
       "      <td>$21.</td>\n",
       "      <td>218 W. Kinzie St</td>\n",
       "    </tr>\n",
       "    <tr>\n",
       "      <th>30</th>\n",
       "      <td>31</td>\n",
       "      <td>Hannah’s Bretzel</td>\n",
       "      <td>Serrano Ham and Manchego Cheese</td>\n",
       "      <td>https://www.chicagomag.com/Chicago-Magazine/No...</td>\n",
       "      <td>$9.79</td>\n",
       "      <td>Multiple location</td>\n",
       "    </tr>\n",
       "    <tr>\n",
       "      <th>31</th>\n",
       "      <td>32</td>\n",
       "      <td>La Fournette</td>\n",
       "      <td>Tuna Salad</td>\n",
       "      <td>https://www.chicagomag.com/Chicago-Magazine/No...</td>\n",
       "      <td>$9.75</td>\n",
       "      <td>1547 N. Wells St</td>\n",
       "    </tr>\n",
       "    <tr>\n",
       "      <th>32</th>\n",
       "      <td>33</td>\n",
       "      <td>Paramount Room</td>\n",
       "      <td>Paramount Reuben</td>\n",
       "      <td>https://www.chicagomag.com/Chicago-Magazine/No...</td>\n",
       "      <td>$13.</td>\n",
       "      <td>415 N. Milwaukee Ave</td>\n",
       "    </tr>\n",
       "    <tr>\n",
       "      <th>33</th>\n",
       "      <td>34</td>\n",
       "      <td>Melt Sandwich Shoppe</td>\n",
       "      <td>The Istanbul</td>\n",
       "      <td>https://www.chicagomag.com/Chicago-Magazine/No...</td>\n",
       "      <td>$7.95</td>\n",
       "      <td>1840 N. Damen Ave</td>\n",
       "    </tr>\n",
       "    <tr>\n",
       "      <th>34</th>\n",
       "      <td>35</td>\n",
       "      <td>Floriole Cafe &amp; Bakery</td>\n",
       "      <td>B.A.D.</td>\n",
       "      <td>https://www.chicagomag.com/Chicago-Magazine/No...</td>\n",
       "      <td>$9.</td>\n",
       "      <td>1220 W. Webster Ave</td>\n",
       "    </tr>\n",
       "    <tr>\n",
       "      <th>35</th>\n",
       "      <td>36</td>\n",
       "      <td>First Slice Pie Café</td>\n",
       "      <td>Duck Confit and Mozzarella</td>\n",
       "      <td>https://www.chicagomag.com/Chicago-Magazine/No...</td>\n",
       "      <td>$9.</td>\n",
       "      <td>5357 N. Ashland Ave</td>\n",
       "    </tr>\n",
       "    <tr>\n",
       "      <th>36</th>\n",
       "      <td>37</td>\n",
       "      <td>Troquet</td>\n",
       "      <td>Croque Monsieur</td>\n",
       "      <td>https://www.chicagomag.com/Chicago-Magazine/No...</td>\n",
       "      <td>$8.</td>\n",
       "      <td>1834 W. Montrose Ave</td>\n",
       "    </tr>\n",
       "    <tr>\n",
       "      <th>37</th>\n",
       "      <td>38</td>\n",
       "      <td>Grahamwich</td>\n",
       "      <td>Green Garbanzo</td>\n",
       "      <td>https://www.chicagomag.com/Chicago-Magazine/No...</td>\n",
       "      <td>$8.</td>\n",
       "      <td>615 N. State St</td>\n",
       "    </tr>\n",
       "    <tr>\n",
       "      <th>38</th>\n",
       "      <td>39</td>\n",
       "      <td>Saigon Sisters</td>\n",
       "      <td>The Hen House</td>\n",
       "      <td>https://www.chicagomag.com/Chicago-Magazine/No...</td>\n",
       "      <td>$7.</td>\n",
       "      <td>Multiple location</td>\n",
       "    </tr>\n",
       "    <tr>\n",
       "      <th>39</th>\n",
       "      <td>40</td>\n",
       "      <td>Rosalia’s Deli</td>\n",
       "      <td>Tuscan Chicken</td>\n",
       "      <td>https://www.chicagomag.com/Chicago-Magazine/No...</td>\n",
       "      <td>$6.</td>\n",
       "      <td>241 N. York Rd</td>\n",
       "    </tr>\n",
       "    <tr>\n",
       "      <th>40</th>\n",
       "      <td>41</td>\n",
       "      <td>Z&amp;H MarketCafe</td>\n",
       "      <td>The Marty</td>\n",
       "      <td>https://www.chicagomag.com/Chicago-Magazine/No...</td>\n",
       "      <td>$7.25</td>\n",
       "      <td>1323 E. 57th St</td>\n",
       "    </tr>\n",
       "    <tr>\n",
       "      <th>41</th>\n",
       "      <td>42</td>\n",
       "      <td>Market House on the Square</td>\n",
       "      <td>Whitefish</td>\n",
       "      <td>https://www.chicagomag.com/Chicago-Magazine/No...</td>\n",
       "      <td>$11.</td>\n",
       "      <td>655 Forest Ave</td>\n",
       "    </tr>\n",
       "    <tr>\n",
       "      <th>42</th>\n",
       "      <td>43</td>\n",
       "      <td>Elaine’s Coffee Call</td>\n",
       "      <td>Oat Bread, Pecan Butter, and Fruit Jam</td>\n",
       "      <td>https://www.chicagomag.com/Chicago-Magazine/No...</td>\n",
       "      <td>$6.</td>\n",
       "      <td>Hotel Lincol</td>\n",
       "    </tr>\n",
       "    <tr>\n",
       "      <th>43</th>\n",
       "      <td>44</td>\n",
       "      <td>Marion Street Cheese Market</td>\n",
       "      <td>Cauliflower Melt</td>\n",
       "      <td>https://www.chicagomag.com/Chicago-Magazine/No...</td>\n",
       "      <td>$9.</td>\n",
       "      <td>100 S. Marion St</td>\n",
       "    </tr>\n",
       "    <tr>\n",
       "      <th>44</th>\n",
       "      <td>45</td>\n",
       "      <td>Cafecito</td>\n",
       "      <td>Cubana</td>\n",
       "      <td>https://www.chicagomag.com/Chicago-Magazine/No...</td>\n",
       "      <td>$5.49</td>\n",
       "      <td>26 E. Congress Pkwy</td>\n",
       "    </tr>\n",
       "    <tr>\n",
       "      <th>45</th>\n",
       "      <td>46</td>\n",
       "      <td>Chickpea</td>\n",
       "      <td>Kufta</td>\n",
       "      <td>https://www.chicagomag.com/Chicago-Magazine/No...</td>\n",
       "      <td>$8.</td>\n",
       "      <td>2018 W. Chicago Ave</td>\n",
       "    </tr>\n",
       "    <tr>\n",
       "      <th>46</th>\n",
       "      <td>47</td>\n",
       "      <td>The Goddess and Grocer</td>\n",
       "      <td>Debbie’s Egg Salad</td>\n",
       "      <td>https://www.chicagomag.com/Chicago-Magazine/No...</td>\n",
       "      <td>$6.50</td>\n",
       "      <td>25 E. Delaware Pl</td>\n",
       "    </tr>\n",
       "    <tr>\n",
       "      <th>47</th>\n",
       "      <td>48</td>\n",
       "      <td>Zenwich</td>\n",
       "      <td>Beef Curry</td>\n",
       "      <td>https://www.chicagomag.com/Chicago-Magazine/No...</td>\n",
       "      <td>$7.50</td>\n",
       "      <td>416 N. York St</td>\n",
       "    </tr>\n",
       "    <tr>\n",
       "      <th>48</th>\n",
       "      <td>49</td>\n",
       "      <td>Toni Patisserie</td>\n",
       "      <td>Le Végétarien</td>\n",
       "      <td>https://www.chicagomag.com/Chicago-Magazine/No...</td>\n",
       "      <td>$8.75</td>\n",
       "      <td>65 E. Washington St</td>\n",
       "    </tr>\n",
       "    <tr>\n",
       "      <th>49</th>\n",
       "      <td>50</td>\n",
       "      <td>Phoebe’s Bakery</td>\n",
       "      <td>The Gatsby</td>\n",
       "      <td>https://www.chicagomag.com/Chicago-Magazine/No...</td>\n",
       "      <td>$6.85</td>\n",
       "      <td>3351 N. Broadwa</td>\n",
       "    </tr>\n",
       "  </tbody>\n",
       "</table>\n",
       "</div>"
      ],
      "text/plain": [
       "    Rank                             Cafe  \\\n",
       "0      1                      Old Oak Tap   \n",
       "1      2                        Au Cheval   \n",
       "2      3                             Xoco   \n",
       "3      4                        Al’s Deli   \n",
       "4      5           Publican Quality Meats   \n",
       "5      6  Hendrickx Belgian Bread Crafter   \n",
       "6      7                           Acadia   \n",
       "7      8                Birchwood Kitchen   \n",
       "8      9                   Cemitas Puebla   \n",
       "9     10                             Nana   \n",
       "10    11                        Lula Cafe   \n",
       "11    12                       Ricobene’s   \n",
       "12    13                     Frog n Snail   \n",
       "13    14                 Crosby’s Kitchen   \n",
       "14    15                  Longman & Eagle   \n",
       "15    16                             Bari   \n",
       "16    17                          Manny’s   \n",
       "17    18                           Eggy’s   \n",
       "18    19                    Old Jerusalem   \n",
       "19    20             Mindy’s HotChocolate   \n",
       "20    21              Olga’s Delicatessen   \n",
       "21    22     Dawali Mediterranean Kitchen   \n",
       "22    23                        Big Jones   \n",
       "23    24                          La Pane   \n",
       "24    25                         Pastoral   \n",
       "25    26                       Max’s Deli   \n",
       "26    27             Lucky’s Sandwich Co.   \n",
       "27    28                  City Provisions   \n",
       "28    29             Papa’s Cache Sabroso   \n",
       "29    30            Bavette’s Bar & Boeuf   \n",
       "30    31                 Hannah’s Bretzel   \n",
       "31    32                     La Fournette   \n",
       "32    33                   Paramount Room   \n",
       "33    34             Melt Sandwich Shoppe   \n",
       "34    35           Floriole Cafe & Bakery   \n",
       "35    36             First Slice Pie Café   \n",
       "36    37                          Troquet   \n",
       "37    38                       Grahamwich   \n",
       "38    39                   Saigon Sisters   \n",
       "39    40                   Rosalia’s Deli   \n",
       "40    41                   Z&H MarketCafe   \n",
       "41    42       Market House on the Square   \n",
       "42    43             Elaine’s Coffee Call   \n",
       "43    44      Marion Street Cheese Market   \n",
       "44    45                         Cafecito   \n",
       "45    46                         Chickpea   \n",
       "46    47           The Goddess and Grocer   \n",
       "47    48                          Zenwich   \n",
       "48    49                  Toni Patisserie   \n",
       "49    50                  Phoebe’s Bakery   \n",
       "\n",
       "                                              Menu  \\\n",
       "0                                              BLT   \n",
       "1                                    Fried Bologna   \n",
       "2                                Woodland Mushroom   \n",
       "3                                       Roast Beef   \n",
       "4                                             PB&L   \n",
       "5                      Belgian Chicken Curry Salad   \n",
       "6                                     Lobster Roll   \n",
       "7                              Smoked Salmon Salad   \n",
       "8                                  Atomica Cemitas   \n",
       "9   Grilled Laughing Bird Shrimp and Fried Po’ Boy   \n",
       "10                         Ham and Raclette Panino   \n",
       "11                                   Breaded Steak   \n",
       "12                                     The Hawkeye   \n",
       "13                                     Chicken Dip   \n",
       "14                            Wild Boar Sloppy Joe   \n",
       "15                                    Meatball Sub   \n",
       "16                                     Corned Beef   \n",
       "17                                     Turkey Club   \n",
       "18                                         Falafel   \n",
       "19                                       Crab Cake   \n",
       "20                               Chicken Schnitzel   \n",
       "21                                        Shawarma   \n",
       "22                         Toasted Pimiento Cheese   \n",
       "23                               Vegetarian Panino   \n",
       "24                                     Cali Chèvre   \n",
       "25                                        Pastrami   \n",
       "26                                       The Fredo   \n",
       "27                                      Smoked Ham   \n",
       "28                                        Jibarito   \n",
       "29                                Shaved Prime Rib   \n",
       "30                 Serrano Ham and Manchego Cheese   \n",
       "31                                      Tuna Salad   \n",
       "32                                Paramount Reuben   \n",
       "33                                    The Istanbul   \n",
       "34                                          B.A.D.   \n",
       "35                      Duck Confit and Mozzarella   \n",
       "36                                 Croque Monsieur   \n",
       "37                                  Green Garbanzo   \n",
       "38                                   The Hen House   \n",
       "39                                  Tuscan Chicken   \n",
       "40                                      The Marty    \n",
       "41                                       Whitefish   \n",
       "42          Oat Bread, Pecan Butter, and Fruit Jam   \n",
       "43                                Cauliflower Melt   \n",
       "44                                          Cubana   \n",
       "45                                           Kufta   \n",
       "46                              Debbie’s Egg Salad   \n",
       "47                                      Beef Curry   \n",
       "48                                   Le Végétarien   \n",
       "49                                      The Gatsby   \n",
       "\n",
       "                                                  URL   Price  \\\n",
       "0   http://www.chicagomag.com/Chicago-Magazine/Nov...    $10.   \n",
       "1   http://www.chicagomag.com/Chicago-Magazine/Nov...     $9.   \n",
       "2   http://www.chicagomag.com/Chicago-Magazine/Nov...   $9.50   \n",
       "3   http://www.chicagomag.com/Chicago-Magazine/Nov...   $9.40   \n",
       "4   http://www.chicagomag.com/Chicago-Magazine/Nov...    $10.   \n",
       "5   https://www.chicagomag.com/Chicago-Magazine/No...   $7.25   \n",
       "6   http://www.chicagomag.com/Chicago-Magazine/Nov...    $16.   \n",
       "7   http://www.chicagomag.com/Chicago-Magazine/Nov...    $10.   \n",
       "8   http://www.chicagomag.com/Chicago-Magazine/Nov...     $9.   \n",
       "9   http://www.chicagomag.com/Chicago-Magazine/Nov...    $17.   \n",
       "10  https://www.chicagomag.com/Chicago-Magazine/No...    $11.   \n",
       "11  https://www.chicagomag.com/Chicago-Magazine/No...   $5.49   \n",
       "12  https://www.chicagomag.com/Chicago-Magazine/No...    $14.   \n",
       "13  https://www.chicagomag.com/Chicago-Magazine/No...    $10.   \n",
       "14  https://www.chicagomag.com/Chicago-Magazine/No...    $13.   \n",
       "15  https://www.chicagomag.com/Chicago-Magazine/No...   $4.50   \n",
       "16  https://www.chicagomag.com/Chicago-Magazine/No...  $11.95   \n",
       "17  https://www.chicagomag.com/Chicago-Magazine/No...  $11.50   \n",
       "18  https://www.chicagomag.com/Chicago-Magazine/No...   $6.25   \n",
       "19  https://www.chicagomag.com/Chicago-Magazine/No...    $15.   \n",
       "20  https://www.chicagomag.com/Chicago-Magazine/No...     $5.   \n",
       "21  https://www.chicagomag.com/Chicago-Magazine/No...     $6.   \n",
       "22  https://www.chicagomag.com/Chicago-Magazine/No...     $8.   \n",
       "23  https://www.chicagomag.com/Chicago-Magazine/No...   $5.99   \n",
       "24  http://www.chicagomag.com/Chicago-Magazine/Nov...   $7.52   \n",
       "25  https://www.chicagomag.com/Chicago-Magazine/No...  $11.95   \n",
       "26  https://www.chicagomag.com/Chicago-Magazine/No...   $7.50   \n",
       "27  https://www.chicagomag.com/Chicago-Magazine/No...  $12.95   \n",
       "28  https://www.chicagomag.com/Chicago-Magazine/No...     $7.   \n",
       "29  https://www.chicagomag.com/Chicago-Magazine/No...    $21.   \n",
       "30  https://www.chicagomag.com/Chicago-Magazine/No...   $9.79   \n",
       "31  https://www.chicagomag.com/Chicago-Magazine/No...   $9.75   \n",
       "32  https://www.chicagomag.com/Chicago-Magazine/No...    $13.   \n",
       "33  https://www.chicagomag.com/Chicago-Magazine/No...   $7.95   \n",
       "34  https://www.chicagomag.com/Chicago-Magazine/No...     $9.   \n",
       "35  https://www.chicagomag.com/Chicago-Magazine/No...     $9.   \n",
       "36  https://www.chicagomag.com/Chicago-Magazine/No...     $8.   \n",
       "37  https://www.chicagomag.com/Chicago-Magazine/No...     $8.   \n",
       "38  https://www.chicagomag.com/Chicago-Magazine/No...     $7.   \n",
       "39  https://www.chicagomag.com/Chicago-Magazine/No...     $6.   \n",
       "40  https://www.chicagomag.com/Chicago-Magazine/No...   $7.25   \n",
       "41  https://www.chicagomag.com/Chicago-Magazine/No...    $11.   \n",
       "42  https://www.chicagomag.com/Chicago-Magazine/No...     $6.   \n",
       "43  https://www.chicagomag.com/Chicago-Magazine/No...     $9.   \n",
       "44  https://www.chicagomag.com/Chicago-Magazine/No...   $5.49   \n",
       "45  https://www.chicagomag.com/Chicago-Magazine/No...     $8.   \n",
       "46  https://www.chicagomag.com/Chicago-Magazine/No...   $6.50   \n",
       "47  https://www.chicagomag.com/Chicago-Magazine/No...   $7.50   \n",
       "48  https://www.chicagomag.com/Chicago-Magazine/No...   $8.75   \n",
       "49  https://www.chicagomag.com/Chicago-Magazine/No...   $6.85   \n",
       "\n",
       "                    Address  \n",
       "0       2109 W. Chicago Ave  \n",
       "1        800 W. Randolph St  \n",
       "2           445 N. Clark St  \n",
       "3              914 Noyes St  \n",
       "4         825 W. Fulton Mkt  \n",
       "5          100 E. Walton St  \n",
       "6        1639 S. Wabash Ave  \n",
       "7         2211 W. North Ave  \n",
       "8         3619 W. North Ave  \n",
       "9        3267 S. Halsted St  \n",
       "10      2537 N. Kedzie Blvd  \n",
       "11        Multiple location  \n",
       "12          3124 N. Broadwa  \n",
       "13    3455 N. Southport Ave  \n",
       "14       2657 N. Kedzie Ave  \n",
       "15        1120 W. Grand Ave  \n",
       "16     1141 S. Jefferson St  \n",
       "17         333 E. Benton Pl  \n",
       "18         1411 N. Wells St  \n",
       "19        1747 N. Damen Ave  \n",
       "20   3209 W. Irving Park Rd  \n",
       "21        Multiple location  \n",
       "22         5347 N. Clark St  \n",
       "23   2954 W. Irving Park Rd  \n",
       "24        Multiple location  \n",
       "25     191 Skokie Valley Rd  \n",
       "26        Multiple location  \n",
       "27       1818 W. Wilson Ave  \n",
       "28      2517 W. Division St  \n",
       "29         218 W. Kinzie St  \n",
       "30        Multiple location  \n",
       "31         1547 N. Wells St  \n",
       "32     415 N. Milwaukee Ave  \n",
       "33        1840 N. Damen Ave  \n",
       "34      1220 W. Webster Ave  \n",
       "35      5357 N. Ashland Ave  \n",
       "36     1834 W. Montrose Ave  \n",
       "37          615 N. State St  \n",
       "38        Multiple location  \n",
       "39           241 N. York Rd  \n",
       "40          1323 E. 57th St  \n",
       "41           655 Forest Ave  \n",
       "42             Hotel Lincol  \n",
       "43         100 S. Marion St  \n",
       "44      26 E. Congress Pkwy  \n",
       "45      2018 W. Chicago Ave  \n",
       "46        25 E. Delaware Pl  \n",
       "47           416 N. York St  \n",
       "48      65 E. Washington St  \n",
       "49          3351 N. Broadwa  "
      ]
     },
     "execution_count": 56,
     "metadata": {},
     "output_type": "execute_result"
    }
   ],
   "source": [
    "df[\"Price\"] = price\n",
    "df[\"Address\"] = address\n",
    "df"
   ]
  },
  {
   "cell_type": "code",
   "execution_count": 57,
   "metadata": {},
   "outputs": [
    {
     "data": {
      "text/html": [
       "<div>\n",
       "<style scoped>\n",
       "    .dataframe tbody tr th:only-of-type {\n",
       "        vertical-align: middle;\n",
       "    }\n",
       "\n",
       "    .dataframe tbody tr th {\n",
       "        vertical-align: top;\n",
       "    }\n",
       "\n",
       "    .dataframe thead th {\n",
       "        text-align: right;\n",
       "    }\n",
       "</style>\n",
       "<table border=\"1\" class=\"dataframe\">\n",
       "  <thead>\n",
       "    <tr style=\"text-align: right;\">\n",
       "      <th></th>\n",
       "      <th>Rank</th>\n",
       "      <th>Cafe</th>\n",
       "      <th>Menu</th>\n",
       "      <th>Price</th>\n",
       "      <th>Address</th>\n",
       "    </tr>\n",
       "  </thead>\n",
       "  <tbody>\n",
       "    <tr>\n",
       "      <th>0</th>\n",
       "      <td>1</td>\n",
       "      <td>Old Oak Tap</td>\n",
       "      <td>BLT</td>\n",
       "      <td>$10.</td>\n",
       "      <td>2109 W. Chicago Ave</td>\n",
       "    </tr>\n",
       "    <tr>\n",
       "      <th>1</th>\n",
       "      <td>2</td>\n",
       "      <td>Au Cheval</td>\n",
       "      <td>Fried Bologna</td>\n",
       "      <td>$9.</td>\n",
       "      <td>800 W. Randolph St</td>\n",
       "    </tr>\n",
       "    <tr>\n",
       "      <th>2</th>\n",
       "      <td>3</td>\n",
       "      <td>Xoco</td>\n",
       "      <td>Woodland Mushroom</td>\n",
       "      <td>$9.50</td>\n",
       "      <td>445 N. Clark St</td>\n",
       "    </tr>\n",
       "    <tr>\n",
       "      <th>3</th>\n",
       "      <td>4</td>\n",
       "      <td>Al’s Deli</td>\n",
       "      <td>Roast Beef</td>\n",
       "      <td>$9.40</td>\n",
       "      <td>914 Noyes St</td>\n",
       "    </tr>\n",
       "    <tr>\n",
       "      <th>4</th>\n",
       "      <td>5</td>\n",
       "      <td>Publican Quality Meats</td>\n",
       "      <td>PB&amp;L</td>\n",
       "      <td>$10.</td>\n",
       "      <td>825 W. Fulton Mkt</td>\n",
       "    </tr>\n",
       "  </tbody>\n",
       "</table>\n",
       "</div>"
      ],
      "text/plain": [
       "   Rank                    Cafe               Menu  Price              Address\n",
       "0     1             Old Oak Tap                BLT   $10.  2109 W. Chicago Ave\n",
       "1     2               Au Cheval      Fried Bologna    $9.   800 W. Randolph St\n",
       "2     3                    Xoco  Woodland Mushroom  $9.50      445 N. Clark St\n",
       "3     4               Al’s Deli         Roast Beef  $9.40         914 Noyes St\n",
       "4     5  Publican Quality Meats               PB&L   $10.    825 W. Fulton Mkt"
      ]
     },
     "execution_count": 57,
     "metadata": {},
     "output_type": "execute_result"
    }
   ],
   "source": [
    "# url 제거\n",
    "df = df.loc[:, [\"Rank\", \"Cafe\", \"Menu\", \"Price\", \"Address\"]]\n",
    "df.head()"
   ]
  },
  {
   "cell_type": "code",
   "execution_count": 58,
   "metadata": {},
   "outputs": [
    {
     "data": {
      "text/html": [
       "<div>\n",
       "<style scoped>\n",
       "    .dataframe tbody tr th:only-of-type {\n",
       "        vertical-align: middle;\n",
       "    }\n",
       "\n",
       "    .dataframe tbody tr th {\n",
       "        vertical-align: top;\n",
       "    }\n",
       "\n",
       "    .dataframe thead th {\n",
       "        text-align: right;\n",
       "    }\n",
       "</style>\n",
       "<table border=\"1\" class=\"dataframe\">\n",
       "  <thead>\n",
       "    <tr style=\"text-align: right;\">\n",
       "      <th></th>\n",
       "      <th>Cafe</th>\n",
       "      <th>Menu</th>\n",
       "      <th>Price</th>\n",
       "      <th>Address</th>\n",
       "    </tr>\n",
       "    <tr>\n",
       "      <th>Rank</th>\n",
       "      <th></th>\n",
       "      <th></th>\n",
       "      <th></th>\n",
       "      <th></th>\n",
       "    </tr>\n",
       "  </thead>\n",
       "  <tbody>\n",
       "    <tr>\n",
       "      <th>1</th>\n",
       "      <td>Old Oak Tap</td>\n",
       "      <td>BLT</td>\n",
       "      <td>$10.</td>\n",
       "      <td>2109 W. Chicago Ave</td>\n",
       "    </tr>\n",
       "    <tr>\n",
       "      <th>2</th>\n",
       "      <td>Au Cheval</td>\n",
       "      <td>Fried Bologna</td>\n",
       "      <td>$9.</td>\n",
       "      <td>800 W. Randolph St</td>\n",
       "    </tr>\n",
       "    <tr>\n",
       "      <th>3</th>\n",
       "      <td>Xoco</td>\n",
       "      <td>Woodland Mushroom</td>\n",
       "      <td>$9.50</td>\n",
       "      <td>445 N. Clark St</td>\n",
       "    </tr>\n",
       "    <tr>\n",
       "      <th>4</th>\n",
       "      <td>Al’s Deli</td>\n",
       "      <td>Roast Beef</td>\n",
       "      <td>$9.40</td>\n",
       "      <td>914 Noyes St</td>\n",
       "    </tr>\n",
       "    <tr>\n",
       "      <th>5</th>\n",
       "      <td>Publican Quality Meats</td>\n",
       "      <td>PB&amp;L</td>\n",
       "      <td>$10.</td>\n",
       "      <td>825 W. Fulton Mkt</td>\n",
       "    </tr>\n",
       "  </tbody>\n",
       "</table>\n",
       "</div>"
      ],
      "text/plain": [
       "                        Cafe               Menu  Price              Address\n",
       "Rank                                                                       \n",
       "1                Old Oak Tap                BLT   $10.  2109 W. Chicago Ave\n",
       "2                  Au Cheval      Fried Bologna    $9.   800 W. Randolph St\n",
       "3                       Xoco  Woodland Mushroom  $9.50      445 N. Clark St\n",
       "4                  Al’s Deli         Roast Beef  $9.40         914 Noyes St\n",
       "5     Publican Quality Meats               PB&L   $10.    825 W. Fulton Mkt"
      ]
     },
     "execution_count": 58,
     "metadata": {},
     "output_type": "execute_result"
    }
   ],
   "source": [
    "# index 재설정\n",
    "df.set_index(\"Rank\", inplace=True)\n",
    "df.head()"
   ]
  },
  {
   "cell_type": "code",
   "execution_count": 62,
   "metadata": {},
   "outputs": [],
   "source": [
    "# data 저장\n",
    "df.to_csv(\"./result_data/01_Chicago_subpage_add_data.csv\", encoding=\"utf-8\")"
   ]
  },
  {
   "cell_type": "code",
   "execution_count": 63,
   "metadata": {},
   "outputs": [
    {
     "data": {
      "text/html": [
       "<div>\n",
       "<style scoped>\n",
       "    .dataframe tbody tr th:only-of-type {\n",
       "        vertical-align: middle;\n",
       "    }\n",
       "\n",
       "    .dataframe tbody tr th {\n",
       "        vertical-align: top;\n",
       "    }\n",
       "\n",
       "    .dataframe thead th {\n",
       "        text-align: right;\n",
       "    }\n",
       "</style>\n",
       "<table border=\"1\" class=\"dataframe\">\n",
       "  <thead>\n",
       "    <tr style=\"text-align: right;\">\n",
       "      <th></th>\n",
       "      <th>Cafe</th>\n",
       "      <th>Menu</th>\n",
       "      <th>Price</th>\n",
       "      <th>Address</th>\n",
       "    </tr>\n",
       "    <tr>\n",
       "      <th>Rank</th>\n",
       "      <th></th>\n",
       "      <th></th>\n",
       "      <th></th>\n",
       "      <th></th>\n",
       "    </tr>\n",
       "  </thead>\n",
       "  <tbody>\n",
       "    <tr>\n",
       "      <th>1</th>\n",
       "      <td>Old Oak Tap</td>\n",
       "      <td>BLT</td>\n",
       "      <td>$10.</td>\n",
       "      <td>2109 W. Chicago Ave</td>\n",
       "    </tr>\n",
       "    <tr>\n",
       "      <th>2</th>\n",
       "      <td>Au Cheval</td>\n",
       "      <td>Fried Bologna</td>\n",
       "      <td>$9.</td>\n",
       "      <td>800 W. Randolph St</td>\n",
       "    </tr>\n",
       "    <tr>\n",
       "      <th>3</th>\n",
       "      <td>Xoco</td>\n",
       "      <td>Woodland Mushroom</td>\n",
       "      <td>$9.50</td>\n",
       "      <td>445 N. Clark St</td>\n",
       "    </tr>\n",
       "    <tr>\n",
       "      <th>4</th>\n",
       "      <td>Al’s Deli</td>\n",
       "      <td>Roast Beef</td>\n",
       "      <td>$9.40</td>\n",
       "      <td>914 Noyes St</td>\n",
       "    </tr>\n",
       "    <tr>\n",
       "      <th>5</th>\n",
       "      <td>Publican Quality Meats</td>\n",
       "      <td>PB&amp;L</td>\n",
       "      <td>$10.</td>\n",
       "      <td>825 W. Fulton Mkt</td>\n",
       "    </tr>\n",
       "    <tr>\n",
       "      <th>6</th>\n",
       "      <td>Hendrickx Belgian Bread Crafter</td>\n",
       "      <td>Belgian Chicken Curry Salad</td>\n",
       "      <td>$7.25</td>\n",
       "      <td>100 E. Walton St</td>\n",
       "    </tr>\n",
       "    <tr>\n",
       "      <th>7</th>\n",
       "      <td>Acadia</td>\n",
       "      <td>Lobster Roll</td>\n",
       "      <td>$16.</td>\n",
       "      <td>1639 S. Wabash Ave</td>\n",
       "    </tr>\n",
       "    <tr>\n",
       "      <th>8</th>\n",
       "      <td>Birchwood Kitchen</td>\n",
       "      <td>Smoked Salmon Salad</td>\n",
       "      <td>$10.</td>\n",
       "      <td>2211 W. North Ave</td>\n",
       "    </tr>\n",
       "    <tr>\n",
       "      <th>9</th>\n",
       "      <td>Cemitas Puebla</td>\n",
       "      <td>Atomica Cemitas</td>\n",
       "      <td>$9.</td>\n",
       "      <td>3619 W. North Ave</td>\n",
       "    </tr>\n",
       "    <tr>\n",
       "      <th>10</th>\n",
       "      <td>Nana</td>\n",
       "      <td>Grilled Laughing Bird Shrimp and Fried Po’ Boy</td>\n",
       "      <td>$17.</td>\n",
       "      <td>3267 S. Halsted St</td>\n",
       "    </tr>\n",
       "    <tr>\n",
       "      <th>11</th>\n",
       "      <td>Lula Cafe</td>\n",
       "      <td>Ham and Raclette Panino</td>\n",
       "      <td>$11.</td>\n",
       "      <td>2537 N. Kedzie Blvd</td>\n",
       "    </tr>\n",
       "    <tr>\n",
       "      <th>12</th>\n",
       "      <td>Ricobene’s</td>\n",
       "      <td>Breaded Steak</td>\n",
       "      <td>$5.49</td>\n",
       "      <td>Multiple location</td>\n",
       "    </tr>\n",
       "    <tr>\n",
       "      <th>13</th>\n",
       "      <td>Frog n Snail</td>\n",
       "      <td>The Hawkeye</td>\n",
       "      <td>$14.</td>\n",
       "      <td>3124 N. Broadwa</td>\n",
       "    </tr>\n",
       "    <tr>\n",
       "      <th>14</th>\n",
       "      <td>Crosby’s Kitchen</td>\n",
       "      <td>Chicken Dip</td>\n",
       "      <td>$10.</td>\n",
       "      <td>3455 N. Southport Ave</td>\n",
       "    </tr>\n",
       "    <tr>\n",
       "      <th>15</th>\n",
       "      <td>Longman &amp; Eagle</td>\n",
       "      <td>Wild Boar Sloppy Joe</td>\n",
       "      <td>$13.</td>\n",
       "      <td>2657 N. Kedzie Ave</td>\n",
       "    </tr>\n",
       "    <tr>\n",
       "      <th>16</th>\n",
       "      <td>Bari</td>\n",
       "      <td>Meatball Sub</td>\n",
       "      <td>$4.50</td>\n",
       "      <td>1120 W. Grand Ave</td>\n",
       "    </tr>\n",
       "    <tr>\n",
       "      <th>17</th>\n",
       "      <td>Manny’s</td>\n",
       "      <td>Corned Beef</td>\n",
       "      <td>$11.95</td>\n",
       "      <td>1141 S. Jefferson St</td>\n",
       "    </tr>\n",
       "    <tr>\n",
       "      <th>18</th>\n",
       "      <td>Eggy’s</td>\n",
       "      <td>Turkey Club</td>\n",
       "      <td>$11.50</td>\n",
       "      <td>333 E. Benton Pl</td>\n",
       "    </tr>\n",
       "    <tr>\n",
       "      <th>19</th>\n",
       "      <td>Old Jerusalem</td>\n",
       "      <td>Falafel</td>\n",
       "      <td>$6.25</td>\n",
       "      <td>1411 N. Wells St</td>\n",
       "    </tr>\n",
       "    <tr>\n",
       "      <th>20</th>\n",
       "      <td>Mindy’s HotChocolate</td>\n",
       "      <td>Crab Cake</td>\n",
       "      <td>$15.</td>\n",
       "      <td>1747 N. Damen Ave</td>\n",
       "    </tr>\n",
       "    <tr>\n",
       "      <th>21</th>\n",
       "      <td>Olga’s Delicatessen</td>\n",
       "      <td>Chicken Schnitzel</td>\n",
       "      <td>$5.</td>\n",
       "      <td>3209 W. Irving Park Rd</td>\n",
       "    </tr>\n",
       "    <tr>\n",
       "      <th>22</th>\n",
       "      <td>Dawali Mediterranean Kitchen</td>\n",
       "      <td>Shawarma</td>\n",
       "      <td>$6.</td>\n",
       "      <td>Multiple location</td>\n",
       "    </tr>\n",
       "    <tr>\n",
       "      <th>23</th>\n",
       "      <td>Big Jones</td>\n",
       "      <td>Toasted Pimiento Cheese</td>\n",
       "      <td>$8.</td>\n",
       "      <td>5347 N. Clark St</td>\n",
       "    </tr>\n",
       "    <tr>\n",
       "      <th>24</th>\n",
       "      <td>La Pane</td>\n",
       "      <td>Vegetarian Panino</td>\n",
       "      <td>$5.99</td>\n",
       "      <td>2954 W. Irving Park Rd</td>\n",
       "    </tr>\n",
       "    <tr>\n",
       "      <th>25</th>\n",
       "      <td>Pastoral</td>\n",
       "      <td>Cali Chèvre</td>\n",
       "      <td>$7.52</td>\n",
       "      <td>Multiple location</td>\n",
       "    </tr>\n",
       "    <tr>\n",
       "      <th>26</th>\n",
       "      <td>Max’s Deli</td>\n",
       "      <td>Pastrami</td>\n",
       "      <td>$11.95</td>\n",
       "      <td>191 Skokie Valley Rd</td>\n",
       "    </tr>\n",
       "    <tr>\n",
       "      <th>27</th>\n",
       "      <td>Lucky’s Sandwich Co.</td>\n",
       "      <td>The Fredo</td>\n",
       "      <td>$7.50</td>\n",
       "      <td>Multiple location</td>\n",
       "    </tr>\n",
       "    <tr>\n",
       "      <th>28</th>\n",
       "      <td>City Provisions</td>\n",
       "      <td>Smoked Ham</td>\n",
       "      <td>$12.95</td>\n",
       "      <td>1818 W. Wilson Ave</td>\n",
       "    </tr>\n",
       "    <tr>\n",
       "      <th>29</th>\n",
       "      <td>Papa’s Cache Sabroso</td>\n",
       "      <td>Jibarito</td>\n",
       "      <td>$7.</td>\n",
       "      <td>2517 W. Division St</td>\n",
       "    </tr>\n",
       "    <tr>\n",
       "      <th>30</th>\n",
       "      <td>Bavette’s Bar &amp; Boeuf</td>\n",
       "      <td>Shaved Prime Rib</td>\n",
       "      <td>$21.</td>\n",
       "      <td>218 W. Kinzie St</td>\n",
       "    </tr>\n",
       "    <tr>\n",
       "      <th>31</th>\n",
       "      <td>Hannah’s Bretzel</td>\n",
       "      <td>Serrano Ham and Manchego Cheese</td>\n",
       "      <td>$9.79</td>\n",
       "      <td>Multiple location</td>\n",
       "    </tr>\n",
       "    <tr>\n",
       "      <th>32</th>\n",
       "      <td>La Fournette</td>\n",
       "      <td>Tuna Salad</td>\n",
       "      <td>$9.75</td>\n",
       "      <td>1547 N. Wells St</td>\n",
       "    </tr>\n",
       "    <tr>\n",
       "      <th>33</th>\n",
       "      <td>Paramount Room</td>\n",
       "      <td>Paramount Reuben</td>\n",
       "      <td>$13.</td>\n",
       "      <td>415 N. Milwaukee Ave</td>\n",
       "    </tr>\n",
       "    <tr>\n",
       "      <th>34</th>\n",
       "      <td>Melt Sandwich Shoppe</td>\n",
       "      <td>The Istanbul</td>\n",
       "      <td>$7.95</td>\n",
       "      <td>1840 N. Damen Ave</td>\n",
       "    </tr>\n",
       "    <tr>\n",
       "      <th>35</th>\n",
       "      <td>Floriole Cafe &amp; Bakery</td>\n",
       "      <td>B.A.D.</td>\n",
       "      <td>$9.</td>\n",
       "      <td>1220 W. Webster Ave</td>\n",
       "    </tr>\n",
       "    <tr>\n",
       "      <th>36</th>\n",
       "      <td>First Slice Pie Café</td>\n",
       "      <td>Duck Confit and Mozzarella</td>\n",
       "      <td>$9.</td>\n",
       "      <td>5357 N. Ashland Ave</td>\n",
       "    </tr>\n",
       "    <tr>\n",
       "      <th>37</th>\n",
       "      <td>Troquet</td>\n",
       "      <td>Croque Monsieur</td>\n",
       "      <td>$8.</td>\n",
       "      <td>1834 W. Montrose Ave</td>\n",
       "    </tr>\n",
       "    <tr>\n",
       "      <th>38</th>\n",
       "      <td>Grahamwich</td>\n",
       "      <td>Green Garbanzo</td>\n",
       "      <td>$8.</td>\n",
       "      <td>615 N. State St</td>\n",
       "    </tr>\n",
       "    <tr>\n",
       "      <th>39</th>\n",
       "      <td>Saigon Sisters</td>\n",
       "      <td>The Hen House</td>\n",
       "      <td>$7.</td>\n",
       "      <td>Multiple location</td>\n",
       "    </tr>\n",
       "    <tr>\n",
       "      <th>40</th>\n",
       "      <td>Rosalia’s Deli</td>\n",
       "      <td>Tuscan Chicken</td>\n",
       "      <td>$6.</td>\n",
       "      <td>241 N. York Rd</td>\n",
       "    </tr>\n",
       "    <tr>\n",
       "      <th>41</th>\n",
       "      <td>Z&amp;H MarketCafe</td>\n",
       "      <td>The Marty</td>\n",
       "      <td>$7.25</td>\n",
       "      <td>1323 E. 57th St</td>\n",
       "    </tr>\n",
       "    <tr>\n",
       "      <th>42</th>\n",
       "      <td>Market House on the Square</td>\n",
       "      <td>Whitefish</td>\n",
       "      <td>$11.</td>\n",
       "      <td>655 Forest Ave</td>\n",
       "    </tr>\n",
       "    <tr>\n",
       "      <th>43</th>\n",
       "      <td>Elaine’s Coffee Call</td>\n",
       "      <td>Oat Bread, Pecan Butter, and Fruit Jam</td>\n",
       "      <td>$6.</td>\n",
       "      <td>Hotel Lincol</td>\n",
       "    </tr>\n",
       "    <tr>\n",
       "      <th>44</th>\n",
       "      <td>Marion Street Cheese Market</td>\n",
       "      <td>Cauliflower Melt</td>\n",
       "      <td>$9.</td>\n",
       "      <td>100 S. Marion St</td>\n",
       "    </tr>\n",
       "    <tr>\n",
       "      <th>45</th>\n",
       "      <td>Cafecito</td>\n",
       "      <td>Cubana</td>\n",
       "      <td>$5.49</td>\n",
       "      <td>26 E. Congress Pkwy</td>\n",
       "    </tr>\n",
       "    <tr>\n",
       "      <th>46</th>\n",
       "      <td>Chickpea</td>\n",
       "      <td>Kufta</td>\n",
       "      <td>$8.</td>\n",
       "      <td>2018 W. Chicago Ave</td>\n",
       "    </tr>\n",
       "    <tr>\n",
       "      <th>47</th>\n",
       "      <td>The Goddess and Grocer</td>\n",
       "      <td>Debbie’s Egg Salad</td>\n",
       "      <td>$6.50</td>\n",
       "      <td>25 E. Delaware Pl</td>\n",
       "    </tr>\n",
       "    <tr>\n",
       "      <th>48</th>\n",
       "      <td>Zenwich</td>\n",
       "      <td>Beef Curry</td>\n",
       "      <td>$7.50</td>\n",
       "      <td>416 N. York St</td>\n",
       "    </tr>\n",
       "    <tr>\n",
       "      <th>49</th>\n",
       "      <td>Toni Patisserie</td>\n",
       "      <td>Le Végétarien</td>\n",
       "      <td>$8.75</td>\n",
       "      <td>65 E. Washington St</td>\n",
       "    </tr>\n",
       "    <tr>\n",
       "      <th>50</th>\n",
       "      <td>Phoebe’s Bakery</td>\n",
       "      <td>The Gatsby</td>\n",
       "      <td>$6.85</td>\n",
       "      <td>3351 N. Broadwa</td>\n",
       "    </tr>\n",
       "  </tbody>\n",
       "</table>\n",
       "</div>"
      ],
      "text/plain": [
       "                                 Cafe  \\\n",
       "Rank                                    \n",
       "1                         Old Oak Tap   \n",
       "2                           Au Cheval   \n",
       "3                                Xoco   \n",
       "4                           Al’s Deli   \n",
       "5              Publican Quality Meats   \n",
       "6     Hendrickx Belgian Bread Crafter   \n",
       "7                              Acadia   \n",
       "8                   Birchwood Kitchen   \n",
       "9                      Cemitas Puebla   \n",
       "10                               Nana   \n",
       "11                          Lula Cafe   \n",
       "12                         Ricobene’s   \n",
       "13                       Frog n Snail   \n",
       "14                   Crosby’s Kitchen   \n",
       "15                    Longman & Eagle   \n",
       "16                               Bari   \n",
       "17                            Manny’s   \n",
       "18                             Eggy’s   \n",
       "19                      Old Jerusalem   \n",
       "20               Mindy’s HotChocolate   \n",
       "21                Olga’s Delicatessen   \n",
       "22       Dawali Mediterranean Kitchen   \n",
       "23                          Big Jones   \n",
       "24                            La Pane   \n",
       "25                           Pastoral   \n",
       "26                         Max’s Deli   \n",
       "27               Lucky’s Sandwich Co.   \n",
       "28                    City Provisions   \n",
       "29               Papa’s Cache Sabroso   \n",
       "30              Bavette’s Bar & Boeuf   \n",
       "31                   Hannah’s Bretzel   \n",
       "32                       La Fournette   \n",
       "33                     Paramount Room   \n",
       "34               Melt Sandwich Shoppe   \n",
       "35             Floriole Cafe & Bakery   \n",
       "36               First Slice Pie Café   \n",
       "37                            Troquet   \n",
       "38                         Grahamwich   \n",
       "39                     Saigon Sisters   \n",
       "40                     Rosalia’s Deli   \n",
       "41                     Z&H MarketCafe   \n",
       "42         Market House on the Square   \n",
       "43               Elaine’s Coffee Call   \n",
       "44        Marion Street Cheese Market   \n",
       "45                           Cafecito   \n",
       "46                           Chickpea   \n",
       "47             The Goddess and Grocer   \n",
       "48                            Zenwich   \n",
       "49                    Toni Patisserie   \n",
       "50                    Phoebe’s Bakery   \n",
       "\n",
       "                                                Menu   Price  \\\n",
       "Rank                                                           \n",
       "1                                                BLT    $10.   \n",
       "2                                      Fried Bologna     $9.   \n",
       "3                                  Woodland Mushroom   $9.50   \n",
       "4                                         Roast Beef   $9.40   \n",
       "5                                               PB&L    $10.   \n",
       "6                        Belgian Chicken Curry Salad   $7.25   \n",
       "7                                       Lobster Roll    $16.   \n",
       "8                                Smoked Salmon Salad    $10.   \n",
       "9                                    Atomica Cemitas     $9.   \n",
       "10    Grilled Laughing Bird Shrimp and Fried Po’ Boy    $17.   \n",
       "11                           Ham and Raclette Panino    $11.   \n",
       "12                                     Breaded Steak   $5.49   \n",
       "13                                       The Hawkeye    $14.   \n",
       "14                                       Chicken Dip    $10.   \n",
       "15                              Wild Boar Sloppy Joe    $13.   \n",
       "16                                      Meatball Sub   $4.50   \n",
       "17                                       Corned Beef  $11.95   \n",
       "18                                       Turkey Club  $11.50   \n",
       "19                                           Falafel   $6.25   \n",
       "20                                         Crab Cake    $15.   \n",
       "21                                 Chicken Schnitzel     $5.   \n",
       "22                                          Shawarma     $6.   \n",
       "23                           Toasted Pimiento Cheese     $8.   \n",
       "24                                 Vegetarian Panino   $5.99   \n",
       "25                                       Cali Chèvre   $7.52   \n",
       "26                                          Pastrami  $11.95   \n",
       "27                                         The Fredo   $7.50   \n",
       "28                                        Smoked Ham  $12.95   \n",
       "29                                          Jibarito     $7.   \n",
       "30                                  Shaved Prime Rib    $21.   \n",
       "31                   Serrano Ham and Manchego Cheese   $9.79   \n",
       "32                                        Tuna Salad   $9.75   \n",
       "33                                  Paramount Reuben    $13.   \n",
       "34                                      The Istanbul   $7.95   \n",
       "35                                            B.A.D.     $9.   \n",
       "36                        Duck Confit and Mozzarella     $9.   \n",
       "37                                   Croque Monsieur     $8.   \n",
       "38                                    Green Garbanzo     $8.   \n",
       "39                                     The Hen House     $7.   \n",
       "40                                    Tuscan Chicken     $6.   \n",
       "41                                        The Marty    $7.25   \n",
       "42                                         Whitefish    $11.   \n",
       "43            Oat Bread, Pecan Butter, and Fruit Jam     $6.   \n",
       "44                                  Cauliflower Melt     $9.   \n",
       "45                                            Cubana   $5.49   \n",
       "46                                             Kufta     $8.   \n",
       "47                                Debbie’s Egg Salad   $6.50   \n",
       "48                                        Beef Curry   $7.50   \n",
       "49                                     Le Végétarien   $8.75   \n",
       "50                                        The Gatsby   $6.85   \n",
       "\n",
       "                      Address  \n",
       "Rank                           \n",
       "1         2109 W. Chicago Ave  \n",
       "2          800 W. Randolph St  \n",
       "3             445 N. Clark St  \n",
       "4                914 Noyes St  \n",
       "5           825 W. Fulton Mkt  \n",
       "6            100 E. Walton St  \n",
       "7          1639 S. Wabash Ave  \n",
       "8           2211 W. North Ave  \n",
       "9           3619 W. North Ave  \n",
       "10         3267 S. Halsted St  \n",
       "11        2537 N. Kedzie Blvd  \n",
       "12          Multiple location  \n",
       "13            3124 N. Broadwa  \n",
       "14      3455 N. Southport Ave  \n",
       "15         2657 N. Kedzie Ave  \n",
       "16          1120 W. Grand Ave  \n",
       "17       1141 S. Jefferson St  \n",
       "18           333 E. Benton Pl  \n",
       "19           1411 N. Wells St  \n",
       "20          1747 N. Damen Ave  \n",
       "21     3209 W. Irving Park Rd  \n",
       "22          Multiple location  \n",
       "23           5347 N. Clark St  \n",
       "24     2954 W. Irving Park Rd  \n",
       "25          Multiple location  \n",
       "26       191 Skokie Valley Rd  \n",
       "27          Multiple location  \n",
       "28         1818 W. Wilson Ave  \n",
       "29        2517 W. Division St  \n",
       "30           218 W. Kinzie St  \n",
       "31          Multiple location  \n",
       "32           1547 N. Wells St  \n",
       "33       415 N. Milwaukee Ave  \n",
       "34          1840 N. Damen Ave  \n",
       "35        1220 W. Webster Ave  \n",
       "36        5357 N. Ashland Ave  \n",
       "37       1834 W. Montrose Ave  \n",
       "38            615 N. State St  \n",
       "39          Multiple location  \n",
       "40             241 N. York Rd  \n",
       "41            1323 E. 57th St  \n",
       "42             655 Forest Ave  \n",
       "43               Hotel Lincol  \n",
       "44           100 S. Marion St  \n",
       "45        26 E. Congress Pkwy  \n",
       "46        2018 W. Chicago Ave  \n",
       "47          25 E. Delaware Pl  \n",
       "48             416 N. York St  \n",
       "49        65 E. Washington St  \n",
       "50            3351 N. Broadwa  "
      ]
     },
     "execution_count": 63,
     "metadata": {},
     "output_type": "execute_result"
    }
   ],
   "source": [
    "pd.read_csv(\"./result_data/01_Chicago_subpage_add_data.csv\", index_col=0)"
   ]
  }
 ],
 "metadata": {
  "kernelspec": {
   "display_name": "ds_study",
   "language": "python",
   "name": "python3"
  },
  "language_info": {
   "codemirror_mode": {
    "name": "ipython",
    "version": 3
   },
   "file_extension": ".py",
   "mimetype": "text/x-python",
   "name": "python",
   "nbconvert_exporter": "python",
   "pygments_lexer": "ipython3",
   "version": "3.8.18"
  }
 },
 "nbformat": 4,
 "nbformat_minor": 2
}
