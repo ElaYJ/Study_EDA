{
 "cells": [
  {
   "cell_type": "markdown",
   "metadata": {},
   "source": [
    "# Pandas 기초\n",
    "\n",
    "- Python에서 R 만큼의 강력한 데이터 핸들링 성능을 제공하는 모듈이다.\n",
    "- 코딩 가능하고 응용 가능한 엑셀로 받아들여도 된다.\n",
    "- 단일 프로세스에서는 최대 효율로 누군가 스테로이드를 맞은 엑셀로 표현한다.\n",
    "\n",
    "- Pandas 공식문서를 확인해 본다.\n",
    "https://pandas.pydata.org/docs/reference/api/pandas.Series.html"
   ]
  },
  {
   "cell_type": "markdown",
   "metadata": {},
   "source": [
    "#### 🔰 Import Module\n",
    "\n",
    "- pandas는 통상 별칭으로 pd를 사용한다.\n",
    "- 수치해석적 함수가 많은 numpy의 별칭은 주로 np를 사용한다."
   ]
  },
  {
   "cell_type": "code",
   "execution_count": 22,
   "metadata": {},
   "outputs": [],
   "source": [
    "import pandas as pd\n",
    "import numpy as np"
   ]
  },
  {
   "cell_type": "markdown",
   "metadata": {},
   "source": [
    "-----"
   ]
  },
  {
   "cell_type": "markdown",
   "metadata": {},
   "source": [
    "#### 🔰 Series\n",
    "\n",
    "- index와 value로 이루어져 있다\n",
    "- 한 가지 데이터 타입만 가질 수 있다\n",
    "- DataFrame의 column 한 줄 한 줄이 Series이다."
   ]
  },
  {
   "cell_type": "code",
   "execution_count": 23,
   "metadata": {},
   "outputs": [
    {
     "data": {
      "text/plain": [
       "Series([], dtype: object)"
      ]
     },
     "execution_count": 23,
     "metadata": {},
     "output_type": "execute_result"
    }
   ],
   "source": [
    "pd.Series()"
   ]
  },
  {
   "cell_type": "markdown",
   "metadata": {},
   "source": [
    "👆 잘 모를 때는 위에 보이는 틀에 맞춰 써본다."
   ]
  },
  {
   "cell_type": "code",
   "execution_count": 24,
   "metadata": {},
   "outputs": [
    {
     "data": {
      "text/plain": [
       "0    1\n",
       "1    2\n",
       "2    3\n",
       "3    4\n",
       "dtype: int64"
      ]
     },
     "execution_count": 24,
     "metadata": {},
     "output_type": "execute_result"
    }
   ],
   "source": [
    "pd.Series([1, 2, 3, 4])"
   ]
  },
  {
   "cell_type": "code",
   "execution_count": 100,
   "metadata": {},
   "outputs": [
    {
     "ename": "NameError",
     "evalue": "name 'float64' is not defined",
     "output_type": "error",
     "traceback": [
      "\u001b[1;31m---------------------------------------------------------------------------\u001b[0m",
      "\u001b[1;31mNameError\u001b[0m                                 Traceback (most recent call last)",
      "Cell \u001b[1;32mIn[100], line 1\u001b[0m\n\u001b[1;32m----> 1\u001b[0m pd\u001b[38;5;241m.\u001b[39mSeries([\u001b[38;5;241m1\u001b[39m, \u001b[38;5;241m2\u001b[39m, \u001b[38;5;241m3\u001b[39m, \u001b[38;5;241m4\u001b[39m], dtype\u001b[38;5;241m=\u001b[39m\u001b[43mfloat64\u001b[49m)\n",
      "\u001b[1;31mNameError\u001b[0m: name 'float64' is not defined"
     ]
    }
   ],
   "source": [
    "pd.Series([1, 2, 3, 4], dtype=float64)"
   ]
  },
  {
   "cell_type": "code",
   "execution_count": 26,
   "metadata": {},
   "outputs": [
    {
     "data": {
      "text/plain": [
       "0    1.0\n",
       "1    2.0\n",
       "2    3.0\n",
       "3    4.0\n",
       "dtype: float64"
      ]
     },
     "execution_count": 26,
     "metadata": {},
     "output_type": "execute_result"
    }
   ],
   "source": [
    "pd.Series([1, 2, 3, 4], dtype=np.float64)"
   ]
  },
  {
   "cell_type": "code",
   "execution_count": 27,
   "metadata": {},
   "outputs": [
    {
     "data": {
      "text/plain": [
       "0    1.0\n",
       "1    2.0\n",
       "2    3.0\n",
       "3    4.0\n",
       "dtype: float64"
      ]
     },
     "execution_count": 27,
     "metadata": {},
     "output_type": "execute_result"
    }
   ],
   "source": [
    "pd.Series([1, 2, 3, 4], dtype=float)"
   ]
  },
  {
   "cell_type": "code",
   "execution_count": 28,
   "metadata": {},
   "outputs": [
    {
     "data": {
      "text/plain": [
       "0    1\n",
       "1    2\n",
       "2    3\n",
       "3    4\n",
       "dtype: object"
      ]
     },
     "execution_count": 28,
     "metadata": {},
     "output_type": "execute_result"
    }
   ],
   "source": [
    "pd.Series([1, 2, 3, 4], dtype=str)"
   ]
  },
  {
   "cell_type": "markdown",
   "metadata": {},
   "source": [
    "👆 object는 String과 동일한 개념이다."
   ]
  },
  {
   "cell_type": "code",
   "execution_count": 29,
   "metadata": {},
   "outputs": [
    {
     "data": {
      "text/plain": [
       "0    1\n",
       "1    2\n",
       "2    3\n",
       "dtype: int32"
      ]
     },
     "execution_count": 29,
     "metadata": {},
     "output_type": "execute_result"
    }
   ],
   "source": [
    "pd.Series(np.array([1, 2, 3]))"
   ]
  },
  {
   "cell_type": "code",
   "execution_count": 30,
   "metadata": {},
   "outputs": [
    {
     "data": {
      "text/plain": [
       "key    Value\n",
       "dtype: object"
      ]
     },
     "execution_count": 30,
     "metadata": {},
     "output_type": "execute_result"
    }
   ],
   "source": [
    "pd.Series({\"key\": \"Value\"})"
   ]
  },
  {
   "cell_type": "code",
   "execution_count": 31,
   "metadata": {},
   "outputs": [
    {
     "data": {
      "text/plain": [
       "0    1\n",
       "1    2\n",
       "2    3\n",
       "3    5\n",
       "dtype: object"
      ]
     },
     "execution_count": 31,
     "metadata": {},
     "output_type": "execute_result"
    }
   ],
   "source": [
    "pd.Series([1, 2, 3, \"5\"])"
   ]
  },
  {
   "cell_type": "markdown",
   "metadata": {},
   "source": [
    "👆 전체를 문자열 데이터로 인식한다.</br>\n",
    "⭐ 즉, Series는 한 가지 데이터 타입만 가질 수 있다."
   ]
  },
  {
   "cell_type": "code",
   "execution_count": 32,
   "metadata": {},
   "outputs": [
    {
     "data": {
      "text/plain": [
       "0    1\n",
       "1    2\n",
       "2    3\n",
       "3    4\n",
       "dtype: int64"
      ]
     },
     "execution_count": 32,
     "metadata": {},
     "output_type": "execute_result"
    }
   ],
   "source": [
    "data = pd.Series([1, 2, 3, 4])\n",
    "data"
   ]
  },
  {
   "cell_type": "code",
   "execution_count": 33,
   "metadata": {},
   "outputs": [
    {
     "name": "stdout",
     "output_type": "stream",
     "text": [
      "0    1\n",
      "1    0\n",
      "2    1\n",
      "3    0\n",
      "dtype: int64\n"
     ]
    },
    {
     "data": {
      "text/plain": [
       "0    1\n",
       "1    0\n",
       "2    1\n",
       "3    0\n",
       "dtype: int64"
      ]
     },
     "execution_count": 33,
     "metadata": {},
     "output_type": "execute_result"
    }
   ],
   "source": [
    "print(data % 2)\n",
    "data % 2"
   ]
  },
  {
   "cell_type": "markdown",
   "metadata": {},
   "source": [
    "**<날짜 데이터>**"
   ]
  },
  {
   "cell_type": "code",
   "execution_count": 34,
   "metadata": {},
   "outputs": [
    {
     "data": {
      "text/plain": [
       "DatetimeIndex(['2023-01-01', '2023-01-02', '2023-01-03', '2023-01-04',\n",
       "               '2023-01-05', '2023-01-06'],\n",
       "              dtype='datetime64[ns]', freq='D')"
      ]
     },
     "execution_count": 34,
     "metadata": {},
     "output_type": "execute_result"
    }
   ],
   "source": [
    "dates = pd.date_range(\"20230101\", periods=6)\n",
    "dates"
   ]
  },
  {
   "cell_type": "code",
   "execution_count": 35,
   "metadata": {},
   "outputs": [
    {
     "data": {
      "text/plain": [
       "DatetimeIndex(['2024-01-01', '2024-01-02', '2024-01-03', '2024-01-04',\n",
       "               '2024-01-05', '2024-01-06', '2024-01-07', '2024-01-08',\n",
       "               '2024-01-09', '2024-01-10', '2024-01-11', '2024-01-12',\n",
       "               '2024-01-13', '2024-01-14', '2024-01-15', '2024-01-16',\n",
       "               '2024-01-17', '2024-01-18', '2024-01-19', '2024-01-20',\n",
       "               '2024-01-21', '2024-01-22', '2024-01-23', '2024-01-24',\n",
       "               '2024-01-25', '2024-01-26', '2024-01-27', '2024-01-28',\n",
       "               '2024-01-29', '2024-01-30', '2024-01-31', '2024-02-01',\n",
       "               '2024-02-02', '2024-02-03', '2024-02-04', '2024-02-05',\n",
       "               '2024-02-06', '2024-02-07', '2024-02-08', '2024-02-09',\n",
       "               '2024-02-10', '2024-02-11', '2024-02-12', '2024-02-13',\n",
       "               '2024-02-14', '2024-02-15', '2024-02-16', '2024-02-17',\n",
       "               '2024-02-18', '2024-02-19', '2024-02-20', '2024-02-21',\n",
       "               '2024-02-22', '2024-02-23', '2024-02-24', '2024-02-25',\n",
       "               '2024-02-26', '2024-02-27', '2024-02-28', '2024-02-29'],\n",
       "              dtype='datetime64[ns]', freq='D')"
      ]
     },
     "execution_count": 35,
     "metadata": {},
     "output_type": "execute_result"
    }
   ],
   "source": [
    "pd.date_range(\"20240101\", periods=60)"
   ]
  },
  {
   "cell_type": "markdown",
   "metadata": {},
   "source": [
    "-----"
   ]
  },
  {
   "cell_type": "markdown",
   "metadata": {},
   "source": [
    "#### 🔰 DataFrame\n",
    "\n",
    "- pd.Series() \n",
    "    - index, value</br>\n",
    "- pd.DataFrame() \n",
    "    - index, value, **column**"
   ]
  },
  {
   "cell_type": "code",
   "execution_count": 36,
   "metadata": {},
   "outputs": [],
   "source": [
    "pd.DataFrame('data, index= , columns= ')\n",
    "# jupyter notebook에서 [shift + tab]키를 누르면 함수 사용에 대한 상세한 설명(Init signature: & Docstring:)이 나온다."
   ]
  },
  {
   "cell_type": "code",
   "execution_count": 37,
   "metadata": {},
   "outputs": [
    {
     "data": {
      "text/plain": [
       "array([[ 0.79255413, -1.81694999,  0.35020953,  1.40498027],\n",
       "       [-0.06900768, -0.62575308, -0.66187013,  0.75597956],\n",
       "       [ 0.82863207,  0.58713825,  0.33881898, -0.15277535],\n",
       "       [ 1.56377512, -0.24221876,  0.4246531 ,  1.28469043],\n",
       "       [-0.56468827, -0.4132788 , -0.28693992, -1.23037567],\n",
       "       [ 1.29468486,  1.97990687, -0.57032513,  0.9340191 ]])"
      ]
     },
     "execution_count": 37,
     "metadata": {},
     "output_type": "execute_result"
    }
   ],
   "source": [
    "# 표준정규분포에서 샘플링한 난수 생성\n",
    "data = np.random.randn(6, 4)\n",
    "data"
   ]
  },
  {
   "cell_type": "markdown",
   "metadata": {},
   "source": [
    "`(*args: int)` -> ndarray[Any, dtype[float64]]\n",
    "\n",
    "__randn__(d0, d1, ..., dn)\n",
    "\n",
    "Return a sample (or samples) from the \"standard normal\" distribution.\n",
    "\n",
    "If positive int_like arguments are provided, randn generates an array of shape (d0, d1, ..., dn), filled with random floats sampled from a univariate \"normal\" (Gaussian) distribution of mean 0 and variance 1. A single float randomly sampled from the distribution is returned if no argument is provided."
   ]
  },
  {
   "cell_type": "code",
   "execution_count": 38,
   "metadata": {},
   "outputs": [
    {
     "data": {
      "text/html": [
       "<div>\n",
       "<style scoped>\n",
       "    .dataframe tbody tr th:only-of-type {\n",
       "        vertical-align: middle;\n",
       "    }\n",
       "\n",
       "    .dataframe tbody tr th {\n",
       "        vertical-align: top;\n",
       "    }\n",
       "\n",
       "    .dataframe thead th {\n",
       "        text-align: right;\n",
       "    }\n",
       "</style>\n",
       "<table border=\"1\" class=\"dataframe\">\n",
       "  <thead>\n",
       "    <tr style=\"text-align: right;\">\n",
       "      <th></th>\n",
       "      <th>A</th>\n",
       "      <th>B</th>\n",
       "      <th>C</th>\n",
       "      <th>D</th>\n",
       "    </tr>\n",
       "  </thead>\n",
       "  <tbody>\n",
       "    <tr>\n",
       "      <th>2023-01-01</th>\n",
       "      <td>0.792554</td>\n",
       "      <td>-1.816950</td>\n",
       "      <td>0.350210</td>\n",
       "      <td>1.404980</td>\n",
       "    </tr>\n",
       "    <tr>\n",
       "      <th>2023-01-02</th>\n",
       "      <td>-0.069008</td>\n",
       "      <td>-0.625753</td>\n",
       "      <td>-0.661870</td>\n",
       "      <td>0.755980</td>\n",
       "    </tr>\n",
       "    <tr>\n",
       "      <th>2023-01-03</th>\n",
       "      <td>0.828632</td>\n",
       "      <td>0.587138</td>\n",
       "      <td>0.338819</td>\n",
       "      <td>-0.152775</td>\n",
       "    </tr>\n",
       "    <tr>\n",
       "      <th>2023-01-04</th>\n",
       "      <td>1.563775</td>\n",
       "      <td>-0.242219</td>\n",
       "      <td>0.424653</td>\n",
       "      <td>1.284690</td>\n",
       "    </tr>\n",
       "    <tr>\n",
       "      <th>2023-01-05</th>\n",
       "      <td>-0.564688</td>\n",
       "      <td>-0.413279</td>\n",
       "      <td>-0.286940</td>\n",
       "      <td>-1.230376</td>\n",
       "    </tr>\n",
       "    <tr>\n",
       "      <th>2023-01-06</th>\n",
       "      <td>1.294685</td>\n",
       "      <td>1.979907</td>\n",
       "      <td>-0.570325</td>\n",
       "      <td>0.934019</td>\n",
       "    </tr>\n",
       "  </tbody>\n",
       "</table>\n",
       "</div>"
      ],
      "text/plain": [
       "                   A         B         C         D\n",
       "2023-01-01  0.792554 -1.816950  0.350210  1.404980\n",
       "2023-01-02 -0.069008 -0.625753 -0.661870  0.755980\n",
       "2023-01-03  0.828632  0.587138  0.338819 -0.152775\n",
       "2023-01-04  1.563775 -0.242219  0.424653  1.284690\n",
       "2023-01-05 -0.564688 -0.413279 -0.286940 -1.230376\n",
       "2023-01-06  1.294685  1.979907 -0.570325  0.934019"
      ]
     },
     "execution_count": 38,
     "metadata": {},
     "output_type": "execute_result"
    }
   ],
   "source": [
    "df = pd.DataFrame(data, index=dates, columns=[\"A\", \"B\", \"C\", \"D\"])\n",
    "df"
   ]
  },
  {
   "cell_type": "markdown",
   "metadata": {},
   "source": [
    "-----"
   ]
  },
  {
   "cell_type": "markdown",
   "metadata": {},
   "source": [
    "#### 🔰 데이터 프레임 정보(내용) 탐색\n",
    "\n",
    "- Pandas DataFrame 객체의 메서드 : df.head(), df.tail(), ...\n",
    "\n",
    "- Pandas DataFrame 객체의 속성(변수) : df.index, df.columns, df.values, ..."
   ]
  },
  {
   "cell_type": "code",
   "execution_count": 39,
   "metadata": {},
   "outputs": [
    {
     "data": {
      "text/html": [
       "<div>\n",
       "<style scoped>\n",
       "    .dataframe tbody tr th:only-of-type {\n",
       "        vertical-align: middle;\n",
       "    }\n",
       "\n",
       "    .dataframe tbody tr th {\n",
       "        vertical-align: top;\n",
       "    }\n",
       "\n",
       "    .dataframe thead th {\n",
       "        text-align: right;\n",
       "    }\n",
       "</style>\n",
       "<table border=\"1\" class=\"dataframe\">\n",
       "  <thead>\n",
       "    <tr style=\"text-align: right;\">\n",
       "      <th></th>\n",
       "      <th>A</th>\n",
       "      <th>B</th>\n",
       "      <th>C</th>\n",
       "      <th>D</th>\n",
       "    </tr>\n",
       "  </thead>\n",
       "  <tbody>\n",
       "    <tr>\n",
       "      <th>2023-01-01</th>\n",
       "      <td>0.792554</td>\n",
       "      <td>-1.816950</td>\n",
       "      <td>0.350210</td>\n",
       "      <td>1.404980</td>\n",
       "    </tr>\n",
       "    <tr>\n",
       "      <th>2023-01-02</th>\n",
       "      <td>-0.069008</td>\n",
       "      <td>-0.625753</td>\n",
       "      <td>-0.661870</td>\n",
       "      <td>0.755980</td>\n",
       "    </tr>\n",
       "    <tr>\n",
       "      <th>2023-01-03</th>\n",
       "      <td>0.828632</td>\n",
       "      <td>0.587138</td>\n",
       "      <td>0.338819</td>\n",
       "      <td>-0.152775</td>\n",
       "    </tr>\n",
       "    <tr>\n",
       "      <th>2023-01-04</th>\n",
       "      <td>1.563775</td>\n",
       "      <td>-0.242219</td>\n",
       "      <td>0.424653</td>\n",
       "      <td>1.284690</td>\n",
       "    </tr>\n",
       "    <tr>\n",
       "      <th>2023-01-05</th>\n",
       "      <td>-0.564688</td>\n",
       "      <td>-0.413279</td>\n",
       "      <td>-0.286940</td>\n",
       "      <td>-1.230376</td>\n",
       "    </tr>\n",
       "  </tbody>\n",
       "</table>\n",
       "</div>"
      ],
      "text/plain": [
       "                   A         B         C         D\n",
       "2023-01-01  0.792554 -1.816950  0.350210  1.404980\n",
       "2023-01-02 -0.069008 -0.625753 -0.661870  0.755980\n",
       "2023-01-03  0.828632  0.587138  0.338819 -0.152775\n",
       "2023-01-04  1.563775 -0.242219  0.424653  1.284690\n",
       "2023-01-05 -0.564688 -0.413279 -0.286940 -1.230376"
      ]
     },
     "execution_count": 39,
     "metadata": {},
     "output_type": "execute_result"
    }
   ],
   "source": [
    "df.head()"
   ]
  },
  {
   "cell_type": "code",
   "execution_count": 40,
   "metadata": {},
   "outputs": [
    {
     "data": {
      "text/html": [
       "<div>\n",
       "<style scoped>\n",
       "    .dataframe tbody tr th:only-of-type {\n",
       "        vertical-align: middle;\n",
       "    }\n",
       "\n",
       "    .dataframe tbody tr th {\n",
       "        vertical-align: top;\n",
       "    }\n",
       "\n",
       "    .dataframe thead th {\n",
       "        text-align: right;\n",
       "    }\n",
       "</style>\n",
       "<table border=\"1\" class=\"dataframe\">\n",
       "  <thead>\n",
       "    <tr style=\"text-align: right;\">\n",
       "      <th></th>\n",
       "      <th>A</th>\n",
       "      <th>B</th>\n",
       "      <th>C</th>\n",
       "      <th>D</th>\n",
       "    </tr>\n",
       "  </thead>\n",
       "  <tbody>\n",
       "    <tr>\n",
       "      <th>2023-01-02</th>\n",
       "      <td>-0.069008</td>\n",
       "      <td>-0.625753</td>\n",
       "      <td>-0.661870</td>\n",
       "      <td>0.755980</td>\n",
       "    </tr>\n",
       "    <tr>\n",
       "      <th>2023-01-03</th>\n",
       "      <td>0.828632</td>\n",
       "      <td>0.587138</td>\n",
       "      <td>0.338819</td>\n",
       "      <td>-0.152775</td>\n",
       "    </tr>\n",
       "    <tr>\n",
       "      <th>2023-01-04</th>\n",
       "      <td>1.563775</td>\n",
       "      <td>-0.242219</td>\n",
       "      <td>0.424653</td>\n",
       "      <td>1.284690</td>\n",
       "    </tr>\n",
       "    <tr>\n",
       "      <th>2023-01-05</th>\n",
       "      <td>-0.564688</td>\n",
       "      <td>-0.413279</td>\n",
       "      <td>-0.286940</td>\n",
       "      <td>-1.230376</td>\n",
       "    </tr>\n",
       "    <tr>\n",
       "      <th>2023-01-06</th>\n",
       "      <td>1.294685</td>\n",
       "      <td>1.979907</td>\n",
       "      <td>-0.570325</td>\n",
       "      <td>0.934019</td>\n",
       "    </tr>\n",
       "  </tbody>\n",
       "</table>\n",
       "</div>"
      ],
      "text/plain": [
       "                   A         B         C         D\n",
       "2023-01-02 -0.069008 -0.625753 -0.661870  0.755980\n",
       "2023-01-03  0.828632  0.587138  0.338819 -0.152775\n",
       "2023-01-04  1.563775 -0.242219  0.424653  1.284690\n",
       "2023-01-05 -0.564688 -0.413279 -0.286940 -1.230376\n",
       "2023-01-06  1.294685  1.979907 -0.570325  0.934019"
      ]
     },
     "execution_count": 40,
     "metadata": {},
     "output_type": "execute_result"
    }
   ],
   "source": [
    "df.tail()"
   ]
  },
  {
   "cell_type": "code",
   "execution_count": 41,
   "metadata": {},
   "outputs": [
    {
     "data": {
      "text/plain": [
       "DatetimeIndex(['2023-01-01', '2023-01-02', '2023-01-03', '2023-01-04',\n",
       "               '2023-01-05', '2023-01-06'],\n",
       "              dtype='datetime64[ns]', freq='D')"
      ]
     },
     "execution_count": 41,
     "metadata": {},
     "output_type": "execute_result"
    }
   ],
   "source": [
    "df.index"
   ]
  },
  {
   "cell_type": "code",
   "execution_count": 42,
   "metadata": {},
   "outputs": [
    {
     "data": {
      "text/plain": [
       "Index(['A', 'B', 'C', 'D'], dtype='object')"
      ]
     },
     "execution_count": 42,
     "metadata": {},
     "output_type": "execute_result"
    }
   ],
   "source": [
    "df.columns"
   ]
  },
  {
   "cell_type": "code",
   "execution_count": 43,
   "metadata": {},
   "outputs": [
    {
     "data": {
      "text/plain": [
       "array([[ 0.79255413, -1.81694999,  0.35020953,  1.40498027],\n",
       "       [-0.06900768, -0.62575308, -0.66187013,  0.75597956],\n",
       "       [ 0.82863207,  0.58713825,  0.33881898, -0.15277535],\n",
       "       [ 1.56377512, -0.24221876,  0.4246531 ,  1.28469043],\n",
       "       [-0.56468827, -0.4132788 , -0.28693992, -1.23037567],\n",
       "       [ 1.29468486,  1.97990687, -0.57032513,  0.9340191 ]])"
      ]
     },
     "execution_count": 43,
     "metadata": {},
     "output_type": "execute_result"
    }
   ],
   "source": [
    "df.values"
   ]
  },
  {
   "cell_type": "markdown",
   "metadata": {},
   "source": [
    "- **df.info()**\n",
    "\n",
    "\t- DataFrame의 개요(기본 정보)를 확인하는 메서드\t\n",
    "\t- 여기서는 각 컬럼의 크기와 데이터형태를 확인하는 경우가 많다."
   ]
  },
  {
   "cell_type": "code",
   "execution_count": 44,
   "metadata": {},
   "outputs": [
    {
     "name": "stdout",
     "output_type": "stream",
     "text": [
      "<class 'pandas.core.frame.DataFrame'>\n",
      "DatetimeIndex: 6 entries, 2023-01-01 to 2023-01-06\n",
      "Freq: D\n",
      "Data columns (total 4 columns):\n",
      " #   Column  Non-Null Count  Dtype  \n",
      "---  ------  --------------  -----  \n",
      " 0   A       6 non-null      float64\n",
      " 1   B       6 non-null      float64\n",
      " 2   C       6 non-null      float64\n",
      " 3   D       6 non-null      float64\n",
      "dtypes: float64(4)\n",
      "memory usage: 240.0 bytes\n"
     ]
    }
   ],
   "source": [
    "df.info()"
   ]
  },
  {
   "cell_type": "markdown",
   "metadata": {},
   "source": [
    "- **df.describe()**\n",
    "\n",
    "\t- DataFrame의 통계적 개요(기본 정보)를 확인하는 메서드    \n",
    "    - count : column별 value 개수\n",
    "    - mean : 평균값\n",
    "    - std : 표준편차\n",
    "    - min, max : 최소, 최대 값"
   ]
  },
  {
   "cell_type": "code",
   "execution_count": 45,
   "metadata": {},
   "outputs": [
    {
     "data": {
      "text/html": [
       "<div>\n",
       "<style scoped>\n",
       "    .dataframe tbody tr th:only-of-type {\n",
       "        vertical-align: middle;\n",
       "    }\n",
       "\n",
       "    .dataframe tbody tr th {\n",
       "        vertical-align: top;\n",
       "    }\n",
       "\n",
       "    .dataframe thead th {\n",
       "        text-align: right;\n",
       "    }\n",
       "</style>\n",
       "<table border=\"1\" class=\"dataframe\">\n",
       "  <thead>\n",
       "    <tr style=\"text-align: right;\">\n",
       "      <th></th>\n",
       "      <th>A</th>\n",
       "      <th>B</th>\n",
       "      <th>C</th>\n",
       "      <th>D</th>\n",
       "    </tr>\n",
       "  </thead>\n",
       "  <tbody>\n",
       "    <tr>\n",
       "      <th>count</th>\n",
       "      <td>6.000000</td>\n",
       "      <td>6.000000</td>\n",
       "      <td>6.000000</td>\n",
       "      <td>6.000000</td>\n",
       "    </tr>\n",
       "    <tr>\n",
       "      <th>mean</th>\n",
       "      <td>0.640992</td>\n",
       "      <td>-0.088526</td>\n",
       "      <td>-0.067576</td>\n",
       "      <td>0.499420</td>\n",
       "    </tr>\n",
       "    <tr>\n",
       "      <th>std</th>\n",
       "      <td>0.811762</td>\n",
       "      <td>1.275938</td>\n",
       "      <td>0.497203</td>\n",
       "      <td>1.010835</td>\n",
       "    </tr>\n",
       "    <tr>\n",
       "      <th>min</th>\n",
       "      <td>-0.564688</td>\n",
       "      <td>-1.816950</td>\n",
       "      <td>-0.661870</td>\n",
       "      <td>-1.230376</td>\n",
       "    </tr>\n",
       "    <tr>\n",
       "      <th>25%</th>\n",
       "      <td>0.146383</td>\n",
       "      <td>-0.572635</td>\n",
       "      <td>-0.499479</td>\n",
       "      <td>0.074413</td>\n",
       "    </tr>\n",
       "    <tr>\n",
       "      <th>50%</th>\n",
       "      <td>0.810593</td>\n",
       "      <td>-0.327749</td>\n",
       "      <td>0.025940</td>\n",
       "      <td>0.844999</td>\n",
       "    </tr>\n",
       "    <tr>\n",
       "      <th>75%</th>\n",
       "      <td>1.178172</td>\n",
       "      <td>0.379799</td>\n",
       "      <td>0.347362</td>\n",
       "      <td>1.197023</td>\n",
       "    </tr>\n",
       "    <tr>\n",
       "      <th>max</th>\n",
       "      <td>1.563775</td>\n",
       "      <td>1.979907</td>\n",
       "      <td>0.424653</td>\n",
       "      <td>1.404980</td>\n",
       "    </tr>\n",
       "  </tbody>\n",
       "</table>\n",
       "</div>"
      ],
      "text/plain": [
       "              A         B         C         D\n",
       "count  6.000000  6.000000  6.000000  6.000000\n",
       "mean   0.640992 -0.088526 -0.067576  0.499420\n",
       "std    0.811762  1.275938  0.497203  1.010835\n",
       "min   -0.564688 -1.816950 -0.661870 -1.230376\n",
       "25%    0.146383 -0.572635 -0.499479  0.074413\n",
       "50%    0.810593 -0.327749  0.025940  0.844999\n",
       "75%    1.178172  0.379799  0.347362  1.197023\n",
       "max    1.563775  1.979907  0.424653  1.404980"
      ]
     },
     "execution_count": 45,
     "metadata": {},
     "output_type": "execute_result"
    }
   ],
   "source": [
    "df.describe()"
   ]
  },
  {
   "cell_type": "markdown",
   "metadata": {},
   "source": [
    "-----"
   ]
  },
  {
   "cell_type": "markdown",
   "metadata": {},
   "source": [
    "#### 🔰 데이터 정렬"
   ]
  },
  {
   "cell_type": "markdown",
   "metadata": {},
   "source": [
    "\n",
    "- __df.sort_values(by='')__\n",
    "\n",
    "\t- 특정 컬럼(열)을 기준으로 데이터를 정렬한다."
   ]
  },
  {
   "cell_type": "code",
   "execution_count": 46,
   "metadata": {},
   "outputs": [
    {
     "data": {
      "text/html": [
       "<div>\n",
       "<style scoped>\n",
       "    .dataframe tbody tr th:only-of-type {\n",
       "        vertical-align: middle;\n",
       "    }\n",
       "\n",
       "    .dataframe tbody tr th {\n",
       "        vertical-align: top;\n",
       "    }\n",
       "\n",
       "    .dataframe thead th {\n",
       "        text-align: right;\n",
       "    }\n",
       "</style>\n",
       "<table border=\"1\" class=\"dataframe\">\n",
       "  <thead>\n",
       "    <tr style=\"text-align: right;\">\n",
       "      <th></th>\n",
       "      <th>A</th>\n",
       "      <th>B</th>\n",
       "      <th>C</th>\n",
       "      <th>D</th>\n",
       "    </tr>\n",
       "  </thead>\n",
       "  <tbody>\n",
       "    <tr>\n",
       "      <th>2023-01-01</th>\n",
       "      <td>0.792554</td>\n",
       "      <td>-1.816950</td>\n",
       "      <td>0.350210</td>\n",
       "      <td>1.404980</td>\n",
       "    </tr>\n",
       "    <tr>\n",
       "      <th>2023-01-02</th>\n",
       "      <td>-0.069008</td>\n",
       "      <td>-0.625753</td>\n",
       "      <td>-0.661870</td>\n",
       "      <td>0.755980</td>\n",
       "    </tr>\n",
       "    <tr>\n",
       "      <th>2023-01-03</th>\n",
       "      <td>0.828632</td>\n",
       "      <td>0.587138</td>\n",
       "      <td>0.338819</td>\n",
       "      <td>-0.152775</td>\n",
       "    </tr>\n",
       "    <tr>\n",
       "      <th>2023-01-04</th>\n",
       "      <td>1.563775</td>\n",
       "      <td>-0.242219</td>\n",
       "      <td>0.424653</td>\n",
       "      <td>1.284690</td>\n",
       "    </tr>\n",
       "    <tr>\n",
       "      <th>2023-01-05</th>\n",
       "      <td>-0.564688</td>\n",
       "      <td>-0.413279</td>\n",
       "      <td>-0.286940</td>\n",
       "      <td>-1.230376</td>\n",
       "    </tr>\n",
       "    <tr>\n",
       "      <th>2023-01-06</th>\n",
       "      <td>1.294685</td>\n",
       "      <td>1.979907</td>\n",
       "      <td>-0.570325</td>\n",
       "      <td>0.934019</td>\n",
       "    </tr>\n",
       "  </tbody>\n",
       "</table>\n",
       "</div>"
      ],
      "text/plain": [
       "                   A         B         C         D\n",
       "2023-01-01  0.792554 -1.816950  0.350210  1.404980\n",
       "2023-01-02 -0.069008 -0.625753 -0.661870  0.755980\n",
       "2023-01-03  0.828632  0.587138  0.338819 -0.152775\n",
       "2023-01-04  1.563775 -0.242219  0.424653  1.284690\n",
       "2023-01-05 -0.564688 -0.413279 -0.286940 -1.230376\n",
       "2023-01-06  1.294685  1.979907 -0.570325  0.934019"
      ]
     },
     "execution_count": 46,
     "metadata": {},
     "output_type": "execute_result"
    }
   ],
   "source": [
    "df"
   ]
  },
  {
   "cell_type": "code",
   "execution_count": 47,
   "metadata": {},
   "outputs": [
    {
     "data": {
      "text/html": [
       "<div>\n",
       "<style scoped>\n",
       "    .dataframe tbody tr th:only-of-type {\n",
       "        vertical-align: middle;\n",
       "    }\n",
       "\n",
       "    .dataframe tbody tr th {\n",
       "        vertical-align: top;\n",
       "    }\n",
       "\n",
       "    .dataframe thead th {\n",
       "        text-align: right;\n",
       "    }\n",
       "</style>\n",
       "<table border=\"1\" class=\"dataframe\">\n",
       "  <thead>\n",
       "    <tr style=\"text-align: right;\">\n",
       "      <th></th>\n",
       "      <th>A</th>\n",
       "      <th>B</th>\n",
       "      <th>C</th>\n",
       "      <th>D</th>\n",
       "    </tr>\n",
       "  </thead>\n",
       "  <tbody>\n",
       "    <tr>\n",
       "      <th>2023-01-01</th>\n",
       "      <td>0.792554</td>\n",
       "      <td>-1.816950</td>\n",
       "      <td>0.350210</td>\n",
       "      <td>1.404980</td>\n",
       "    </tr>\n",
       "    <tr>\n",
       "      <th>2023-01-02</th>\n",
       "      <td>-0.069008</td>\n",
       "      <td>-0.625753</td>\n",
       "      <td>-0.661870</td>\n",
       "      <td>0.755980</td>\n",
       "    </tr>\n",
       "    <tr>\n",
       "      <th>2023-01-05</th>\n",
       "      <td>-0.564688</td>\n",
       "      <td>-0.413279</td>\n",
       "      <td>-0.286940</td>\n",
       "      <td>-1.230376</td>\n",
       "    </tr>\n",
       "    <tr>\n",
       "      <th>2023-01-04</th>\n",
       "      <td>1.563775</td>\n",
       "      <td>-0.242219</td>\n",
       "      <td>0.424653</td>\n",
       "      <td>1.284690</td>\n",
       "    </tr>\n",
       "    <tr>\n",
       "      <th>2023-01-03</th>\n",
       "      <td>0.828632</td>\n",
       "      <td>0.587138</td>\n",
       "      <td>0.338819</td>\n",
       "      <td>-0.152775</td>\n",
       "    </tr>\n",
       "    <tr>\n",
       "      <th>2023-01-06</th>\n",
       "      <td>1.294685</td>\n",
       "      <td>1.979907</td>\n",
       "      <td>-0.570325</td>\n",
       "      <td>0.934019</td>\n",
       "    </tr>\n",
       "  </tbody>\n",
       "</table>\n",
       "</div>"
      ],
      "text/plain": [
       "                   A         B         C         D\n",
       "2023-01-01  0.792554 -1.816950  0.350210  1.404980\n",
       "2023-01-02 -0.069008 -0.625753 -0.661870  0.755980\n",
       "2023-01-05 -0.564688 -0.413279 -0.286940 -1.230376\n",
       "2023-01-04  1.563775 -0.242219  0.424653  1.284690\n",
       "2023-01-03  0.828632  0.587138  0.338819 -0.152775\n",
       "2023-01-06  1.294685  1.979907 -0.570325  0.934019"
      ]
     },
     "execution_count": 47,
     "metadata": {},
     "output_type": "execute_result"
    }
   ],
   "source": [
    "df.sort_values(by='B')"
   ]
  },
  {
   "cell_type": "code",
   "execution_count": 48,
   "metadata": {},
   "outputs": [
    {
     "data": {
      "text/html": [
       "<div>\n",
       "<style scoped>\n",
       "    .dataframe tbody tr th:only-of-type {\n",
       "        vertical-align: middle;\n",
       "    }\n",
       "\n",
       "    .dataframe tbody tr th {\n",
       "        vertical-align: top;\n",
       "    }\n",
       "\n",
       "    .dataframe thead th {\n",
       "        text-align: right;\n",
       "    }\n",
       "</style>\n",
       "<table border=\"1\" class=\"dataframe\">\n",
       "  <thead>\n",
       "    <tr style=\"text-align: right;\">\n",
       "      <th></th>\n",
       "      <th>A</th>\n",
       "      <th>B</th>\n",
       "      <th>C</th>\n",
       "      <th>D</th>\n",
       "    </tr>\n",
       "  </thead>\n",
       "  <tbody>\n",
       "    <tr>\n",
       "      <th>2023-01-06</th>\n",
       "      <td>1.294685</td>\n",
       "      <td>1.979907</td>\n",
       "      <td>-0.570325</td>\n",
       "      <td>0.934019</td>\n",
       "    </tr>\n",
       "    <tr>\n",
       "      <th>2023-01-03</th>\n",
       "      <td>0.828632</td>\n",
       "      <td>0.587138</td>\n",
       "      <td>0.338819</td>\n",
       "      <td>-0.152775</td>\n",
       "    </tr>\n",
       "    <tr>\n",
       "      <th>2023-01-04</th>\n",
       "      <td>1.563775</td>\n",
       "      <td>-0.242219</td>\n",
       "      <td>0.424653</td>\n",
       "      <td>1.284690</td>\n",
       "    </tr>\n",
       "    <tr>\n",
       "      <th>2023-01-05</th>\n",
       "      <td>-0.564688</td>\n",
       "      <td>-0.413279</td>\n",
       "      <td>-0.286940</td>\n",
       "      <td>-1.230376</td>\n",
       "    </tr>\n",
       "    <tr>\n",
       "      <th>2023-01-02</th>\n",
       "      <td>-0.069008</td>\n",
       "      <td>-0.625753</td>\n",
       "      <td>-0.661870</td>\n",
       "      <td>0.755980</td>\n",
       "    </tr>\n",
       "    <tr>\n",
       "      <th>2023-01-01</th>\n",
       "      <td>0.792554</td>\n",
       "      <td>-1.816950</td>\n",
       "      <td>0.350210</td>\n",
       "      <td>1.404980</td>\n",
       "    </tr>\n",
       "  </tbody>\n",
       "</table>\n",
       "</div>"
      ],
      "text/plain": [
       "                   A         B         C         D\n",
       "2023-01-06  1.294685  1.979907 -0.570325  0.934019\n",
       "2023-01-03  0.828632  0.587138  0.338819 -0.152775\n",
       "2023-01-04  1.563775 -0.242219  0.424653  1.284690\n",
       "2023-01-05 -0.564688 -0.413279 -0.286940 -1.230376\n",
       "2023-01-02 -0.069008 -0.625753 -0.661870  0.755980\n",
       "2023-01-01  0.792554 -1.816950  0.350210  1.404980"
      ]
     },
     "execution_count": 48,
     "metadata": {},
     "output_type": "execute_result"
    }
   ],
   "source": [
    "df.sort_values(by='B', ascending=False)"
   ]
  },
  {
   "cell_type": "markdown",
   "metadata": {},
   "source": [
    "- 정렬 결과를 데이터에 반영하려면 inplace param이 필요하다."
   ]
  },
  {
   "cell_type": "code",
   "execution_count": 49,
   "metadata": {},
   "outputs": [
    {
     "data": {
      "text/html": [
       "<div>\n",
       "<style scoped>\n",
       "    .dataframe tbody tr th:only-of-type {\n",
       "        vertical-align: middle;\n",
       "    }\n",
       "\n",
       "    .dataframe tbody tr th {\n",
       "        vertical-align: top;\n",
       "    }\n",
       "\n",
       "    .dataframe thead th {\n",
       "        text-align: right;\n",
       "    }\n",
       "</style>\n",
       "<table border=\"1\" class=\"dataframe\">\n",
       "  <thead>\n",
       "    <tr style=\"text-align: right;\">\n",
       "      <th></th>\n",
       "      <th>A</th>\n",
       "      <th>B</th>\n",
       "      <th>C</th>\n",
       "      <th>D</th>\n",
       "    </tr>\n",
       "  </thead>\n",
       "  <tbody>\n",
       "    <tr>\n",
       "      <th>2023-01-01</th>\n",
       "      <td>0.792554</td>\n",
       "      <td>-1.816950</td>\n",
       "      <td>0.350210</td>\n",
       "      <td>1.404980</td>\n",
       "    </tr>\n",
       "    <tr>\n",
       "      <th>2023-01-02</th>\n",
       "      <td>-0.069008</td>\n",
       "      <td>-0.625753</td>\n",
       "      <td>-0.661870</td>\n",
       "      <td>0.755980</td>\n",
       "    </tr>\n",
       "    <tr>\n",
       "      <th>2023-01-03</th>\n",
       "      <td>0.828632</td>\n",
       "      <td>0.587138</td>\n",
       "      <td>0.338819</td>\n",
       "      <td>-0.152775</td>\n",
       "    </tr>\n",
       "    <tr>\n",
       "      <th>2023-01-04</th>\n",
       "      <td>1.563775</td>\n",
       "      <td>-0.242219</td>\n",
       "      <td>0.424653</td>\n",
       "      <td>1.284690</td>\n",
       "    </tr>\n",
       "    <tr>\n",
       "      <th>2023-01-05</th>\n",
       "      <td>-0.564688</td>\n",
       "      <td>-0.413279</td>\n",
       "      <td>-0.286940</td>\n",
       "      <td>-1.230376</td>\n",
       "    </tr>\n",
       "    <tr>\n",
       "      <th>2023-01-06</th>\n",
       "      <td>1.294685</td>\n",
       "      <td>1.979907</td>\n",
       "      <td>-0.570325</td>\n",
       "      <td>0.934019</td>\n",
       "    </tr>\n",
       "  </tbody>\n",
       "</table>\n",
       "</div>"
      ],
      "text/plain": [
       "                   A         B         C         D\n",
       "2023-01-01  0.792554 -1.816950  0.350210  1.404980\n",
       "2023-01-02 -0.069008 -0.625753 -0.661870  0.755980\n",
       "2023-01-03  0.828632  0.587138  0.338819 -0.152775\n",
       "2023-01-04  1.563775 -0.242219  0.424653  1.284690\n",
       "2023-01-05 -0.564688 -0.413279 -0.286940 -1.230376\n",
       "2023-01-06  1.294685  1.979907 -0.570325  0.934019"
      ]
     },
     "execution_count": 49,
     "metadata": {},
     "output_type": "execute_result"
    }
   ],
   "source": [
    "df"
   ]
  },
  {
   "cell_type": "code",
   "execution_count": 50,
   "metadata": {},
   "outputs": [
    {
     "data": {
      "text/html": [
       "<div>\n",
       "<style scoped>\n",
       "    .dataframe tbody tr th:only-of-type {\n",
       "        vertical-align: middle;\n",
       "    }\n",
       "\n",
       "    .dataframe tbody tr th {\n",
       "        vertical-align: top;\n",
       "    }\n",
       "\n",
       "    .dataframe thead th {\n",
       "        text-align: right;\n",
       "    }\n",
       "</style>\n",
       "<table border=\"1\" class=\"dataframe\">\n",
       "  <thead>\n",
       "    <tr style=\"text-align: right;\">\n",
       "      <th></th>\n",
       "      <th>A</th>\n",
       "      <th>B</th>\n",
       "      <th>C</th>\n",
       "      <th>D</th>\n",
       "    </tr>\n",
       "  </thead>\n",
       "  <tbody>\n",
       "    <tr>\n",
       "      <th>2023-01-06</th>\n",
       "      <td>1.294685</td>\n",
       "      <td>1.979907</td>\n",
       "      <td>-0.570325</td>\n",
       "      <td>0.934019</td>\n",
       "    </tr>\n",
       "    <tr>\n",
       "      <th>2023-01-03</th>\n",
       "      <td>0.828632</td>\n",
       "      <td>0.587138</td>\n",
       "      <td>0.338819</td>\n",
       "      <td>-0.152775</td>\n",
       "    </tr>\n",
       "    <tr>\n",
       "      <th>2023-01-04</th>\n",
       "      <td>1.563775</td>\n",
       "      <td>-0.242219</td>\n",
       "      <td>0.424653</td>\n",
       "      <td>1.284690</td>\n",
       "    </tr>\n",
       "    <tr>\n",
       "      <th>2023-01-05</th>\n",
       "      <td>-0.564688</td>\n",
       "      <td>-0.413279</td>\n",
       "      <td>-0.286940</td>\n",
       "      <td>-1.230376</td>\n",
       "    </tr>\n",
       "    <tr>\n",
       "      <th>2023-01-02</th>\n",
       "      <td>-0.069008</td>\n",
       "      <td>-0.625753</td>\n",
       "      <td>-0.661870</td>\n",
       "      <td>0.755980</td>\n",
       "    </tr>\n",
       "    <tr>\n",
       "      <th>2023-01-01</th>\n",
       "      <td>0.792554</td>\n",
       "      <td>-1.816950</td>\n",
       "      <td>0.350210</td>\n",
       "      <td>1.404980</td>\n",
       "    </tr>\n",
       "  </tbody>\n",
       "</table>\n",
       "</div>"
      ],
      "text/plain": [
       "                   A         B         C         D\n",
       "2023-01-06  1.294685  1.979907 -0.570325  0.934019\n",
       "2023-01-03  0.828632  0.587138  0.338819 -0.152775\n",
       "2023-01-04  1.563775 -0.242219  0.424653  1.284690\n",
       "2023-01-05 -0.564688 -0.413279 -0.286940 -1.230376\n",
       "2023-01-02 -0.069008 -0.625753 -0.661870  0.755980\n",
       "2023-01-01  0.792554 -1.816950  0.350210  1.404980"
      ]
     },
     "execution_count": 50,
     "metadata": {},
     "output_type": "execute_result"
    }
   ],
   "source": [
    "df.sort_values(by='B', ascending=False, inplace=True)\n",
    "df"
   ]
  },
  {
   "cell_type": "markdown",
   "metadata": {},
   "source": [
    "#### 🔰 데이터 선택"
   ]
  },
  {
   "cell_type": "markdown",
   "metadata": {},
   "source": [
    "- 한 개의 컬럼 선택"
   ]
  },
  {
   "cell_type": "code",
   "execution_count": 51,
   "metadata": {},
   "outputs": [
    {
     "data": {
      "text/plain": [
       "2023-01-06    1.294685\n",
       "2023-01-03    0.828632\n",
       "2023-01-04    1.563775\n",
       "2023-01-05   -0.564688\n",
       "2023-01-02   -0.069008\n",
       "2023-01-01    0.792554\n",
       "Name: A, dtype: float64"
      ]
     },
     "execution_count": 51,
     "metadata": {},
     "output_type": "execute_result"
    }
   ],
   "source": [
    "df['A']"
   ]
  },
  {
   "cell_type": "code",
   "execution_count": 52,
   "metadata": {},
   "outputs": [
    {
     "data": {
      "text/plain": [
       "pandas.core.series.Series"
      ]
     },
     "execution_count": 52,
     "metadata": {},
     "output_type": "execute_result"
    }
   ],
   "source": [
    "type(df['A'])"
   ]
  },
  {
   "cell_type": "code",
   "execution_count": 53,
   "metadata": {},
   "outputs": [
    {
     "data": {
      "text/plain": [
       "2023-01-06    1.294685\n",
       "2023-01-03    0.828632\n",
       "2023-01-04    1.563775\n",
       "2023-01-05   -0.564688\n",
       "2023-01-02   -0.069008\n",
       "2023-01-01    0.792554\n",
       "Name: A, dtype: float64"
      ]
     },
     "execution_count": 53,
     "metadata": {},
     "output_type": "execute_result"
    }
   ],
   "source": [
    "df.A"
   ]
  },
  {
   "cell_type": "markdown",
   "metadata": {},
   "source": [
    "👆 컬럼명이 문자열일 때만 가능하다. 숫자이면 불가능!"
   ]
  },
  {
   "cell_type": "markdown",
   "metadata": {},
   "source": [
    "- 두 개 이상의 컬럼 선택\n",
    "\n",
    "\t- param은 리스트 형태여야 한다."
   ]
  },
  {
   "cell_type": "code",
   "execution_count": 54,
   "metadata": {},
   "outputs": [
    {
     "data": {
      "text/html": [
       "<div>\n",
       "<style scoped>\n",
       "    .dataframe tbody tr th:only-of-type {\n",
       "        vertical-align: middle;\n",
       "    }\n",
       "\n",
       "    .dataframe tbody tr th {\n",
       "        vertical-align: top;\n",
       "    }\n",
       "\n",
       "    .dataframe thead th {\n",
       "        text-align: right;\n",
       "    }\n",
       "</style>\n",
       "<table border=\"1\" class=\"dataframe\">\n",
       "  <thead>\n",
       "    <tr style=\"text-align: right;\">\n",
       "      <th></th>\n",
       "      <th>A</th>\n",
       "      <th>B</th>\n",
       "    </tr>\n",
       "  </thead>\n",
       "  <tbody>\n",
       "    <tr>\n",
       "      <th>2023-01-06</th>\n",
       "      <td>1.294685</td>\n",
       "      <td>1.979907</td>\n",
       "    </tr>\n",
       "    <tr>\n",
       "      <th>2023-01-03</th>\n",
       "      <td>0.828632</td>\n",
       "      <td>0.587138</td>\n",
       "    </tr>\n",
       "    <tr>\n",
       "      <th>2023-01-04</th>\n",
       "      <td>1.563775</td>\n",
       "      <td>-0.242219</td>\n",
       "    </tr>\n",
       "    <tr>\n",
       "      <th>2023-01-05</th>\n",
       "      <td>-0.564688</td>\n",
       "      <td>-0.413279</td>\n",
       "    </tr>\n",
       "    <tr>\n",
       "      <th>2023-01-02</th>\n",
       "      <td>-0.069008</td>\n",
       "      <td>-0.625753</td>\n",
       "    </tr>\n",
       "    <tr>\n",
       "      <th>2023-01-01</th>\n",
       "      <td>0.792554</td>\n",
       "      <td>-1.816950</td>\n",
       "    </tr>\n",
       "  </tbody>\n",
       "</table>\n",
       "</div>"
      ],
      "text/plain": [
       "                   A         B\n",
       "2023-01-06  1.294685  1.979907\n",
       "2023-01-03  0.828632  0.587138\n",
       "2023-01-04  1.563775 -0.242219\n",
       "2023-01-05 -0.564688 -0.413279\n",
       "2023-01-02 -0.069008 -0.625753\n",
       "2023-01-01  0.792554 -1.816950"
      ]
     },
     "execution_count": 54,
     "metadata": {},
     "output_type": "execute_result"
    }
   ],
   "source": [
    "df[['A', 'B']]"
   ]
  },
  {
   "cell_type": "markdown",
   "metadata": {},
   "source": [
    "#### 🔰 Slicing : offset index\n",
    "\n",
    "- [n:m] : n부터 (m-1)까지\n",
    "- index나 column의 이름으로 slicing하는 경우에는 명시한 이름까지 포함된다."
   ]
  },
  {
   "cell_type": "code",
   "execution_count": 55,
   "metadata": {},
   "outputs": [
    {
     "data": {
      "text/html": [
       "<div>\n",
       "<style scoped>\n",
       "    .dataframe tbody tr th:only-of-type {\n",
       "        vertical-align: middle;\n",
       "    }\n",
       "\n",
       "    .dataframe tbody tr th {\n",
       "        vertical-align: top;\n",
       "    }\n",
       "\n",
       "    .dataframe thead th {\n",
       "        text-align: right;\n",
       "    }\n",
       "</style>\n",
       "<table border=\"1\" class=\"dataframe\">\n",
       "  <thead>\n",
       "    <tr style=\"text-align: right;\">\n",
       "      <th></th>\n",
       "      <th>A</th>\n",
       "      <th>B</th>\n",
       "      <th>C</th>\n",
       "      <th>D</th>\n",
       "    </tr>\n",
       "  </thead>\n",
       "  <tbody>\n",
       "    <tr>\n",
       "      <th>2023-01-01</th>\n",
       "      <td>0.792554</td>\n",
       "      <td>-1.816950</td>\n",
       "      <td>0.350210</td>\n",
       "      <td>1.404980</td>\n",
       "    </tr>\n",
       "    <tr>\n",
       "      <th>2023-01-02</th>\n",
       "      <td>-0.069008</td>\n",
       "      <td>-0.625753</td>\n",
       "      <td>-0.661870</td>\n",
       "      <td>0.755980</td>\n",
       "    </tr>\n",
       "    <tr>\n",
       "      <th>2023-01-03</th>\n",
       "      <td>0.828632</td>\n",
       "      <td>0.587138</td>\n",
       "      <td>0.338819</td>\n",
       "      <td>-0.152775</td>\n",
       "    </tr>\n",
       "    <tr>\n",
       "      <th>2023-01-04</th>\n",
       "      <td>1.563775</td>\n",
       "      <td>-0.242219</td>\n",
       "      <td>0.424653</td>\n",
       "      <td>1.284690</td>\n",
       "    </tr>\n",
       "    <tr>\n",
       "      <th>2023-01-05</th>\n",
       "      <td>-0.564688</td>\n",
       "      <td>-0.413279</td>\n",
       "      <td>-0.286940</td>\n",
       "      <td>-1.230376</td>\n",
       "    </tr>\n",
       "    <tr>\n",
       "      <th>2023-01-06</th>\n",
       "      <td>1.294685</td>\n",
       "      <td>1.979907</td>\n",
       "      <td>-0.570325</td>\n",
       "      <td>0.934019</td>\n",
       "    </tr>\n",
       "  </tbody>\n",
       "</table>\n",
       "</div>"
      ],
      "text/plain": [
       "                   A         B         C         D\n",
       "2023-01-01  0.792554 -1.816950  0.350210  1.404980\n",
       "2023-01-02 -0.069008 -0.625753 -0.661870  0.755980\n",
       "2023-01-03  0.828632  0.587138  0.338819 -0.152775\n",
       "2023-01-04  1.563775 -0.242219  0.424653  1.284690\n",
       "2023-01-05 -0.564688 -0.413279 -0.286940 -1.230376\n",
       "2023-01-06  1.294685  1.979907 -0.570325  0.934019"
      ]
     },
     "execution_count": 55,
     "metadata": {},
     "output_type": "execute_result"
    }
   ],
   "source": [
    "df = pd.DataFrame(data, index=dates, columns=['A', 'B', 'C', 'D'])\n",
    "df"
   ]
  },
  {
   "cell_type": "code",
   "execution_count": 56,
   "metadata": {},
   "outputs": [
    {
     "data": {
      "text/html": [
       "<div>\n",
       "<style scoped>\n",
       "    .dataframe tbody tr th:only-of-type {\n",
       "        vertical-align: middle;\n",
       "    }\n",
       "\n",
       "    .dataframe tbody tr th {\n",
       "        vertical-align: top;\n",
       "    }\n",
       "\n",
       "    .dataframe thead th {\n",
       "        text-align: right;\n",
       "    }\n",
       "</style>\n",
       "<table border=\"1\" class=\"dataframe\">\n",
       "  <thead>\n",
       "    <tr style=\"text-align: right;\">\n",
       "      <th></th>\n",
       "      <th>A</th>\n",
       "      <th>B</th>\n",
       "      <th>C</th>\n",
       "      <th>D</th>\n",
       "    </tr>\n",
       "  </thead>\n",
       "  <tbody>\n",
       "    <tr>\n",
       "      <th>2023-01-01</th>\n",
       "      <td>0.792554</td>\n",
       "      <td>-1.816950</td>\n",
       "      <td>0.350210</td>\n",
       "      <td>1.404980</td>\n",
       "    </tr>\n",
       "    <tr>\n",
       "      <th>2023-01-02</th>\n",
       "      <td>-0.069008</td>\n",
       "      <td>-0.625753</td>\n",
       "      <td>-0.661870</td>\n",
       "      <td>0.755980</td>\n",
       "    </tr>\n",
       "    <tr>\n",
       "      <th>2023-01-03</th>\n",
       "      <td>0.828632</td>\n",
       "      <td>0.587138</td>\n",
       "      <td>0.338819</td>\n",
       "      <td>-0.152775</td>\n",
       "    </tr>\n",
       "  </tbody>\n",
       "</table>\n",
       "</div>"
      ],
      "text/plain": [
       "                   A         B         C         D\n",
       "2023-01-01  0.792554 -1.816950  0.350210  1.404980\n",
       "2023-01-02 -0.069008 -0.625753 -0.661870  0.755980\n",
       "2023-01-03  0.828632  0.587138  0.338819 -0.152775"
      ]
     },
     "execution_count": 56,
     "metadata": {},
     "output_type": "execute_result"
    }
   ],
   "source": [
    "df[0:3]"
   ]
  },
  {
   "cell_type": "code",
   "execution_count": 57,
   "metadata": {},
   "outputs": [
    {
     "data": {
      "text/html": [
       "<div>\n",
       "<style scoped>\n",
       "    .dataframe tbody tr th:only-of-type {\n",
       "        vertical-align: middle;\n",
       "    }\n",
       "\n",
       "    .dataframe tbody tr th {\n",
       "        vertical-align: top;\n",
       "    }\n",
       "\n",
       "    .dataframe thead th {\n",
       "        text-align: right;\n",
       "    }\n",
       "</style>\n",
       "<table border=\"1\" class=\"dataframe\">\n",
       "  <thead>\n",
       "    <tr style=\"text-align: right;\">\n",
       "      <th></th>\n",
       "      <th>A</th>\n",
       "      <th>B</th>\n",
       "      <th>C</th>\n",
       "      <th>D</th>\n",
       "    </tr>\n",
       "  </thead>\n",
       "  <tbody>\n",
       "    <tr>\n",
       "      <th>2023-01-01</th>\n",
       "      <td>0.792554</td>\n",
       "      <td>-1.816950</td>\n",
       "      <td>0.350210</td>\n",
       "      <td>1.404980</td>\n",
       "    </tr>\n",
       "    <tr>\n",
       "      <th>2023-01-02</th>\n",
       "      <td>-0.069008</td>\n",
       "      <td>-0.625753</td>\n",
       "      <td>-0.661870</td>\n",
       "      <td>0.755980</td>\n",
       "    </tr>\n",
       "    <tr>\n",
       "      <th>2023-01-03</th>\n",
       "      <td>0.828632</td>\n",
       "      <td>0.587138</td>\n",
       "      <td>0.338819</td>\n",
       "      <td>-0.152775</td>\n",
       "    </tr>\n",
       "    <tr>\n",
       "      <th>2023-01-04</th>\n",
       "      <td>1.563775</td>\n",
       "      <td>-0.242219</td>\n",
       "      <td>0.424653</td>\n",
       "      <td>1.284690</td>\n",
       "    </tr>\n",
       "  </tbody>\n",
       "</table>\n",
       "</div>"
      ],
      "text/plain": [
       "                   A         B         C         D\n",
       "2023-01-01  0.792554 -1.816950  0.350210  1.404980\n",
       "2023-01-02 -0.069008 -0.625753 -0.661870  0.755980\n",
       "2023-01-03  0.828632  0.587138  0.338819 -0.152775\n",
       "2023-01-04  1.563775 -0.242219  0.424653  1.284690"
      ]
     },
     "execution_count": 57,
     "metadata": {},
     "output_type": "execute_result"
    }
   ],
   "source": [
    "df[\"20230101\":\"20230104\"]"
   ]
  },
  {
   "cell_type": "markdown",
   "metadata": {},
   "source": [
    "- __df.loc[index, coloum]__\n",
    "\n",
    "\t- location\n",
    "\t- 이름으로 특정 인덱스(행), 컬럼(열)을 선택해야 한다.\n",
    "\t- `:`는 전체를 의미한다."
   ]
  },
  {
   "cell_type": "code",
   "execution_count": 58,
   "metadata": {},
   "outputs": [
    {
     "data": {
      "text/html": [
       "<div>\n",
       "<style scoped>\n",
       "    .dataframe tbody tr th:only-of-type {\n",
       "        vertical-align: middle;\n",
       "    }\n",
       "\n",
       "    .dataframe tbody tr th {\n",
       "        vertical-align: top;\n",
       "    }\n",
       "\n",
       "    .dataframe thead th {\n",
       "        text-align: right;\n",
       "    }\n",
       "</style>\n",
       "<table border=\"1\" class=\"dataframe\">\n",
       "  <thead>\n",
       "    <tr style=\"text-align: right;\">\n",
       "      <th></th>\n",
       "      <th>A</th>\n",
       "      <th>B</th>\n",
       "      <th>C</th>\n",
       "      <th>D</th>\n",
       "    </tr>\n",
       "  </thead>\n",
       "  <tbody>\n",
       "    <tr>\n",
       "      <th>2023-01-01</th>\n",
       "      <td>0.792554</td>\n",
       "      <td>-1.816950</td>\n",
       "      <td>0.350210</td>\n",
       "      <td>1.404980</td>\n",
       "    </tr>\n",
       "    <tr>\n",
       "      <th>2023-01-02</th>\n",
       "      <td>-0.069008</td>\n",
       "      <td>-0.625753</td>\n",
       "      <td>-0.661870</td>\n",
       "      <td>0.755980</td>\n",
       "    </tr>\n",
       "    <tr>\n",
       "      <th>2023-01-03</th>\n",
       "      <td>0.828632</td>\n",
       "      <td>0.587138</td>\n",
       "      <td>0.338819</td>\n",
       "      <td>-0.152775</td>\n",
       "    </tr>\n",
       "    <tr>\n",
       "      <th>2023-01-04</th>\n",
       "      <td>1.563775</td>\n",
       "      <td>-0.242219</td>\n",
       "      <td>0.424653</td>\n",
       "      <td>1.284690</td>\n",
       "    </tr>\n",
       "    <tr>\n",
       "      <th>2023-01-05</th>\n",
       "      <td>-0.564688</td>\n",
       "      <td>-0.413279</td>\n",
       "      <td>-0.286940</td>\n",
       "      <td>-1.230376</td>\n",
       "    </tr>\n",
       "    <tr>\n",
       "      <th>2023-01-06</th>\n",
       "      <td>1.294685</td>\n",
       "      <td>1.979907</td>\n",
       "      <td>-0.570325</td>\n",
       "      <td>0.934019</td>\n",
       "    </tr>\n",
       "  </tbody>\n",
       "</table>\n",
       "</div>"
      ],
      "text/plain": [
       "                   A         B         C         D\n",
       "2023-01-01  0.792554 -1.816950  0.350210  1.404980\n",
       "2023-01-02 -0.069008 -0.625753 -0.661870  0.755980\n",
       "2023-01-03  0.828632  0.587138  0.338819 -0.152775\n",
       "2023-01-04  1.563775 -0.242219  0.424653  1.284690\n",
       "2023-01-05 -0.564688 -0.413279 -0.286940 -1.230376\n",
       "2023-01-06  1.294685  1.979907 -0.570325  0.934019"
      ]
     },
     "execution_count": 58,
     "metadata": {},
     "output_type": "execute_result"
    }
   ],
   "source": [
    "df"
   ]
  },
  {
   "cell_type": "code",
   "execution_count": 59,
   "metadata": {},
   "outputs": [
    {
     "data": {
      "text/plain": [
       "2023-01-01    0.792554\n",
       "2023-01-02   -0.069008\n",
       "2023-01-03    0.828632\n",
       "2023-01-04    1.563775\n",
       "2023-01-05   -0.564688\n",
       "2023-01-06    1.294685\n",
       "Freq: D, Name: A, dtype: float64"
      ]
     },
     "execution_count": 59,
     "metadata": {},
     "output_type": "execute_result"
    }
   ],
   "source": [
    "df.loc[:, 'A']"
   ]
  },
  {
   "cell_type": "code",
   "execution_count": 60,
   "metadata": {},
   "outputs": [
    {
     "data": {
      "text/html": [
       "<div>\n",
       "<style scoped>\n",
       "    .dataframe tbody tr th:only-of-type {\n",
       "        vertical-align: middle;\n",
       "    }\n",
       "\n",
       "    .dataframe tbody tr th {\n",
       "        vertical-align: top;\n",
       "    }\n",
       "\n",
       "    .dataframe thead th {\n",
       "        text-align: right;\n",
       "    }\n",
       "</style>\n",
       "<table border=\"1\" class=\"dataframe\">\n",
       "  <thead>\n",
       "    <tr style=\"text-align: right;\">\n",
       "      <th></th>\n",
       "      <th>A</th>\n",
       "      <th>B</th>\n",
       "    </tr>\n",
       "  </thead>\n",
       "  <tbody>\n",
       "    <tr>\n",
       "      <th>2023-01-01</th>\n",
       "      <td>0.792554</td>\n",
       "      <td>-1.816950</td>\n",
       "    </tr>\n",
       "    <tr>\n",
       "      <th>2023-01-02</th>\n",
       "      <td>-0.069008</td>\n",
       "      <td>-0.625753</td>\n",
       "    </tr>\n",
       "    <tr>\n",
       "      <th>2023-01-03</th>\n",
       "      <td>0.828632</td>\n",
       "      <td>0.587138</td>\n",
       "    </tr>\n",
       "    <tr>\n",
       "      <th>2023-01-04</th>\n",
       "      <td>1.563775</td>\n",
       "      <td>-0.242219</td>\n",
       "    </tr>\n",
       "    <tr>\n",
       "      <th>2023-01-05</th>\n",
       "      <td>-0.564688</td>\n",
       "      <td>-0.413279</td>\n",
       "    </tr>\n",
       "    <tr>\n",
       "      <th>2023-01-06</th>\n",
       "      <td>1.294685</td>\n",
       "      <td>1.979907</td>\n",
       "    </tr>\n",
       "  </tbody>\n",
       "</table>\n",
       "</div>"
      ],
      "text/plain": [
       "                   A         B\n",
       "2023-01-01  0.792554 -1.816950\n",
       "2023-01-02 -0.069008 -0.625753\n",
       "2023-01-03  0.828632  0.587138\n",
       "2023-01-04  1.563775 -0.242219\n",
       "2023-01-05 -0.564688 -0.413279\n",
       "2023-01-06  1.294685  1.979907"
      ]
     },
     "execution_count": 60,
     "metadata": {},
     "output_type": "execute_result"
    }
   ],
   "source": [
    "df.loc[:, ['A', 'B']]"
   ]
  },
  {
   "cell_type": "code",
   "execution_count": 61,
   "metadata": {},
   "outputs": [
    {
     "data": {
      "text/plain": [
       "A   -0.069008\n",
       "B   -0.625753\n",
       "Name: 2023-01-02 00:00:00, dtype: float64"
      ]
     },
     "execution_count": 61,
     "metadata": {},
     "output_type": "execute_result"
    }
   ],
   "source": [
    "df.loc[\"20230102\", ['A', 'B']]"
   ]
  },
  {
   "cell_type": "code",
   "execution_count": 62,
   "metadata": {},
   "outputs": [
    {
     "data": {
      "text/html": [
       "<div>\n",
       "<style scoped>\n",
       "    .dataframe tbody tr th:only-of-type {\n",
       "        vertical-align: middle;\n",
       "    }\n",
       "\n",
       "    .dataframe tbody tr th {\n",
       "        vertical-align: top;\n",
       "    }\n",
       "\n",
       "    .dataframe thead th {\n",
       "        text-align: right;\n",
       "    }\n",
       "</style>\n",
       "<table border=\"1\" class=\"dataframe\">\n",
       "  <thead>\n",
       "    <tr style=\"text-align: right;\">\n",
       "      <th></th>\n",
       "      <th>A</th>\n",
       "      <th>B</th>\n",
       "    </tr>\n",
       "  </thead>\n",
       "  <tbody>\n",
       "    <tr>\n",
       "      <th>2023-01-02</th>\n",
       "      <td>-0.069008</td>\n",
       "      <td>-0.625753</td>\n",
       "    </tr>\n",
       "    <tr>\n",
       "      <th>2023-01-03</th>\n",
       "      <td>0.828632</td>\n",
       "      <td>0.587138</td>\n",
       "    </tr>\n",
       "    <tr>\n",
       "      <th>2023-01-04</th>\n",
       "      <td>1.563775</td>\n",
       "      <td>-0.242219</td>\n",
       "    </tr>\n",
       "  </tbody>\n",
       "</table>\n",
       "</div>"
      ],
      "text/plain": [
       "                   A         B\n",
       "2023-01-02 -0.069008 -0.625753\n",
       "2023-01-03  0.828632  0.587138\n",
       "2023-01-04  1.563775 -0.242219"
      ]
     },
     "execution_count": 62,
     "metadata": {},
     "output_type": "execute_result"
    }
   ],
   "source": [
    "df.loc[\"20230102\":\"20230104\", ['A', 'B']]"
   ]
  },
  {
   "cell_type": "code",
   "execution_count": 63,
   "metadata": {},
   "outputs": [
    {
     "data": {
      "text/html": [
       "<div>\n",
       "<style scoped>\n",
       "    .dataframe tbody tr th:only-of-type {\n",
       "        vertical-align: middle;\n",
       "    }\n",
       "\n",
       "    .dataframe tbody tr th {\n",
       "        vertical-align: top;\n",
       "    }\n",
       "\n",
       "    .dataframe thead th {\n",
       "        text-align: right;\n",
       "    }\n",
       "</style>\n",
       "<table border=\"1\" class=\"dataframe\">\n",
       "  <thead>\n",
       "    <tr style=\"text-align: right;\">\n",
       "      <th></th>\n",
       "      <th>A</th>\n",
       "      <th>B</th>\n",
       "      <th>C</th>\n",
       "      <th>D</th>\n",
       "    </tr>\n",
       "  </thead>\n",
       "  <tbody>\n",
       "    <tr>\n",
       "      <th>2023-01-02</th>\n",
       "      <td>-0.069008</td>\n",
       "      <td>-0.625753</td>\n",
       "      <td>-0.661870</td>\n",
       "      <td>0.755980</td>\n",
       "    </tr>\n",
       "    <tr>\n",
       "      <th>2023-01-03</th>\n",
       "      <td>0.828632</td>\n",
       "      <td>0.587138</td>\n",
       "      <td>0.338819</td>\n",
       "      <td>-0.152775</td>\n",
       "    </tr>\n",
       "    <tr>\n",
       "      <th>2023-01-04</th>\n",
       "      <td>1.563775</td>\n",
       "      <td>-0.242219</td>\n",
       "      <td>0.424653</td>\n",
       "      <td>1.284690</td>\n",
       "    </tr>\n",
       "  </tbody>\n",
       "</table>\n",
       "</div>"
      ],
      "text/plain": [
       "                   A         B         C         D\n",
       "2023-01-02 -0.069008 -0.625753 -0.661870  0.755980\n",
       "2023-01-03  0.828632  0.587138  0.338819 -0.152775\n",
       "2023-01-04  1.563775 -0.242219  0.424653  1.284690"
      ]
     },
     "execution_count": 63,
     "metadata": {},
     "output_type": "execute_result"
    }
   ],
   "source": [
    "df.loc[\"20230102\":\"20230104\", 'A':'D']"
   ]
  },
  {
   "cell_type": "markdown",
   "metadata": {},
   "source": [
    "- __df.iloc[rows, columns]__\n",
    "\n",
    "\t- index location\n",
    "\t- 컴퓨터가 인식하는 인덱스 값으로 선택"
   ]
  },
  {
   "cell_type": "code",
   "execution_count": 64,
   "metadata": {},
   "outputs": [
    {
     "data": {
      "text/html": [
       "<div>\n",
       "<style scoped>\n",
       "    .dataframe tbody tr th:only-of-type {\n",
       "        vertical-align: middle;\n",
       "    }\n",
       "\n",
       "    .dataframe tbody tr th {\n",
       "        vertical-align: top;\n",
       "    }\n",
       "\n",
       "    .dataframe thead th {\n",
       "        text-align: right;\n",
       "    }\n",
       "</style>\n",
       "<table border=\"1\" class=\"dataframe\">\n",
       "  <thead>\n",
       "    <tr style=\"text-align: right;\">\n",
       "      <th></th>\n",
       "      <th>A</th>\n",
       "      <th>B</th>\n",
       "      <th>C</th>\n",
       "      <th>D</th>\n",
       "    </tr>\n",
       "  </thead>\n",
       "  <tbody>\n",
       "    <tr>\n",
       "      <th>2023-01-01</th>\n",
       "      <td>0.792554</td>\n",
       "      <td>-1.816950</td>\n",
       "      <td>0.350210</td>\n",
       "      <td>1.404980</td>\n",
       "    </tr>\n",
       "    <tr>\n",
       "      <th>2023-01-02</th>\n",
       "      <td>-0.069008</td>\n",
       "      <td>-0.625753</td>\n",
       "      <td>-0.661870</td>\n",
       "      <td>0.755980</td>\n",
       "    </tr>\n",
       "    <tr>\n",
       "      <th>2023-01-03</th>\n",
       "      <td>0.828632</td>\n",
       "      <td>0.587138</td>\n",
       "      <td>0.338819</td>\n",
       "      <td>-0.152775</td>\n",
       "    </tr>\n",
       "    <tr>\n",
       "      <th>2023-01-04</th>\n",
       "      <td>1.563775</td>\n",
       "      <td>-0.242219</td>\n",
       "      <td>0.424653</td>\n",
       "      <td>1.284690</td>\n",
       "    </tr>\n",
       "    <tr>\n",
       "      <th>2023-01-05</th>\n",
       "      <td>-0.564688</td>\n",
       "      <td>-0.413279</td>\n",
       "      <td>-0.286940</td>\n",
       "      <td>-1.230376</td>\n",
       "    </tr>\n",
       "    <tr>\n",
       "      <th>2023-01-06</th>\n",
       "      <td>1.294685</td>\n",
       "      <td>1.979907</td>\n",
       "      <td>-0.570325</td>\n",
       "      <td>0.934019</td>\n",
       "    </tr>\n",
       "  </tbody>\n",
       "</table>\n",
       "</div>"
      ],
      "text/plain": [
       "                   A         B         C         D\n",
       "2023-01-01  0.792554 -1.816950  0.350210  1.404980\n",
       "2023-01-02 -0.069008 -0.625753 -0.661870  0.755980\n",
       "2023-01-03  0.828632  0.587138  0.338819 -0.152775\n",
       "2023-01-04  1.563775 -0.242219  0.424653  1.284690\n",
       "2023-01-05 -0.564688 -0.413279 -0.286940 -1.230376\n",
       "2023-01-06  1.294685  1.979907 -0.570325  0.934019"
      ]
     },
     "execution_count": 64,
     "metadata": {},
     "output_type": "execute_result"
    }
   ],
   "source": [
    "df"
   ]
  },
  {
   "cell_type": "code",
   "execution_count": 65,
   "metadata": {},
   "outputs": [
    {
     "data": {
      "text/plain": [
       "A    1.563775\n",
       "B   -0.242219\n",
       "C    0.424653\n",
       "D    1.284690\n",
       "Name: 2023-01-04 00:00:00, dtype: float64"
      ]
     },
     "execution_count": 65,
     "metadata": {},
     "output_type": "execute_result"
    }
   ],
   "source": [
    "df.iloc[3]"
   ]
  },
  {
   "cell_type": "code",
   "execution_count": 66,
   "metadata": {},
   "outputs": [
    {
     "data": {
      "text/plain": [
       "0.42465310412068547"
      ]
     },
     "execution_count": 66,
     "metadata": {},
     "output_type": "execute_result"
    }
   ],
   "source": [
    "df.iloc[3, 2]"
   ]
  },
  {
   "cell_type": "code",
   "execution_count": 67,
   "metadata": {},
   "outputs": [
    {
     "data": {
      "text/html": [
       "<div>\n",
       "<style scoped>\n",
       "    .dataframe tbody tr th:only-of-type {\n",
       "        vertical-align: middle;\n",
       "    }\n",
       "\n",
       "    .dataframe tbody tr th {\n",
       "        vertical-align: top;\n",
       "    }\n",
       "\n",
       "    .dataframe thead th {\n",
       "        text-align: right;\n",
       "    }\n",
       "</style>\n",
       "<table border=\"1\" class=\"dataframe\">\n",
       "  <thead>\n",
       "    <tr style=\"text-align: right;\">\n",
       "      <th></th>\n",
       "      <th>A</th>\n",
       "      <th>B</th>\n",
       "    </tr>\n",
       "  </thead>\n",
       "  <tbody>\n",
       "    <tr>\n",
       "      <th>2023-01-04</th>\n",
       "      <td>1.563775</td>\n",
       "      <td>-0.242219</td>\n",
       "    </tr>\n",
       "    <tr>\n",
       "      <th>2023-01-05</th>\n",
       "      <td>-0.564688</td>\n",
       "      <td>-0.413279</td>\n",
       "    </tr>\n",
       "  </tbody>\n",
       "</table>\n",
       "</div>"
      ],
      "text/plain": [
       "                   A         B\n",
       "2023-01-04  1.563775 -0.242219\n",
       "2023-01-05 -0.564688 -0.413279"
      ]
     },
     "execution_count": 67,
     "metadata": {},
     "output_type": "execute_result"
    }
   ],
   "source": [
    "df.iloc[3:5, 0:2]"
   ]
  },
  {
   "cell_type": "code",
   "execution_count": 68,
   "metadata": {},
   "outputs": [
    {
     "data": {
      "text/html": [
       "<div>\n",
       "<style scoped>\n",
       "    .dataframe tbody tr th:only-of-type {\n",
       "        vertical-align: middle;\n",
       "    }\n",
       "\n",
       "    .dataframe tbody tr th {\n",
       "        vertical-align: top;\n",
       "    }\n",
       "\n",
       "    .dataframe thead th {\n",
       "        text-align: right;\n",
       "    }\n",
       "</style>\n",
       "<table border=\"1\" class=\"dataframe\">\n",
       "  <thead>\n",
       "    <tr style=\"text-align: right;\">\n",
       "      <th></th>\n",
       "      <th>A</th>\n",
       "      <th>C</th>\n",
       "    </tr>\n",
       "  </thead>\n",
       "  <tbody>\n",
       "    <tr>\n",
       "      <th>2023-01-02</th>\n",
       "      <td>-0.069008</td>\n",
       "      <td>-0.661870</td>\n",
       "    </tr>\n",
       "    <tr>\n",
       "      <th>2023-01-03</th>\n",
       "      <td>0.828632</td>\n",
       "      <td>0.338819</td>\n",
       "    </tr>\n",
       "    <tr>\n",
       "      <th>2023-01-05</th>\n",
       "      <td>-0.564688</td>\n",
       "      <td>-0.286940</td>\n",
       "    </tr>\n",
       "  </tbody>\n",
       "</table>\n",
       "</div>"
      ],
      "text/plain": [
       "                   A         C\n",
       "2023-01-02 -0.069008 -0.661870\n",
       "2023-01-03  0.828632  0.338819\n",
       "2023-01-05 -0.564688 -0.286940"
      ]
     },
     "execution_count": 68,
     "metadata": {},
     "output_type": "execute_result"
    }
   ],
   "source": [
    "df.iloc[[1, 2, 4], [0, 2]]"
   ]
  },
  {
   "cell_type": "code",
   "execution_count": 69,
   "metadata": {},
   "outputs": [
    {
     "data": {
      "text/html": [
       "<div>\n",
       "<style scoped>\n",
       "    .dataframe tbody tr th:only-of-type {\n",
       "        vertical-align: middle;\n",
       "    }\n",
       "\n",
       "    .dataframe tbody tr th {\n",
       "        vertical-align: top;\n",
       "    }\n",
       "\n",
       "    .dataframe thead th {\n",
       "        text-align: right;\n",
       "    }\n",
       "</style>\n",
       "<table border=\"1\" class=\"dataframe\">\n",
       "  <thead>\n",
       "    <tr style=\"text-align: right;\">\n",
       "      <th></th>\n",
       "      <th>B</th>\n",
       "      <th>C</th>\n",
       "    </tr>\n",
       "  </thead>\n",
       "  <tbody>\n",
       "    <tr>\n",
       "      <th>2023-01-01</th>\n",
       "      <td>-1.816950</td>\n",
       "      <td>0.350210</td>\n",
       "    </tr>\n",
       "    <tr>\n",
       "      <th>2023-01-02</th>\n",
       "      <td>-0.625753</td>\n",
       "      <td>-0.661870</td>\n",
       "    </tr>\n",
       "    <tr>\n",
       "      <th>2023-01-03</th>\n",
       "      <td>0.587138</td>\n",
       "      <td>0.338819</td>\n",
       "    </tr>\n",
       "    <tr>\n",
       "      <th>2023-01-04</th>\n",
       "      <td>-0.242219</td>\n",
       "      <td>0.424653</td>\n",
       "    </tr>\n",
       "    <tr>\n",
       "      <th>2023-01-05</th>\n",
       "      <td>-0.413279</td>\n",
       "      <td>-0.286940</td>\n",
       "    </tr>\n",
       "    <tr>\n",
       "      <th>2023-01-06</th>\n",
       "      <td>1.979907</td>\n",
       "      <td>-0.570325</td>\n",
       "    </tr>\n",
       "  </tbody>\n",
       "</table>\n",
       "</div>"
      ],
      "text/plain": [
       "                   B         C\n",
       "2023-01-01 -1.816950  0.350210\n",
       "2023-01-02 -0.625753 -0.661870\n",
       "2023-01-03  0.587138  0.338819\n",
       "2023-01-04 -0.242219  0.424653\n",
       "2023-01-05 -0.413279 -0.286940\n",
       "2023-01-06  1.979907 -0.570325"
      ]
     },
     "execution_count": 69,
     "metadata": {},
     "output_type": "execute_result"
    }
   ],
   "source": [
    "df.iloc[:, 1:3]"
   ]
  },
  {
   "cell_type": "markdown",
   "metadata": {},
   "source": [
    "-----"
   ]
  },
  {
   "cell_type": "markdown",
   "metadata": {},
   "source": [
    "#### 🔰 조건(condition)"
   ]
  },
  {
   "cell_type": "code",
   "execution_count": 70,
   "metadata": {},
   "outputs": [
    {
     "data": {
      "text/html": [
       "<div>\n",
       "<style scoped>\n",
       "    .dataframe tbody tr th:only-of-type {\n",
       "        vertical-align: middle;\n",
       "    }\n",
       "\n",
       "    .dataframe tbody tr th {\n",
       "        vertical-align: top;\n",
       "    }\n",
       "\n",
       "    .dataframe thead th {\n",
       "        text-align: right;\n",
       "    }\n",
       "</style>\n",
       "<table border=\"1\" class=\"dataframe\">\n",
       "  <thead>\n",
       "    <tr style=\"text-align: right;\">\n",
       "      <th></th>\n",
       "      <th>A</th>\n",
       "      <th>B</th>\n",
       "      <th>C</th>\n",
       "      <th>D</th>\n",
       "    </tr>\n",
       "  </thead>\n",
       "  <tbody>\n",
       "    <tr>\n",
       "      <th>2023-01-01</th>\n",
       "      <td>0.792554</td>\n",
       "      <td>-1.816950</td>\n",
       "      <td>0.350210</td>\n",
       "      <td>1.404980</td>\n",
       "    </tr>\n",
       "    <tr>\n",
       "      <th>2023-01-02</th>\n",
       "      <td>-0.069008</td>\n",
       "      <td>-0.625753</td>\n",
       "      <td>-0.661870</td>\n",
       "      <td>0.755980</td>\n",
       "    </tr>\n",
       "    <tr>\n",
       "      <th>2023-01-03</th>\n",
       "      <td>0.828632</td>\n",
       "      <td>0.587138</td>\n",
       "      <td>0.338819</td>\n",
       "      <td>-0.152775</td>\n",
       "    </tr>\n",
       "    <tr>\n",
       "      <th>2023-01-04</th>\n",
       "      <td>1.563775</td>\n",
       "      <td>-0.242219</td>\n",
       "      <td>0.424653</td>\n",
       "      <td>1.284690</td>\n",
       "    </tr>\n",
       "    <tr>\n",
       "      <th>2023-01-05</th>\n",
       "      <td>-0.564688</td>\n",
       "      <td>-0.413279</td>\n",
       "      <td>-0.286940</td>\n",
       "      <td>-1.230376</td>\n",
       "    </tr>\n",
       "    <tr>\n",
       "      <th>2023-01-06</th>\n",
       "      <td>1.294685</td>\n",
       "      <td>1.979907</td>\n",
       "      <td>-0.570325</td>\n",
       "      <td>0.934019</td>\n",
       "    </tr>\n",
       "  </tbody>\n",
       "</table>\n",
       "</div>"
      ],
      "text/plain": [
       "                   A         B         C         D\n",
       "2023-01-01  0.792554 -1.816950  0.350210  1.404980\n",
       "2023-01-02 -0.069008 -0.625753 -0.661870  0.755980\n",
       "2023-01-03  0.828632  0.587138  0.338819 -0.152775\n",
       "2023-01-04  1.563775 -0.242219  0.424653  1.284690\n",
       "2023-01-05 -0.564688 -0.413279 -0.286940 -1.230376\n",
       "2023-01-06  1.294685  1.979907 -0.570325  0.934019"
      ]
     },
     "execution_count": 70,
     "metadata": {},
     "output_type": "execute_result"
    }
   ],
   "source": [
    "df"
   ]
  },
  {
   "cell_type": "code",
   "execution_count": 71,
   "metadata": {},
   "outputs": [
    {
     "data": {
      "text/plain": [
       "2023-01-01     True\n",
       "2023-01-02    False\n",
       "2023-01-03     True\n",
       "2023-01-04     True\n",
       "2023-01-05    False\n",
       "2023-01-06     True\n",
       "Freq: D, Name: A, dtype: bool"
      ]
     },
     "execution_count": 71,
     "metadata": {},
     "output_type": "execute_result"
    }
   ],
   "source": [
    "# A 컬럼에서 0보다 큰 숫자(양수)만 선택\n",
    "\n",
    "df['A'] > 0"
   ]
  },
  {
   "cell_type": "markdown",
   "metadata": {},
   "source": [
    "- masking"
   ]
  },
  {
   "cell_type": "code",
   "execution_count": 72,
   "metadata": {},
   "outputs": [
    {
     "data": {
      "text/html": [
       "<div>\n",
       "<style scoped>\n",
       "    .dataframe tbody tr th:only-of-type {\n",
       "        vertical-align: middle;\n",
       "    }\n",
       "\n",
       "    .dataframe tbody tr th {\n",
       "        vertical-align: top;\n",
       "    }\n",
       "\n",
       "    .dataframe thead th {\n",
       "        text-align: right;\n",
       "    }\n",
       "</style>\n",
       "<table border=\"1\" class=\"dataframe\">\n",
       "  <thead>\n",
       "    <tr style=\"text-align: right;\">\n",
       "      <th></th>\n",
       "      <th>A</th>\n",
       "      <th>B</th>\n",
       "      <th>C</th>\n",
       "      <th>D</th>\n",
       "    </tr>\n",
       "  </thead>\n",
       "  <tbody>\n",
       "    <tr>\n",
       "      <th>2023-01-01</th>\n",
       "      <td>0.792554</td>\n",
       "      <td>-1.816950</td>\n",
       "      <td>0.350210</td>\n",
       "      <td>1.404980</td>\n",
       "    </tr>\n",
       "    <tr>\n",
       "      <th>2023-01-03</th>\n",
       "      <td>0.828632</td>\n",
       "      <td>0.587138</td>\n",
       "      <td>0.338819</td>\n",
       "      <td>-0.152775</td>\n",
       "    </tr>\n",
       "    <tr>\n",
       "      <th>2023-01-04</th>\n",
       "      <td>1.563775</td>\n",
       "      <td>-0.242219</td>\n",
       "      <td>0.424653</td>\n",
       "      <td>1.284690</td>\n",
       "    </tr>\n",
       "    <tr>\n",
       "      <th>2023-01-06</th>\n",
       "      <td>1.294685</td>\n",
       "      <td>1.979907</td>\n",
       "      <td>-0.570325</td>\n",
       "      <td>0.934019</td>\n",
       "    </tr>\n",
       "  </tbody>\n",
       "</table>\n",
       "</div>"
      ],
      "text/plain": [
       "                   A         B         C         D\n",
       "2023-01-01  0.792554 -1.816950  0.350210  1.404980\n",
       "2023-01-03  0.828632  0.587138  0.338819 -0.152775\n",
       "2023-01-04  1.563775 -0.242219  0.424653  1.284690\n",
       "2023-01-06  1.294685  1.979907 -0.570325  0.934019"
      ]
     },
     "execution_count": 72,
     "metadata": {},
     "output_type": "execute_result"
    }
   ],
   "source": [
    "# 전체 DataFrame에서 'A' 컬럼 내 value 중 0보다 큰 것을 만족하는 rows 출력\n",
    "\n",
    "df[df['A'] > 0]"
   ]
  },
  {
   "cell_type": "code",
   "execution_count": 73,
   "metadata": {},
   "outputs": [
    {
     "data": {
      "text/html": [
       "<div>\n",
       "<style scoped>\n",
       "    .dataframe tbody tr th:only-of-type {\n",
       "        vertical-align: middle;\n",
       "    }\n",
       "\n",
       "    .dataframe tbody tr th {\n",
       "        vertical-align: top;\n",
       "    }\n",
       "\n",
       "    .dataframe thead th {\n",
       "        text-align: right;\n",
       "    }\n",
       "</style>\n",
       "<table border=\"1\" class=\"dataframe\">\n",
       "  <thead>\n",
       "    <tr style=\"text-align: right;\">\n",
       "      <th></th>\n",
       "      <th>A</th>\n",
       "      <th>B</th>\n",
       "      <th>C</th>\n",
       "      <th>D</th>\n",
       "    </tr>\n",
       "  </thead>\n",
       "  <tbody>\n",
       "    <tr>\n",
       "      <th>2023-01-01</th>\n",
       "      <td>0.792554</td>\n",
       "      <td>NaN</td>\n",
       "      <td>0.350210</td>\n",
       "      <td>1.404980</td>\n",
       "    </tr>\n",
       "    <tr>\n",
       "      <th>2023-01-02</th>\n",
       "      <td>NaN</td>\n",
       "      <td>NaN</td>\n",
       "      <td>NaN</td>\n",
       "      <td>0.755980</td>\n",
       "    </tr>\n",
       "    <tr>\n",
       "      <th>2023-01-03</th>\n",
       "      <td>0.828632</td>\n",
       "      <td>0.587138</td>\n",
       "      <td>0.338819</td>\n",
       "      <td>NaN</td>\n",
       "    </tr>\n",
       "    <tr>\n",
       "      <th>2023-01-04</th>\n",
       "      <td>1.563775</td>\n",
       "      <td>NaN</td>\n",
       "      <td>0.424653</td>\n",
       "      <td>1.284690</td>\n",
       "    </tr>\n",
       "    <tr>\n",
       "      <th>2023-01-05</th>\n",
       "      <td>NaN</td>\n",
       "      <td>NaN</td>\n",
       "      <td>NaN</td>\n",
       "      <td>NaN</td>\n",
       "    </tr>\n",
       "    <tr>\n",
       "      <th>2023-01-06</th>\n",
       "      <td>1.294685</td>\n",
       "      <td>1.979907</td>\n",
       "      <td>NaN</td>\n",
       "      <td>0.934019</td>\n",
       "    </tr>\n",
       "  </tbody>\n",
       "</table>\n",
       "</div>"
      ],
      "text/plain": [
       "                   A         B         C         D\n",
       "2023-01-01  0.792554       NaN  0.350210  1.404980\n",
       "2023-01-02       NaN       NaN       NaN  0.755980\n",
       "2023-01-03  0.828632  0.587138  0.338819       NaN\n",
       "2023-01-04  1.563775       NaN  0.424653  1.284690\n",
       "2023-01-05       NaN       NaN       NaN       NaN\n",
       "2023-01-06  1.294685  1.979907       NaN  0.934019"
      ]
     },
     "execution_count": 73,
     "metadata": {},
     "output_type": "execute_result"
    }
   ],
   "source": [
    "# 전체 DataFrame에서 0보다 큰 것을 만족하는 value만 출력\n",
    "\n",
    "df[df > 0]"
   ]
  },
  {
   "cell_type": "markdown",
   "metadata": {},
   "source": [
    "👆 조건(df>0)을 만족하지 못하는 value는 NaN으로 표시된다.\n",
    "\n",
    "- NaN : Not a Number\n",
    "\t- NaN은 데이터가 아니라는 의미이다."
   ]
  },
  {
   "cell_type": "markdown",
   "metadata": {},
   "source": [
    "-----"
   ]
  },
  {
   "cell_type": "markdown",
   "metadata": {},
   "source": [
    "#### 🔰 컬럼 추가\n",
    "\n",
    "- 해당 컬럼이 기존 데이터에 없다면 __추가__\n",
    "\n",
    "- 해당 컬럼이 기존 데이터에 있다면 __수정__"
   ]
  },
  {
   "cell_type": "code",
   "execution_count": 74,
   "metadata": {},
   "outputs": [
    {
     "data": {
      "text/html": [
       "<div>\n",
       "<style scoped>\n",
       "    .dataframe tbody tr th:only-of-type {\n",
       "        vertical-align: middle;\n",
       "    }\n",
       "\n",
       "    .dataframe tbody tr th {\n",
       "        vertical-align: top;\n",
       "    }\n",
       "\n",
       "    .dataframe thead th {\n",
       "        text-align: right;\n",
       "    }\n",
       "</style>\n",
       "<table border=\"1\" class=\"dataframe\">\n",
       "  <thead>\n",
       "    <tr style=\"text-align: right;\">\n",
       "      <th></th>\n",
       "      <th>A</th>\n",
       "      <th>B</th>\n",
       "      <th>C</th>\n",
       "      <th>D</th>\n",
       "    </tr>\n",
       "  </thead>\n",
       "  <tbody>\n",
       "    <tr>\n",
       "      <th>2023-01-01</th>\n",
       "      <td>0.792554</td>\n",
       "      <td>-1.816950</td>\n",
       "      <td>0.350210</td>\n",
       "      <td>1.404980</td>\n",
       "    </tr>\n",
       "    <tr>\n",
       "      <th>2023-01-02</th>\n",
       "      <td>-0.069008</td>\n",
       "      <td>-0.625753</td>\n",
       "      <td>-0.661870</td>\n",
       "      <td>0.755980</td>\n",
       "    </tr>\n",
       "    <tr>\n",
       "      <th>2023-01-03</th>\n",
       "      <td>0.828632</td>\n",
       "      <td>0.587138</td>\n",
       "      <td>0.338819</td>\n",
       "      <td>-0.152775</td>\n",
       "    </tr>\n",
       "    <tr>\n",
       "      <th>2023-01-04</th>\n",
       "      <td>1.563775</td>\n",
       "      <td>-0.242219</td>\n",
       "      <td>0.424653</td>\n",
       "      <td>1.284690</td>\n",
       "    </tr>\n",
       "    <tr>\n",
       "      <th>2023-01-05</th>\n",
       "      <td>-0.564688</td>\n",
       "      <td>-0.413279</td>\n",
       "      <td>-0.286940</td>\n",
       "      <td>-1.230376</td>\n",
       "    </tr>\n",
       "    <tr>\n",
       "      <th>2023-01-06</th>\n",
       "      <td>1.294685</td>\n",
       "      <td>1.979907</td>\n",
       "      <td>-0.570325</td>\n",
       "      <td>0.934019</td>\n",
       "    </tr>\n",
       "  </tbody>\n",
       "</table>\n",
       "</div>"
      ],
      "text/plain": [
       "                   A         B         C         D\n",
       "2023-01-01  0.792554 -1.816950  0.350210  1.404980\n",
       "2023-01-02 -0.069008 -0.625753 -0.661870  0.755980\n",
       "2023-01-03  0.828632  0.587138  0.338819 -0.152775\n",
       "2023-01-04  1.563775 -0.242219  0.424653  1.284690\n",
       "2023-01-05 -0.564688 -0.413279 -0.286940 -1.230376\n",
       "2023-01-06  1.294685  1.979907 -0.570325  0.934019"
      ]
     },
     "execution_count": 74,
     "metadata": {},
     "output_type": "execute_result"
    }
   ],
   "source": [
    "df"
   ]
  },
  {
   "cell_type": "code",
   "execution_count": 75,
   "metadata": {},
   "outputs": [
    {
     "data": {
      "text/html": [
       "<div>\n",
       "<style scoped>\n",
       "    .dataframe tbody tr th:only-of-type {\n",
       "        vertical-align: middle;\n",
       "    }\n",
       "\n",
       "    .dataframe tbody tr th {\n",
       "        vertical-align: top;\n",
       "    }\n",
       "\n",
       "    .dataframe thead th {\n",
       "        text-align: right;\n",
       "    }\n",
       "</style>\n",
       "<table border=\"1\" class=\"dataframe\">\n",
       "  <thead>\n",
       "    <tr style=\"text-align: right;\">\n",
       "      <th></th>\n",
       "      <th>A</th>\n",
       "      <th>B</th>\n",
       "      <th>C</th>\n",
       "      <th>D</th>\n",
       "      <th>E</th>\n",
       "    </tr>\n",
       "  </thead>\n",
       "  <tbody>\n",
       "    <tr>\n",
       "      <th>2023-01-01</th>\n",
       "      <td>0.792554</td>\n",
       "      <td>-1.816950</td>\n",
       "      <td>0.350210</td>\n",
       "      <td>1.404980</td>\n",
       "      <td>one</td>\n",
       "    </tr>\n",
       "    <tr>\n",
       "      <th>2023-01-02</th>\n",
       "      <td>-0.069008</td>\n",
       "      <td>-0.625753</td>\n",
       "      <td>-0.661870</td>\n",
       "      <td>0.755980</td>\n",
       "      <td>one</td>\n",
       "    </tr>\n",
       "    <tr>\n",
       "      <th>2023-01-03</th>\n",
       "      <td>0.828632</td>\n",
       "      <td>0.587138</td>\n",
       "      <td>0.338819</td>\n",
       "      <td>-0.152775</td>\n",
       "      <td>two</td>\n",
       "    </tr>\n",
       "    <tr>\n",
       "      <th>2023-01-04</th>\n",
       "      <td>1.563775</td>\n",
       "      <td>-0.242219</td>\n",
       "      <td>0.424653</td>\n",
       "      <td>1.284690</td>\n",
       "      <td>three</td>\n",
       "    </tr>\n",
       "    <tr>\n",
       "      <th>2023-01-05</th>\n",
       "      <td>-0.564688</td>\n",
       "      <td>-0.413279</td>\n",
       "      <td>-0.286940</td>\n",
       "      <td>-1.230376</td>\n",
       "      <td>four</td>\n",
       "    </tr>\n",
       "    <tr>\n",
       "      <th>2023-01-06</th>\n",
       "      <td>1.294685</td>\n",
       "      <td>1.979907</td>\n",
       "      <td>-0.570325</td>\n",
       "      <td>0.934019</td>\n",
       "      <td>seven</td>\n",
       "    </tr>\n",
       "  </tbody>\n",
       "</table>\n",
       "</div>"
      ],
      "text/plain": [
       "                   A         B         C         D      E\n",
       "2023-01-01  0.792554 -1.816950  0.350210  1.404980    one\n",
       "2023-01-02 -0.069008 -0.625753 -0.661870  0.755980    one\n",
       "2023-01-03  0.828632  0.587138  0.338819 -0.152775    two\n",
       "2023-01-04  1.563775 -0.242219  0.424653  1.284690  three\n",
       "2023-01-05 -0.564688 -0.413279 -0.286940 -1.230376   four\n",
       "2023-01-06  1.294685  1.979907 -0.570325  0.934019  seven"
      ]
     },
     "execution_count": 75,
     "metadata": {},
     "output_type": "execute_result"
    }
   ],
   "source": [
    "df['E'] = ['one', 'one', 'two', 'three', 'four', 'seven']\n",
    "df"
   ]
  },
  {
   "cell_type": "markdown",
   "metadata": {},
   "source": [
    "- __df.isin()__\n",
    "\n",
    "\t- 특정 value의 존재 유무를 확인에 그 결과를 논리형으로 반환한다.\n",
    "\t\n",
    "\t- 조사 범위를 컬럼으로 지정할 수 있고, 데이터 전체를 대상으로도 할 수 있다.\n",
    "\n",
    "\t- (values: Iterable | Series | dict) -> Series[_bool]\n",
    "\n",
    "\t\tWhether elements in Series are contained in values.\n",
    "\n",
    "\t\tReturn a boolean Series showing whether each element in the Series matches an element in the passed sequence of values exactly.\n",
    "\n",
    "\t\tParameters</br>\n",
    "\t\tvalues : set or list-like</br>\n",
    "\t\tThe sequence of values to test. Passing in a single string will raise a TypeError. Instead, turn a single string into a list of one element."
   ]
  },
  {
   "cell_type": "code",
   "execution_count": 76,
   "metadata": {},
   "outputs": [
    {
     "data": {
      "text/plain": [
       "2023-01-01    False\n",
       "2023-01-02    False\n",
       "2023-01-03     True\n",
       "2023-01-04    False\n",
       "2023-01-05    False\n",
       "2023-01-06    False\n",
       "Freq: D, Name: E, dtype: bool"
      ]
     },
     "execution_count": 76,
     "metadata": {},
     "output_type": "execute_result"
    }
   ],
   "source": [
    "df['E'].isin(['two'])"
   ]
  },
  {
   "cell_type": "code",
   "execution_count": 77,
   "metadata": {},
   "outputs": [
    {
     "data": {
      "text/plain": [
       "2023-01-01    False\n",
       "2023-01-02    False\n",
       "2023-01-03     True\n",
       "2023-01-04     True\n",
       "2023-01-05    False\n",
       "2023-01-06    False\n",
       "Freq: D, Name: E, dtype: bool"
      ]
     },
     "execution_count": 77,
     "metadata": {},
     "output_type": "execute_result"
    }
   ],
   "source": [
    "df['E'].isin(['two', 'three', 'five'])"
   ]
  },
  {
   "cell_type": "code",
   "execution_count": 78,
   "metadata": {},
   "outputs": [
    {
     "data": {
      "text/html": [
       "<div>\n",
       "<style scoped>\n",
       "    .dataframe tbody tr th:only-of-type {\n",
       "        vertical-align: middle;\n",
       "    }\n",
       "\n",
       "    .dataframe tbody tr th {\n",
       "        vertical-align: top;\n",
       "    }\n",
       "\n",
       "    .dataframe thead th {\n",
       "        text-align: right;\n",
       "    }\n",
       "</style>\n",
       "<table border=\"1\" class=\"dataframe\">\n",
       "  <thead>\n",
       "    <tr style=\"text-align: right;\">\n",
       "      <th></th>\n",
       "      <th>A</th>\n",
       "      <th>B</th>\n",
       "      <th>C</th>\n",
       "      <th>D</th>\n",
       "      <th>E</th>\n",
       "    </tr>\n",
       "  </thead>\n",
       "  <tbody>\n",
       "    <tr>\n",
       "      <th>2023-01-03</th>\n",
       "      <td>0.828632</td>\n",
       "      <td>0.587138</td>\n",
       "      <td>0.338819</td>\n",
       "      <td>-0.152775</td>\n",
       "      <td>two</td>\n",
       "    </tr>\n",
       "    <tr>\n",
       "      <th>2023-01-04</th>\n",
       "      <td>1.563775</td>\n",
       "      <td>-0.242219</td>\n",
       "      <td>0.424653</td>\n",
       "      <td>1.284690</td>\n",
       "      <td>three</td>\n",
       "    </tr>\n",
       "  </tbody>\n",
       "</table>\n",
       "</div>"
      ],
      "text/plain": [
       "                   A         B         C         D      E\n",
       "2023-01-03  0.828632  0.587138  0.338819 -0.152775    two\n",
       "2023-01-04  1.563775 -0.242219  0.424653  1.284690  three"
      ]
     },
     "execution_count": 78,
     "metadata": {},
     "output_type": "execute_result"
    }
   ],
   "source": [
    "# 전체 데이터에 masking : 조건이 True인 value가 포함된 rows 출력\n",
    "\n",
    "df[df['E'].isin(['two', 'three', 'five'])]"
   ]
  },
  {
   "cell_type": "markdown",
   "metadata": {},
   "source": [
    "-----"
   ]
  },
  {
   "cell_type": "markdown",
   "metadata": {},
   "source": [
    "#### 🔰 컬럼 제거\n",
    "\n",
    "- 특정 컬럼을 제거한다.\n",
    "\n",
    "- **del** df[columns_name]: 제거 결과가 데이터 바로 반영된다.\n",
    "- df.**drop**([columns_name]) : inplace param을 적용해야 제거 결과가 데이터에 반영된다."
   ]
  },
  {
   "cell_type": "code",
   "execution_count": 79,
   "metadata": {},
   "outputs": [
    {
     "data": {
      "text/html": [
       "<div>\n",
       "<style scoped>\n",
       "    .dataframe tbody tr th:only-of-type {\n",
       "        vertical-align: middle;\n",
       "    }\n",
       "\n",
       "    .dataframe tbody tr th {\n",
       "        vertical-align: top;\n",
       "    }\n",
       "\n",
       "    .dataframe thead th {\n",
       "        text-align: right;\n",
       "    }\n",
       "</style>\n",
       "<table border=\"1\" class=\"dataframe\">\n",
       "  <thead>\n",
       "    <tr style=\"text-align: right;\">\n",
       "      <th></th>\n",
       "      <th>A</th>\n",
       "      <th>B</th>\n",
       "      <th>C</th>\n",
       "      <th>D</th>\n",
       "      <th>E</th>\n",
       "    </tr>\n",
       "  </thead>\n",
       "  <tbody>\n",
       "    <tr>\n",
       "      <th>2023-01-01</th>\n",
       "      <td>0.792554</td>\n",
       "      <td>-1.816950</td>\n",
       "      <td>0.350210</td>\n",
       "      <td>1.404980</td>\n",
       "      <td>one</td>\n",
       "    </tr>\n",
       "    <tr>\n",
       "      <th>2023-01-02</th>\n",
       "      <td>-0.069008</td>\n",
       "      <td>-0.625753</td>\n",
       "      <td>-0.661870</td>\n",
       "      <td>0.755980</td>\n",
       "      <td>one</td>\n",
       "    </tr>\n",
       "    <tr>\n",
       "      <th>2023-01-03</th>\n",
       "      <td>0.828632</td>\n",
       "      <td>0.587138</td>\n",
       "      <td>0.338819</td>\n",
       "      <td>-0.152775</td>\n",
       "      <td>two</td>\n",
       "    </tr>\n",
       "    <tr>\n",
       "      <th>2023-01-04</th>\n",
       "      <td>1.563775</td>\n",
       "      <td>-0.242219</td>\n",
       "      <td>0.424653</td>\n",
       "      <td>1.284690</td>\n",
       "      <td>three</td>\n",
       "    </tr>\n",
       "    <tr>\n",
       "      <th>2023-01-05</th>\n",
       "      <td>-0.564688</td>\n",
       "      <td>-0.413279</td>\n",
       "      <td>-0.286940</td>\n",
       "      <td>-1.230376</td>\n",
       "      <td>four</td>\n",
       "    </tr>\n",
       "    <tr>\n",
       "      <th>2023-01-06</th>\n",
       "      <td>1.294685</td>\n",
       "      <td>1.979907</td>\n",
       "      <td>-0.570325</td>\n",
       "      <td>0.934019</td>\n",
       "      <td>seven</td>\n",
       "    </tr>\n",
       "  </tbody>\n",
       "</table>\n",
       "</div>"
      ],
      "text/plain": [
       "                   A         B         C         D      E\n",
       "2023-01-01  0.792554 -1.816950  0.350210  1.404980    one\n",
       "2023-01-02 -0.069008 -0.625753 -0.661870  0.755980    one\n",
       "2023-01-03  0.828632  0.587138  0.338819 -0.152775    two\n",
       "2023-01-04  1.563775 -0.242219  0.424653  1.284690  three\n",
       "2023-01-05 -0.564688 -0.413279 -0.286940 -1.230376   four\n",
       "2023-01-06  1.294685  1.979907 -0.570325  0.934019  seven"
      ]
     },
     "execution_count": 79,
     "metadata": {},
     "output_type": "execute_result"
    }
   ],
   "source": [
    "df"
   ]
  },
  {
   "cell_type": "code",
   "execution_count": 80,
   "metadata": {},
   "outputs": [
    {
     "data": {
      "text/html": [
       "<div>\n",
       "<style scoped>\n",
       "    .dataframe tbody tr th:only-of-type {\n",
       "        vertical-align: middle;\n",
       "    }\n",
       "\n",
       "    .dataframe tbody tr th {\n",
       "        vertical-align: top;\n",
       "    }\n",
       "\n",
       "    .dataframe thead th {\n",
       "        text-align: right;\n",
       "    }\n",
       "</style>\n",
       "<table border=\"1\" class=\"dataframe\">\n",
       "  <thead>\n",
       "    <tr style=\"text-align: right;\">\n",
       "      <th></th>\n",
       "      <th>A</th>\n",
       "      <th>B</th>\n",
       "      <th>C</th>\n",
       "      <th>D</th>\n",
       "    </tr>\n",
       "  </thead>\n",
       "  <tbody>\n",
       "    <tr>\n",
       "      <th>2023-01-01</th>\n",
       "      <td>0.792554</td>\n",
       "      <td>-1.816950</td>\n",
       "      <td>0.350210</td>\n",
       "      <td>1.404980</td>\n",
       "    </tr>\n",
       "    <tr>\n",
       "      <th>2023-01-02</th>\n",
       "      <td>-0.069008</td>\n",
       "      <td>-0.625753</td>\n",
       "      <td>-0.661870</td>\n",
       "      <td>0.755980</td>\n",
       "    </tr>\n",
       "    <tr>\n",
       "      <th>2023-01-03</th>\n",
       "      <td>0.828632</td>\n",
       "      <td>0.587138</td>\n",
       "      <td>0.338819</td>\n",
       "      <td>-0.152775</td>\n",
       "    </tr>\n",
       "    <tr>\n",
       "      <th>2023-01-04</th>\n",
       "      <td>1.563775</td>\n",
       "      <td>-0.242219</td>\n",
       "      <td>0.424653</td>\n",
       "      <td>1.284690</td>\n",
       "    </tr>\n",
       "    <tr>\n",
       "      <th>2023-01-05</th>\n",
       "      <td>-0.564688</td>\n",
       "      <td>-0.413279</td>\n",
       "      <td>-0.286940</td>\n",
       "      <td>-1.230376</td>\n",
       "    </tr>\n",
       "    <tr>\n",
       "      <th>2023-01-06</th>\n",
       "      <td>1.294685</td>\n",
       "      <td>1.979907</td>\n",
       "      <td>-0.570325</td>\n",
       "      <td>0.934019</td>\n",
       "    </tr>\n",
       "  </tbody>\n",
       "</table>\n",
       "</div>"
      ],
      "text/plain": [
       "                   A         B         C         D\n",
       "2023-01-01  0.792554 -1.816950  0.350210  1.404980\n",
       "2023-01-02 -0.069008 -0.625753 -0.661870  0.755980\n",
       "2023-01-03  0.828632  0.587138  0.338819 -0.152775\n",
       "2023-01-04  1.563775 -0.242219  0.424653  1.284690\n",
       "2023-01-05 -0.564688 -0.413279 -0.286940 -1.230376\n",
       "2023-01-06  1.294685  1.979907 -0.570325  0.934019"
      ]
     },
     "execution_count": 80,
     "metadata": {},
     "output_type": "execute_result"
    }
   ],
   "source": [
    "del df['E']\n",
    "df"
   ]
  },
  {
   "cell_type": "markdown",
   "metadata": {},
   "source": [
    "- drop()은 axis 설정이 필요하다.\n",
    "\n",
    "\t- axis : {0 or 'index', 1 or 'columns'}, default 0"
   ]
  },
  {
   "cell_type": "code",
   "execution_count": 81,
   "metadata": {},
   "outputs": [
    {
     "data": {
      "text/html": [
       "<div>\n",
       "<style scoped>\n",
       "    .dataframe tbody tr th:only-of-type {\n",
       "        vertical-align: middle;\n",
       "    }\n",
       "\n",
       "    .dataframe tbody tr th {\n",
       "        vertical-align: top;\n",
       "    }\n",
       "\n",
       "    .dataframe thead th {\n",
       "        text-align: right;\n",
       "    }\n",
       "</style>\n",
       "<table border=\"1\" class=\"dataframe\">\n",
       "  <thead>\n",
       "    <tr style=\"text-align: right;\">\n",
       "      <th></th>\n",
       "      <th>A</th>\n",
       "      <th>B</th>\n",
       "      <th>C</th>\n",
       "    </tr>\n",
       "  </thead>\n",
       "  <tbody>\n",
       "    <tr>\n",
       "      <th>2023-01-01</th>\n",
       "      <td>0.792554</td>\n",
       "      <td>-1.816950</td>\n",
       "      <td>0.350210</td>\n",
       "    </tr>\n",
       "    <tr>\n",
       "      <th>2023-01-02</th>\n",
       "      <td>-0.069008</td>\n",
       "      <td>-0.625753</td>\n",
       "      <td>-0.661870</td>\n",
       "    </tr>\n",
       "    <tr>\n",
       "      <th>2023-01-03</th>\n",
       "      <td>0.828632</td>\n",
       "      <td>0.587138</td>\n",
       "      <td>0.338819</td>\n",
       "    </tr>\n",
       "    <tr>\n",
       "      <th>2023-01-04</th>\n",
       "      <td>1.563775</td>\n",
       "      <td>-0.242219</td>\n",
       "      <td>0.424653</td>\n",
       "    </tr>\n",
       "    <tr>\n",
       "      <th>2023-01-05</th>\n",
       "      <td>-0.564688</td>\n",
       "      <td>-0.413279</td>\n",
       "      <td>-0.286940</td>\n",
       "    </tr>\n",
       "    <tr>\n",
       "      <th>2023-01-06</th>\n",
       "      <td>1.294685</td>\n",
       "      <td>1.979907</td>\n",
       "      <td>-0.570325</td>\n",
       "    </tr>\n",
       "  </tbody>\n",
       "</table>\n",
       "</div>"
      ],
      "text/plain": [
       "                   A         B         C\n",
       "2023-01-01  0.792554 -1.816950  0.350210\n",
       "2023-01-02 -0.069008 -0.625753 -0.661870\n",
       "2023-01-03  0.828632  0.587138  0.338819\n",
       "2023-01-04  1.563775 -0.242219  0.424653\n",
       "2023-01-05 -0.564688 -0.413279 -0.286940\n",
       "2023-01-06  1.294685  1.979907 -0.570325"
      ]
     },
     "execution_count": 81,
     "metadata": {},
     "output_type": "execute_result"
    }
   ],
   "source": [
    "df.drop(['D'], axis=1) # axis=1 세로(column)"
   ]
  },
  {
   "cell_type": "code",
   "execution_count": 82,
   "metadata": {},
   "outputs": [
    {
     "data": {
      "text/html": [
       "<div>\n",
       "<style scoped>\n",
       "    .dataframe tbody tr th:only-of-type {\n",
       "        vertical-align: middle;\n",
       "    }\n",
       "\n",
       "    .dataframe tbody tr th {\n",
       "        vertical-align: top;\n",
       "    }\n",
       "\n",
       "    .dataframe thead th {\n",
       "        text-align: right;\n",
       "    }\n",
       "</style>\n",
       "<table border=\"1\" class=\"dataframe\">\n",
       "  <thead>\n",
       "    <tr style=\"text-align: right;\">\n",
       "      <th></th>\n",
       "      <th>A</th>\n",
       "      <th>B</th>\n",
       "      <th>C</th>\n",
       "      <th>D</th>\n",
       "    </tr>\n",
       "  </thead>\n",
       "  <tbody>\n",
       "    <tr>\n",
       "      <th>2023-01-01</th>\n",
       "      <td>0.792554</td>\n",
       "      <td>-1.816950</td>\n",
       "      <td>0.350210</td>\n",
       "      <td>1.404980</td>\n",
       "    </tr>\n",
       "    <tr>\n",
       "      <th>2023-01-02</th>\n",
       "      <td>-0.069008</td>\n",
       "      <td>-0.625753</td>\n",
       "      <td>-0.661870</td>\n",
       "      <td>0.755980</td>\n",
       "    </tr>\n",
       "    <tr>\n",
       "      <th>2023-01-03</th>\n",
       "      <td>0.828632</td>\n",
       "      <td>0.587138</td>\n",
       "      <td>0.338819</td>\n",
       "      <td>-0.152775</td>\n",
       "    </tr>\n",
       "    <tr>\n",
       "      <th>2023-01-04</th>\n",
       "      <td>1.563775</td>\n",
       "      <td>-0.242219</td>\n",
       "      <td>0.424653</td>\n",
       "      <td>1.284690</td>\n",
       "    </tr>\n",
       "    <tr>\n",
       "      <th>2023-01-05</th>\n",
       "      <td>-0.564688</td>\n",
       "      <td>-0.413279</td>\n",
       "      <td>-0.286940</td>\n",
       "      <td>-1.230376</td>\n",
       "    </tr>\n",
       "    <tr>\n",
       "      <th>2023-01-06</th>\n",
       "      <td>1.294685</td>\n",
       "      <td>1.979907</td>\n",
       "      <td>-0.570325</td>\n",
       "      <td>0.934019</td>\n",
       "    </tr>\n",
       "  </tbody>\n",
       "</table>\n",
       "</div>"
      ],
      "text/plain": [
       "                   A         B         C         D\n",
       "2023-01-01  0.792554 -1.816950  0.350210  1.404980\n",
       "2023-01-02 -0.069008 -0.625753 -0.661870  0.755980\n",
       "2023-01-03  0.828632  0.587138  0.338819 -0.152775\n",
       "2023-01-04  1.563775 -0.242219  0.424653  1.284690\n",
       "2023-01-05 -0.564688 -0.413279 -0.286940 -1.230376\n",
       "2023-01-06  1.294685  1.979907 -0.570325  0.934019"
      ]
     },
     "execution_count": 82,
     "metadata": {},
     "output_type": "execute_result"
    }
   ],
   "source": [
    "df"
   ]
  },
  {
   "cell_type": "code",
   "execution_count": 83,
   "metadata": {},
   "outputs": [
    {
     "data": {
      "text/html": [
       "<div>\n",
       "<style scoped>\n",
       "    .dataframe tbody tr th:only-of-type {\n",
       "        vertical-align: middle;\n",
       "    }\n",
       "\n",
       "    .dataframe tbody tr th {\n",
       "        vertical-align: top;\n",
       "    }\n",
       "\n",
       "    .dataframe thead th {\n",
       "        text-align: right;\n",
       "    }\n",
       "</style>\n",
       "<table border=\"1\" class=\"dataframe\">\n",
       "  <thead>\n",
       "    <tr style=\"text-align: right;\">\n",
       "      <th></th>\n",
       "      <th>A</th>\n",
       "      <th>B</th>\n",
       "      <th>C</th>\n",
       "      <th>D</th>\n",
       "    </tr>\n",
       "  </thead>\n",
       "  <tbody>\n",
       "    <tr>\n",
       "      <th>2023-01-01</th>\n",
       "      <td>0.792554</td>\n",
       "      <td>-1.816950</td>\n",
       "      <td>0.350210</td>\n",
       "      <td>1.404980</td>\n",
       "    </tr>\n",
       "    <tr>\n",
       "      <th>2023-01-02</th>\n",
       "      <td>-0.069008</td>\n",
       "      <td>-0.625753</td>\n",
       "      <td>-0.661870</td>\n",
       "      <td>0.755980</td>\n",
       "    </tr>\n",
       "    <tr>\n",
       "      <th>2023-01-03</th>\n",
       "      <td>0.828632</td>\n",
       "      <td>0.587138</td>\n",
       "      <td>0.338819</td>\n",
       "      <td>-0.152775</td>\n",
       "    </tr>\n",
       "    <tr>\n",
       "      <th>2023-01-05</th>\n",
       "      <td>-0.564688</td>\n",
       "      <td>-0.413279</td>\n",
       "      <td>-0.286940</td>\n",
       "      <td>-1.230376</td>\n",
       "    </tr>\n",
       "    <tr>\n",
       "      <th>2023-01-06</th>\n",
       "      <td>1.294685</td>\n",
       "      <td>1.979907</td>\n",
       "      <td>-0.570325</td>\n",
       "      <td>0.934019</td>\n",
       "    </tr>\n",
       "  </tbody>\n",
       "</table>\n",
       "</div>"
      ],
      "text/plain": [
       "                   A         B         C         D\n",
       "2023-01-01  0.792554 -1.816950  0.350210  1.404980\n",
       "2023-01-02 -0.069008 -0.625753 -0.661870  0.755980\n",
       "2023-01-03  0.828632  0.587138  0.338819 -0.152775\n",
       "2023-01-05 -0.564688 -0.413279 -0.286940 -1.230376\n",
       "2023-01-06  1.294685  1.979907 -0.570325  0.934019"
      ]
     },
     "execution_count": 83,
     "metadata": {},
     "output_type": "execute_result"
    }
   ],
   "source": [
    "# axis=0 일 때는 Row 이름을 써줘야 한다.\n",
    "\n",
    "df.drop(['20230104'], inplace=True)\n",
    "df"
   ]
  },
  {
   "cell_type": "markdown",
   "metadata": {},
   "source": [
    "#### 🔰 apply() 메서드\n",
    "\n",
    "- DataFrame에 함수 기능을 적용해준다.\n",
    "\n",
    "- 적용하고자 하는 기능의 함수를 인수로 넣어주면 원하는 연산의 결과를 반환받을 수 있다.\n",
    "\n",
    "- func : function - Python function or NumPy ufunc to apply."
   ]
  },
  {
   "cell_type": "code",
   "execution_count": 84,
   "metadata": {},
   "outputs": [
    {
     "data": {
      "text/html": [
       "<div>\n",
       "<style scoped>\n",
       "    .dataframe tbody tr th:only-of-type {\n",
       "        vertical-align: middle;\n",
       "    }\n",
       "\n",
       "    .dataframe tbody tr th {\n",
       "        vertical-align: top;\n",
       "    }\n",
       "\n",
       "    .dataframe thead th {\n",
       "        text-align: right;\n",
       "    }\n",
       "</style>\n",
       "<table border=\"1\" class=\"dataframe\">\n",
       "  <thead>\n",
       "    <tr style=\"text-align: right;\">\n",
       "      <th></th>\n",
       "      <th>A</th>\n",
       "      <th>B</th>\n",
       "      <th>C</th>\n",
       "      <th>D</th>\n",
       "    </tr>\n",
       "  </thead>\n",
       "  <tbody>\n",
       "    <tr>\n",
       "      <th>2023-01-01</th>\n",
       "      <td>0.792554</td>\n",
       "      <td>-1.816950</td>\n",
       "      <td>0.350210</td>\n",
       "      <td>1.404980</td>\n",
       "    </tr>\n",
       "    <tr>\n",
       "      <th>2023-01-02</th>\n",
       "      <td>-0.069008</td>\n",
       "      <td>-0.625753</td>\n",
       "      <td>-0.661870</td>\n",
       "      <td>0.755980</td>\n",
       "    </tr>\n",
       "    <tr>\n",
       "      <th>2023-01-03</th>\n",
       "      <td>0.828632</td>\n",
       "      <td>0.587138</td>\n",
       "      <td>0.338819</td>\n",
       "      <td>-0.152775</td>\n",
       "    </tr>\n",
       "    <tr>\n",
       "      <th>2023-01-04</th>\n",
       "      <td>1.563775</td>\n",
       "      <td>-0.242219</td>\n",
       "      <td>0.424653</td>\n",
       "      <td>1.284690</td>\n",
       "    </tr>\n",
       "    <tr>\n",
       "      <th>2023-01-05</th>\n",
       "      <td>-0.564688</td>\n",
       "      <td>-0.413279</td>\n",
       "      <td>-0.286940</td>\n",
       "      <td>-1.230376</td>\n",
       "    </tr>\n",
       "    <tr>\n",
       "      <th>2023-01-06</th>\n",
       "      <td>1.294685</td>\n",
       "      <td>1.979907</td>\n",
       "      <td>-0.570325</td>\n",
       "      <td>0.934019</td>\n",
       "    </tr>\n",
       "  </tbody>\n",
       "</table>\n",
       "</div>"
      ],
      "text/plain": [
       "                   A         B         C         D\n",
       "2023-01-01  0.792554 -1.816950  0.350210  1.404980\n",
       "2023-01-02 -0.069008 -0.625753 -0.661870  0.755980\n",
       "2023-01-03  0.828632  0.587138  0.338819 -0.152775\n",
       "2023-01-04  1.563775 -0.242219  0.424653  1.284690\n",
       "2023-01-05 -0.564688 -0.413279 -0.286940 -1.230376\n",
       "2023-01-06  1.294685  1.979907 -0.570325  0.934019"
      ]
     },
     "execution_count": 84,
     "metadata": {},
     "output_type": "execute_result"
    }
   ],
   "source": [
    "df = pd.DataFrame(data, index=dates, columns=['A', 'B', 'C', 'D'])\n",
    "df"
   ]
  },
  {
   "cell_type": "code",
   "execution_count": 85,
   "metadata": {},
   "outputs": [
    {
     "data": {
      "text/plain": [
       "3.8459502276655178"
      ]
     },
     "execution_count": 85,
     "metadata": {},
     "output_type": "execute_result"
    }
   ],
   "source": [
    "df['A'].apply(\"sum\")"
   ]
  },
  {
   "cell_type": "code",
   "execution_count": 86,
   "metadata": {},
   "outputs": [
    {
     "data": {
      "text/plain": [
       "2023-01-01    0.792554\n",
       "2023-01-02   -0.069008\n",
       "2023-01-03    0.828632\n",
       "2023-01-04    1.563775\n",
       "2023-01-05   -0.564688\n",
       "2023-01-06    1.294685\n",
       "Freq: D, Name: A, dtype: float64"
      ]
     },
     "execution_count": 86,
     "metadata": {},
     "output_type": "execute_result"
    }
   ],
   "source": [
    "df['A'].apply(np.sum)"
   ]
  },
  {
   "cell_type": "code",
   "execution_count": 87,
   "metadata": {},
   "outputs": [
    {
     "data": {
      "text/plain": [
       "A    3.845950\n",
       "D    2.996518\n",
       "dtype: float64"
      ]
     },
     "execution_count": 87,
     "metadata": {},
     "output_type": "execute_result"
    }
   ],
   "source": [
    "df[['A', 'D']].apply(\"sum\")"
   ]
  },
  {
   "cell_type": "code",
   "execution_count": 88,
   "metadata": {},
   "outputs": [
    {
     "data": {
      "text/plain": [
       "A    3.845950\n",
       "D    2.996518\n",
       "dtype: float64"
      ]
     },
     "execution_count": 88,
     "metadata": {},
     "output_type": "execute_result"
    }
   ],
   "source": [
    "df[['A', 'D']].apply(np.sum)"
   ]
  },
  {
   "cell_type": "code",
   "execution_count": 89,
   "metadata": {},
   "outputs": [
    {
     "data": {
      "text/plain": [
       "A    3.845950\n",
       "B   -0.531156\n",
       "C   -0.405454\n",
       "D    2.996518\n",
       "dtype: float64"
      ]
     },
     "execution_count": 89,
     "metadata": {},
     "output_type": "execute_result"
    }
   ],
   "source": [
    "df.apply(\"sum\")"
   ]
  },
  {
   "cell_type": "code",
   "execution_count": 90,
   "metadata": {},
   "outputs": [
    {
     "data": {
      "text/plain": [
       "A    3.845950\n",
       "B   -0.531156\n",
       "C   -0.405454\n",
       "D    2.996518\n",
       "dtype: float64"
      ]
     },
     "execution_count": 90,
     "metadata": {},
     "output_type": "execute_result"
    }
   ],
   "source": [
    "df.apply(np.sum)"
   ]
  },
  {
   "cell_type": "code",
   "execution_count": 101,
   "metadata": {},
   "outputs": [
    {
     "data": {
      "text/html": [
       "<div>\n",
       "<style scoped>\n",
       "    .dataframe tbody tr th:only-of-type {\n",
       "        vertical-align: middle;\n",
       "    }\n",
       "\n",
       "    .dataframe tbody tr th {\n",
       "        vertical-align: top;\n",
       "    }\n",
       "\n",
       "    .dataframe thead th {\n",
       "        text-align: right;\n",
       "    }\n",
       "</style>\n",
       "<table border=\"1\" class=\"dataframe\">\n",
       "  <thead>\n",
       "    <tr style=\"text-align: right;\">\n",
       "      <th></th>\n",
       "      <th>A</th>\n",
       "      <th>B</th>\n",
       "      <th>C</th>\n",
       "      <th>D</th>\n",
       "    </tr>\n",
       "  </thead>\n",
       "  <tbody>\n",
       "    <tr>\n",
       "      <th>2023-01-01</th>\n",
       "      <td>0.792554</td>\n",
       "      <td>-1.816950</td>\n",
       "      <td>0.350210</td>\n",
       "      <td>1.404980</td>\n",
       "    </tr>\n",
       "    <tr>\n",
       "      <th>2023-01-02</th>\n",
       "      <td>-0.069008</td>\n",
       "      <td>-0.625753</td>\n",
       "      <td>-0.661870</td>\n",
       "      <td>0.755980</td>\n",
       "    </tr>\n",
       "    <tr>\n",
       "      <th>2023-01-03</th>\n",
       "      <td>0.828632</td>\n",
       "      <td>0.587138</td>\n",
       "      <td>0.338819</td>\n",
       "      <td>-0.152775</td>\n",
       "    </tr>\n",
       "    <tr>\n",
       "      <th>2023-01-04</th>\n",
       "      <td>1.563775</td>\n",
       "      <td>-0.242219</td>\n",
       "      <td>0.424653</td>\n",
       "      <td>1.284690</td>\n",
       "    </tr>\n",
       "    <tr>\n",
       "      <th>2023-01-05</th>\n",
       "      <td>-0.564688</td>\n",
       "      <td>-0.413279</td>\n",
       "      <td>-0.286940</td>\n",
       "      <td>-1.230376</td>\n",
       "    </tr>\n",
       "    <tr>\n",
       "      <th>2023-01-06</th>\n",
       "      <td>1.294685</td>\n",
       "      <td>1.979907</td>\n",
       "      <td>-0.570325</td>\n",
       "      <td>0.934019</td>\n",
       "    </tr>\n",
       "  </tbody>\n",
       "</table>\n",
       "</div>"
      ],
      "text/plain": [
       "                   A         B         C         D\n",
       "2023-01-01  0.792554 -1.816950  0.350210  1.404980\n",
       "2023-01-02 -0.069008 -0.625753 -0.661870  0.755980\n",
       "2023-01-03  0.828632  0.587138  0.338819 -0.152775\n",
       "2023-01-04  1.563775 -0.242219  0.424653  1.284690\n",
       "2023-01-05 -0.564688 -0.413279 -0.286940 -1.230376\n",
       "2023-01-06  1.294685  1.979907 -0.570325  0.934019"
      ]
     },
     "execution_count": 101,
     "metadata": {},
     "output_type": "execute_result"
    }
   ],
   "source": [
    "df"
   ]
  },
  {
   "cell_type": "code",
   "execution_count": 91,
   "metadata": {},
   "outputs": [
    {
     "data": {
      "text/html": [
       "<div>\n",
       "<style scoped>\n",
       "    .dataframe tbody tr th:only-of-type {\n",
       "        vertical-align: middle;\n",
       "    }\n",
       "\n",
       "    .dataframe tbody tr th {\n",
       "        vertical-align: top;\n",
       "    }\n",
       "\n",
       "    .dataframe thead th {\n",
       "        text-align: right;\n",
       "    }\n",
       "</style>\n",
       "<table border=\"1\" class=\"dataframe\">\n",
       "  <thead>\n",
       "    <tr style=\"text-align: right;\">\n",
       "      <th></th>\n",
       "      <th>A</th>\n",
       "      <th>B</th>\n",
       "      <th>C</th>\n",
       "      <th>D</th>\n",
       "    </tr>\n",
       "  </thead>\n",
       "  <tbody>\n",
       "    <tr>\n",
       "      <th>2023-01-01</th>\n",
       "      <td>0.792554</td>\n",
       "      <td>-1.816950</td>\n",
       "      <td>0.350210</td>\n",
       "      <td>1.404980</td>\n",
       "    </tr>\n",
       "    <tr>\n",
       "      <th>2023-01-02</th>\n",
       "      <td>0.723546</td>\n",
       "      <td>-2.442703</td>\n",
       "      <td>-0.311661</td>\n",
       "      <td>2.160960</td>\n",
       "    </tr>\n",
       "    <tr>\n",
       "      <th>2023-01-03</th>\n",
       "      <td>1.552179</td>\n",
       "      <td>-1.855565</td>\n",
       "      <td>0.027158</td>\n",
       "      <td>2.008184</td>\n",
       "    </tr>\n",
       "    <tr>\n",
       "      <th>2023-01-04</th>\n",
       "      <td>3.115954</td>\n",
       "      <td>-2.097784</td>\n",
       "      <td>0.451811</td>\n",
       "      <td>3.292875</td>\n",
       "    </tr>\n",
       "    <tr>\n",
       "      <th>2023-01-05</th>\n",
       "      <td>2.551265</td>\n",
       "      <td>-2.511062</td>\n",
       "      <td>0.164872</td>\n",
       "      <td>2.062499</td>\n",
       "    </tr>\n",
       "    <tr>\n",
       "      <th>2023-01-06</th>\n",
       "      <td>3.845950</td>\n",
       "      <td>-0.531156</td>\n",
       "      <td>-0.405454</td>\n",
       "      <td>2.996518</td>\n",
       "    </tr>\n",
       "  </tbody>\n",
       "</table>\n",
       "</div>"
      ],
      "text/plain": [
       "                   A         B         C         D\n",
       "2023-01-01  0.792554 -1.816950  0.350210  1.404980\n",
       "2023-01-02  0.723546 -2.442703 -0.311661  2.160960\n",
       "2023-01-03  1.552179 -1.855565  0.027158  2.008184\n",
       "2023-01-04  3.115954 -2.097784  0.451811  3.292875\n",
       "2023-01-05  2.551265 -2.511062  0.164872  2.062499\n",
       "2023-01-06  3.845950 -0.531156 -0.405454  2.996518"
      ]
     },
     "execution_count": 91,
     "metadata": {},
     "output_type": "execute_result"
    }
   ],
   "source": [
    "df.apply(np.cumsum) # 각 컬럼의 누적 합계"
   ]
  },
  {
   "cell_type": "code",
   "execution_count": 92,
   "metadata": {},
   "outputs": [
    {
     "data": {
      "text/plain": [
       "0.6409917046109196"
      ]
     },
     "execution_count": 92,
     "metadata": {},
     "output_type": "execute_result"
    }
   ],
   "source": [
    "df['A'].apply(\"mean\")"
   ]
  },
  {
   "cell_type": "code",
   "execution_count": 93,
   "metadata": {},
   "outputs": [
    {
     "data": {
      "text/plain": [
       "2023-01-01    0.792554\n",
       "2023-01-02   -0.069008\n",
       "2023-01-03    0.828632\n",
       "2023-01-04    1.563775\n",
       "2023-01-05   -0.564688\n",
       "2023-01-06    1.294685\n",
       "Freq: D, Name: A, dtype: float64"
      ]
     },
     "execution_count": 93,
     "metadata": {},
     "output_type": "execute_result"
    }
   ],
   "source": [
    "df['A'].apply(np.mean)"
   ]
  },
  {
   "cell_type": "code",
   "execution_count": 94,
   "metadata": {},
   "outputs": [
    {
     "data": {
      "text/plain": [
       "(-0.5646882726181228, 1.563775118154971)"
      ]
     },
     "execution_count": 94,
     "metadata": {},
     "output_type": "execute_result"
    }
   ],
   "source": [
    "df['A'].apply(\"min\"), df['A'].apply(\"max\")"
   ]
  },
  {
   "cell_type": "code",
   "execution_count": 95,
   "metadata": {},
   "outputs": [
    {
     "data": {
      "text/plain": [
       "2023-01-01    0.0\n",
       "2023-01-02    0.0\n",
       "2023-01-03    0.0\n",
       "2023-01-04    0.0\n",
       "2023-01-05    0.0\n",
       "2023-01-06    0.0\n",
       "Freq: D, Name: A, dtype: float64"
      ]
     },
     "execution_count": 95,
     "metadata": {},
     "output_type": "execute_result"
    }
   ],
   "source": [
    "df['A'].apply(np.std)"
   ]
  },
  {
   "cell_type": "code",
   "execution_count": 96,
   "metadata": {},
   "outputs": [
    {
     "data": {
      "text/html": [
       "<div>\n",
       "<style scoped>\n",
       "    .dataframe tbody tr th:only-of-type {\n",
       "        vertical-align: middle;\n",
       "    }\n",
       "\n",
       "    .dataframe tbody tr th {\n",
       "        vertical-align: top;\n",
       "    }\n",
       "\n",
       "    .dataframe thead th {\n",
       "        text-align: right;\n",
       "    }\n",
       "</style>\n",
       "<table border=\"1\" class=\"dataframe\">\n",
       "  <thead>\n",
       "    <tr style=\"text-align: right;\">\n",
       "      <th></th>\n",
       "      <th>A</th>\n",
       "      <th>B</th>\n",
       "      <th>C</th>\n",
       "      <th>D</th>\n",
       "    </tr>\n",
       "  </thead>\n",
       "  <tbody>\n",
       "    <tr>\n",
       "      <th>2023-01-01</th>\n",
       "      <td>0.792554</td>\n",
       "      <td>-1.816950</td>\n",
       "      <td>0.350210</td>\n",
       "      <td>1.404980</td>\n",
       "    </tr>\n",
       "    <tr>\n",
       "      <th>2023-01-02</th>\n",
       "      <td>-0.069008</td>\n",
       "      <td>-0.625753</td>\n",
       "      <td>-0.661870</td>\n",
       "      <td>0.755980</td>\n",
       "    </tr>\n",
       "    <tr>\n",
       "      <th>2023-01-03</th>\n",
       "      <td>0.828632</td>\n",
       "      <td>0.587138</td>\n",
       "      <td>0.338819</td>\n",
       "      <td>-0.152775</td>\n",
       "    </tr>\n",
       "    <tr>\n",
       "      <th>2023-01-04</th>\n",
       "      <td>1.563775</td>\n",
       "      <td>-0.242219</td>\n",
       "      <td>0.424653</td>\n",
       "      <td>1.284690</td>\n",
       "    </tr>\n",
       "    <tr>\n",
       "      <th>2023-01-05</th>\n",
       "      <td>-0.564688</td>\n",
       "      <td>-0.413279</td>\n",
       "      <td>-0.286940</td>\n",
       "      <td>-1.230376</td>\n",
       "    </tr>\n",
       "    <tr>\n",
       "      <th>2023-01-06</th>\n",
       "      <td>1.294685</td>\n",
       "      <td>1.979907</td>\n",
       "      <td>-0.570325</td>\n",
       "      <td>0.934019</td>\n",
       "    </tr>\n",
       "  </tbody>\n",
       "</table>\n",
       "</div>"
      ],
      "text/plain": [
       "                   A         B         C         D\n",
       "2023-01-01  0.792554 -1.816950  0.350210  1.404980\n",
       "2023-01-02 -0.069008 -0.625753 -0.661870  0.755980\n",
       "2023-01-03  0.828632  0.587138  0.338819 -0.152775\n",
       "2023-01-04  1.563775 -0.242219  0.424653  1.284690\n",
       "2023-01-05 -0.564688 -0.413279 -0.286940 -1.230376\n",
       "2023-01-06  1.294685  1.979907 -0.570325  0.934019"
      ]
     },
     "execution_count": 96,
     "metadata": {},
     "output_type": "execute_result"
    }
   ],
   "source": [
    "df"
   ]
  },
  {
   "cell_type": "markdown",
   "metadata": {},
   "source": [
    "- 사용자 정의 함수 사용"
   ]
  },
  {
   "cell_type": "code",
   "execution_count": 97,
   "metadata": {},
   "outputs": [],
   "source": [
    "def plusminus(num):\n",
    "    return \"plus\" if num > 0 else \"minus\""
   ]
  },
  {
   "cell_type": "code",
   "execution_count": 98,
   "metadata": {},
   "outputs": [
    {
     "data": {
      "text/plain": [
       "2023-01-01     plus\n",
       "2023-01-02    minus\n",
       "2023-01-03     plus\n",
       "2023-01-04     plus\n",
       "2023-01-05    minus\n",
       "2023-01-06     plus\n",
       "Freq: D, Name: A, dtype: object"
      ]
     },
     "execution_count": 98,
     "metadata": {},
     "output_type": "execute_result"
    }
   ],
   "source": [
    "df['A'].apply(plusminus)"
   ]
  },
  {
   "cell_type": "markdown",
   "metadata": {},
   "source": [
    "- 람다 함수 사용"
   ]
  },
  {
   "cell_type": "code",
   "execution_count": 99,
   "metadata": {},
   "outputs": [
    {
     "data": {
      "text/plain": [
       "2023-01-01     plus\n",
       "2023-01-02    minus\n",
       "2023-01-03     plus\n",
       "2023-01-04     plus\n",
       "2023-01-05    minus\n",
       "2023-01-06     plus\n",
       "Freq: D, Name: A, dtype: object"
      ]
     },
     "execution_count": 99,
     "metadata": {},
     "output_type": "execute_result"
    }
   ],
   "source": [
    "df['A'].apply(lambda num: \"plus\" if num > 0 else \"minus\")"
   ]
  }
 ],
 "metadata": {
  "kernelspec": {
   "display_name": "Python 3 (ipykernel)",
   "language": "python",
   "name": "python3"
  },
  "language_info": {
   "codemirror_mode": {
    "name": "ipython",
    "version": 3
   },
   "file_extension": ".py",
   "mimetype": "text/x-python",
   "name": "python",
   "nbconvert_exporter": "python",
   "pygments_lexer": "ipython3",
   "version": "3.8.18"
  }
 },
 "nbformat": 4,
 "nbformat_minor": 4
}
